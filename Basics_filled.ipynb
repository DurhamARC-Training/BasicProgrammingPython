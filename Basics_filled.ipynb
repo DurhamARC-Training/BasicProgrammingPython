{
 "cells": [
  {
   "attachments": {
    "4bc4187b-d7a8-40d7-9b9b-e39c975e84a1.png": {
     "image/png": "[encoded data removed]"
    }
   },
   "cell_type": "markdown",
   "id": "cb642927-dd35-4a13-9315-b52f82d1475b",
   "metadata": {
    "jp-MarkdownHeadingCollapsed": true
   },
   "source": [
    "ARC course \"Learning to programme with Python\" (Beginner level)\n",
    "------------------------------------------------\n",
    "![icons8-python-48.png](attachment:4bc4187b-d7a8-40d7-9b9b-e39c975e84a1.png)"
   ]
  },
  {
   "cell_type": "markdown",
   "id": "8a3a02ac-001d-4244-a3d2-46f4dbae1ccc",
   "metadata": {},
   "source": [
    "Welcome to our ARC course \"Learning to programme with Python\".\n",
    "\n",
    "Some general information on how the course will run:\n",
    "\n",
    "* The course will run for three hours from 10.00 to 13.00. We plan a coffee break between 2 parts at around 11:30 for ~10-15 min.\n",
    "\n",
    "* The material is very basic and does not expect any prior programming experience.\n",
    "\n",
    "* Each topic will be presented wih code demonstrations followed by practical exercises.\n",
    "\n",
    "* We are happy to answer any questions during the course and to help during the exercises.\n",
    "\n",
    "Upon completion of the course, please, don't forget to scan the activity QR code to record your attendance.\n",
    "\n",
    "Enjoy learning Python!"
   ]
  },
  {
   "cell_type": "markdown",
   "id": "f32d9c05-2573-4e8d-80a9-c636489ea540",
   "metadata": {
    "jp-MarkdownHeadingCollapsed": true
   },
   "source": [
    "# <ins>Table of Contents</ins>"
   ]
  },
  {
   "cell_type": "markdown",
   "id": "c0479c9e-6ea6-4095-8e37-c60d9fd723e1",
   "metadata": {
    "editable": true,
    "slideshow": {
     "slide_type": "slide"
    },
    "tags": []
   },
   "source": [
    "# <ins>0.</ins> Introduction"
   ]
  },
  {
   "cell_type": "markdown",
   "id": "1c4bde6d-c2a9-46a9-8642-b4d1610c68cf",
   "metadata": {
    "editable": true,
    "slideshow": {
     "slide_type": "slide"
    },
    "tags": []
   },
   "source": [
    "## Course objectives"
   ]
  },
  {
   "cell_type": "markdown",
   "id": "7a5a2941-1602-41ab-9eca-d4e6d6e0c03e",
   "metadata": {},
   "source": [
    "By the end of this course you should know:\n",
    " - how a basic computer program is written and executed,\n",
    " - what basic data types and control statements are,\n",
    " - how to get and process user input and data,\n",
    " - how to structure your code using functions,\n",
    " - what can lead to your program not working, and what to do about it,\n",
    " - where to find further resources to practice your Python programming."
   ]
  },
  {
   "cell_type": "markdown",
   "id": "747169d6-2e9b-4a82-bbcc-9d88b312cbdf",
   "metadata": {
    "jp-MarkdownHeadingCollapsed": true,
    "slideshow": {
     "slide_type": "notes"
    },
    "tags": []
   },
   "source": [
    "##### _<ins>Notes:</ins>_"
   ]
  },
  {
   "cell_type": "markdown",
   "id": "731334cf-e61c-46fc-bb24-e3c55d0dba2d",
   "metadata": {},
   "source": [
    " - We'll talk about how to get a simple computer program running, the basics in terms of *data types*, *variables*, *if-statements* and *loops*, getting data in and out of the program, *functions* and *variable scope*, and a bit about *comments*, *error types* and their *handling*.\n",
    " - I hope that this course will give you a good foundation to continue your Python learning further. Programming is a lot about learning by doing. There are tons of online (and offline) resources as well as forums (online and offline) where you can ask for help."
   ]
  },
  {
   "cell_type": "markdown",
   "id": "e3975d17-c899-400a-8d97-93bca3a93119",
   "metadata": {
    "editable": true,
    "slideshow": {
     "slide_type": "slide"
    },
    "tags": []
   },
   "source": [
    "## Useful resources"
   ]
  },
  {
   "cell_type": "markdown",
   "id": "fb597c3c-9a30-47d0-9592-d8f02e785ae7",
   "metadata": {
    "jp-MarkdownHeadingCollapsed": true
   },
   "source": [
    "#### Materials used and recommended:\n",
    " - [Python Wiki - Python for Non-Programmers](https://wiki.python.org/moin/BeginnersGuide/NonProgrammers)\n",
    " - [How to think like a Computer Scientist](http://openbookproject.net/thinkcs/python/english3e/index.html)\n",
    " - [A Whirlwind Tour of Python](https://jakevdp.github.io/WhirlwindTourOfPython)\n",
    " - [Software Carpentry - Programming with Python](https://swcarpentry.github.io/python-novice-inflammation/index.html)"
   ]
  },
  {
   "cell_type": "markdown",
   "id": "0d68793f-8444-4458-8015-162181a4946a",
   "metadata": {
    "slideshow": {
     "slide_type": "notes"
    },
    "tags": []
   },
   "source": [
    "##### _<ins>Notes:</ins>_"
   ]
  },
  {
   "cell_type": "markdown",
   "id": "140ab4b2-3c56-4fac-b020-224a4fb6fee4",
   "metadata": {},
   "source": [
    "Here is a list of sources that were used when this course was prepared. It is great for self-study, and you can use it after this course to continue on your own.\n",
    "\n",
    " - *Python Wiki*, as a website, is a good resource of Python knowledge. The link I give you here is to the site \"Python for Non-Programmers\", that has an extensive list of materials to learn Python if you have not programmed in any language before.\n",
    " - *How to think like a Computer Scientist*. Some of the structure and ideas of the first few chapters have been used for this course.\n",
    " - *A Whirlwind Tour of Python* has a faster pace, and seems to be targeted at a more technically-minded audience.\n",
    " - *Software Carpentry* is an organisation aimed at providing basic software training for everyone. They have a \"<ins>train the trainers</ins>\" approach, which means that they provide material and training courses for software carpentry trainers. Thankfully, you are also allowed to access and use their material for free. This training course here gives a Python introduction at hands of a practical data processing task."
   ]
  },
  {
   "cell_type": "markdown",
   "id": "6d90bf48-a80e-495c-aa64-85d9dd74be26",
   "metadata": {},
   "source": [
    "##### The problem with googling python answers"
   ]
  },
  {
   "cell_type": "markdown",
   "id": "063c84cc-3f34-40a2-9687-d08e2a3b2751",
   "metadata": {},
   "source": [
    " - The top results are often filled with SEO sites\n",
    " - The aim is not to provide a concise explanation, but to show you as many ads as possible\n",
    " - Very verbose, lots of unneccesary alternatives.\n",
    "\n",
    " Example: \"python how do I invert a list\"\n",
    "\n",
    " Recommend: w3schools, python.org (which is often more technical)"
   ]
  },
  {
   "cell_type": "markdown",
   "id": "2643f596-40a2-4149-972b-e807066b955b",
   "metadata": {
    "slideshow": {
     "slide_type": "notes"
    }
   },
   "source": [
    "_**Notes**_: Show the search results in the example. The verbose explanations make it seem unnecessary complicated. While they are usually technically correct, they can also be slow."
   ]
  },
  {
   "cell_type": "markdown",
   "id": "9773b0c3-6edf-469e-aa90-1ed137394b3c",
   "metadata": {
    "editable": true,
    "jp-MarkdownHeadingCollapsed": true,
    "slideshow": {
     "slide_type": "slide"
    },
    "tags": []
   },
   "source": [
    "## Set up your Python environment"
   ]
  },
  {
   "cell_type": "markdown",
   "id": "c96d11b5-25cf-4086-bec3-c6ff1de26bb7",
   "metadata": {},
   "source": [
    "<ins>Option 1</ins>: Jupyter Notebook server set up by Daniel Maitre from the Physics department \n",
    " - log in with you CIS account; loading process can take some time:\n",
    " - https://notebooks.dmaitre.phyip3.dur.ac.uk/arc\n",
    "\n",
    "<ins>Option 2</ins>: Local python environment\n",
    "\n",
    "<ins>Option 3</ins>: Google Colab (https://colab.research.google.com)."
   ]
  },
  {
   "cell_type": "markdown",
   "id": "e3622530-257a-4098-a375-d527251b3efe",
   "metadata": {
    "editable": true,
    "slideshow": {
     "slide_type": "slide"
    },
    "tags": []
   },
   "source": [
    "## Programming crash course"
   ]
  },
  {
   "cell_type": "markdown",
   "id": "e94ee231-274c-4c88-be33-840934d29f7e",
   "metadata": {
    "jp-MarkdownHeadingCollapsed": true
   },
   "source": [
    "### Programming means: make the computer do the work for you!"
   ]
  },
  {
   "cell_type": "markdown",
   "id": "09ffa334-e460-47a4-8e9a-e74dc5800145",
   "metadata": {},
   "source": [
    " - Do the maths\n",
    " - Boring repetitions\n",
    " - Too complicated/extensive tasks\n",
    " - Big data sets \n",
    " - Make your analysis reproducible\n",
    " -  ..."
   ]
  },
  {
   "cell_type": "markdown",
   "id": "ebd43dd0-4bb4-4591-85e1-7392fe80c3b5",
   "metadata": {
    "editable": true,
    "jp-MarkdownHeadingCollapsed": true,
    "slideshow": {
     "slide_type": "fragment"
    },
    "tags": []
   },
   "source": [
    "### Running code in a compiled language (such as C)"
   ]
  },
  {
   "cell_type": "markdown",
   "id": "1009a026-b7df-4c96-aaea-bbed8bc1423c",
   "metadata": {},
   "source": [
    "1. Write your code in a high-level programming language.\n",
    "2. Translate into low-level (machine/assembly) language.\n",
    "3. Execute the program."
   ]
  },
  {
   "cell_type": "markdown",
   "id": "5c38b849",
   "metadata": {
    "jp-MarkdownHeadingCollapsed": true,
    "slideshow": {
     "slide_type": "notes"
    },
    "tags": []
   },
   "source": [
    "##### _<ins>Notes:</ins>_"
   ]
  },
  {
   "cell_type": "markdown",
   "id": "05ed5ecc-a4d7-4948-b2c2-a11e09dc7517",
   "metadata": {},
   "source": [
    "Now, how do we get the computer to do these things for us? This is what we are doing: We write the program in a language that we as human beings (with some training) can understand. As the computer won't be able to understand the code that way, we then compile it, which means that we translate it into computer language. Then we execute the program and, given we have made no mistake, the computer will get working for us.  "
   ]
  },
  {
   "cell_type": "markdown",
   "id": "74616ebb-05da-4270-93ae-4e70cd155bec",
   "metadata": {
    "jp-MarkdownHeadingCollapsed": true
   },
   "source": [
    "### Running code in an interpreted language (such as Python)"
   ]
  },
  {
   "cell_type": "markdown",
   "id": "bd1e59dd-aac3-4b67-bbfe-8a8eb5420a1b",
   "metadata": {},
   "source": [
    "1. Write your code in high-level programming language.\n",
    "2. Interpret code and execute directly"
   ]
  },
  {
   "cell_type": "markdown",
   "id": "1e257e2a",
   "metadata": {
    "jp-MarkdownHeadingCollapsed": true,
    "slideshow": {
     "slide_type": "notes"
    },
    "tags": []
   },
   "source": [
    "##### _<ins>Notes:</ins>_"
   ]
  },
  {
   "cell_type": "markdown",
   "id": "945d35a9-7f4e-40f1-a1d0-72d86362bb77",
   "metadata": {},
   "source": [
    "Things can be made a little bit easier by using an interpreted scripting language instead of a compiled programming language.\n",
    " - *Beware!*: Oversimplification\n",
    "\n",
    "Please note that I am oversimplifying here a bit with regards to the terminology. The point I want to make is that there are languages, such as Python, which we will be using in this course, that translate and execute the code directly, without us having to do a separate compilation step."
   ]
  },
  {
   "cell_type": "markdown",
   "id": "fff991ce-9d58-4ff6-8900-bab74b6d8a4a",
   "metadata": {
    "editable": true,
    "jp-MarkdownHeadingCollapsed": true,
    "slideshow": {
     "slide_type": "slide"
    },
    "tags": []
   },
   "source": [
    "### Demonstration of running python scripts"
   ]
  },
  {
   "cell_type": "markdown",
   "id": "39715c69-1ba6-432a-b112-0ca5dce6f35f",
   "metadata": {},
   "source": [
    "1. Create a `myname.py` file\n",
    "2. run python `myname.py`"
   ]
  },
  {
   "cell_type": "markdown",
   "id": "61fd1b97-bc54-4aa1-be59-7743b27dc17f",
   "metadata": {
    "editable": true,
    "jp-MarkdownHeadingCollapsed": true,
    "slideshow": {
     "slide_type": "slide"
    },
    "tags": []
   },
   "source": [
    "### Demonstration of using an interactive or ipython session"
   ]
  },
  {
   "cell_type": "markdown",
   "id": "40704165-e3a9-47d1-b242-7b86da5ba24e",
   "metadata": {
    "editable": true,
    "jp-MarkdownHeadingCollapsed": true,
    "slideshow": {
     "slide_type": "slide"
    },
    "tags": []
   },
   "source": [
    "### Demonstration of using _Jupyter_ notebook"
   ]
  },
  {
   "cell_type": "markdown",
   "id": "e4ae3cdf-ac52-4344-b3b6-c0c0450a5e1c",
   "metadata": {},
   "source": [
    "Jupyter works with cells such as these, which you execute with the play button or `Shift/Strg + Enter`:"
   ]
  },
  {
   "cell_type": "code",
   "execution_count": 7,
   "id": "d37fd9eb",
   "metadata": {
    "slideshow": {
     "slide_type": ""
    },
    "tags": []
   },
   "outputs": [
    {
     "data": {
      "text/plain": [
       "1"
      ]
     },
     "execution_count": 7,
     "metadata": {},
     "output_type": "execute_result"
    }
   ],
   "source": [
    "# Add just a one to the cell and execute\n",
    "1"
   ]
  },
  {
   "cell_type": "markdown",
   "id": "12557a59",
   "metadata": {},
   "source": [
    "If the box on the left is empty, you have not executed it. Otherwise a number indicates in which order the execution took place.\n",
    "\n",
    "You can add cells with the plus. You can also change the type"
   ]
  },
  {
   "cell_type": "markdown",
   "id": "d14c5f7e",
   "metadata": {
    "jp-MarkdownHeadingCollapsed": true,
    "slideshow": {
     "slide_type": ""
    },
    "tags": []
   },
   "source": [
    "##### Now it is markdown and the `#` indicates a header (or `##`, etc., up to 6 times, with smaller font sizes)"
   ]
  },
  {
   "cell_type": "markdown",
   "id": "672c1e9b",
   "metadata": {
    "jp-MarkdownHeadingCollapsed": true,
    "slideshow": {
     "slide_type": "notes"
    },
    "tags": []
   },
   "source": [
    "##### _<ins>Notes:</ins>_"
   ]
  },
  {
   "cell_type": "markdown",
   "id": "3c98850e-3651-4f33-b093-60bc3082caee",
   "metadata": {},
   "source": [
    " - We have individual cells to run. To do so press the run button or `Shift + Enter`\n",
    " - The small number in the box in front indicates a cell has been run."
   ]
  },
  {
   "cell_type": "markdown",
   "id": "3c7ef1e7-e19c-401e-9322-a864cb6006a4",
   "metadata": {},
   "source": [
    "# <ins>**Part I**</ins>"
   ]
  },
  {
   "cell_type": "markdown",
   "id": "a6ae89e8",
   "metadata": {
    "slideshow": {
     "slide_type": "slide"
    },
    "tags": []
   },
   "source": [
    "# <ins>1.</ins> Basics"
   ]
  },
  {
   "cell_type": "markdown",
   "id": "5249c344",
   "metadata": {
    "slideshow": {
     "slide_type": "notes"
    },
    "tags": []
   },
   "source": [
    "In this section we will look into the very basics of programming, to give you the foundations\n",
    "to start from. A lot of it will be transferrable to other programming languages,\n",
    "even if the exact syntax, the way how you write things down, changes."
   ]
  },
  {
   "cell_type": "markdown",
   "id": "6dc34ff5",
   "metadata": {
    "slideshow": {
     "slide_type": "slide"
    },
    "tags": []
   },
   "source": [
    "## Basic data types\n",
    "As any programming language, Python can deal with many different data types. Among the basic ones are `str` strings, `int` integers, `float` floating-point numbers and `bool` booleans."
   ]
  },
  {
   "cell_type": "markdown",
   "id": "64b617db-2710-4caa-8e43-4f78817100a5",
   "metadata": {},
   "source": [
    "- Strings: \"Heinz\", 'Banana', 'He said \"Hello\"'\n",
    "- Integers: 1, 2, 3, 22222222, -777\n",
    "- Floats: -1.2, 0.0, 2.7182\n",
    "- Booleans: True, False"
   ]
  },
  {
   "cell_type": "markdown",
   "id": "442841b9",
   "metadata": {
    "jp-MarkdownHeadingCollapsed": true,
    "slideshow": {
     "slide_type": "notes"
    },
    "tags": []
   },
   "source": [
    "##### _<ins>Notes:</ins>_"
   ]
  },
  {
   "cell_type": "markdown",
   "id": "e550ecee-224f-4b87-90b6-500747f8d73d",
   "metadata": {},
   "source": [
    "When you are programming, you have to be clear about what type each item you are handling has. Each data type has different rules. In the most basic version, Python has the following data types:\n",
    "- Strings, which are bits of text, noted by single or double quotation marks, which can be nested.\n",
    "- Integers, which are whole numbers, positive or negative.\n",
    "- Floats, or floating points numbers, which allow for a fractional part.\n",
    "- Booleans, or bools, which are truth values, and can be either true or false."
   ]
  },
  {
   "cell_type": "markdown",
   "id": "e027fbe7",
   "metadata": {
    "jp-MarkdownHeadingCollapsed": true,
    "slideshow": {
     "slide_type": "slide"
    },
    "tags": []
   },
   "source": [
    "## Variables\n",
    "Values are stored in _variables_, which are of data types listed above or more complex ones."
   ]
  },
  {
   "cell_type": "markdown",
   "id": "739db601-746d-400c-8f71-b4ea332435fd",
   "metadata": {},
   "source": [
    "- “I reserve a space in memory for my data bit, and I call it \n",
    "by the name x\n",
    "- Syntax: name = value”"
   ]
  },
  {
   "cell_type": "markdown",
   "id": "ca6f813a",
   "metadata": {
    "jp-MarkdownHeadingCollapsed": true,
    "slideshow": {
     "slide_type": "notes"
    },
    "tags": []
   },
   "source": [
    "##### _<ins>Notes:</ins>_"
   ]
  },
  {
   "cell_type": "markdown",
   "id": "adba094b-5f73-43e2-8206-071970f6e388",
   "metadata": {},
   "source": [
    "The next essential concept you need to know for programming in Python are variables.\n",
    "\n",
    "By writing ``name = value'', you are basically saying \"I reserve a space in memory for my data bit, which is value, and I call it name\". Then you can use the name to further process your data bit, as we have seen in the example with the print statement."
   ]
  },
  {
   "cell_type": "markdown",
   "id": "ead0792e",
   "metadata": {
    "jp-MarkdownHeadingCollapsed": true,
    "slideshow": {
     "slide_type": "slide"
    },
    "tags": []
   },
   "source": [
    "### _<ins>Example</ins>:_ Print type of a variable"
   ]
  },
  {
   "cell_type": "code",
   "execution_count": 9,
   "id": "21cd26be",
   "metadata": {
    "slideshow": {
     "slide_type": ""
    },
    "tags": []
   },
   "outputs": [
    {
     "name": "stdout",
     "output_type": "stream",
     "text": [
      "He said \"Hello\"\n"
     ]
    }
   ],
   "source": [
    "# print statement 'He said \"Hello\"'\n",
    "print('He said \"Hello\"')"
   ]
  },
  {
   "cell_type": "code",
   "execution_count": 10,
   "id": "d3cbbe67",
   "metadata": {
    "slideshow": {
     "slide_type": ""
    },
    "tags": []
   },
   "outputs": [
    {
     "name": "stdout",
     "output_type": "stream",
     "text": [
      "He said \"Hello\"\n"
     ]
    }
   ],
   "source": [
    "# put the content of the print statement in a variable\n",
    "my_string = 'He said \"Hello\"'\n",
    "print(my_string)"
   ]
  },
  {
   "cell_type": "code",
   "execution_count": 11,
   "id": "fde5ab4a",
   "metadata": {
    "slideshow": {
     "slide_type": ""
    },
    "tags": []
   },
   "outputs": [
    {
     "data": {
      "text/plain": [
       "str"
      ]
     },
     "execution_count": 11,
     "metadata": {},
     "output_type": "execute_result"
    }
   ],
   "source": [
    "# check the type of that variable\n",
    "type(my_string)"
   ]
  },
  {
   "cell_type": "markdown",
   "id": "917f856b",
   "metadata": {
    "jp-MarkdownHeadingCollapsed": true,
    "slideshow": {
     "slide_type": "notes"
    },
    "tags": []
   },
   "source": [
    "##### _<ins>Notes:</ins>_"
   ]
  },
  {
   "cell_type": "markdown",
   "id": "07d5ce77-b1cb-4f06-9add-5dd2e36665e3",
   "metadata": {},
   "source": [
    "In this example we see the print statement again. It will usually expect a string, or something that can be converted to a string.\n",
    "\n",
    "Here we are saying that the variable \"myString2 should have the string value 'He said \"Hello\"', and then put the print statement separately. The \"type\" command is able to tell us, what type the variable ``myString'' has. [demonstrate]\n",
    "\n",
    "As a side note, many programming languages, in particular compiled programming languages, require you to explicitly state the data type of your variable when you create it. We do not need to do that here."
   ]
  },
  {
   "cell_type": "markdown",
   "id": "2785d90d",
   "metadata": {
    "@deathbeds/jupyterlab-fonts": {
     "styles": {
      "": {
       "body[data-jp-deck-mode='presenting'] &": {
        "zoom": "79%"
       }
      }
     }
    },
    "jp-MarkdownHeadingCollapsed": true,
    "slideshow": {
     "slide_type": "slide"
    },
    "tags": []
   },
   "source": [
    "### _<ins>Example</ins>:_ Try to assign the data types at the following qr code"
   ]
  },
  {
   "cell_type": "markdown",
   "id": "1c8d8cf6-2d99-47f9-acb4-1d97ca87cc19",
   "metadata": {},
   "source": [
    "Try not to overthink. If something is ambiguous pick what fits best\n",
    "\n",
    "![QRCode](qr_question1.png)"
   ]
  },
  {
   "cell_type": "markdown",
   "id": "0d3a82c2",
   "metadata": {
    "jp-MarkdownHeadingCollapsed": true,
    "slideshow": {
     "slide_type": "notes"
    },
    "tags": []
   },
   "source": [
    "##### _<ins>Notes:</ins>_"
   ]
  },
  {
   "cell_type": "markdown",
   "id": "dc3459e8-d5f9-47f2-8794-431a6f2b2f28",
   "metadata": {},
   "source": [
    "Questions behind QR Code\n",
    "Assign a type to the variable names\n",
    "1. name\n",
    "   - str obviously\n",
    "2. items_in_stock\n",
    "   - usually means a number -> int\n",
    "3. pressure_bar\n",
    "   - if you have different physical units for a size put the unit into the name. Say you also have pressure_torr\n",
    "4. is_student\n",
    "   - bool\n",
    "5. participants\n",
    "   - is an ambiguous name (names, number, there are some) if this can happen, name the variable differently."
   ]
  },
  {
   "cell_type": "markdown",
   "id": "042b974f",
   "metadata": {
    "jp-MarkdownHeadingCollapsed": true,
    "slideshow": {
     "slide_type": "slide"
    },
    "tags": []
   },
   "source": [
    "### _<ins>Example</ins>:_ Add integers\n",
    "try it out yourself"
   ]
  },
  {
   "cell_type": "code",
   "execution_count": 13,
   "id": "cbce302a",
   "metadata": {
    "slideshow": {
     "slide_type": ""
    },
    "tags": []
   },
   "outputs": [
    {
     "name": "stdout",
     "output_type": "stream",
     "text": [
      "7\n"
     ]
    }
   ],
   "source": [
    "# Adding two integers (2 and 5)\n",
    "print(2+5)"
   ]
  },
  {
   "cell_type": "code",
   "execution_count": 14,
   "id": "2221ee54",
   "metadata": {
    "slideshow": {
     "slide_type": ""
    },
    "tags": []
   },
   "outputs": [
    {
     "ename": "TypeError",
     "evalue": "can only concatenate str (not \"int\") to str",
     "output_type": "error",
     "traceback": [
      "\u001b[1;31m---------------------------------------------------------------------------\u001b[0m",
      "\u001b[1;31mTypeError\u001b[0m                                 Traceback (most recent call last)",
      "Cell \u001b[1;32mIn[14], line 2\u001b[0m\n\u001b[0;32m      1\u001b[0m \u001b[38;5;66;03m# Adding integers to a string (\"2+5 = \") naively\u001b[39;00m\n\u001b[1;32m----> 2\u001b[0m \u001b[38;5;28mprint\u001b[39m(\u001b[38;5;124;43m\"\u001b[39;49m\u001b[38;5;124;43m2+5 = \u001b[39;49m\u001b[38;5;124;43m\"\u001b[39;49m\u001b[43m \u001b[49m\u001b[38;5;241;43m+\u001b[39;49m\u001b[43m \u001b[49m\u001b[38;5;241;43m2\u001b[39;49m \u001b[38;5;241m+\u001b[39m \u001b[38;5;241m5\u001b[39m)\n",
      "\u001b[1;31mTypeError\u001b[0m: can only concatenate str (not \"int\") to str"
     ]
    }
   ],
   "source": [
    "# Adding integers to a string (\"2+5 = \") naively\n",
    "print(\"2+5 = \" + 2 + 5)"
   ]
  },
  {
   "cell_type": "code",
   "execution_count": 15,
   "id": "d372af14",
   "metadata": {
    "slideshow": {
     "slide_type": ""
    },
    "tags": []
   },
   "outputs": [
    {
     "name": "stdout",
     "output_type": "stream",
     "text": [
      "2+5 = 7\n"
     ]
    }
   ],
   "source": [
    "# Option 1: call the result into a string\n",
    "print(\"2+5 = \" + str(2 + 5))"
   ]
  },
  {
   "cell_type": "code",
   "execution_count": 16,
   "id": "49ad0ca3",
   "metadata": {
    "scrolled": true,
    "slideshow": {
     "slide_type": ""
    },
    "tags": []
   },
   "outputs": [
    {
     "name": "stdout",
     "output_type": "stream",
     "text": [
      "2+5 =  7\n"
     ]
    }
   ],
   "source": [
    "# Option 2: Using multiple arguments in print\n",
    "print(\"2+5 = \", 2 + 5)"
   ]
  },
  {
   "cell_type": "markdown",
   "id": "8120be72",
   "metadata": {
    "jp-MarkdownHeadingCollapsed": true,
    "slideshow": {
     "slide_type": "notes"
    },
    "tags": []
   },
   "source": [
    "##### _<ins>Notes:</ins>_"
   ]
  },
  {
   "cell_type": "markdown",
   "id": "016658d3",
   "metadata": {
    "jp-MarkdownHeadingCollapsed": true,
    "slideshow": {
     "slide_type": "slide"
    },
    "tags": []
   },
   "source": [
    "### _<ins>Example</ins>:_ Boolean type"
   ]
  },
  {
   "cell_type": "code",
   "execution_count": 9,
   "id": "1e7fe5d5",
   "metadata": {
    "slideshow": {
     "slide_type": ""
    },
    "tags": []
   },
   "outputs": [
    {
     "ename": "NameError",
     "evalue": "name 'true' is not defined",
     "output_type": "error",
     "traceback": [
      "\u001b[1;31m---------------------------------------------------------------------------\u001b[0m",
      "\u001b[1;31mNameError\u001b[0m                                 Traceback (most recent call last)",
      "Cell \u001b[1;32mIn[9], line 1\u001b[0m\n\u001b[1;32m----> 1\u001b[0m \u001b[38;5;28mtype\u001b[39m(\u001b[43mtrue\u001b[49m)\n",
      "\u001b[1;31mNameError\u001b[0m: name 'true' is not defined"
     ]
    }
   ],
   "source": [
    "# boolean have to be capitalized\n",
    "type(true)"
   ]
  },
  {
   "cell_type": "code",
   "execution_count": 10,
   "id": "604da924",
   "metadata": {
    "slideshow": {
     "slide_type": ""
    },
    "tags": []
   },
   "outputs": [
    {
     "data": {
      "text/plain": [
       "bool"
      ]
     },
     "execution_count": 10,
     "metadata": {},
     "output_type": "execute_result"
    }
   ],
   "source": [
    "# Checking the type of a boolean\n",
    "type(True)"
   ]
  },
  {
   "cell_type": "code",
   "execution_count": 11,
   "id": "529cfea1",
   "metadata": {
    "slideshow": {
     "slide_type": ""
    },
    "tags": []
   },
   "outputs": [
    {
     "data": {
      "text/plain": [
       "2"
      ]
     },
     "execution_count": 11,
     "metadata": {},
     "output_type": "execute_result"
    }
   ],
   "source": [
    "# Adding a boolean to an integer\n",
    "1+True"
   ]
  },
  {
   "cell_type": "code",
   "execution_count": 12,
   "id": "09dda44a",
   "metadata": {
    "scrolled": true,
    "slideshow": {
     "slide_type": ""
    },
    "tags": []
   },
   "outputs": [
    {
     "data": {
      "text/plain": [
       "int"
      ]
     },
     "execution_count": 12,
     "metadata": {},
     "output_type": "execute_result"
    }
   ],
   "source": [
    "# Checking the type of the result\n",
    "type(1+True)"
   ]
  },
  {
   "cell_type": "markdown",
   "id": "dcd2a401",
   "metadata": {
    "jp-MarkdownHeadingCollapsed": true,
    "slideshow": {
     "slide_type": "notes"
    },
    "tags": []
   },
   "source": [
    "##### _<ins>Notes:</ins>_"
   ]
  },
  {
   "cell_type": "markdown",
   "id": "15b5bcc4",
   "metadata": {
    "jp-MarkdownHeadingCollapsed": true,
    "slideshow": {
     "slide_type": "slide"
    },
    "tags": []
   },
   "source": [
    "### _<ins>Example</ins>:_ Boolean operators"
   ]
  },
  {
   "cell_type": "code",
   "execution_count": 16,
   "id": "ccf41a7d",
   "metadata": {
    "scrolled": true,
    "slideshow": {
     "slide_type": ""
    },
    "tags": []
   },
   "outputs": [
    {
     "data": {
      "text/plain": [
       "1"
      ]
     },
     "execution_count": 16,
     "metadata": {},
     "output_type": "execute_result"
    }
   ],
   "source": [
    "# Adding booleans\n",
    "True+False"
   ]
  },
  {
   "cell_type": "code",
   "execution_count": 17,
   "id": "c7c1c5a7",
   "metadata": {
    "slideshow": {
     "slide_type": ""
    },
    "tags": []
   },
   "outputs": [
    {
     "data": {
      "text/plain": [
       "False"
      ]
     },
     "execution_count": 17,
     "metadata": {},
     "output_type": "execute_result"
    }
   ],
   "source": [
    "# Logical AND\n",
    "True and False"
   ]
  },
  {
   "cell_type": "code",
   "execution_count": 15,
   "id": "0e04909a",
   "metadata": {
    "slideshow": {
     "slide_type": ""
    },
    "tags": []
   },
   "outputs": [
    {
     "data": {
      "text/plain": [
       "True"
      ]
     },
     "execution_count": 15,
     "metadata": {},
     "output_type": "execute_result"
    }
   ],
   "source": [
    "# Logical OR\n",
    "True or False"
   ]
  },
  {
   "cell_type": "code",
   "execution_count": 17,
   "id": "b5320e05",
   "metadata": {
    "slideshow": {
     "slide_type": ""
    },
    "tags": []
   },
   "outputs": [
    {
     "data": {
      "text/plain": [
       "False"
      ]
     },
     "execution_count": 17,
     "metadata": {},
     "output_type": "execute_result"
    }
   ],
   "source": [
    "# Negating boolean\n",
    "not True"
   ]
  },
  {
   "cell_type": "markdown",
   "id": "1a3fc56e-74b1-4851-a667-3b4b52466102",
   "metadata": {
    "jp-MarkdownHeadingCollapsed": true,
    "slideshow": {
     "slide_type": "notes"
    },
    "tags": []
   },
   "source": [
    "##### _<ins>Notes:</ins>_"
   ]
  },
  {
   "cell_type": "markdown",
   "id": "01c53761",
   "metadata": {
    "slideshow": {
     "slide_type": "notes"
    },
    "tags": []
   },
   "source": [
    "Let's take a closer look at booleans. They seem a bit boring, but we will see later that they are really essential for programming. Try these commands in your interpreter. You will, again, get an error in one case. [let them try]\n",
    "You will have seen that the values are case sensitive, so you have to make sure to write``True`` and ``False`` with capital letters. You will also have noticed that ``True`` has the numerical value one, and ``False`` is zero. You can invert the value with ``not``, and combine two values logically with ``and`` and ``or``."
   ]
  },
  {
   "cell_type": "markdown",
   "id": "0ff8feff",
   "metadata": {
    "jp-MarkdownHeadingCollapsed": true,
    "slideshow": {
     "slide_type": "slide"
    },
    "tags": []
   },
   "source": [
    "## Basic operators\n",
    "New values can be obtained by applying operators to old values, for example, mathematical operators on numerical data types `int` or `float`."
   ]
  },
  {
   "cell_type": "markdown",
   "id": "f7e19569-74ef-45dd-8285-99430bc435fe",
   "metadata": {
    "editable": true,
    "slideshow": {
     "slide_type": ""
    },
    "tags": []
   },
   "source": [
    "- String: concatenation with `+`\n",
    "- Bool: `and`, `or`, `not`\n",
    "- Numerical data: `+`, `-`, `*`, `/`, `%`, `**`, built-in functions `abs`, ...\n",
    "- Order of execution:\n",
    "    1. `()`\n",
    "    2. `**`\n",
    "    3. `*`, `/`\n",
    "    4. `+`, `-`\n",
    "    5. Left-to-right (except exponentiation!)\n",
    "\n",
    "So, use parenthesis to make sure!"
   ]
  },
  {
   "cell_type": "markdown",
   "id": "3819ac3e-c9cf-4fbc-a955-5439bdee7723",
   "metadata": {
    "jp-MarkdownHeadingCollapsed": true,
    "slideshow": {
     "slide_type": "notes"
    },
    "tags": []
   },
   "source": [
    "##### _<ins>Notes:</ins>_"
   ]
  },
  {
   "cell_type": "markdown",
   "id": "a201c520",
   "metadata": {
    "slideshow": {
     "slide_type": "notes"
    },
    "tags": []
   },
   "source": [
    "- These are the basic operations we have for our data types: String concatenation with the plus sign, logical operations on booleans with and, or, and not, and for floats and integers we have addition, subtraction, multiplication, division, modulo (i.e., the remainder of a division), exponentiation, absolute value, and so on.\n",
    " - It is very important to be aware how these operations are executed in long arithmetic expressions. Generally, if you have something like a plus b plus c, it happens from left to right: First a plus b, and then plus c. However, if you have exponents, like a to the power of b to the power of c, the right-most operations happens first: b to the power of c, and then a to the power of the result. Exponents bind stronger than times and division, i.e. exponents are computed first, and times and division is stronger than plus and minus. If in doubt, just use parenthesis.\n",
    " - You will have the chance to play around with this in a moment, and find out for yourselves how it works."
   ]
  },
  {
   "cell_type": "markdown",
   "id": "9df66d0a",
   "metadata": {
    "jp-MarkdownHeadingCollapsed": true,
    "slideshow": {
     "slide_type": "slide"
    },
    "tags": []
   },
   "source": [
    "## Comments (and documentation)\n",
    "Anything following the `#` character on a line is ignored by Python interpreter and becomes a comment. Comments are useful to document the code."
   ]
  },
  {
   "cell_type": "code",
   "execution_count": 3,
   "id": "5242abd7",
   "metadata": {
    "slideshow": {
     "slide_type": ""
    },
    "tags": []
   },
   "outputs": [
    {
     "name": "stdout",
     "output_type": "stream",
     "text": [
      "3.5\n"
     ]
    }
   ],
   "source": [
    "# This is my programme to demonstrate how to\n",
    "# do simple calculations in Python.\n",
    "\n",
    "my_number = 2\n",
    "\n",
    "my_other_number = my_number + 5\n",
    "\n",
    "my_number = my_other_number / 2 # I have to divide\n",
    "                                # by 2 here, as the\n",
    "                                # results are\n",
    "                                # otherwise rubbish\n",
    "\n",
    "print(my_number)"
   ]
  },
  {
   "cell_type": "markdown",
   "id": "932ef318-3715-44f7-9571-12a73f4d3eef",
   "metadata": {
    "jp-MarkdownHeadingCollapsed": true,
    "slideshow": {
     "slide_type": "notes"
    },
    "tags": []
   },
   "source": [
    "##### _<ins>Notes:</ins>_"
   ]
  },
  {
   "cell_type": "markdown",
   "id": "8964af20",
   "metadata": {
    "slideshow": {
     "slide_type": "notes"
    },
    "tags": []
   },
   "source": [
    "But first, I want to show you two more things.\n",
    "\n",
    " - One is comments. When you are writing your code, your intentions and your thinking might seem obvious, and you just want to get it running. However, believe me: If someone else is looking at your code at some point, and this someone else might be you in two weeks time, things are very probably not that obvious anymore. I found myself puzzling over my own code and why on earth I have done things like that quite often. In order to put a comment in your code you have to tell the interpreter that this bit is just for the humans reading the code, not interesting for the computer. In Python this is done by putting a hash symbol in front of the comment. This can be either at the beginning or in the middle of a line.\n"
   ]
  },
  {
   "cell_type": "markdown",
   "id": "cf5b60d8",
   "metadata": {
    "@deathbeds/jupyterlab-fonts": {
     "styles": {
      "": {
       "body[data-jp-deck-mode='presenting'] &": {
        "zoom": null
       }
      }
     }
    },
    "slideshow": {
     "slide_type": "slide"
    },
    "tags": []
   },
   "source": [
    "## Debugging and Types of Errors"
   ]
  },
  {
   "cell_type": "markdown",
   "id": "b22bca73-e02d-4c71-9361-5ec6a2bdc963",
   "metadata": {},
   "source": [
    "- Errors in computer programs are called ``bugs'' for historic reasons.\n",
    "- For complex projects, you will usually spend more time testing and debugging than writing code.\n",
    "- Three types of errors:\n",
    "    - Syntax errors - written the code wrongly\n",
    "    - Semantic errors - written the wrong code\n",
    "    - Runtime errors - something's wrong with the code (during execution)"
   ]
  },
  {
   "cell_type": "markdown",
   "id": "ca972bb0-12ba-4e12-99b4-1f88b7dfecf6",
   "metadata": {
    "jp-MarkdownHeadingCollapsed": true,
    "slideshow": {
     "slide_type": "notes"
    },
    "tags": []
   },
   "source": [
    "##### _<ins>Notes:</ins>_"
   ]
  },
  {
   "cell_type": "markdown",
   "id": "049a22e6",
   "metadata": {
    "slideshow": {
     "slide_type": "notes"
    },
    "tags": []
   },
   "source": [
    "- The other thing I want to mention at this points are errors. As soon as you start programming you will make mistakes. Everyone does that, even the most experienced programmers spend a lot of time hunting for bugs in their code. \"Bugs\" is a common term for errors in computer programs. It is said that this term originates from a time when actual insects in the hardware of a computer or another machine were the cause for malfunctions. There is a number of different opinions on when the term was first used, but I won't go into that here. Looking for and removing these errors is also called \"debugging\"."
   ]
  },
  {
   "cell_type": "markdown",
   "id": "96a29c0e",
   "metadata": {
    "slideshow": {
     "slide_type": "notes"
    },
    "tags": []
   },
   "source": [
    " - Syntax errors are usually the easiest to spot. We have seen them before, when we wrote some code that was not valid, made a typo or so. Your interpreter or compiler will tell you straight away that something is wrong.\n",
    " - Semantic errors are much harder to find. It means that the code that you have written does not do what you intended it to do. Because you have written it, you will probably have assumed that it does the right thing, so you have to question your thinking. Often it helps to explain your code to someone else, so that either they or yourself might spot the mistake.\n",
    " - The third type is runtime errors. These will just appear during execution, for example because your code cannot cope with a certain type of input. An example would be a code that divides a number by another number given by user input, which errors if the user input is zero or a string."
   ]
  },
  {
   "cell_type": "markdown",
   "id": "933acaf7",
   "metadata": {
    "jp-MarkdownHeadingCollapsed": true,
    "slideshow": {
     "slide_type": "slide"
    },
    "tags": []
   },
   "source": [
    "## Have a play!"
   ]
  },
  {
   "cell_type": "markdown",
   "id": "f19f02c1",
   "metadata": {
    "slideshow": {
     "slide_type": ""
    },
    "tags": []
   },
   "source": [
    "You could try\n",
    " - what happens if you add a float and an integer,\n",
    " - what happens if you mix numbers and bools in arithmetic expressions,\n",
    " - how setting parenthesis changes the result of a large arithmetic expression,\n",
    " - to print statements that include variables of different data types,\n",
    " - try to reproduce each of the error types,\n",
    " - ..."
   ]
  },
  {
   "cell_type": "markdown",
   "id": "1dae5d7b-49b0-49ea-a3a5-a424c7e51377",
   "metadata": {
    "jp-MarkdownHeadingCollapsed": true,
    "slideshow": {
     "slide_type": "notes"
    },
    "tags": []
   },
   "source": [
    "##### _<ins>Notes:</ins>_"
   ]
  },
  {
   "cell_type": "markdown",
   "id": "f32b3472",
   "metadata": {
    "raw_mimetype": "",
    "slideshow": {
     "slide_type": "notes"
    },
    "tags": []
   },
   "source": [
    "Now it's time for you to try the things that we have learned about yourselves. I want you to think about data types, variables, the different operations, comments and errors, and find out more about how they work by experimenting. Write little bits of code and see what works, what doesn't, and how the output changes.\n",
    "\n",
    "I wrote down some examples here, in case you are unsure what to do, but you can do something different.\n",
    "\n",
    "Again, if you have any question or need help, we are here to help.\n",
    "\n",
    "I'll give you about 10 minutes, then I'll go with you over possible solutions for my examples above."
   ]
  },
  {
   "cell_type": "markdown",
   "id": "5c44ad9b-016e-4e14-bed0-dfbb1ec9a267",
   "metadata": {
    "jp-MarkdownHeadingCollapsed": true
   },
   "source": [
    "#### _Example solution_\n",
    "What happens if you add a float and an integer?"
   ]
  },
  {
   "cell_type": "code",
   "execution_count": 4,
   "id": "96acf080",
   "metadata": {
    "slideshow": {
     "slide_type": "notes"
    },
    "tags": []
   },
   "outputs": [
    {
     "data": {
      "text/plain": [
       "4.0"
      ]
     },
     "execution_count": 4,
     "metadata": {},
     "output_type": "execute_result"
    }
   ],
   "source": [
    "1+3.0"
   ]
  },
  {
   "cell_type": "markdown",
   "id": "9801f584",
   "metadata": {
    "jp-MarkdownHeadingCollapsed": true,
    "raw_mimetype": "",
    "slideshow": {
     "slide_type": "slide"
    },
    "tags": []
   },
   "source": [
    "#### _Example solution_\n",
    "What happens if you mix numbers and bools in arithmetic expressions?"
   ]
  },
  {
   "cell_type": "code",
   "execution_count": 5,
   "id": "d6c3ffbf",
   "metadata": {
    "slideshow": {
     "slide_type": "notes"
    },
    "tags": []
   },
   "outputs": [
    {
     "name": "stdout",
     "output_type": "stream",
     "text": [
      "2\n",
      "6\n"
     ]
    }
   ],
   "source": [
    "print(1+True)\n",
    "\n",
    "print(6-False)"
   ]
  },
  {
   "cell_type": "markdown",
   "id": "b395b5e9-825e-4ef5-b20b-8b4d320e2ee4",
   "metadata": {
    "slideshow": {
     "slide_type": "notes"
    },
    "tags": []
   },
   "source": [
    "##### _<ins>Notes:</ins>_"
   ]
  },
  {
   "cell_type": "markdown",
   "id": "dc6ba9f7",
   "metadata": {
    "slideshow": {
     "slide_type": "fragment"
    },
    "tags": []
   },
   "source": [
    "True is converted to one and False is converted to zero"
   ]
  },
  {
   "cell_type": "markdown",
   "id": "838fcd32",
   "metadata": {
    "jp-MarkdownHeadingCollapsed": true,
    "slideshow": {
     "slide_type": "slide"
    },
    "tags": []
   },
   "source": [
    "#### _Example solution_\n",
    "How setting parenthesis changes the result of a large arithmetic expression?"
   ]
  },
  {
   "cell_type": "code",
   "execution_count": null,
   "id": "542ea348",
   "metadata": {
    "slideshow": {
     "slide_type": "notes"
    },
    "tags": []
   },
   "outputs": [],
   "source": [
    "print(1+2/3-4*5**6+7)\n",
    "print(((1+2)/(3-4))*(5**6)+7)\n",
    "print(((1+2)/(3-4))*5**(6+7))\n",
    "print((1+2)/((3-4)*5**6+7))"
   ]
  },
  {
   "cell_type": "markdown",
   "id": "ae67e9a0",
   "metadata": {
    "jp-MarkdownHeadingCollapsed": true,
    "slideshow": {
     "slide_type": "slide"
    },
    "tags": []
   },
   "source": [
    "#### _Example solution_\n",
    "Print statements that include variables of different data types."
   ]
  },
  {
   "cell_type": "code",
   "execution_count": null,
   "id": "07990249",
   "metadata": {
    "slideshow": {
     "slide_type": "notes"
    },
    "tags": []
   },
   "outputs": [],
   "source": [
    "my_int = 1\n",
    "my_float = 3.4\n",
    "my_string = \"Flower\"\n",
    "my_bool = True\n",
    "print(\"Add:\", my_int + my_float)\n",
    "print(\"Hello \" + my_string)\n",
    "print(my_string + \" this: \", my_bool - my_float, \" and that: \", my_bool)"
   ]
  },
  {
   "cell_type": "markdown",
   "id": "f82e2f14",
   "metadata": {
    "jp-MarkdownHeadingCollapsed": true,
    "slideshow": {
     "slide_type": "slide"
    },
    "tags": []
   },
   "source": [
    "#### _Example solutions_\n",
    "Try to reproduce each of the error types\n"
   ]
  },
  {
   "cell_type": "markdown",
   "id": "57eb8650-2946-485d-a5e0-ea4a51730f1a",
   "metadata": {
    "jp-MarkdownHeadingCollapsed": true
   },
   "source": [
    "##### 1. Syntax Error"
   ]
  },
  {
   "cell_type": "code",
   "execution_count": null,
   "id": "9ac16206",
   "metadata": {
    "slideshow": {
     "slide_type": "notes"
    },
    "tags": []
   },
   "outputs": [],
   "source": [
    "print(\"Hello\" 5)"
   ]
  },
  {
   "cell_type": "markdown",
   "id": "d70ca685",
   "metadata": {
    "jp-MarkdownHeadingCollapsed": true,
    "slideshow": {
     "slide_type": "slide"
    },
    "tags": []
   },
   "source": [
    "##### 2. Semantic Error"
   ]
  },
  {
   "cell_type": "code",
   "execution_count": null,
   "id": "87fc9f69",
   "metadata": {
    "slideshow": {
     "slide_type": "notes"
    },
    "tags": []
   },
   "outputs": [],
   "source": [
    "print(\"7+5 = \", 1+1)"
   ]
  },
  {
   "cell_type": "markdown",
   "id": "9d7ea0d4",
   "metadata": {
    "jp-MarkdownHeadingCollapsed": true,
    "slideshow": {
     "slide_type": "slide"
    },
    "tags": []
   },
   "source": [
    "##### 3. Runtime Error"
   ]
  },
  {
   "cell_type": "code",
   "execution_count": null,
   "id": "2899a78f",
   "metadata": {
    "slideshow": {
     "slide_type": "notes"
    },
    "tags": []
   },
   "outputs": [],
   "source": [
    "x = \"thisisastring\" #Make this an input during runtime, see next section.\n",
    "print(\"5/x=\", 5/x)"
   ]
  },
  {
   "cell_type": "markdown",
   "id": "33b369e2",
   "metadata": {
    "slideshow": {
     "slide_type": "slide"
    },
    "tags": []
   },
   "source": [
    "# <ins>2.</ins> Getting Data in and out"
   ]
  },
  {
   "cell_type": "markdown",
   "id": "1472934a",
   "metadata": {
    "slideshow": {
     "slide_type": "notes"
    },
    "tags": []
   },
   "source": [
    "Now that we have covered the basics, let's move on to the next level. I expect that most of you are interested in processing data in one way or the other. Most times, we do not want to explicitly write our data into our code, which is also called \"hardcoding\", and has a bad reputation.\n",
    "\n",
    "Instead, we want to be able to provide data during runtime, and have a general program that is able to process the data.\n",
    "\n",
    "How then do we get the data in and out of our program?"
   ]
  },
  {
   "cell_type": "markdown",
   "id": "02581a8a",
   "metadata": {
    "slideshow": {
     "slide_type": "slide"
    },
    "tags": []
   },
   "source": [
    "## User input\n",
    "The `print` function enables a Python program to display textual information to the user. The `input` function maybe used to obtain information from the user."
   ]
  },
  {
   "cell_type": "code",
   "execution_count": 18,
   "id": "bd260099",
   "metadata": {
    "slideshow": {
     "slide_type": ""
    },
    "tags": []
   },
   "outputs": [
    {
     "name": "stdout",
     "output_type": "stream",
     "text": [
      " Niklas\n",
      "Niklas\n"
     ]
    },
    {
     "data": {
      "text/plain": [
       "str"
      ]
     },
     "execution_count": 18,
     "metadata": {},
     "output_type": "execute_result"
    }
   ],
   "source": [
    "# Get some user input\n",
    "x = input()\n",
    "# print it\n",
    "print(x)\n",
    "# check the type of the input\n",
    "type(x)   # This will be a string if you don't convert it"
   ]
  },
  {
   "cell_type": "code",
   "execution_count": null,
   "id": "c223de52",
   "metadata": {
    "slideshow": {
     "slide_type": ""
    },
    "tags": []
   },
   "outputs": [],
   "source": [
    "# Implement a greeting function with user input\n",
    "name = input(\"What's you name?\")\n",
    "print(\"Hello \" + name)"
   ]
  },
  {
   "cell_type": "markdown",
   "id": "c6ca080e-6996-404e-a287-f60b0867b92b",
   "metadata": {
    "jp-MarkdownHeadingCollapsed": true,
    "slideshow": {
     "slide_type": "notes"
    },
    "tags": []
   },
   "source": [
    "##### _<ins>Notes:</ins>_"
   ]
  },
  {
   "cell_type": "markdown",
   "id": "3858a4ca",
   "metadata": {
    "slideshow": {
     "slide_type": "notes"
    },
    "tags": []
   },
   "source": [
    "As an equivalent to the `print` built-in function, there is the `input` built-in function. It just takes the input from the command line or terminal, and you can do with it whatever you like. For example, here I am putting it into a variable `x`, and then output it. You can also add a prompting message to the user to tell them what kind of input you expect. Note that, just as `print` outputs a string, any user input will be interpreted as of type `str`, regardless of whether it is made out of letters, numbers, or symbols. So you might need to convert it to whatever data type you need it to be.\n",
    "\n",
    "This kind of user input is, of course, not suited for inputting large data sets. It is rather for getting in, for example, parameters, the path to the data set, or other settings or instructions to the program."
   ]
  },
  {
   "cell_type": "markdown",
   "id": "e0949fb7",
   "metadata": {
    "jp-MarkdownHeadingCollapsed": true,
    "slideshow": {
     "slide_type": "slide"
    },
    "tags": []
   },
   "source": [
    "## Reading and writing files"
   ]
  },
  {
   "cell_type": "markdown",
   "id": "8e081caa",
   "metadata": {
    "slideshow": {
     "slide_type": ""
    },
    "tags": []
   },
   "source": [
    "```python\n",
    "# Create a file object\n",
    "with open(\"testfile.txt\", 'w') as my_file:\n",
    "    ...\n",
    "```\n",
    "Two things to note here:\n",
    " - My object `my_file` is different from my file `\"testfile\"`!\n",
    " - There are different modes:\n",
    "     - read: `'r'`\n",
    "     - (over-)write: `'w'`\n",
    "     - append: `'a'`\n",
    "     - read+write: `'w+'` or `'r+'`"
   ]
  },
  {
   "cell_type": "markdown",
   "id": "bb23b6fc-5808-4bbb-9d55-65ed16c7de18",
   "metadata": {
    "jp-MarkdownHeadingCollapsed": true,
    "slideshow": {
     "slide_type": "notes"
    },
    "tags": []
   },
   "source": [
    "##### _<ins>Notes:</ins>_"
   ]
  },
  {
   "cell_type": "markdown",
   "id": "c1c9851b",
   "metadata": {
    "slideshow": {
     "slide_type": "notes"
    },
    "tags": []
   },
   "source": [
    "The actual data input will usually happen over a file. Follow me in creating a new file.\n",
    "\n",
    "[demonstrate] As you will see, there is now a new file called `\"testfile.txt\"` in your working directory.\n",
    "\n",
    "[show] But that is not the only thing that happened. At the same time, a file object called `myFile` was created in your program. These are two different things. For example, if I rename or delete the file object, my file in the file system won't change. This might sound trivial, but I thought I mention it, as it could lead to confusion.\n",
    "\n",
    "The `'w'` here stands for \"_write_\". If there is already a file with this name, we will now overwrite its contents. If we instead open the file with `'a'` for \"_append_\", we start writing after the existing content. We can also open the file in _read-only_ mode, or in _read-and-write_ mode."
   ]
  },
  {
   "cell_type": "markdown",
   "id": "6e71b49e",
   "metadata": {
    "jp-MarkdownHeadingCollapsed": true,
    "slideshow": {
     "slide_type": "slide"
    },
    "tags": []
   },
   "source": [
    "### Writing files and formatting strings (C-style)"
   ]
  },
  {
   "cell_type": "code",
   "execution_count": null,
   "id": "8d1bff53",
   "metadata": {
    "slideshow": {
     "slide_type": ""
    },
    "tags": []
   },
   "outputs": [],
   "source": [
    "with open(\"testfile.txt\", \"w\") as my_file:\n",
    "    # Write - note special characters!\n",
    "    my_file.write(\"This is some text. \\n And some more.\")\n",
    "    my_file.write(\"\\n\\nI can also add numbers like this: %d %d \\n\" %(22, 333))\n",
    "\n",
    "    my_file.write(str(222))"
   ]
  },
  {
   "cell_type": "markdown",
   "id": "541a01e7",
   "metadata": {
    "slideshow": {
     "slide_type": ""
    },
    "tags": []
   },
   "source": [
    "see also [https://www.learnpython.org/en/String\\_Formatting](https://www.learnpython.org/en/String_Formatting)"
   ]
  },
  {
   "cell_type": "markdown",
   "id": "29bc9604-f642-4041-b49b-ff942bc2c44c",
   "metadata": {
    "jp-MarkdownHeadingCollapsed": true,
    "slideshow": {
     "slide_type": "notes"
    },
    "tags": []
   },
   "source": [
    "##### _<ins>Notes:</ins>_"
   ]
  },
  {
   "cell_type": "markdown",
   "id": "f475d1f8",
   "metadata": {
    "raw_mimetype": "",
    "slideshow": {
     "slide_type": "notes"
    },
    "tags": []
   },
   "source": [
    "Now we are writing some text and numbers into our file. Note that, again, everything needs to be a _string_. We can put in numbers either by converting them directly to a string, or by putting in a place holder, like this \"_percent d_\", for numerical or decimal values, and then putting in the number after the string. The \"_backslash n_\" symbol stands for a line break.\n",
    "\n",
    "The single backslash is a line continuation character and tells the interpreter that we are not done yet with that command, but that it continues in the next line."
   ]
  },
  {
   "cell_type": "markdown",
   "id": "2e0ad1cf",
   "metadata": {
    "jp-MarkdownHeadingCollapsed": true,
    "slideshow": {
     "slide_type": "slide"
    },
    "tags": []
   },
   "source": [
    "### Writing files (f-strings)"
   ]
  },
  {
   "cell_type": "code",
   "execution_count": 19,
   "id": "068b4555",
   "metadata": {
    "slideshow": {
     "slide_type": ""
    },
    "tags": []
   },
   "outputs": [],
   "source": [
    "number1 = 44\n",
    "number2 = 111\n",
    "\n",
    "with open(\"testfile.txt\", \"a\") as my_file:\n",
    "    # Append to the opened file\n",
    "    my_file.write(f\"\\n I have opened the same file again.\\n More numbers: {number1} {number2}.\")"
   ]
  },
  {
   "cell_type": "markdown",
   "id": "e7591b70",
   "metadata": {
    "slideshow": {
     "slide_type": ""
    },
    "tags": []
   },
   "source": [
    "see also [f-strings](https://realpython.com/python-f-strings/)"
   ]
  },
  {
   "cell_type": "markdown",
   "id": "8150c5fa-9a35-490b-80bb-118ceaf9f5f5",
   "metadata": {
    "jp-MarkdownHeadingCollapsed": true,
    "slideshow": {
     "slide_type": "notes"
    },
    "tags": []
   },
   "source": [
    "##### _<ins>Notes:</ins>_"
   ]
  },
  {
   "cell_type": "markdown",
   "id": "ad40eb1f",
   "metadata": {
    "slideshow": {
     "slide_type": "notes"
    },
    "tags": []
   },
   "source": [
    "This similar as on the previous slide. We open the same file in _append_-mode and add some more lines, using _f-strings_ instead of _C-style_ string formatting for including numbers.\n",
    "\n",
    "_F-strings_ are faster.\n",
    "\n",
    "Try for yourself to write something into the file using either or both styles, and then check the content of your file! We will use this file in a moment to read the content back into a Python program.\n",
    "\n",
    "[give them some minutes to do that]"
   ]
  },
  {
   "cell_type": "markdown",
   "id": "d9043124",
   "metadata": {
    "slideshow": {
     "slide_type": "slide"
    },
    "tags": []
   },
   "source": [
    "### Reading files"
   ]
  },
  {
   "cell_type": "code",
   "execution_count": null,
   "id": "ca01525a",
   "metadata": {
    "slideshow": {
     "slide_type": ""
    },
    "tags": []
   },
   "outputs": [],
   "source": [
    "with open(\"testfile.txt\", \"r\") as my_file:\n",
    "    # Read it and print it to screen\n",
    "    print(my_file.read())\n",
    "\n",
    "    # Try this:\n",
    "    #print(my_file.read(7))\n",
    "    #print(my_file.readline())\n",
    "    #print(my_file.readlines())"
   ]
  },
  {
   "cell_type": "markdown",
   "id": "725b1a2d-defa-4062-84e9-9b687d5c688a",
   "metadata": {
    "jp-MarkdownHeadingCollapsed": true,
    "slideshow": {
     "slide_type": "notes"
    },
    "tags": []
   },
   "source": [
    "##### _<ins>Notes:</ins>_"
   ]
  },
  {
   "cell_type": "markdown",
   "id": "8c3993d6",
   "metadata": {
    "slideshow": {
     "slide_type": "notes"
    },
    "tags": []
   },
   "source": [
    "In the next step, we will read out data from the file that we have just created. There are different ways of doing this. In this example, I combine the reading directly with a `print` statement, so that I see the result. Usually you would probably put the output of the reading operation into a `variable` and continue to process it.\n",
    "\n",
    "Have a go with these four different version of file reading. [give them some minutes]\n",
    "\n",
    "You have seen that you can read the whole file in one go, read single characters from the file, or a whole line. If you apply the `readline` command repeatedly, it will go on to the next line of your file.\n",
    "\n",
    "Interesting is the output of the `readlines` command. It gives you a structure that has all the lines of the file in it, as separate strings, divided by commas."
   ]
  },
  {
   "cell_type": "markdown",
   "id": "3fb27a3b-9aaa-47ea-a9a9-ec62e0569c07",
   "metadata": {},
   "source": [
    "# <ins>**Part II**</ins>"
   ]
  },
  {
   "cell_type": "markdown",
   "id": "e119b3b5-ab7d-405d-b1be-d28d76d96462",
   "metadata": {},
   "source": [
    "# <ins>3.</ins> Data structures\n",
    "Python can work not only with basic data types mentioned before, but also with compound ones. Compound data types in Python are a powerful tool for organizing and storing data. Among the most commonly used are _lists_ and _dictionaries_."
   ]
  },
  {
   "cell_type": "markdown",
   "id": "009f9a53-2606-42a6-b79e-dee1a4af2fcf",
   "metadata": {
    "jp-MarkdownHeadingCollapsed": true
   },
   "source": [
    "## Lists\n",
    "_Lists_ are ordered collections of items."
   ]
  },
  {
   "cell_type": "code",
   "execution_count": 55,
   "id": "3f3f2670",
   "metadata": {
    "slideshow": {
     "slide_type": ""
    },
    "tags": []
   },
   "outputs": [
    {
     "name": "stdout",
     "output_type": "stream",
     "text": [
      "[1, 2, 3, 4, 5]\n"
     ]
    }
   ],
   "source": [
    "my_list = [1, 2, 3, 4, 5] # A list!\n",
    "print(my_list)"
   ]
  },
  {
   "cell_type": "code",
   "execution_count": null,
   "id": "c25c03dc",
   "metadata": {
    "slideshow": {
     "slide_type": ""
    },
    "tags": []
   },
   "outputs": [],
   "source": [
    "print(my_list[3])   # Note: [] not ()"
   ]
  },
  {
   "cell_type": "code",
   "execution_count": null,
   "id": "ced07334",
   "metadata": {
    "slideshow": {
     "slide_type": ""
    },
    "tags": []
   },
   "outputs": [],
   "source": [
    "print(my_list[0])   # Start with 0!"
   ]
  },
  {
   "cell_type": "code",
   "execution_count": null,
   "id": "973879c8",
   "metadata": {
    "slideshow": {
     "slide_type": ""
    },
    "tags": []
   },
   "outputs": [],
   "source": [
    "print(my_list[-1])  # Go backwards"
   ]
  },
  {
   "cell_type": "code",
   "execution_count": 58,
   "id": "1cd9ec23",
   "metadata": {
    "slideshow": {
     "slide_type": ""
    },
    "tags": []
   },
   "outputs": [
    {
     "name": "stdout",
     "output_type": "stream",
     "text": [
      "[2, 3, 4]\n"
     ]
    }
   ],
   "source": [
    "print(my_list[1:4]) # Include first, exclude last"
   ]
  },
  {
   "cell_type": "code",
   "execution_count": null,
   "id": "c2333275",
   "metadata": {
    "slideshow": {
     "slide_type": ""
    },
    "tags": []
   },
   "outputs": [],
   "source": [
    "print(my_list[:2])  # More slicing"
   ]
  },
  {
   "cell_type": "markdown",
   "id": "53a7b833-8e69-43e1-bc7c-8462a5672e38",
   "metadata": {
    "jp-MarkdownHeadingCollapsed": true,
    "slideshow": {
     "slide_type": "notes"
    },
    "tags": []
   },
   "source": [
    "##### _<ins>Notes:</ins>_"
   ]
  },
  {
   "cell_type": "markdown",
   "id": "7c1ea929",
   "metadata": {
    "slideshow": {
     "slide_type": "notes"
    },
    "tags": []
   },
   "source": [
    "This kind of structure is called a _list_, and it is an essential data structure in Python programming.\n",
    "\n",
    "We can access the entries using square brackets. The first entry in the list is entry number zero, because we are programmers now, and programmers and computer scientists like to start counting from zero. We can even go backwards, in a periodic sense, and land at the last entry of the list at -1, the second-last at -2, and so on. We can take a slice of the list, for example the entries one to three -- note that, in this notation, the first entry given is included and the last excluded.\n",
    "If we just put a colon, we mean that we go all the way to that side, so here we go from the beginning of the list, which is entry zero, to entry 1. You can just put a colon to indicate you mean the whole list."
   ]
  },
  {
   "cell_type": "markdown",
   "id": "e940e7c1-6a43-4aad-9cb0-b1a2da1b8bde",
   "metadata": {
    "editable": true,
    "jp-MarkdownHeadingCollapsed": true,
    "slideshow": {
     "slide_type": "slide"
    },
    "tags": []
   },
   "source": [
    "## Dictionaries\n",
    "Key value pairs are encoded in _dictionaries_"
   ]
  },
  {
   "cell_type": "markdown",
   "id": "07d55718",
   "metadata": {
    "slideshow": {
     "slide_type": null
    }
   },
   "source": [
    " - dicts are like labelled drawers\n",
    "    - the label of the drawer is called a key.\n",
    "    - however dictionaries are \"kind of\" unordered.\n",
    "    - the content of that drawer is called the value.\n",
    "    - Like lists the types of keys and values do not have to match\n",
    "    - keys need to be \"hashable\". Usually basic data types\n",
    "\n",
    "The syntax is ``{key: value}``.\n"
   ]
  },
  {
   "cell_type": "code",
   "execution_count": 22,
   "id": "35e0f2ea",
   "metadata": {},
   "outputs": [
    {
     "data": {
      "text/plain": [
       "{'temperature_k': 298.5, 'pressure': 1.015}"
      ]
     },
     "execution_count": 22,
     "metadata": {},
     "output_type": "execute_result"
    }
   ],
   "source": [
    "my_dict = {'temperature_k': 298.5, 'pressure': 1.015}\n",
    "my_dict"
   ]
  },
  {
   "cell_type": "code",
   "execution_count": 23,
   "id": "af048f2b",
   "metadata": {},
   "outputs": [],
   "source": [
    "my_dict['volume'] = 100.0"
   ]
  },
  {
   "cell_type": "code",
   "execution_count": 24,
   "id": "e93ad54f",
   "metadata": {},
   "outputs": [
    {
     "data": {
      "text/plain": [
       "{'temperature_k': 298.5, 'pressure': 1.015, 'volume': 100.0}"
      ]
     },
     "execution_count": 24,
     "metadata": {},
     "output_type": "execute_result"
    }
   ],
   "source": [
    "my_dict"
   ]
  },
  {
   "cell_type": "markdown",
   "id": "bdd87b0c",
   "metadata": {
    "jp-MarkdownHeadingCollapsed": true,
    "slideshow": {
     "slide_type": "slide"
    },
    "tags": []
   },
   "source": [
    "## Have a Play!"
   ]
  },
  {
   "cell_type": "markdown",
   "id": "0c79e292-a6c0-4991-93c6-134df9f163b2",
   "metadata": {
    "jp-MarkdownHeadingCollapsed": true
   },
   "source": [
    "# [TBD] <ins>4.</ins> Repetitions and conditions"
   ]
  },
  {
   "cell_type": "markdown",
   "id": "444cd68e-6483-4a22-a626-9c8dcd48d9c9",
   "metadata": {
    "jp-MarkdownHeadingCollapsed": true
   },
   "source": [
    "# [TBD] <ins>5.</ins> Functions"
   ]
  },
  {
   "cell_type": "markdown",
   "id": "272b066f",
   "metadata": {
    "slideshow": {
     "slide_type": ""
    },
    "tags": []
   },
   "source": [
    "[https://www.w3schools.com/python/python_lists.asp](https://www.w3schools.com/python/python_lists.asp)"
   ]
  },
  {
   "cell_type": "markdown",
   "id": "bcbb700e-c0c2-457b-ad23-54c61ede33f4",
   "metadata": {
    "jp-MarkdownHeadingCollapsed": true,
    "slideshow": {
     "slide_type": "notes"
    },
    "tags": []
   },
   "source": [
    "##### _<ins>Notes:</ins>_"
   ]
  },
  {
   "cell_type": "markdown",
   "id": "396ddd2b",
   "metadata": {
    "slideshow": {
     "slide_type": "notes"
    },
    "tags": []
   },
   "source": [
    "This is something that is worth getting your head around. Please go to the website given here, read through it and try their examples. At the end, you will find a list of methods on lists, with links to further information. Even though the website uses all toy examples, these are really useful tools in data processing. Try to think how you would use these methods on your actual research data.\n",
    "\n",
    "I'll give you 10 minutes, then we'll continue."
   ]
  },
  {
   "cell_type": "markdown",
   "id": "95e3cdb8",
   "metadata": {
    "jp-MarkdownHeadingCollapsed": true
   },
   "source": [
    "### _Exercise:_\n",
    "Create a dictionary describing a person and increase age and height from the starting values"
   ]
  },
  {
   "cell_type": "code",
   "execution_count": null,
   "id": "d514e205",
   "metadata": {},
   "outputs": [],
   "source": [
    "person = {'name': 'Susan', 'age': 8, 'height': 1.2}\n",
    "print(person)\n",
    "\n",
    "person['age'] += 1\n",
    "person['height'] += 0.1"
   ]
  }
 ],
 "metadata": {
  "@deathbeds/jupyterlab-fonts": {
   "fontLicenses": {},
   "fonts": {},
   "styles": {
    ":root": {}
   }
  },
  "kernelspec": {
   "display_name": "Python 3 (ipykernel)",
   "language": "python",
   "name": "python3"
  },
  "language_info": {
   "codemirror_mode": {
    "name": "ipython",
    "version": 3
   },
   "file_extension": ".py",
   "mimetype": "text/x-python",
   "name": "python",
   "nbconvert_exporter": "python",
   "pygments_lexer": "ipython3",
   "version": "3.10.12"
  }
 },
 "nbformat": 4,
 "nbformat_minor": 5
}
