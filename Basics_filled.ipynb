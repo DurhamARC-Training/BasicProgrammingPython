{
 "cells": [
  {
   "cell_type": "markdown",
   "id": "aee3ef02",
   "metadata": {
    "slideshow": {
     "slide_type": "slide"
    }
   },
   "source": [
    "ARC course \"Learning to programme with Python\" (beginner level)\n",
    "===============================================================\n",
    "![icons8-python-48.png](images/icons8-python-48.png)"
   ]
  },
  {
   "cell_type": "markdown",
   "id": "845ed4b5",
   "metadata": {
    "slideshow": {
     "slide_type": ""
    }
   },
   "source": [
    "Welcome to our ARC course \"Learning to programme with Python\".\n",
    "\n",
    "Some general information on how the course will run:\n",
    "\n",
    "* The course will run from 09:00 to 12:30. We plan a coffee break between 2 parts at around 10:45 for ~10-15 min.\n",
    "\n",
    "* The material does not expect any prior programming experience.\n",
    "\n",
    "* Each topic will be presented wih code demonstrations followed by practical exercises.\n",
    "\n",
    "* We are happy to answer any questions during the course and to help during the exercises.\n",
    "\n",
    "Enjoy learning Python!"
   ]
  },
  {
   "cell_type": "markdown",
   "id": "89127733",
   "metadata": {
    "slideshow": {
     "slide_type": "slide"
    }
   },
   "source": [
    "## Set up your Python environment"
   ]
  },
  {
   "cell_type": "markdown",
   "id": "5df3cbfd",
   "metadata": {
    "slideshow": {
     "slide_type": ""
    }
   },
   "source": [
    "<ins>Preferred</ins>: Jupyter Notebook server or Jupyter Lab as a local Python environment installed on your laptops (hopefully, you've already received a welcome email with installation instructions).\n",
    "\n",
    "<ins>Other</ins>: Google Colab (https://colab.research.google.com).\n",
    "\n",
    "Go to the repository:\n",
    "```https://github.com/DurhamARC-Training/BasicProgrammingPython```\n",
    "\n",
    "copy the `pull_files_from_repo.py` file into your environment\n",
    "\n",
    "execute it with `python pull_files_from_repo.py`"
   ]
  },
  {
   "cell_type": "markdown",
   "id": "4519a94b",
   "metadata": {
    "slideshow": {
     "slide_type": "skip"
    }
   },
   "source": [
    "# <ins>Table of Contents</ins>"
   ]
  },
  {
   "cell_type": "markdown",
   "id": "fc04f71d",
   "metadata": {
    "slideshow": {
     "slide_type": "slide"
    }
   },
   "source": [
    "# <ins>0.</ins> Introduction"
   ]
  },
  {
   "cell_type": "markdown",
   "id": "f7c83fee",
   "metadata": {
    "slideshow": {
     "slide_type": "slide"
    }
   },
   "source": [
    "## Course objectives"
   ]
  },
  {
   "cell_type": "markdown",
   "id": "ebad0a5c",
   "metadata": {
    "slideshow": {
     "slide_type": ""
    }
   },
   "source": [
    "By the end of this course you should know:\n",
    " - how a basic computer program is written and executed,\n",
    " - what basic data types and control statements are,\n",
    " - how to get and process user input and data,\n",
    " - how to structure your code using functions,\n",
    " - what can lead to your program not working, and what to do about it,\n",
    " - where to find further resources to practice your Python programming."
   ]
  },
  {
   "cell_type": "markdown",
   "id": "3c637af0",
   "metadata": {
    "slideshow": {
     "slide_type": "skip"
    }
   },
   "source": [
    "##### _<ins>Notes:</ins>_"
   ]
  },
  {
   "cell_type": "markdown",
   "id": "ac598d2c",
   "metadata": {
    "slideshow": {
     "slide_type": "notes"
    }
   },
   "source": [
    " - We'll talk about how to get a simple computer program running, the basics in terms of *data types*, *variables*, *if-statements* and *loops*, getting data in and out of the program, *functions* and *variable scope*, and a bit about *comments*, *error types* and their *handling*.\n",
    " - I hope that this course will give you a good foundation to continue your Python learning further. Programming is a lot about learning by doing. There are tons of online (and offline) resources as well as forums (online and offline) where you can ask for help."
   ]
  },
  {
   "cell_type": "markdown",
   "id": "8837d179",
   "metadata": {
    "slideshow": {
     "slide_type": "slide"
    }
   },
   "source": [
    "## Useful resources"
   ]
  },
  {
   "cell_type": "markdown",
   "id": "ebdeddfa",
   "metadata": {
    "slideshow": {
     "slide_type": ""
    }
   },
   "source": [
    "#### Materials used and recommended:\n",
    " - [Python Wiki - Python for Non-Programmers](https://wiki.python.org/moin/BeginnersGuide/NonProgrammers)\n",
    " - [How to think like a Computer Scientist](http://openbookproject.net/thinkcs/python/english3e/index.html)\n",
    " - [A Whirlwind Tour of Python](https://jakevdp.github.io/WhirlwindTourOfPython)\n",
    " - [Software Carpentry - Programming with Python](https://swcarpentry.github.io/python-novice-inflammation/index.html)"
   ]
  },
  {
   "cell_type": "markdown",
   "id": "92b487e2",
   "metadata": {
    "slideshow": {
     "slide_type": "notes"
    }
   },
   "source": [
    "##### _<ins>Notes:</ins>_"
   ]
  },
  {
   "cell_type": "markdown",
   "id": "7bb54463",
   "metadata": {
    "slideshow": {
     "slide_type": "notes"
    }
   },
   "source": [
    "Here is a list of sources that were used when this course was prepared. It is great for self-study, and you can use it after this course to continue on your own.\n",
    "\n",
    " - *Python Wiki*, as a website, is a good resource of Python knowledge. The link I give you here is to the site \"Python for Non-Programmers\", that has an extensive list of materials to learn Python if you have not programmed in any language before.\n",
    " - *How to think like a Computer Scientist*. Some of the structure and ideas of the first few chapters have been used for this course.\n",
    " - *A Whirlwind Tour of Python* has a faster pace, and seems to be targeted at a more technically-minded audience.\n",
    " - *Software Carpentry* is an organisation aimed at providing basic software training for everyone. They have a \"<ins>train the trainers</ins>\" approach, which means that they provide material and training courses for software carpentry trainers. Thankfully, you are also allowed to access and use their material for free. This training course here gives a Python introduction at hands of a practical data processing task."
   ]
  },
  {
   "cell_type": "markdown",
   "id": "1aeb30d8",
   "metadata": {
    "slideshow": {
     "slide_type": "fragment"
    }
   },
   "source": [
    " - The top results are often filled with SEO sites\n",
    " - The aim is not to provide a concise explanation, but to show you as many ads as possible\n",
    " - Very verbose, lots of unneccesary alternatives.\n",
    "\n",
    " Example: \"python how do I invert a list\"\n",
    "\n",
    " Recommend: w3schools, python.org (which is often more technical)"
   ]
  },
  {
   "cell_type": "markdown",
   "id": "347d82b0",
   "metadata": {
    "slideshow": {
     "slide_type": "notes"
    }
   },
   "source": [
    "_**Notes**_: Do not show search results. Just keep as small topic."
   ]
  },
  {
   "cell_type": "markdown",
   "id": "be097a56",
   "metadata": {
    "slideshow": {
     "slide_type": "slide"
    }
   },
   "source": [
    "## Programming crash course"
   ]
  },
  {
   "cell_type": "markdown",
   "id": "7c8f466f",
   "metadata": {
    "slideshow": {
     "slide_type": "slide"
    }
   },
   "source": [
    "### Programming means: make the computer do the work for you!"
   ]
  },
  {
   "cell_type": "markdown",
   "id": "f51b1730",
   "metadata": {
    "slideshow": {
     "slide_type": ""
    }
   },
   "source": [
    " - Do the maths\n",
    " - Boring repetitions\n",
    " - Too complicated/extensive tasks\n",
    " - Big data sets \n",
    " - Make your analysis reproducible\n",
    " -  ..."
   ]
  },
  {
   "cell_type": "markdown",
   "id": "acd4e0b4",
   "metadata": {
    "slideshow": {
     "slide_type": "slide"
    }
   },
   "source": [
    "### Running code in a compiled language (such as C)"
   ]
  },
  {
   "cell_type": "markdown",
   "id": "2a39b0b8",
   "metadata": {},
   "source": [
    "1. Write your code in a high-level programming language.\n",
    "2. Translate into low-level (machine/assembly) language.\n",
    "3. Execute the program."
   ]
  },
  {
   "cell_type": "markdown",
   "id": "3a44d69e",
   "metadata": {
    "slideshow": {
     "slide_type": "notes"
    }
   },
   "source": [
    "##### _<ins>Notes:</ins>_"
   ]
  },
  {
   "cell_type": "markdown",
   "id": "2ae08084",
   "metadata": {
    "slideshow": {
     "slide_type": "notes"
    }
   },
   "source": [
    "Now, how do we get the computer to do these things for us? This is what we are doing: We write the program in a language that we as human beings (with some training) can understand. As the computer won't be able to understand the code that way, we then compile it, which means that we translate it into computer language. Then we execute the program and, given we have made no mistake, the computer will get working for us.  "
   ]
  },
  {
   "cell_type": "markdown",
   "id": "79995c97",
   "metadata": {
    "slideshow": {
     "slide_type": "slide"
    }
   },
   "source": [
    "### Running code in an interpreted language (such as Python)"
   ]
  },
  {
   "cell_type": "markdown",
   "id": "8eed1fb5",
   "metadata": {
    "slideshow": {
     "slide_type": ""
    }
   },
   "source": [
    "1. Write your code in high-level programming language.\n",
    "2. Interpret code and execute directly"
   ]
  },
  {
   "cell_type": "markdown",
   "id": "67b6f90f",
   "metadata": {
    "slideshow": {
     "slide_type": "notes"
    }
   },
   "source": [
    "##### _<ins>Notes:</ins>_"
   ]
  },
  {
   "cell_type": "markdown",
   "id": "e9148a1a",
   "metadata": {
    "slideshow": {
     "slide_type": "notes"
    }
   },
   "source": [
    "Things can be made a little bit easier by using an interpreted scripting language instead of a compiled programming language.\n",
    " - *Beware!*: Oversimplification\n",
    "\n",
    "Please note that I am oversimplifying here a bit with regards to the terminology. The point I want to make is that there are languages, such as Python, which we will be using in this course, that translate and execute the code directly, without us having to do a separate compilation step."
   ]
  },
  {
   "cell_type": "markdown",
   "id": "09036173",
   "metadata": {
    "slideshow": {
     "slide_type": "slide"
    }
   },
   "source": [
    "### Python can be executed in different ways\n",
    "#### Command line script"
   ]
  },
  {
   "cell_type": "markdown",
   "id": "157f67fb",
   "metadata": {
    "slideshow": {
     "slide_type": ""
    }
   },
   "source": [
    "1. Create a `myname.py` file\n",
    "2. run python `myname.py`"
   ]
  },
  {
   "cell_type": "markdown",
   "id": "ec51a65c",
   "metadata": {
    "slideshow": {
     "slide_type": "fragment"
    }
   },
   "source": [
    "#### interactive or ipython session:\n",
    " - Start with typing `python` or better `ipython`"
   ]
  },
  {
   "cell_type": "markdown",
   "id": "4fb2bf5d",
   "metadata": {
    "slideshow": {
     "slide_type": "slide"
    }
   },
   "source": [
    "### Demonstration of using _Jupyter_ notebook"
   ]
  },
  {
   "cell_type": "markdown",
   "id": "95f867fe",
   "metadata": {
    "slideshow": {
     "slide_type": ""
    }
   },
   "source": [
    "Jupyter works with cells such as these, which you execute with the play button or `Shift/Strg + Enter`:"
   ]
  },
  {
   "cell_type": "markdown",
   "id": "5814f2e6",
   "metadata": {},
   "source": [
    "<!-- #solution -->"
   ]
  },
  {
   "cell_type": "code",
   "execution_count": null,
   "id": "e31d201c",
   "metadata": {
    "slideshow": {
     "slide_type": ""
    }
   },
   "outputs": [],
   "source": [
    "# Add just a one to the cell and execute\n",
    "1"
   ]
  },
  {
   "cell_type": "markdown",
   "id": "53b2b250",
   "metadata": {},
   "source": [
    "<!-- #endsolution -->"
   ]
  },
  {
   "cell_type": "markdown",
   "id": "2e7b6f62",
   "metadata": {
    "slideshow": {
     "slide_type": ""
    }
   },
   "source": [
    "If the box on the left is empty, you have not executed it. Otherwise a number indicates in which order the execution took place.\n",
    "\n",
    "You can add cells with the plus. You can also change the type"
   ]
  },
  {
   "cell_type": "markdown",
   "id": "89cf3988",
   "metadata": {
    "slideshow": {
     "slide_type": ""
    }
   },
   "source": [
    "##### Now it is markdown and the `#` indicates a header (or `##`, etc., up to 6 times, with smaller font sizes)"
   ]
  },
  {
   "cell_type": "markdown",
   "id": "9467f980",
   "metadata": {
    "slideshow": {
     "slide_type": "notes"
    }
   },
   "source": [
    "##### _<ins>Notes:</ins>_"
   ]
  },
  {
   "cell_type": "markdown",
   "id": "6f3d8887",
   "metadata": {
    "slideshow": {
     "slide_type": "notes"
    }
   },
   "source": [
    " - We have individual cells to run. To do so press the run button or `Shift + Enter`\n",
    " - The small number in the box in front indicates a cell has been run."
   ]
  },
  {
   "cell_type": "markdown",
   "id": "00530860",
   "metadata": {
    "slideshow": {
     "slide_type": "slide"
    }
   },
   "source": [
    "# <ins>**Part I**</ins>"
   ]
  },
  {
   "cell_type": "markdown",
   "id": "e918a950",
   "metadata": {
    "slideshow": {
     "slide_type": "slide"
    }
   },
   "source": [
    "# <ins>1.</ins> Basics"
   ]
  },
  {
   "cell_type": "markdown",
   "id": "233387db",
   "metadata": {
    "slideshow": {
     "slide_type": "notes"
    }
   },
   "source": [
    "In this section we will look into the very basics of programming, to give you the foundations\n",
    "to start from. A lot of it will be transferrable to other programming languages,\n",
    "even if the exact syntax, the way how you write things down, changes."
   ]
  },
  {
   "cell_type": "markdown",
   "id": "f63a498d",
   "metadata": {
    "slideshow": {
     "slide_type": "slide"
    }
   },
   "source": [
    "## Basic data types\n",
    "As any programming language, Python can deal with many different data types. Among the basic ones are `str` strings, `int` integers, `float` floating-point numbers and `bool` booleans."
   ]
  },
  {
   "cell_type": "markdown",
   "id": "83c850d2",
   "metadata": {
    "slideshow": {
     "slide_type": ""
    }
   },
   "source": [
    "- Strings: \"Heinz\", 'Banana', 'He said \"Hello\"'\n",
    "- Integers: 1, 2, 3, 22222222, -777\n",
    "- Floats: -1.2, 0.0, 2.7182\n",
    "- Booleans: True, False"
   ]
  },
  {
   "cell_type": "markdown",
   "id": "1408d60c",
   "metadata": {
    "slideshow": {
     "slide_type": "notes"
    }
   },
   "source": [
    "##### _<ins>Notes:</ins>_"
   ]
  },
  {
   "cell_type": "markdown",
   "id": "28008b4c",
   "metadata": {
    "slideshow": {
     "slide_type": "notes"
    }
   },
   "source": [
    "When you are programming, you have to be clear about what type each item you are handling has. Each data type has different rules. In the most basic version, Python has the following data types:\n",
    "- Strings, which are bits of text, noted by single or double quotation marks, which can be nested.\n",
    "- Integers, which are whole numbers, positive or negative.\n",
    "- Floats, or floating points numbers, which allow for a fractional part.\n",
    "- Booleans, or bools, which are truth values, and can be either true or false."
   ]
  },
  {
   "cell_type": "markdown",
   "id": "b0456b47",
   "metadata": {
    "slideshow": {
     "slide_type": "slide"
    }
   },
   "source": [
    "## Variables\n",
    "Values are stored in _variables_, which are of data types listed above or more complex ones."
   ]
  },
  {
   "cell_type": "markdown",
   "id": "1de6bb32",
   "metadata": {
    "slideshow": {
     "slide_type": ""
    }
   },
   "source": [
    "- “I reserve a space in memory for my data bit, and I call it \n",
    "by the name x\n",
    "- Syntax: name = value”"
   ]
  },
  {
   "cell_type": "markdown",
   "id": "2e1b2e6a",
   "metadata": {
    "slideshow": {
     "slide_type": "notes"
    }
   },
   "source": [
    "##### _<ins>Notes:</ins>_"
   ]
  },
  {
   "cell_type": "markdown",
   "id": "142bafd4",
   "metadata": {
    "slideshow": {
     "slide_type": "notes"
    }
   },
   "source": [
    "The next essential concept you need to know for programming in Python are variables.\n",
    "\n",
    "By writing ``name = value'', you are basically saying \"I reserve a space in memory for my data bit, which is value, and I call it name\". Then you can use the name to further process your data bit, as we have seen in the example with the print statement."
   ]
  },
  {
   "cell_type": "markdown",
   "id": "4764644c",
   "metadata": {
    "slideshow": {
     "slide_type": "slide"
    }
   },
   "source": [
    "### _<ins>Example</ins>:_ Print type of a variable"
   ]
  },
  {
   "cell_type": "markdown",
   "id": "a6c8f4fa",
   "metadata": {},
   "source": [
    "<!-- #solution -->"
   ]
  },
  {
   "cell_type": "code",
   "execution_count": null,
   "id": "f88b2c67",
   "metadata": {
    "slideshow": {
     "slide_type": ""
    }
   },
   "outputs": [],
   "source": [
    "# print statement \"Hello\"\n",
    "print(\"Hello\")"
   ]
  },
  {
   "cell_type": "markdown",
   "id": "db9c231e",
   "metadata": {},
   "source": [
    "<!-- #endsolution -->\n",
    "\n",
    "<!-- #solution -->"
   ]
  },
  {
   "cell_type": "code",
   "execution_count": null,
   "id": "92660366",
   "metadata": {
    "slideshow": {
     "slide_type": ""
    }
   },
   "outputs": [],
   "source": [
    "# put the content of the print statement in a variable\n",
    "my_string = \"Hello\"\n",
    "print(my_string)"
   ]
  },
  {
   "cell_type": "markdown",
   "id": "b48d4255",
   "metadata": {},
   "source": [
    "<!-- #endsolution -->\n",
    "\n",
    "<!-- #solution -->"
   ]
  },
  {
   "cell_type": "code",
   "execution_count": null,
   "id": "7aa969ca",
   "metadata": {
    "slideshow": {
     "slide_type": ""
    }
   },
   "outputs": [],
   "source": [
    "# check the type of that variable\n",
    "type(my_string)"
   ]
  },
  {
   "cell_type": "markdown",
   "id": "586ebcea",
   "metadata": {},
   "source": [
    "<!-- #endsolution -->"
   ]
  },
  {
   "cell_type": "markdown",
   "id": "ce1e1692",
   "metadata": {
    "slideshow": {
     "slide_type": "notes"
    }
   },
   "source": [
    "##### _<ins>Notes:</ins>_"
   ]
  },
  {
   "cell_type": "markdown",
   "id": "91dcec9d",
   "metadata": {
    "slideshow": {
     "slide_type": "notes"
    }
   },
   "source": [
    "In this example we see the print statement again. It will usually expect a string, or something that can be converted to a string.\n",
    "\n",
    "Here we are saying that the variable \"myString2 should have the string value 'He said \"Hello\"', and then put the print statement separately. The \"type\" command is able to tell us, what type the variable ``myString'' has. [demonstrate]\n",
    "\n",
    "As a side note, many programming languages, in particular compiled programming languages, require you to explicitly state the data type of your variable when you create it. We do not need to do that here."
   ]
  },
  {
   "cell_type": "markdown",
   "id": "e996f767",
   "metadata": {
    "slideshow": {
     "slide_type": "slide"
    }
   },
   "source": [
    "### _<ins>Example</ins>:_ Try to assign the data types at the following qr code"
   ]
  },
  {
   "cell_type": "markdown",
   "id": "6f02eba7",
   "metadata": {},
   "source": [
    "Try not to overthink. If something is ambiguous pick what fits best\n",
    "\n",
    "![QRCode](images/qr_question1.png)"
   ]
  },
  {
   "cell_type": "markdown",
   "id": "511372a5",
   "metadata": {
    "slideshow": {
     "slide_type": "notes"
    }
   },
   "source": [
    "##### _<ins>Notes:</ins>_"
   ]
  },
  {
   "cell_type": "markdown",
   "id": "77022c22",
   "metadata": {
    "slideshow": {
     "slide_type": "notes"
    }
   },
   "source": [
    "Questions behind QR Code\n",
    "Assign a type to the variable names\n",
    "1. name\n",
    "   - str obviously\n",
    "2. items_in_stock\n",
    "   - usually means a number -> int\n",
    "3. pressure_bar\n",
    "   - if you have different physical units for a size put the unit into the name. Say you also have pressure_torr\n",
    "4. is_student\n",
    "   - bool\n",
    "5. participants\n",
    "   - is an ambiguous name (names, number, there are some) if this can happen, name the variable differently."
   ]
  },
  {
   "cell_type": "markdown",
   "id": "40cf1322",
   "metadata": {
    "slideshow": {
     "slide_type": "slide"
    }
   },
   "source": [
    "### _<ins>Example</ins>:_ Add integers"
   ]
  },
  {
   "cell_type": "markdown",
   "id": "627a3a28",
   "metadata": {},
   "source": [
    "<!-- #solution -->"
   ]
  },
  {
   "cell_type": "code",
   "execution_count": null,
   "id": "ca7cb30d",
   "metadata": {
    "slideshow": {
     "slide_type": ""
    }
   },
   "outputs": [],
   "source": [
    "# Adding two integers (2 and 5)\n",
    "print(2+5)"
   ]
  },
  {
   "cell_type": "markdown",
   "id": "bfa42de1",
   "metadata": {},
   "source": [
    "<!-- #endsolution -->\n",
    "\n",
    "<!-- #solution -->"
   ]
  },
  {
   "cell_type": "code",
   "execution_count": null,
   "id": "78ac7edf",
   "metadata": {
    "slideshow": {
     "slide_type": ""
    }
   },
   "outputs": [],
   "source": [
    "# Adding integers to a string (\"2+5 = \") naively\n",
    "print(\"2+5 = \" + 2 + 5)"
   ]
  },
  {
   "cell_type": "markdown",
   "id": "97f0400d",
   "metadata": {},
   "source": [
    "<!-- #endsolution -->\n",
    "\n",
    "<!-- #solution -->"
   ]
  },
  {
   "cell_type": "code",
   "execution_count": null,
   "id": "3d4d8d81",
   "metadata": {
    "slideshow": {
     "slide_type": ""
    }
   },
   "outputs": [],
   "source": [
    "# Solution: call the result into a string\n",
    "print(\"2+5 = \" + str(2 + 5))"
   ]
  },
  {
   "cell_type": "markdown",
   "id": "6c1b75d2",
   "metadata": {},
   "source": [
    "<!-- #endsolution -->"
   ]
  },
  {
   "cell_type": "markdown",
   "id": "d0cf8119",
   "metadata": {
    "slideshow": {
     "slide_type": "notes"
    }
   },
   "source": [
    "##### _<ins>Notes:</ins>_"
   ]
  },
  {
   "cell_type": "markdown",
   "id": "8935ebfc",
   "metadata": {
    "slideshow": {
     "slide_type": "notes"
    }
   },
   "source": [
    " - As I said before, ``print`` expects a string or something that can be converted to a string. Here are some examples of what happens if I am dealing with integers. Please try each of these examples for yourself, and see what the output is. One will give you an error. In the 1st case, the interpreter recognises that I have two integers that want to be added together, and gives me the answer. The 2nd case produces an error and says ``TypeError: can only concatenate str (not \"int\") to str``. The plus sign actually means two different things for numbers and for strings! You can *glue* two strings together using the plus sign, and you can add two numbers together, as we would expect. The 3rd case shows how to explicitly cast a number to a string. We tell it ``add 2 and 5 together, make it a string, and concatenate it to the other string''."
   ]
  },
  {
   "cell_type": "markdown",
   "id": "5ca2c0ed",
   "metadata": {
    "slideshow": {
     "slide_type": "slide"
    }
   },
   "source": [
    "### _<ins>Example</ins>:_ Boolean type"
   ]
  },
  {
   "cell_type": "markdown",
   "id": "8a9fdd47",
   "metadata": {},
   "source": [
    "<!-- #solution -->"
   ]
  },
  {
   "cell_type": "code",
   "execution_count": null,
   "id": "c9032243",
   "metadata": {
    "slideshow": {
     "slide_type": ""
    }
   },
   "outputs": [],
   "source": [
    "# boolean have to be capitalized\n",
    "type(true)"
   ]
  },
  {
   "cell_type": "markdown",
   "id": "6c427ac6",
   "metadata": {},
   "source": [
    "<!-- #endsolution -->\n",
    "\n",
    "<!-- #solution -->"
   ]
  },
  {
   "cell_type": "code",
   "execution_count": null,
   "id": "e613741a",
   "metadata": {
    "slideshow": {
     "slide_type": ""
    }
   },
   "outputs": [],
   "source": [
    "# Checking the type of a boolean\n",
    "type(True)"
   ]
  },
  {
   "cell_type": "markdown",
   "id": "9761f1e9",
   "metadata": {},
   "source": [
    "<!-- #endsolution -->\n",
    "\n",
    "<!-- #solution -->"
   ]
  },
  {
   "cell_type": "code",
   "execution_count": null,
   "id": "55adf0dd",
   "metadata": {
    "slideshow": {
     "slide_type": ""
    }
   },
   "outputs": [],
   "source": [
    "# Adding a boolean to an integer\n",
    "1+True"
   ]
  },
  {
   "cell_type": "markdown",
   "id": "9bc31976",
   "metadata": {},
   "source": [
    "<!-- #endsolution -->\n",
    "\n",
    "<!-- #solution -->"
   ]
  },
  {
   "cell_type": "code",
   "execution_count": null,
   "id": "66f01dac",
   "metadata": {
    "slideshow": {
     "slide_type": ""
    }
   },
   "outputs": [],
   "source": [
    "# Checking the type of the result\n",
    "type(1+True)"
   ]
  },
  {
   "cell_type": "markdown",
   "id": "ef33f59a",
   "metadata": {},
   "source": [
    "<!-- #endsolution -->"
   ]
  },
  {
   "cell_type": "markdown",
   "id": "68bd904d",
   "metadata": {
    "slideshow": {
     "slide_type": "notes"
    }
   },
   "source": [
    "##### _<ins>Notes:</ins>_"
   ]
  },
  {
   "cell_type": "markdown",
   "id": "c92dc9a5",
   "metadata": {
    "slideshow": {
     "slide_type": "notes"
    }
   },
   "source": [
    "Let's take a closer look at booleans. They seem a bit boring, but we will see later that they are really essential for programming. The values are case sensitive, so you have to make sure to write``True`` and ``False`` with capital letters. You will also have noticed that ``True`` has the numerical value one, and ``False`` is zero."
   ]
  },
  {
   "cell_type": "markdown",
   "id": "2df82bd1",
   "metadata": {
    "slideshow": {
     "slide_type": "slide"
    }
   },
   "source": [
    "### _<ins>Example</ins>:_ Boolean operators"
   ]
  },
  {
   "cell_type": "markdown",
   "id": "f2df3292",
   "metadata": {},
   "source": [
    "<!-- #solution -->"
   ]
  },
  {
   "cell_type": "code",
   "execution_count": null,
   "id": "c06485ab",
   "metadata": {
    "slideshow": {
     "slide_type": ""
    }
   },
   "outputs": [],
   "source": [
    "# Adding booleans\n",
    "True+False"
   ]
  },
  {
   "cell_type": "markdown",
   "id": "81a731d3",
   "metadata": {},
   "source": [
    "<!-- #endsolution -->\n",
    "\n",
    "<!-- #solution -->"
   ]
  },
  {
   "cell_type": "code",
   "execution_count": null,
   "id": "2293d888",
   "metadata": {
    "slideshow": {
     "slide_type": ""
    }
   },
   "outputs": [],
   "source": [
    "# Logical AND\n",
    "True and False"
   ]
  },
  {
   "cell_type": "markdown",
   "id": "641dd3be",
   "metadata": {},
   "source": [
    "<!-- #endsolution -->\n",
    "\n",
    "<!-- #solution -->"
   ]
  },
  {
   "cell_type": "code",
   "execution_count": null,
   "id": "3f62431c",
   "metadata": {
    "slideshow": {
     "slide_type": ""
    }
   },
   "outputs": [],
   "source": [
    "# Logical OR\n",
    "True or False"
   ]
  },
  {
   "cell_type": "markdown",
   "id": "198ac731",
   "metadata": {},
   "source": [
    "<!-- #endsolution -->\n",
    "\n",
    "<!-- #solution -->"
   ]
  },
  {
   "cell_type": "code",
   "execution_count": null,
   "id": "5f1443f4",
   "metadata": {
    "slideshow": {
     "slide_type": ""
    }
   },
   "outputs": [],
   "source": [
    "# Negating boolean\n",
    "not True"
   ]
  },
  {
   "cell_type": "markdown",
   "id": "1db91eba",
   "metadata": {},
   "source": [
    "<!-- #endsolution -->"
   ]
  },
  {
   "cell_type": "markdown",
   "id": "c65ec732",
   "metadata": {
    "slideshow": {
     "slide_type": "notes"
    }
   },
   "source": [
    "##### _<ins>Notes:</ins>_"
   ]
  },
  {
   "cell_type": "markdown",
   "id": "ad01452e",
   "metadata": {
    "slideshow": {
     "slide_type": "notes"
    }
   },
   "source": [
    "While we can add booleans, the more appropriate operations are logical operations. You can invert the value with ``not``, and combine two values logically with ``and`` and ``or``."
   ]
  },
  {
   "cell_type": "markdown",
   "id": "5766dc1d",
   "metadata": {
    "slideshow": {
     "slide_type": "slide"
    }
   },
   "source": [
    "## Basic operators\n",
    "New values can be obtained by applying operators to old values, for example, mathematical operators on numerical data types `int` or `float`."
   ]
  },
  {
   "cell_type": "markdown",
   "id": "8c2ee051",
   "metadata": {
    "slideshow": {
     "slide_type": ""
    }
   },
   "source": [
    "- String: concatenation with `+`\n",
    "- Bool: `and`, `or`, `not`\n",
    "- Numerical data: `+`, `-`, `*`, `/`, `%`, `**`, built-in functions `abs`, ...\n",
    "- Order of execution:\n",
    "    1. `()`\n",
    "    2. `**`\n",
    "    3. `*`, `/`\n",
    "    4. `+`, `-`\n",
    "    5. Left-to-right (except exponentiation!)\n",
    "\n",
    "So, use parenthesis to make sure!"
   ]
  },
  {
   "cell_type": "markdown",
   "id": "32e1d5c2",
   "metadata": {
    "slideshow": {
     "slide_type": "notes"
    }
   },
   "source": [
    "##### _<ins>Notes:</ins>_"
   ]
  },
  {
   "cell_type": "markdown",
   "id": "95701615",
   "metadata": {
    "slideshow": {
     "slide_type": "notes"
    }
   },
   "source": [
    "- These are the basic operations we have for our data types: String concatenation with the plus sign, logical operations on booleans with and, or, and not, and for floats and integers we have addition, subtraction, multiplication, division, modulo (i.e., the remainder of a division), exponentiation, absolute value, and so on.\n",
    " - It is very important to be aware how these operations are executed in long arithmetic expressions. Generally, if you have something like a plus b plus c, it happens from left to right: First a plus b, and then plus c. However, if you have exponents, like a to the power of b to the power of c, the right-most operations happens first: b to the power of c, and then a to the power of the result. Exponents bind stronger than times and division, i.e. exponents are computed first, and times and division is stronger than plus and minus. If in doubt, just use parenthesis.\n",
    " - You will have the chance to play around with this in a moment, and find out for yourselves how it works."
   ]
  },
  {
   "cell_type": "markdown",
   "id": "c98ced63",
   "metadata": {
    "slideshow": {
     "slide_type": "slide"
    }
   },
   "source": [
    "## Comments (and documentation)\n",
    "Anything following the `#` character on a line is ignored by Python interpreter and becomes a comment. Comments are useful to document the code."
   ]
  },
  {
   "cell_type": "code",
   "execution_count": null,
   "id": "d4a7383a",
   "metadata": {
    "slideshow": {
     "slide_type": ""
    }
   },
   "outputs": [],
   "source": [
    "# This is my programme to demonstrate how to\n",
    "# do simple calculations in Python.\n",
    "\n",
    "my_number = 2\n",
    "\n",
    "my_other_number = my_number + 5\n",
    "\n",
    "my_number = my_other_number / 2 # I have to divide\n",
    "                                # by 2 here, as the\n",
    "                                # results are\n",
    "                                # otherwise rubbish\n",
    "\n",
    "print(my_number)"
   ]
  },
  {
   "cell_type": "markdown",
   "id": "ebe4b9a1",
   "metadata": {
    "slideshow": {
     "slide_type": "notes"
    }
   },
   "source": [
    "##### _<ins>Notes:</ins>_"
   ]
  },
  {
   "cell_type": "markdown",
   "id": "f6c691cc",
   "metadata": {
    "slideshow": {
     "slide_type": "notes"
    }
   },
   "source": [
    "But first, I want to show you two more things.\n",
    "\n",
    " - One is comments. When you are writing your code, your intentions and your thinking might seem obvious, and you just want to get it running. However, believe me: If someone else is looking at your code at some point, and this someone else might be you in two weeks time, things are very probably not that obvious anymore. I found myself puzzling over my own code and why on earth I have done things like that quite often. In order to put a comment in your code you have to tell the interpreter that this bit is just for the humans reading the code, not interesting for the computer. In Python this is done by putting a hash symbol in front of the comment. This can be either at the beginning or in the middle of a line.\n"
   ]
  },
  {
   "cell_type": "markdown",
   "id": "c70dc0e7",
   "metadata": {
    "slideshow": {
     "slide_type": "slide"
    }
   },
   "source": [
    "## Debugging and Types of Errors"
   ]
  },
  {
   "cell_type": "markdown",
   "id": "d9777234",
   "metadata": {
    "slideshow": {
     "slide_type": ""
    }
   },
   "source": [
    "- Errors in computer programs are called ``bugs'' for historic reasons.\n",
    "- For complex projects, you will usually spend more time testing and debugging than writing code.\n",
    "- Three types of errors:\n",
    "    - Syntax errors - written the code wrongly\n",
    "    - Semantic errors - written the wrong code\n",
    "    - Runtime errors - something's wrong with the code (during execution)"
   ]
  },
  {
   "cell_type": "markdown",
   "id": "14a74e77",
   "metadata": {
    "slideshow": {
     "slide_type": "notes"
    }
   },
   "source": [
    "##### _<ins>Notes:</ins>_"
   ]
  },
  {
   "cell_type": "markdown",
   "id": "fbd140c2",
   "metadata": {
    "slideshow": {
     "slide_type": "notes"
    }
   },
   "source": [
    "- The other thing I want to mention at this points are errors. As soon as you start programming you will make mistakes. Everyone does that, even the most experienced programmers spend a lot of time hunting for bugs in their code. \"Bugs\" is a common term for errors in computer programs. It is said that this term originates from a time when actual insects in the hardware of a computer or another machine were the cause for malfunctions. There is a number of different opinions on when the term was first used, but I won't go into that here. Looking for and removing these errors is also called \"debugging\"."
   ]
  },
  {
   "cell_type": "markdown",
   "id": "6188a422",
   "metadata": {
    "slideshow": {
     "slide_type": "notes"
    }
   },
   "source": [
    " - Syntax errors are usually the easiest to spot. We have seen them before, when we wrote some code that was not valid, made a typo or so. Your interpreter or compiler will tell you straight away that something is wrong.\n",
    " - Semantic errors are much harder to find. It means that the code that you have written does not do what you intended it to do. Because you have written it, you will probably have assumed that it does the right thing, so you have to question your thinking. Often it helps to explain your code to someone else, so that either they or yourself might spot the mistake.\n",
    " - The third type is runtime errors. These will just appear during execution, for example because your code cannot cope with a certain type of input. An example would be a code that divides a number by another number given by user input, which errors if the user input is zero or a string."
   ]
  },
  {
   "cell_type": "markdown",
   "id": "7761aa70",
   "metadata": {
    "slideshow": {
     "slide_type": "slide"
    }
   },
   "source": [
    "## Have a play!"
   ]
  },
  {
   "cell_type": "markdown",
   "id": "cd899a6f",
   "metadata": {},
   "source": [
    "### _Exercises_"
   ]
  },
  {
   "cell_type": "markdown",
   "id": "8500a685",
   "metadata": {
    "slideshow": {
     "slide_type": ""
    }
   },
   "source": [
    "You could try\n",
    " - what happens if you add a float and an integer,\n",
    " - what happens if you mix numbers and bools in arithmetic expressions,\n",
    " - how setting parenthesis changes the result of a large arithmetic expression,\n",
    " - to print statements that include variables of different data types,\n",
    " - try to reproduce each of the error types,\n",
    " - ..."
   ]
  },
  {
   "cell_type": "markdown",
   "id": "91e0980a",
   "metadata": {
    "slideshow": {
     "slide_type": "notes"
    }
   },
   "source": [
    "##### _<ins>Notes:</ins>_"
   ]
  },
  {
   "cell_type": "markdown",
   "id": "4c94572f",
   "metadata": {
    "slideshow": {
     "slide_type": "notes"
    }
   },
   "source": [
    "Now it's time for you to try the things that we have learned about yourselves. I want you to think about data types, variables, the different operations, comments and errors, and find out more about how they work by experimenting. Write little bits of code and see what works, what doesn't, and how the output changes.\n",
    "\n",
    "I wrote down some examples here, in case you are unsure what to do, but you can do something different.\n",
    "\n",
    "Again, if you have any question or need help, we are here to help.\n",
    "\n",
    "I'll give you about 10 minutes, then I'll go with you over possible solutions for my examples above."
   ]
  },
  {
   "cell_type": "markdown",
   "id": "8d956349",
   "metadata": {
    "slideshow": {
     "slide_type": "slide"
    }
   },
   "source": [
    "#### _Example solution_"
   ]
  },
  {
   "cell_type": "markdown",
   "id": "d6f23dac",
   "metadata": {},
   "source": [
    "<!-- #solution -->"
   ]
  },
  {
   "cell_type": "code",
   "execution_count": null,
   "id": "67fe791f",
   "metadata": {
    "slideshow": {
     "slide_type": ""
    }
   },
   "outputs": [],
   "source": [
    "# What happens if you add a float and an integer?\n",
    "1+3.0"
   ]
  },
  {
   "cell_type": "markdown",
   "id": "03841e8c",
   "metadata": {},
   "source": [
    "<!-- #endsolution -->"
   ]
  },
  {
   "cell_type": "markdown",
   "id": "5fe41514",
   "metadata": {
    "slideshow": {
     "slide_type": "slide"
    }
   },
   "source": [
    "#### _Example solution_"
   ]
  },
  {
   "cell_type": "markdown",
   "id": "20d3be75",
   "metadata": {},
   "source": [
    "<!-- #solution -->"
   ]
  },
  {
   "cell_type": "code",
   "execution_count": null,
   "id": "3d142e13",
   "metadata": {
    "slideshow": {
     "slide_type": ""
    }
   },
   "outputs": [],
   "source": [
    "# What happens if you mix numbers and bools in arithmetic expressions?\n",
    "print(1+True)\n",
    "\n",
    "print(6-False)"
   ]
  },
  {
   "cell_type": "markdown",
   "id": "b14ceaa6",
   "metadata": {},
   "source": [
    "<!-- #endsolution -->"
   ]
  },
  {
   "cell_type": "markdown",
   "id": "0bfa9c3b",
   "metadata": {
    "slideshow": {
     "slide_type": "notes"
    }
   },
   "source": [
    "##### _<ins>Notes:</ins>_"
   ]
  },
  {
   "cell_type": "markdown",
   "id": "e641ae93",
   "metadata": {
    "slideshow": {
     "slide_type": "fragment"
    }
   },
   "source": [
    "True is converted to one and False is converted to zero"
   ]
  },
  {
   "cell_type": "markdown",
   "id": "a80ae2a0",
   "metadata": {
    "slideshow": {
     "slide_type": "slide"
    }
   },
   "source": [
    "#### _Example solution_"
   ]
  },
  {
   "cell_type": "markdown",
   "id": "ec800c5e",
   "metadata": {},
   "source": [
    "<!-- #solution -->"
   ]
  },
  {
   "cell_type": "code",
   "execution_count": null,
   "id": "85b9eaf6",
   "metadata": {
    "slideshow": {
     "slide_type": ""
    }
   },
   "outputs": [],
   "source": [
    "# How setting parenthesis changes the result of a large arithmetic expression?\n",
    "print(1+2/3-4*5**6+7)\n",
    "print(((1+2)/(3-4))*(5**6)+7)\n",
    "print(((1+2)/(3-4))*5**(6+7))\n",
    "print((1+2)/((3-4)*5**6+7))"
   ]
  },
  {
   "cell_type": "markdown",
   "id": "6899b3a3",
   "metadata": {},
   "source": [
    "<!-- #endsolution -->"
   ]
  },
  {
   "cell_type": "markdown",
   "id": "d5c0d352",
   "metadata": {
    "slideshow": {
     "slide_type": "slide"
    }
   },
   "source": [
    "#### _Example solution_"
   ]
  },
  {
   "cell_type": "markdown",
   "id": "55407c71",
   "metadata": {},
   "source": [
    "<!-- #solution -->"
   ]
  },
  {
   "cell_type": "code",
   "execution_count": null,
   "id": "fe2585b8",
   "metadata": {
    "slideshow": {
     "slide_type": ""
    }
   },
   "outputs": [],
   "source": [
    "# Print statements that include variables of different data types.\n",
    "my_int = 1\n",
    "my_float = 3.4\n",
    "my_string = \"Flower\"\n",
    "my_bool = True\n",
    "print(\"Add:\", my_int + my_float)\n",
    "print(\"Hello \" + my_string)\n",
    "print(my_string + \" this: \", my_bool - my_float, \" and that: \", my_bool)"
   ]
  },
  {
   "cell_type": "markdown",
   "id": "17fd5e37",
   "metadata": {},
   "source": [
    "<!-- #endsolution -->"
   ]
  },
  {
   "cell_type": "markdown",
   "id": "9eba20c8",
   "metadata": {
    "slideshow": {
     "slide_type": "slide"
    }
   },
   "source": [
    "#### _Example solutions_\n",
    "Try to reproduce each of the error types\n"
   ]
  },
  {
   "cell_type": "markdown",
   "id": "39cfb878",
   "metadata": {
    "slideshow": {
     "slide_type": ""
    }
   },
   "source": [
    "##### 1. Syntax Error"
   ]
  },
  {
   "cell_type": "markdown",
   "id": "f8793c93",
   "metadata": {},
   "source": [
    "<!-- #solution -->"
   ]
  },
  {
   "cell_type": "code",
   "execution_count": null,
   "id": "dbb52594",
   "metadata": {
    "slideshow": {
     "slide_type": ""
    }
   },
   "outputs": [],
   "source": [
    "print(\"Hello\" 5)"
   ]
  },
  {
   "cell_type": "markdown",
   "id": "e6ca3b42",
   "metadata": {},
   "source": [
    "<!-- #endsolution -->"
   ]
  },
  {
   "cell_type": "markdown",
   "id": "b80a9e32",
   "metadata": {
    "slideshow": {
     "slide_type": ""
    }
   },
   "source": [
    "##### 2. Semantic Error"
   ]
  },
  {
   "cell_type": "markdown",
   "id": "f455321c",
   "metadata": {},
   "source": [
    "<!-- #solution -->"
   ]
  },
  {
   "cell_type": "code",
   "execution_count": null,
   "id": "aa3074d2",
   "metadata": {
    "slideshow": {
     "slide_type": ""
    }
   },
   "outputs": [],
   "source": [
    "print(\"7+5 = \", 1+1)"
   ]
  },
  {
   "cell_type": "markdown",
   "id": "c4a7941f",
   "metadata": {},
   "source": [
    "<!-- #endsolution -->"
   ]
  },
  {
   "cell_type": "markdown",
   "id": "11f40219",
   "metadata": {
    "slideshow": {
     "slide_type": ""
    }
   },
   "source": [
    "##### 3. Runtime Error"
   ]
  },
  {
   "cell_type": "markdown",
   "id": "b78ce1ff",
   "metadata": {},
   "source": [
    "<!-- #solution -->"
   ]
  },
  {
   "cell_type": "code",
   "execution_count": null,
   "id": "d9d5b02c",
   "metadata": {
    "slideshow": {
     "slide_type": ""
    }
   },
   "outputs": [],
   "source": [
    "x = \"thisisastring\" #Make this an input during runtime, see next section.\n",
    "print(\"5/x=\", 5/x)"
   ]
  },
  {
   "cell_type": "markdown",
   "id": "4e38f407",
   "metadata": {},
   "source": [
    "<!-- #endsolution -->"
   ]
  },
  {
   "cell_type": "markdown",
   "id": "e54545fd",
   "metadata": {
    "slideshow": {
     "slide_type": "slide"
    }
   },
   "source": [
    "## Interlude: Indented blocks in python\n",
    "Python uses indention to separate blocs after a `:`\n",
    "```python\n",
    "some_functionality_on_block:\n",
    "   first_statement_in_block()\n",
    "   second_statement_in_block()\n",
    "statement_not_in_block()\n",
    "```\n"
   ]
  },
  {
   "cell_type": "markdown",
   "id": "cdd0c474",
   "metadata": {
    "slideshow": {
     "slide_type": "notes"
    }
   },
   "source": [
    "##### _<ins>Notes:</ins>_"
   ]
  },
  {
   "cell_type": "markdown",
   "id": "0d5850d3",
   "metadata": {
    "slideshow": {
     "slide_type": "notes"
    }
   },
   "source": [
    "We will now encounter indented blocks. In contrast to a lot of other programming languages, code blocks in python are denoted by an indentation, not brackets."
   ]
  },
  {
   "cell_type": "markdown",
   "id": "df34a359",
   "metadata": {
    "slideshow": {
     "slide_type": "slide"
    }
   },
   "source": [
    "# <ins>2.</ins> Functions"
   ]
  },
  {
   "cell_type": "markdown",
   "id": "1d8bcc6f",
   "metadata": {
    "slideshow": {
     "slide_type": "slide"
    }
   },
   "source": [
    "![Functions diagram showing general form and example](images/functions.png)"
   ]
  },
  {
   "cell_type": "markdown",
   "id": "201f2c95",
   "metadata": {
    "slideshow": {
     "slide_type": "slide"
    }
   },
   "source": [
    "A function is a block of reusable code that performs a specific task. Functions help reduce repetition and make code easier to manage. A function is defined using the `def` keyword."
   ]
  },
  {
   "cell_type": "markdown",
   "id": "2cee5111",
   "metadata": {},
   "source": [
    "* You can pass data to functions (parameters).\n",
    "* Functions can return values.\n",
    "* Functions help break down complex programs into smaller, manageable parts."
   ]
  },
  {
   "cell_type": "code",
   "execution_count": null,
   "id": "97e0835e",
   "metadata": {},
   "outputs": [],
   "source": [
    "# Function to add two numbers\n",
    "def add_numbers(a, b):\n",
    "    return a + b\n",
    "\n",
    "# Call the function\n",
    "result = add_numbers(3, 4)\n",
    "print(result)"
   ]
  },
  {
   "cell_type": "markdown",
   "id": "0e73817c",
   "metadata": {
    "slideshow": {
     "slide_type": "slide"
    }
   },
   "source": [
    "## Have a play!"
   ]
  },
  {
   "cell_type": "markdown",
   "id": "6b16577d",
   "metadata": {
    "slideshow": {
     "slide_type": "slide"
    }
   },
   "source": [
    "### _Exercises_\n",
    "\n",
    "**1)** Write a function that converts Celsius to Fahrenheit. Use the formula  \n",
    "$\n",
    "\\text{Fahrenheit} = (\\text{Celsius} \\times \\frac{9}{5}) + 32\n",
    "$\n",
    "\n",
    "<!-- #solution -->"
   ]
  },
  {
   "cell_type": "code",
   "execution_count": null,
   "id": "47dd98a1",
   "metadata": {},
   "outputs": [],
   "source": [
    "def celsius_to_fahrenheit(celsius):\n",
    "    return (celsius * 9/5) + 32\n",
    "\n",
    "celsius = 23\n",
    "print(f\"{celsius}°C is equal to {celsius_to_fahrenheit(celsius)}°F\")"
   ]
  },
  {
   "cell_type": "markdown",
   "id": "e4ad177a",
   "metadata": {},
   "source": [
    "<!-- #endsolution -->"
   ]
  },
  {
   "cell_type": "markdown",
   "id": "e23ed4c0",
   "metadata": {
    "slideshow": {
     "slide_type": "slide"
    }
   },
   "source": [
    "# <ins>**Part II**</ins>"
   ]
  },
  {
   "cell_type": "markdown",
   "id": "c675cf7e",
   "metadata": {
    "slideshow": {
     "slide_type": "slide"
    }
   },
   "source": [
    "# <ins>3.</ins> Data structures"
   ]
  },
  {
   "cell_type": "markdown",
   "id": "3a6e8a4a",
   "metadata": {},
   "source": [
    "Python can work not only with basic data types mentioned before, but also with compound ones. Compound data types in Python are a powerful tool for organizing and storing data. Among the most commonly used are _lists_ and _dictionaries_. `For`-loops described in the next section often iterate over elements of lists or pairs of keys and values in dictionaries. But they can also iterate over a series of numbers generated for indexing or calculations by the `range()` function."
   ]
  },
  {
   "cell_type": "markdown",
   "id": "76982200",
   "metadata": {
    "slideshow": {
     "slide_type": "slide"
    }
   },
   "source": [
    "## Lists"
   ]
  },
  {
   "cell_type": "markdown",
   "id": "884b8348",
   "metadata": {},
   "source": [
    "_Lists_ are ordered collections of items."
   ]
  },
  {
   "cell_type": "markdown",
   "id": "c47bda2b",
   "metadata": {
    "slideshow": {
     "slide_type": ""
    }
   },
   "source": [
    "* A list contains items separated by commas and enclosed with square brackets `[]`\n",
    "* A list can contain different datatypes (`int`, `float`, `str`, etc.)\n",
    "* Similar to strings, list members can be accessed using their associated index which is zero-based\n",
    "* Common list functions: `append()`, `remove()`, `pop()`"
   ]
  },
  {
   "cell_type": "markdown",
   "id": "be0a7297",
   "metadata": {
    "slideshow": {
     "slide_type": "slide"
    }
   },
   "source": [
    "### _<ins>Examples:</ins>_\n",
    "\n",
    "<!-- #solution -->"
   ]
  },
  {
   "cell_type": "code",
   "execution_count": null,
   "id": "343543be",
   "metadata": {},
   "outputs": [],
   "source": [
    "# Creating/Initialising a list\n",
    "my_list = [1, 2, 3, 4, 5]"
   ]
  },
  {
   "cell_type": "markdown",
   "id": "ed6c8d1f",
   "metadata": {},
   "source": [
    "<!-- #endsolution -->\n",
    "\n",
    "<!-- #solution -->"
   ]
  },
  {
   "cell_type": "code",
   "execution_count": null,
   "id": "0e7f36dd",
   "metadata": {
    "slideshow": {
     "slide_type": ""
    }
   },
   "outputs": [],
   "source": [
    "# Print a list\n",
    "print(my_list)"
   ]
  },
  {
   "cell_type": "markdown",
   "id": "e35c490f",
   "metadata": {},
   "source": [
    "<!-- #endsolution -->\n",
    "\n",
    "<!-- #solution -->"
   ]
  },
  {
   "cell_type": "code",
   "execution_count": null,
   "id": "a20297bf",
   "metadata": {
    "slideshow": {
     "slide_type": ""
    }
   },
   "outputs": [],
   "source": [
    "# Print an element of the list. Note: use [] not () for item indexing\n",
    "print(my_list[3])"
   ]
  },
  {
   "cell_type": "markdown",
   "id": "4688d78f",
   "metadata": {},
   "source": [
    "<!-- #endsolution -->\n",
    "\n",
    "<!-- #solution -->"
   ]
  },
  {
   "cell_type": "code",
   "execution_count": null,
   "id": "984acb66",
   "metadata": {
    "slideshow": {
     "slide_type": ""
    }
   },
   "outputs": [],
   "source": [
    "# Print the first element of the list. Indexing starts with 0!\n",
    "print(my_list[0])"
   ]
  },
  {
   "cell_type": "markdown",
   "id": "4e72ca02",
   "metadata": {},
   "source": [
    "<!-- #endsolution -->\n",
    "\n",
    "<!-- #solution -->"
   ]
  },
  {
   "cell_type": "code",
   "execution_count": null,
   "id": "cf765de4",
   "metadata": {
    "slideshow": {
     "slide_type": ""
    }
   },
   "outputs": [],
   "source": [
    "# Print the last element of the list using backward indexing\n",
    "print(my_list[-1])  # Go backwards"
   ]
  },
  {
   "cell_type": "markdown",
   "id": "a2be8470",
   "metadata": {},
   "source": [
    "<!-- #endsolution -->\n",
    "\n",
    "<!-- #solution -->"
   ]
  },
  {
   "cell_type": "code",
   "execution_count": null,
   "id": "72548235",
   "metadata": {
    "slideshow": {
     "slide_type": ""
    }
   },
   "outputs": [],
   "source": [
    "# Print an internal slice of the list\n",
    "print(my_list[1:4]) # Include first, exclude last"
   ]
  },
  {
   "cell_type": "markdown",
   "id": "dbbcb924",
   "metadata": {},
   "source": [
    "<!-- #endsolution -->\n",
    "\n",
    "<!-- #solution -->"
   ]
  },
  {
   "cell_type": "code",
   "execution_count": null,
   "id": "b6638f53",
   "metadata": {
    "slideshow": {
     "slide_type": ""
    }
   },
   "outputs": [],
   "source": [
    "# Print a slice of the list from the beginning\n",
    "print(my_list[:2])  # More slicing"
   ]
  },
  {
   "cell_type": "markdown",
   "id": "0bedeba8",
   "metadata": {},
   "source": [
    "<!-- #endsolution -->\n",
    "\n",
    "<!-- #solution -->"
   ]
  },
  {
   "cell_type": "code",
   "execution_count": null,
   "id": "cd00b2c8",
   "metadata": {},
   "outputs": [],
   "source": [
    "# Different datatypes in lists, length of lists\n",
    "list1 = [1, 'A', 4.6]\n",
    "list2 = [1, 2, 5]\n",
    "print(len(list1))"
   ]
  },
  {
   "cell_type": "markdown",
   "id": "1aab8612",
   "metadata": {},
   "source": [
    "<!-- #endsolution -->\n",
    "\n",
    "<!-- #solution -->"
   ]
  },
  {
   "cell_type": "code",
   "execution_count": null,
   "id": "d27bf38c",
   "metadata": {},
   "outputs": [],
   "source": [
    "# Print out `list1`, a slice containing the last element\n",
    "print(list1[1:])"
   ]
  },
  {
   "cell_type": "markdown",
   "id": "e51e6243",
   "metadata": {},
   "source": [
    "<!-- #endsolution -->\n",
    "\n",
    "<!-- #solution -->"
   ]
  },
  {
   "cell_type": "code",
   "execution_count": null,
   "id": "c0778b79",
   "metadata": {},
   "outputs": [],
   "source": [
    "# Concatenate two lists\n",
    "print(list1 + list2)"
   ]
  },
  {
   "cell_type": "markdown",
   "id": "d130d4be",
   "metadata": {},
   "source": [
    "<!-- #endsolution -->"
   ]
  },
  {
   "cell_type": "markdown",
   "id": "b8b765d7",
   "metadata": {
    "slideshow": {
     "slide_type": "notes"
    }
   },
   "source": [
    "##### _<ins>Notes:</ins>_"
   ]
  },
  {
   "cell_type": "markdown",
   "id": "b9f26f86",
   "metadata": {
    "slideshow": {
     "slide_type": "notes"
    }
   },
   "source": [
    "This kind of structure is called a _list_, and it is an essential data structure in Python programming.\n",
    "\n",
    "We can access the entries using square brackets. The first entry in the list is entry number zero, because we are programmers now, and programmers and computer scientists like to start counting from zero. We can even go backwards, in a periodic sense, and land at the last entry of the list at -1, the second-last at -2, and so on. We can take a slice of the list, for example the entries one to three -- note that, in this notation, the first entry given is included and the last excluded.\n",
    "If we just put a colon, we mean that we go all the way to that side, so here we go from the beginning of the list, which is entry zero, to entry 1. You can just put a colon to indicate you mean the whole list."
   ]
  },
  {
   "cell_type": "markdown",
   "id": "ea39e2b0",
   "metadata": {
    "slideshow": {
     "slide_type": "notes"
    }
   },
   "source": [
    "##### _<ins>Notes:</ins>_"
   ]
  },
  {
   "cell_type": "markdown",
   "id": "9d8947d0",
   "metadata": {
    "slideshow": {
     "slide_type": "notes"
    }
   },
   "source": [
    "[https://www.w3schools.com/python/python_lists.asp](https://www.w3schools.com/python/python_lists.asp)\n",
    "\n",
    "This is something that is worth getting your head around. Please go to the website given here, read through it and try their examples. At the end, you will find a list of methods on lists, with links to further information. Even though the website uses all toy examples, these are really useful tools in data processing. Try to think how you would use these methods on your actual research data.\n",
    "\n",
    "I'll give you 10 minutes, then we'll continue."
   ]
  },
  {
   "cell_type": "markdown",
   "id": "8a4a7c1c",
   "metadata": {
    "slideshow": {
     "slide_type": "slide"
    }
   },
   "source": [
    "## _Range()_ function"
   ]
  },
  {
   "cell_type": "markdown",
   "id": "5c7364de",
   "metadata": {},
   "source": [
    "The `range()` function in Python is used to generate a sequence of numbers. It takes up to three arguments: `start`, `stop`, and `step`. By default, `start` is 0, `step` is 1, and the sequence ends just before the `stop` value."
   ]
  },
  {
   "cell_type": "markdown",
   "id": "c9d9045b",
   "metadata": {},
   "source": [
    "* `range(stop)`: Generates numbers from 0 to stop - 1.\n",
    "* `range(start, stop)`: Generates numbers from start to stop - 1.\n",
    "* `range(start, stop, step)`: Generates numbers from start to stop - 1, stepping by step.\n",
    "* `range()` can generate both increasing and decreasing sequences by changing the step argument.\n",
    "* The generated sequence is immutable, but can be converted to a list or iterated directly."
   ]
  },
  {
   "cell_type": "markdown",
   "id": "a3dc1b1a",
   "metadata": {
    "slideshow": {
     "slide_type": "slide"
    }
   },
   "source": [
    "### _<ins>Examples:</ins>_"
   ]
  },
  {
   "cell_type": "code",
   "execution_count": null,
   "id": "ed75c635",
   "metadata": {},
   "outputs": [],
   "source": [
    "range(10)"
   ]
  },
  {
   "cell_type": "code",
   "execution_count": null,
   "id": "e2a58b63",
   "metadata": {},
   "outputs": [],
   "source": [
    "list(range(10))"
   ]
  },
  {
   "cell_type": "code",
   "execution_count": null,
   "id": "7ec0a2db",
   "metadata": {},
   "outputs": [],
   "source": [
    "list(range(1,10))"
   ]
  },
  {
   "cell_type": "code",
   "execution_count": null,
   "id": "afa3f263",
   "metadata": {},
   "outputs": [],
   "source": [
    "list(range(3,7))"
   ]
  },
  {
   "cell_type": "code",
   "execution_count": null,
   "id": "41671d5d",
   "metadata": {},
   "outputs": [],
   "source": [
    "list(range(2,15,3))"
   ]
  },
  {
   "cell_type": "code",
   "execution_count": null,
   "id": "564c9db8",
   "metadata": {},
   "outputs": [],
   "source": [
    "list(range(9,2,-1))"
   ]
  },
  {
   "cell_type": "markdown",
   "id": "92b6eecd",
   "metadata": {
    "slideshow": {
     "slide_type": "slide"
    }
   },
   "source": [
    "## Have a Play!"
   ]
  },
  {
   "cell_type": "markdown",
   "id": "a7b01e88",
   "metadata": {},
   "source": [
    "### _Exercises_"
   ]
  },
  {
   "cell_type": "markdown",
   "id": "06d40820",
   "metadata": {},
   "source": [
    "**1) Lists**: Create a list of numbers from 1 to 20 and then print the elements at every second index.\n",
    "\n",
    "<!-- #solution -->"
   ]
  },
  {
   "cell_type": "code",
   "execution_count": null,
   "id": "8efb22db",
   "metadata": {},
   "outputs": [],
   "source": [
    "my_list = list(range(1, 21))\n",
    "print(my_list[::2])"
   ]
  },
  {
   "cell_type": "markdown",
   "id": "75ff87c7",
   "metadata": {},
   "source": [
    "<!-- #endsolution -->"
   ]
  },
  {
   "cell_type": "markdown",
   "id": "17967f1b",
   "metadata": {
    "slideshow": {
     "slide_type": ""
    }
   },
   "source": [
    "**2) Range**: Create a list of even numbers between 10 and 30 using `range()`, and print it."
   ]
  },
  {
   "cell_type": "markdown",
   "id": "037102e5",
   "metadata": {},
   "source": [
    "<!-- #solution -->"
   ]
  },
  {
   "cell_type": "code",
   "execution_count": null,
   "id": "3e8b563e",
   "metadata": {
    "slideshow": {
     "slide_type": ""
    }
   },
   "outputs": [],
   "source": [
    "even_numbers = list(range(10, 31, 2))\n",
    "print(even_numbers)"
   ]
  },
  {
   "cell_type": "markdown",
   "id": "ca4a5452",
   "metadata": {},
   "source": [
    "<!-- #endsolution -->"
   ]
  },
  {
   "cell_type": "markdown",
   "id": "93c33081",
   "metadata": {
    "slideshow": {
     "slide_type": "slide"
    }
   },
   "source": [
    "# <ins>4.</ins> Conditional and control flow statements"
   ]
  },
  {
   "cell_type": "markdown",
   "id": "50b55d4d",
   "metadata": {
    "slideshow": {
     "slide_type": "slide"
    }
   },
   "source": [
    "## _If/Else_-statements"
   ]
  },
  {
   "cell_type": "markdown",
   "id": "b66ac9a7",
   "metadata": {
    "slideshow": {
     "slide_type": "slide"
    }
   },
   "source": [
    "![Slide showing general form and example for if/else statement](images/conditional-flow.png)"
   ]
  },
  {
   "cell_type": "markdown",
   "id": "f6e23ec0",
   "metadata": {
    "slideshow": {
     "slide_type": "slide"
    }
   },
   "source": [
    "An `if`-statement evaluates a condition (an expression that returns `True` or `False`) and executes a block of code if the condition is true. Python uses conditional operators, colons `:` and indentation to define blocks of code. The `elif` (else if) statement allows checking multiple conditions sequentially. Once a condition evaluates to `True`, the rest are ignored. If no conditions are true, you can use an `else` statement as a fallback."
   ]
  },
  {
   "cell_type": "markdown",
   "id": "88e21f15",
   "metadata": {
    "slideshow": {
     "slide_type": "fragment"
    }
   },
   "source": [
    "Examples of conditional operators (expressions and their descriptions):\n",
    "\n",
    "* `if x>3:` .. if `x` is greater than 3\n",
    "* `if x>=3:` .. if `x` is greater than or equal to 3\n",
    "* `if x==3:` .. if `x` is 3\n",
    "* `if x!=3:` .. if `x` is not 3\n",
    "\n",
    "Common mistakes (incorrect --> correct):\n",
    "\n",
    "* `if x=1:` --> `if x==1:`\n",
    "* `if x>1 or x<100:` --> `if x>1 and x<100:`\n",
    "* `if grade>=80 and <90:` --> `if grade>=80 and grade<90:`"
   ]
  },
  {
   "cell_type": "markdown",
   "id": "8ba8cfe5",
   "metadata": {
    "slideshow": {
     "slide_type": "slide"
    }
   },
   "source": [
    "### _<ins>Examples:</ins>_"
   ]
  },
  {
   "cell_type": "code",
   "execution_count": null,
   "id": "b54128d4",
   "metadata": {},
   "outputs": [],
   "source": [
    "x = 10\n",
    "if x > 5:\n",
    "    print(\"x is greater than 5\")"
   ]
  },
  {
   "cell_type": "code",
   "execution_count": null,
   "id": "de5ec406",
   "metadata": {},
   "outputs": [],
   "source": [
    "grade = int(input('Enter your score: '))"
   ]
  },
  {
   "cell_type": "code",
   "execution_count": null,
   "id": "46c6583c",
   "metadata": {},
   "outputs": [],
   "source": [
    "# using only `if`\n",
    "if grade >= 90:\n",
    "    print('A')\n",
    "if grade >= 80 and grade <90:\n",
    "    print('B')\n",
    "if grade >= 70 and grade <80:\n",
    "    print('C')\n",
    "if grade >= 60 and grade <70:\n",
    "    print('D')\n",
    "if grade < 60:\n",
    "    print('F')"
   ]
  },
  {
   "cell_type": "code",
   "execution_count": null,
   "id": "d2f5c4a3",
   "metadata": {},
   "outputs": [],
   "source": [
    "# using `if`, `elif` and `else`\n",
    "if grade >= 90:\n",
    "    print('A')\n",
    "elif grade >= 80:\n",
    "    print('B')\n",
    "elif grade >= 70:\n",
    "    print('C')\n",
    "elif grade >= 60:\n",
    "    print('D')\n",
    "else:\n",
    "    print('F')"
   ]
  },
  {
   "cell_type": "markdown",
   "id": "f03a38bc",
   "metadata": {
    "slideshow": {
     "slide_type": "slide"
    }
   },
   "source": [
    "## _For_-loops"
   ]
  },
  {
   "cell_type": "markdown",
   "id": "c705983c",
   "metadata": {},
   "source": [
    "A `for`-loop iterates over a sequence (like a list, string, or range) and executes a block of code for each item in that sequence."
   ]
  },
  {
   "cell_type": "markdown",
   "id": "d352e032",
   "metadata": {},
   "source": [
    "* A `for`-loop is a _control_ instruction used for iteration and repetition\n",
    "* **iteration** .. perform _same operation_ on _different items_, one item at a time\n",
    "* **repetition** .. perform an operation _more than once_\n",
    "* Keywords: `for`, `in`\n",
    "* `i` .. _loop control variable_ or _iteration variable_\n",
    "The colon `:` indicates where the _body_ of a `for`-loop begins (with _indentation_)\n",
    "* `range()` function creates a list of integers"
   ]
  },
  {
   "cell_type": "markdown",
   "id": "521f337d",
   "metadata": {
    "slideshow": {
     "slide_type": "slide"
    }
   },
   "source": [
    "### _<ins>Examples:</ins>_"
   ]
  },
  {
   "cell_type": "code",
   "execution_count": null,
   "id": "cd269353",
   "metadata": {},
   "outputs": [],
   "source": [
    "# Iterating over a list\n",
    "for item in [1, 2, 3]:\n",
    "    print(item)\n",
    "\n",
    "# Using range to loop through numbers\n",
    "for i in range(5):\n",
    "    print(i)"
   ]
  },
  {
   "cell_type": "code",
   "execution_count": null,
   "id": "a054cb9e",
   "metadata": {},
   "outputs": [],
   "source": [
    "my_list = [\"Andrew\", \"John\", \"Kate\"]\n",
    "for i in my_list:\n",
    "  print(i)\n",
    "for item in my_list:\n",
    "  print(item)\n",
    "print(\"All items are printed\")\n",
    "for i in range(3):\n",
    "  print(\"item\", i) \n",
    "for i in range(1,4):\n",
    "  print(\"item\", i)\n",
    "for i in range(2,15,3):\n",
    "  print(\"item\", i) "
   ]
  },
  {
   "cell_type": "markdown",
   "id": "da1bb565",
   "metadata": {
    "slideshow": {
     "slide_type": "slide"
    }
   },
   "source": [
    "## _While_-loops"
   ]
  },
  {
   "cell_type": "markdown",
   "id": "9d981e08",
   "metadata": {},
   "source": [
    "A `while`-loop keeps executing a block of code as long as its condition remains true. It's commonly used for indefinite loops where the number of iterations isn’t known beforehand."
   ]
  },
  {
   "cell_type": "markdown",
   "id": "da9704b0",
   "metadata": {},
   "source": [
    "* A `while`-loop is a _control_ instruction ideal for _indefinite loops_ when we don’t know when it ends\n",
    "* Keywords: `while`\n",
    "* `n=1` .. initialisation\n",
    "* `n<=10` .. check a condition\n",
    "* `n+=1` .. update\n",
    "* Again, the colon `:` indicates where the _body_ of a `while`-loop begins (with _indentation_)"
   ]
  },
  {
   "cell_type": "markdown",
   "id": "f54f5650",
   "metadata": {
    "slideshow": {
     "slide_type": "slide"
    }
   },
   "source": [
    "### _<ins>Examples:</ins>_"
   ]
  },
  {
   "cell_type": "code",
   "execution_count": null,
   "id": "dd48524b",
   "metadata": {},
   "outputs": [],
   "source": [
    "count = 0\n",
    "while count < 5:\n",
    "    print(\"Count:\", count)\n",
    "    count += 1"
   ]
  },
  {
   "cell_type": "code",
   "execution_count": null,
   "id": "4a70fb14",
   "metadata": {},
   "outputs": [],
   "source": [
    "n=1\n",
    "while n<=10:\n",
    "  print(n)\n",
    "  n+=1\n",
    "items = 15\n",
    "i = 2\n",
    "while i<=items:\n",
    "  print(\"item\", i)\n",
    "  i+=3"
   ]
  },
  {
   "cell_type": "markdown",
   "id": "27ff2fa4",
   "metadata": {
    "slideshow": {
     "slide_type": "slide"
    }
   },
   "source": [
    "## Have a Play!"
   ]
  },
  {
   "cell_type": "markdown",
   "id": "40367ca1",
   "metadata": {
    "slideshow": {
     "slide_type": "slide"
    }
   },
   "source": [
    "### _Exercises_"
   ]
  },
  {
   "cell_type": "markdown",
   "id": "58216b7a",
   "metadata": {
    "slideshow": {
     "slide_type": "slide"
    }
   },
   "source": [
    "**1) `If`-statements**: Write a program that asks for a user's age and prints whether the person is a minor, an adult, or a senior citizen."
   ]
  },
  {
   "cell_type": "markdown",
   "id": "d8fc442e",
   "metadata": {},
   "source": [
    "<!-- #solution -->"
   ]
  },
  {
   "cell_type": "code",
   "execution_count": null,
   "id": "0e09e83c",
   "metadata": {},
   "outputs": [],
   "source": [
    "age = int(input(\"Enter your age: \"))\n",
    "if age < 18:\n",
    "    print(\"You are a minor.\")\n",
    "elif age >= 18 and age < 65:\n",
    "    print(\"You are an adult.\")\n",
    "else:\n",
    "    print(\"You are a senior citizen.\")"
   ]
  },
  {
   "cell_type": "markdown",
   "id": "6522b973",
   "metadata": {
    "slideshow": {
     "slide_type": "slide"
    }
   },
   "source": [
    "<!-- #endsolution -->\n",
    "\n",
    "**2) `For`-loops**: Use a `for`-loop to print the square of numbers from 1 to 10.\n",
    "\n",
    "<!-- #solution -->"
   ]
  },
  {
   "cell_type": "code",
   "execution_count": null,
   "id": "7e02ffb0",
   "metadata": {},
   "outputs": [],
   "source": [
    "for i in range(1, 11):\n",
    "    print(f\"Square of {i} is {i**2}\")"
   ]
  },
  {
   "cell_type": "markdown",
   "id": "4da08a2c",
   "metadata": {
    "slideshow": {
     "slide_type": "slide"
    }
   },
   "source": [
    "<!-- #endsolution -->\n",
    "\n",
    "**3) `While`-loops**: Write a program that keeps asking the user for a number and prints the number. Stop when the user enters a negative number.\n",
    "\n",
    "<!-- #solution -->"
   ]
  },
  {
   "cell_type": "code",
   "execution_count": null,
   "id": "d41d411f",
   "metadata": {},
   "outputs": [],
   "source": [
    "num = int(input(\"Enter a number (negative to stop): \"))\n",
    "while num >= 0:\n",
    "    print(f\"You entered: {num}\")\n",
    "    num = int(input(\"Enter another number: \"))\n",
    "print(\"Negative number detected. Exiting...\")"
   ]
  },
  {
   "cell_type": "markdown",
   "id": "b9dfcf3c",
   "metadata": {
    "slideshow": {
     "slide_type": "slide"
    }
   },
   "source": [
    "<!-- #endsolution -->\n",
    "\n",
    "**4) Functions**: Write a program to calculate the factorial of a number\n",
    "\n",
    "<!-- #solution -->"
   ]
  },
  {
   "cell_type": "code",
   "execution_count": null,
   "id": "41a0f0b4",
   "metadata": {},
   "outputs": [],
   "source": [
    "def factorial(n):\n",
    "    result = 1\n",
    "    for i in range(1, n + 1):\n",
    "        result *= i\n",
    "    return result\n",
    "\n",
    "number = int(input(\"Enter a number: \"))\n",
    "print(f\"The factorial of {number} is {factorial(number)}\")"
   ]
  },
  {
   "cell_type": "markdown",
   "id": "1f6d385b",
   "metadata": {},
   "source": [
    "<!-- #endsolution -->"
   ]
  },
  {
   "cell_type": "markdown",
   "id": "2ca82bf9",
   "metadata": {
    "slideshow": {
     "slide_type": "slide"
    }
   },
   "source": [
    "# <ins>5.</ins> Getting Data in and out"
   ]
  },
  {
   "cell_type": "markdown",
   "id": "27a11c62",
   "metadata": {
    "slideshow": {
     "slide_type": "notes"
    }
   },
   "source": [
    "Now that we have covered the basics, let's move on to the next level. I expect that most of you are interested in processing data in one way or the other. Most times, we do not want to explicitly write our data into our code, which is also called \"hardcoding\", and has a bad reputation.\n",
    "\n",
    "Instead, we want to be able to provide data during runtime, and have a general program that is able to process the data.\n",
    "\n",
    "How then do we get the data in and out of our program?"
   ]
  },
  {
   "cell_type": "markdown",
   "id": "fdda8065",
   "metadata": {
    "slideshow": {
     "slide_type": "slide"
    }
   },
   "source": [
    "## User input\n",
    "The `print` function enables a Python program to display textual information to the user. The `input` function maybe used to obtain information from the user."
   ]
  },
  {
   "cell_type": "code",
   "execution_count": null,
   "id": "c42c3420",
   "metadata": {
    "slideshow": {
     "slide_type": ""
    }
   },
   "outputs": [],
   "source": [
    "# Get some user input\n",
    "x = input()\n",
    "# print it\n",
    "print(x)\n",
    "# check the type of the input\n",
    "type(x)   # This will be a string if you don't convert it"
   ]
  },
  {
   "cell_type": "code",
   "execution_count": null,
   "id": "c35f9e96",
   "metadata": {
    "slideshow": {
     "slide_type": ""
    }
   },
   "outputs": [],
   "source": [
    "# Implement a greeting function with user input\n",
    "name = input(\"What's you name?\")\n",
    "print(\"Hello \" + name)"
   ]
  },
  {
   "cell_type": "markdown",
   "id": "12df7449",
   "metadata": {
    "slideshow": {
     "slide_type": "notes"
    }
   },
   "source": [
    "##### _<ins>Notes:</ins>_"
   ]
  },
  {
   "cell_type": "markdown",
   "id": "7d6be740",
   "metadata": {
    "slideshow": {
     "slide_type": "notes"
    }
   },
   "source": [
    "As an equivalent to the `print` built-in function, there is the `input` built-in function. It just takes the input from the command line or terminal, and you can do with it whatever you like. For example, here I am putting it into a variable `x`, and then output it. You can also add a prompting message to the user to tell them what kind of input you expect. Note that, just as `print` outputs a string, any user input will be interpreted as of type `str`, regardless of whether it is made out of letters, numbers, or symbols. So you might need to convert it to whatever data type you need it to be.\n",
    "\n",
    "This kind of user input is, of course, not suited for inputting large data sets. It is rather for getting in, for example, parameters, the path to the data set, or other settings or instructions to the program."
   ]
  },
  {
   "cell_type": "markdown",
   "id": "8c9963f2",
   "metadata": {
    "slideshow": {
     "slide_type": "slide"
    }
   },
   "source": [
    "## Reading and writing files"
   ]
  },
  {
   "cell_type": "markdown",
   "id": "0d1e6c71",
   "metadata": {
    "slideshow": {
     "slide_type": ""
    }
   },
   "source": [
    "```python\n",
    "# Create a file object\n",
    "with open(\"testfile.txt\", 'w') as my_file:\n",
    "    ...\n",
    "```\n",
    "Two things to note here:\n",
    " - My object `my_file` is different from my file `\"testfile\"`!\n",
    " - There are different modes:\n",
    "     - read: `'r'`\n",
    "     - (over-)write: `'w'`\n",
    "     - append: `'a'`\n",
    "     - read+write: `'w+'` or `'r+'`"
   ]
  },
  {
   "cell_type": "markdown",
   "id": "d9181370",
   "metadata": {
    "slideshow": {
     "slide_type": "notes"
    }
   },
   "source": [
    "##### _<ins>Notes:</ins>_"
   ]
  },
  {
   "cell_type": "markdown",
   "id": "a6522797",
   "metadata": {
    "slideshow": {
     "slide_type": "notes"
    }
   },
   "source": [
    "The actual data input will usually happen over a file. Follow me in creating a new file.\n",
    "\n",
    "[demonstrate] As you will see, there is now a new file called `\"testfile.txt\"` in your working directory.\n",
    "\n",
    "[show] But that is not the only thing that happened. At the same time, a file object called `my_file` was created in your program. These are two different things. For example, if I rename or delete the file object, my file in the file system won't change. This might sound trivial, but I thought I mention it, as it could lead to confusion.\n",
    "\n",
    "The `'w'` here stands for \"_write_\". If there is already a file with this name, we will now overwrite its contents. If we instead open the file with `'a'` for \"_append_\", we start writing after the existing content. We can also open the file in _read-only_ mode, or in _read-and-write_ mode."
   ]
  },
  {
   "cell_type": "markdown",
   "id": "c2c83b1c",
   "metadata": {
    "slideshow": {
     "slide_type": "slide"
    }
   },
   "source": [
    "### Writing files and formatting strings (C-style)"
   ]
  },
  {
   "cell_type": "code",
   "execution_count": null,
   "id": "57da3702",
   "metadata": {
    "slideshow": {
     "slide_type": ""
    }
   },
   "outputs": [],
   "source": [
    "with open(\"testfile.txt\", \"w\") as my_file:\n",
    "    # Write - note special characters!\n",
    "    my_file.write(\"This is some text. \\n And some more.\")\n",
    "    my_file.write(\"\\n\\nI can also add numbers like this: %d %d \\n\" %(22, 333))\n",
    "\n",
    "    my_file.write(str(222))"
   ]
  },
  {
   "cell_type": "markdown",
   "id": "612778c4",
   "metadata": {
    "slideshow": {
     "slide_type": ""
    }
   },
   "source": [
    "see also [https://www.learnpython.org/en/String\\_Formatting](https://www.learnpython.org/en/String_Formatting)"
   ]
  },
  {
   "cell_type": "markdown",
   "id": "afeddd63",
   "metadata": {
    "slideshow": {
     "slide_type": "notes"
    }
   },
   "source": [
    "##### _<ins>Notes:</ins>_"
   ]
  },
  {
   "cell_type": "markdown",
   "id": "1eb095b4",
   "metadata": {
    "slideshow": {
     "slide_type": "notes"
    }
   },
   "source": [
    "Now we are writing some text and numbers into our file. Note that, again, everything needs to be a _string_. We can put in numbers either by converting them directly to a string, or by putting in a place holder, like this \"_percent d_\", for numerical or decimal values, and then putting in the number after the string. The \"_backslash n_\" symbol stands for a line break.\n",
    "\n",
    "The single backslash is a line continuation character and tells the interpreter that we are not done yet with that command, but that it continues in the next line."
   ]
  },
  {
   "cell_type": "markdown",
   "id": "402f7cfa",
   "metadata": {
    "slideshow": {
     "slide_type": "slide"
    }
   },
   "source": [
    "### Writing files (f-strings)"
   ]
  },
  {
   "cell_type": "code",
   "execution_count": null,
   "id": "d1135b2d",
   "metadata": {
    "slideshow": {
     "slide_type": ""
    }
   },
   "outputs": [],
   "source": [
    "number1 = 44\n",
    "number2 = 111\n",
    "\n",
    "with open(\"testfile.txt\", \"a\") as my_file:\n",
    "    # Append to the opened file\n",
    "    my_file.write(f\"\\n I have opened the same file again.\\n More numbers: {number1} {number2}.\")"
   ]
  },
  {
   "cell_type": "markdown",
   "id": "0f0de638",
   "metadata": {
    "slideshow": {
     "slide_type": ""
    }
   },
   "source": [
    "see also [f-strings](https://realpython.com/python-f-strings/)"
   ]
  },
  {
   "cell_type": "markdown",
   "id": "052ab01a",
   "metadata": {
    "slideshow": {
     "slide_type": "notes"
    }
   },
   "source": [
    "##### _<ins>Notes:</ins>_"
   ]
  },
  {
   "cell_type": "markdown",
   "id": "c3c31048",
   "metadata": {
    "slideshow": {
     "slide_type": "notes"
    }
   },
   "source": [
    "This similar as on the previous slide. We open the same file in _append_-mode and add some more lines, using _f-strings_ instead of _C-style_ string formatting for including numbers.\n",
    "\n",
    "_F-strings_ are faster.\n",
    "\n",
    "Try for yourself to write something into the file using either or both styles, and then check the content of your file! We will use this file in a moment to read the content back into a Python program.\n",
    "\n",
    "[give them some minutes to do that]"
   ]
  },
  {
   "cell_type": "markdown",
   "id": "cb7f726d",
   "metadata": {
    "slideshow": {
     "slide_type": "slide"
    }
   },
   "source": [
    "### Reading files"
   ]
  },
  {
   "cell_type": "code",
   "execution_count": null,
   "id": "c5cfc0b8",
   "metadata": {
    "slideshow": {
     "slide_type": ""
    }
   },
   "outputs": [],
   "source": [
    "with open(\"testfile.txt\", \"r\") as my_file:\n",
    "    # Read it and print it to screen\n",
    "    print(my_file.read())\n",
    "\n",
    "    # Try this:\n",
    "    #print(my_file.read(7))\n",
    "    #print(my_file.readline())\n",
    "    #print(my_file.readlines())"
   ]
  },
  {
   "cell_type": "markdown",
   "id": "0199ffab",
   "metadata": {
    "slideshow": {
     "slide_type": "notes"
    }
   },
   "source": [
    "##### _<ins>Notes:</ins>_"
   ]
  },
  {
   "cell_type": "markdown",
   "id": "0848ad04",
   "metadata": {
    "slideshow": {
     "slide_type": "notes"
    }
   },
   "source": [
    "In the next step, we will read out data from the file that we have just created. There are different ways of doing this. In this example, I combine the reading directly with a `print` statement, so that I see the result. Usually you would probably put the output of the reading operation into a `variable` and continue to process it.\n",
    "\n",
    "Have a go with these four different version of file reading. [give them some minutes]\n",
    "\n",
    "You have seen that you can read the whole file in one go, read single characters from the file, or a whole line. If you apply the `readline` command repeatedly, it will go on to the next line of your file.\n",
    "\n",
    "Interesting is the output of the `readlines` command. It gives you a structure that has all the lines of the file in it, as separate strings, divided by commas."
   ]
  },
  {
   "cell_type": "markdown",
   "id": "28ef8ecc",
   "metadata": {
    "slideshow": {
     "slide_type": "slide"
    }
   },
   "source": [
    "## Have a play!"
   ]
  },
  {
   "cell_type": "markdown",
   "id": "81976018",
   "metadata": {},
   "source": [
    "### _Exercises_"
   ]
  },
  {
   "cell_type": "markdown",
   "id": "45653f1a",
   "metadata": {
    "slideshow": {
     "slide_type": ""
    }
   },
   "source": [
    "Here are some exercise ideas for \"Getting data in and out\":\n",
    "- Prompt the user for a filename and write a short text into it.\n",
    "- Read it back and print the lines to the screen.\n",
    "- Experiment with different modes: 'r', 'w', 'a' to see how the file content changes."
   ]
  },
  {
   "cell_type": "code",
   "execution_count": null,
   "id": "09f56229",
   "metadata": {},
   "outputs": [],
   "source": []
  }
 ],
 "metadata": {
  "kernelspec": {
   "display_name": "Python 3 (ipykernel)",
   "language": "python",
   "name": "python3"
  }
 },
 "nbformat": 4,
 "nbformat_minor": 5
}
