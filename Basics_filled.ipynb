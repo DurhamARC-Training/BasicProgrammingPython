{
 "cells": [
  {
   "attachments": {
    "4bc4187b-d7a8-40d7-9b9b-e39c975e84a1.png": {
     "image/png": "[encoded data removed]"
    }
   },
   "cell_type": "markdown",
   "id": "cb642927-dd35-4a13-9315-b52f82d1475b",
   "metadata": {
    "editable": true,
    "slideshow": {
     "slide_type": "slide"
    },
    "tags": []
   },
   "source": [
    "ARC course \"Introduction to coding with Python\" (beginner level)\n",
    "===============================================================\n",
    "![icons8-python-48.png](attachment:4bc4187b-d7a8-40d7-9b9b-e39c975e84a1.png)"
   ]
  },
  {
   "cell_type": "markdown",
   "id": "8a3a02ac-001d-4244-a3d2-46f4dbae1ccc",
   "metadata": {
    "editable": true,
    "slideshow": {
     "slide_type": ""
    },
    "tags": []
   },
   "source": [
    "Welcome to our ARC training \"Introduction to coding with Python\".\n",
    "\n",
    "Some general information on how the training will run:\n",
    "\n",
    "* The course will run from 14:00 to 17:00. We plan a coffee break between 2 parts at around 15:30 for ~10-15 min.\n",
    "\n",
    "* The material does not expect any prior programming experience.\n",
    "\n",
    "* Each topic will be presented wih code demonstrations followed by practical exercises.\n",
    "\n",
    "* We are happy to answer any questions during the course and to help during the exercises.\n",
    "\n",
    "Enjoy learning Python!"
   ]
  },
  {
   "cell_type": "markdown",
   "id": "9773b0c3-6edf-469e-aa90-1ed137394b3c",
   "metadata": {
    "editable": true,
    "slideshow": {
     "slide_type": "slide"
    },
    "tags": []
   },
   "source": [
    "## Set up your Python environment"
   ]
  },
  {
   "cell_type": "markdown",
   "id": "c96d11b5-25cf-4086-bec3-c6ff1de26bb7",
   "metadata": {
    "@deathbeds/jupyterlab-fonts": {
     "styles": {
      "": {
       "body[data-jp-deck-mode='presenting'] &": {
        "height": "43.14566865452466%",
        "left": "5.230124990976671%",
        "position": "fixed",
        "top": "38.551027662405005%",
        "width": "88.51543942588476%"
       }
      }
     }
    },
    "editable": true,
    "slideshow": {
     "slide_type": ""
    },
    "tags": []
   },
   "source": [
    "<ins>Preferred</ins>: Jupyter Notebook server or Jupyter Lab as a local Python environment installed on your laptops (hopefully, you've already received a welcome email with installation instructions).\n",
    "\n",
    "<ins>Other</ins>: Google Colab (https://colab.research.google.com).\n",
    "\n",
    "Go to the repository:\n",
    "```https://github.com/DurhamARC-Training/BasicProgrammingPython```\n",
    "\n",
    "copy the `pull_files_from_repo.py` file into your environment\n",
    "\n",
    "execute it with `python pull_files_from_repo.py`"
   ]
  },
  {
   "cell_type": "markdown",
   "id": "f32d9c05-2573-4e8d-80a9-c636489ea540",
   "metadata": {
    "editable": true,
    "slideshow": {
     "slide_type": "skip"
    },
    "tags": []
   },
   "source": [
    "# <ins>Table of Contents</ins>"
   ]
  },
  {
   "cell_type": "markdown",
   "id": "c0479c9e-6ea6-4095-8e37-c60d9fd723e1",
   "metadata": {
    "editable": true,
    "slideshow": {
     "slide_type": "slide"
    },
    "tags": []
   },
   "source": [
    "# <ins>0.</ins> Introduction"
   ]
  },
  {
   "cell_type": "markdown",
   "id": "1c4bde6d-c2a9-46a9-8642-b4d1610c68cf",
   "metadata": {
    "@deathbeds/jupyterlab-fonts": {
     "styles": {
      "": {
       "body[data-jp-deck-mode='presenting'] &": {
        "zoom": "137%"
       }
      }
     }
    },
    "editable": true,
    "slideshow": {
     "slide_type": "slide"
    },
    "tags": []
   },
   "source": [
    "## Course objectives"
   ]
  },
  {
   "cell_type": "markdown",
   "id": "7a5a2941-1602-41ab-9eca-d4e6d6e0c03e",
   "metadata": {
    "@deathbeds/jupyterlab-fonts": {
     "styles": {
      "": {
       "body[data-jp-deck-mode='presenting'] &": {
        "z-index": "-1",
        "zoom": "129%"
       }
      }
     }
    },
    "editable": true,
    "jupyterlab-deck": {
     "layer": "slide"
    },
    "slideshow": {
     "slide_type": ""
    },
    "tags": []
   },
   "source": [
    "By the end of this course you should know:\n",
    " - how a basic computer program is written and executed,\n",
    " - what basic data types and control statements are,\n",
    " - how to get and process user input and data,\n",
    " - how to structure your code using functions,\n",
    " - what can lead to your program not working, and what to do about it,\n",
    " - where to find further resources to practice your Python programming."
   ]
  },
  {
   "cell_type": "markdown",
   "id": "747169d6-2e9b-4a82-bbcc-9d88b312cbdf",
   "metadata": {
    "editable": true,
    "slideshow": {
     "slide_type": "skip"
    },
    "tags": []
   },
   "source": [
    "##### _<ins>Notes:</ins>_"
   ]
  },
  {
   "cell_type": "markdown",
   "id": "26831f0c-1650-49fa-87d8-ae2d97a9b73e",
   "metadata": {
    "editable": true,
    "slideshow": {
     "slide_type": "notes"
    },
    "tags": []
   },
   "source": [
    " - We'll talk about how to get a simple computer program running, the basics in terms of *data types*, *variables*, *if-statements* and *loops*, getting data in and out of the program, *functions* and *variable scope*, and a bit about *comments*, *error types* and their *handling*.\n",
    " - I hope that this course will give you a good foundation to continue your Python learning further. Programming is a lot about learning by doing. There are tons of online (and offline) resources as well as forums (online and offline) where you can ask for help."
   ]
  },
  {
   "cell_type": "markdown",
   "id": "e3975d17-c899-400a-8d97-93bca3a93119",
   "metadata": {
    "editable": true,
    "slideshow": {
     "slide_type": "slide"
    },
    "tags": []
   },
   "source": [
    "## Useful resources"
   ]
  },
  {
   "cell_type": "markdown",
   "id": "fb597c3c-9a30-47d0-9592-d8f02e785ae7",
   "metadata": {
    "@deathbeds/jupyterlab-fonts": {
     "styles": {
      "": {
       "body[data-jp-deck-mode='presenting'] &": {
        "z-index": null,
        "zoom": "121%"
       }
      }
     }
    },
    "editable": true,
    "jupyterlab-deck": {
     "layer": "slide"
    },
    "slideshow": {
     "slide_type": ""
    },
    "tags": []
   },
   "source": [
    "#### Materials used and recommended:\n",
    " - [Python Wiki - Python for Non-Programmers](https://wiki.python.org/moin/BeginnersGuide/NonProgrammers)\n",
    " - [How to think like a Computer Scientist](http://openbookproject.net/thinkcs/python/english3e/index.html)\n",
    " - [A Whirlwind Tour of Python](https://jakevdp.github.io/WhirlwindTourOfPython)\n",
    " - [Software Carpentry - Programming with Python](https://swcarpentry.github.io/python-novice-inflammation/index.html)"
   ]
  },
  {
   "cell_type": "markdown",
   "id": "0d68793f-8444-4458-8015-162181a4946a",
   "metadata": {
    "slideshow": {
     "slide_type": "notes"
    },
    "tags": []
   },
   "source": [
    "##### _<ins>Notes:</ins>_"
   ]
  },
  {
   "cell_type": "markdown",
   "id": "140ab4b2-3c56-4fac-b020-224a4fb6fee4",
   "metadata": {
    "editable": true,
    "slideshow": {
     "slide_type": "notes"
    },
    "tags": []
   },
   "source": [
    "Here is a list of sources that were used when this course was prepared. It is great for self-study, and you can use it after this course to continue on your own.\n",
    "\n",
    " - *Python Wiki*, as a website, is a good resource of Python knowledge. The link I give you here is to the site \"Python for Non-Programmers\", that has an extensive list of materials to learn Python if you have not programmed in any language before.\n",
    " - *How to think like a Computer Scientist*. Some of the structure and ideas of the first few chapters have been used for this course.\n",
    " - *A Whirlwind Tour of Python* has a faster pace, and seems to be targeted at a more technically-minded audience.\n",
    " - *Software Carpentry* is an organisation aimed at providing basic software training for everyone. They have a \"<ins>train the trainers</ins>\" approach, which means that they provide material and training courses for software carpentry trainers. Thankfully, you are also allowed to access and use their material for free. This training course here gives a Python introduction at hands of a practical data processing task."
   ]
  },
  {
   "cell_type": "markdown",
   "id": "063c84cc-3f34-40a2-9687-d08e2a3b2751",
   "metadata": {
    "editable": true,
    "slideshow": {
     "slide_type": ""
    },
    "tags": []
   },
   "source": [
    " - The top results are often filled with SEO sites\n",
    " - The aim is not to provide a concise explanation, but to show you as many ads as possible\n",
    " - Very verbose, lots of unneccesary alternatives.\n",
    "\n",
    " Example: \"python how do I invert a list\"\n",
    "\n",
    " Recommend: w3schools, python.org (which is often more technical)"
   ]
  },
  {
   "cell_type": "markdown",
   "id": "2643f596-40a2-4149-972b-e807066b955b",
   "metadata": {
    "editable": true,
    "slideshow": {
     "slide_type": "notes"
    },
    "tags": []
   },
   "source": [
    "_**Notes**_: Do not show search results. Just keep as small topic."
   ]
  },
  {
   "cell_type": "markdown",
   "id": "e3622530-257a-4098-a375-d527251b3efe",
   "metadata": {
    "editable": true,
    "jp-MarkdownHeadingCollapsed": true,
    "slideshow": {
     "slide_type": "slide"
    },
    "tags": []
   },
   "source": [
    "## Programming crash course"
   ]
  },
  {
   "cell_type": "markdown",
   "id": "e94ee231-274c-4c88-be33-840934d29f7e",
   "metadata": {
    "editable": true,
    "slideshow": {
     "slide_type": "slide"
    },
    "tags": []
   },
   "source": [
    "### Programming means: make the computer do the work for you!"
   ]
  },
  {
   "cell_type": "markdown",
   "id": "09ffa334-e460-47a4-8e9a-e74dc5800145",
   "metadata": {
    "editable": true,
    "slideshow": {
     "slide_type": ""
    },
    "tags": []
   },
   "source": [
    " - Do the maths\n",
    " - Boring repetitions\n",
    " - Too complicated/extensive tasks\n",
    " - Big data sets \n",
    " - Make your analysis reproducible\n",
    " -  ..."
   ]
  },
  {
   "cell_type": "markdown",
   "id": "ebd43dd0-4bb4-4591-85e1-7392fe80c3b5",
   "metadata": {
    "editable": true,
    "slideshow": {
     "slide_type": "slide"
    },
    "tags": []
   },
   "source": [
    "### Running code in a compiled language (such as C)"
   ]
  },
  {
   "cell_type": "markdown",
   "id": "1009a026-b7df-4c96-aaea-bbed8bc1423c",
   "metadata": {},
   "source": [
    "1. Write your code in a high-level programming language.\n",
    "2. Translate into low-level (machine/assembly) language.\n",
    "3. Execute the program."
   ]
  },
  {
   "cell_type": "markdown",
   "id": "5c38b849",
   "metadata": {
    "editable": true,
    "slideshow": {
     "slide_type": "notes"
    },
    "tags": []
   },
   "source": [
    "##### _<ins>Notes:</ins>_"
   ]
  },
  {
   "cell_type": "markdown",
   "id": "05ed5ecc-a4d7-4948-b2c2-a11e09dc7517",
   "metadata": {
    "editable": true,
    "slideshow": {
     "slide_type": "notes"
    },
    "tags": []
   },
   "source": [
    "Now, how do we get the computer to do these things for us? This is what we are doing: We write the program in a language that we as human beings (with some training) can understand. As the computer won't be able to understand the code that way, we then compile it, which means that we translate it into computer language. Then we execute the program and, given we have made no mistake, the computer will get working for us.  "
   ]
  },
  {
   "cell_type": "markdown",
   "id": "74616ebb-05da-4270-93ae-4e70cd155bec",
   "metadata": {
    "editable": true,
    "slideshow": {
     "slide_type": "slide"
    },
    "tags": []
   },
   "source": [
    "### Running code in an interpreted language (such as Python)"
   ]
  },
  {
   "cell_type": "markdown",
   "id": "bd1e59dd-aac3-4b67-bbfe-8a8eb5420a1b",
   "metadata": {
    "editable": true,
    "slideshow": {
     "slide_type": ""
    },
    "tags": []
   },
   "source": [
    "1. Write your code in high-level programming language.\n",
    "2. Interpret code and execute directly"
   ]
  },
  {
   "cell_type": "markdown",
   "id": "1e257e2a",
   "metadata": {
    "editable": true,
    "slideshow": {
     "slide_type": "notes"
    },
    "tags": []
   },
   "source": [
    "##### _<ins>Notes:</ins>_"
   ]
  },
  {
   "cell_type": "markdown",
   "id": "945d35a9-7f4e-40f1-a1d0-72d86362bb77",
   "metadata": {
    "editable": true,
    "slideshow": {
     "slide_type": "notes"
    },
    "tags": []
   },
   "source": [
    "Things can be made a little bit easier by using an interpreted scripting language instead of a compiled programming language.\n",
    " - *Beware!*: Oversimplification\n",
    "\n",
    "Please note that I am oversimplifying here a bit with regards to the terminology. The point I want to make is that there are languages, such as Python, which we will be using in this course, that translate and execute the code directly, without us having to do a separate compilation step."
   ]
  },
  {
   "cell_type": "markdown",
   "id": "fff991ce-9d58-4ff6-8900-bab74b6d8a4a",
   "metadata": {
    "editable": true,
    "slideshow": {
     "slide_type": "slide"
    },
    "tags": []
   },
   "source": [
    "### Python can be executed in different ways\n",
    "#### Command line script"
   ]
  },
  {
   "cell_type": "markdown",
   "id": "39715c69-1ba6-432a-b112-0ca5dce6f35f",
   "metadata": {
    "editable": true,
    "slideshow": {
     "slide_type": ""
    },
    "tags": []
   },
   "source": [
    "1. Create a `myname.py` file\n",
    "2. run python `myname.py`"
   ]
  },
  {
   "cell_type": "markdown",
   "id": "61fd1b97-bc54-4aa1-be59-7743b27dc17f",
   "metadata": {
    "editable": true,
    "slideshow": {
     "slide_type": "fragment"
    },
    "tags": []
   },
   "source": [
    "#### interactive or ipython session:\n",
    " - Start with typing `python` or better `ipython`"
   ]
  },
  {
   "cell_type": "markdown",
   "id": "40704165-e3a9-47d1-b242-7b86da5ba24e",
   "metadata": {
    "editable": true,
    "slideshow": {
     "slide_type": "slide"
    },
    "tags": []
   },
   "source": [
    "### Demonstration of using _Jupyter_ notebook"
   ]
  },
  {
   "cell_type": "markdown",
   "id": "e4ae3cdf-ac52-4344-b3b6-c0c0450a5e1c",
   "metadata": {
    "editable": true,
    "slideshow": {
     "slide_type": ""
    },
    "tags": []
   },
   "source": [
    "Jupyter works with cells such as these, which you execute with the play button or `Shift/Strg + Enter`:"
   ]
  },
  {
   "cell_type": "code",
   "execution_count": 1,
   "id": "d37fd9eb",
   "metadata": {
    "editable": true,
    "slideshow": {
     "slide_type": ""
    },
    "tags": []
   },
   "outputs": [
    {
     "data": {
      "text/plain": [
       "1"
      ]
     },
     "execution_count": 1,
     "metadata": {},
     "output_type": "execute_result"
    }
   ],
   "source": [
    "# Add just a one to the cell and execute\n",
    "1"
   ]
  },
  {
   "cell_type": "markdown",
   "id": "12557a59",
   "metadata": {
    "editable": true,
    "slideshow": {
     "slide_type": ""
    },
    "tags": []
   },
   "source": [
    "If the box on the left is empty, you have not executed it. Otherwise a number indicates in which order the execution took place.\n",
    "\n",
    "You can add cells with the plus. You can also change the type"
   ]
  },
  {
   "cell_type": "markdown",
   "id": "d14c5f7e",
   "metadata": {
    "editable": true,
    "slideshow": {
     "slide_type": ""
    },
    "tags": []
   },
   "source": [
    "##### Now it is markdown and the `#` indicates a header (or `##`, etc., up to 6 times, with smaller font sizes)"
   ]
  },
  {
   "cell_type": "markdown",
   "id": "672c1e9b",
   "metadata": {
    "editable": true,
    "slideshow": {
     "slide_type": "notes"
    },
    "tags": []
   },
   "source": [
    "##### _<ins>Notes:</ins>_"
   ]
  },
  {
   "cell_type": "markdown",
   "id": "3c98850e-3651-4f33-b093-60bc3082caee",
   "metadata": {
    "editable": true,
    "slideshow": {
     "slide_type": "notes"
    },
    "tags": []
   },
   "source": [
    " - We have individual cells to run. To do so press the run button or `Shift + Enter`\n",
    " - The small number in the box in front indicates a cell has been run."
   ]
  },
  {
   "cell_type": "markdown",
   "id": "3c7ef1e7-e19c-401e-9322-a864cb6006a4",
   "metadata": {
    "editable": true,
    "slideshow": {
     "slide_type": "slide"
    },
    "tags": []
   },
   "source": [
    "# <ins>**Part I**</ins>"
   ]
  },
  {
   "cell_type": "markdown",
   "id": "a6ae89e8",
   "metadata": {
    "editable": true,
    "slideshow": {
     "slide_type": "slide"
    },
    "tags": []
   },
   "source": [
    "# <ins>1.</ins> Basics"
   ]
  },
  {
   "cell_type": "markdown",
   "id": "5249c344",
   "metadata": {
    "editable": true,
    "slideshow": {
     "slide_type": "notes"
    },
    "tags": []
   },
   "source": [
    "In this section we will look into the very basics of programming, to give you the foundations\n",
    "to start from. A lot of it will be transferrable to other programming languages,\n",
    "even if the exact syntax, the way how you write things down, changes."
   ]
  },
  {
   "cell_type": "markdown",
   "id": "6dc34ff5",
   "metadata": {
    "editable": true,
    "slideshow": {
     "slide_type": "slide"
    },
    "tags": []
   },
   "source": [
    "## Basic data types\n",
    "As any programming language, Python can deal with many different data types. Among the basic ones are `str` strings, `int` integers, `float` floating-point numbers and `bool` booleans."
   ]
  },
  {
   "cell_type": "markdown",
   "id": "64b617db-2710-4caa-8e43-4f78817100a5",
   "metadata": {
    "editable": true,
    "slideshow": {
     "slide_type": ""
    },
    "tags": []
   },
   "source": [
    "- Strings: \"Heinz\", 'Banana', 'He said \"Hello\"'\n",
    "- Integers: 1, 2, 3, 22222222, -777\n",
    "- Floats: -1.2, 0.0, 2.7182\n",
    "- Booleans: True, False"
   ]
  },
  {
   "cell_type": "markdown",
   "id": "442841b9",
   "metadata": {
    "editable": true,
    "slideshow": {
     "slide_type": "notes"
    },
    "tags": []
   },
   "source": [
    "##### _<ins>Notes:</ins>_"
   ]
  },
  {
   "cell_type": "markdown",
   "id": "e550ecee-224f-4b87-90b6-500747f8d73d",
   "metadata": {
    "editable": true,
    "slideshow": {
     "slide_type": "notes"
    },
    "tags": []
   },
   "source": [
    "When you are programming, you have to be clear about what type each item you are handling has. Each data type has different rules. In the most basic version, Python has the following data types:\n",
    "- Strings, which are bits of text, noted by single or double quotation marks, which can be nested.\n",
    "- Integers, which are whole numbers, positive or negative.\n",
    "- Floats, or floating points numbers, which allow for a fractional part.\n",
    "- Booleans, or bools, which are truth values, and can be either true or false."
   ]
  },
  {
   "cell_type": "markdown",
   "id": "e027fbe7",
   "metadata": {
    "editable": true,
    "slideshow": {
     "slide_type": "slide"
    },
    "tags": []
   },
   "source": [
    "## Variables\n",
    "Values are stored in _variables_, which are of data types listed above or more complex ones."
   ]
  },
  {
   "cell_type": "markdown",
   "id": "739db601-746d-400c-8f71-b4ea332435fd",
   "metadata": {
    "editable": true,
    "slideshow": {
     "slide_type": ""
    },
    "tags": []
   },
   "source": [
    "- “I reserve a space in memory for my data bit, and I call it \n",
    "by the name x\n",
    "- Syntax: name = value”"
   ]
  },
  {
   "cell_type": "markdown",
   "id": "ca6f813a",
   "metadata": {
    "editable": true,
    "slideshow": {
     "slide_type": "notes"
    },
    "tags": []
   },
   "source": [
    "##### _<ins>Notes:</ins>_"
   ]
  },
  {
   "cell_type": "markdown",
   "id": "adba094b-5f73-43e2-8206-071970f6e388",
   "metadata": {},
   "source": [
    "The next essential concept you need to know for programming in Python are variables.\n",
    "\n",
    "By writing ``name = value'', you are basically saying \"I reserve a space in memory for my data bit, which is value, and I call it name\". Then you can use the name to further process your data bit, as we have seen in the example with the print statement."
   ]
  },
  {
   "cell_type": "markdown",
   "id": "ead0792e",
   "metadata": {
    "editable": true,
    "slideshow": {
     "slide_type": "slide"
    },
    "tags": []
   },
   "source": [
    "### _<ins>Example</ins>:_ Print type of a variable"
   ]
  },
  {
   "cell_type": "code",
   "execution_count": 2,
   "id": "21cd26be",
   "metadata": {
    "editable": true,
    "slideshow": {
     "slide_type": ""
    },
    "tags": []
   },
   "outputs": [
    {
     "name": "stdout",
     "output_type": "stream",
     "text": [
      "Hello\n"
     ]
    }
   ],
   "source": [
    "# print statement \"Hello\"\n",
    "print(\"Hello\")"
   ]
  },
  {
   "cell_type": "code",
   "execution_count": 3,
   "id": "d3cbbe67",
   "metadata": {
    "editable": true,
    "slideshow": {
     "slide_type": ""
    },
    "tags": []
   },
   "outputs": [
    {
     "name": "stdout",
     "output_type": "stream",
     "text": [
      "Hello\n"
     ]
    }
   ],
   "source": [
    "# put the content of the print statement in a variable\n",
    "my_string = \"Hello\"\n",
    "print(my_string)"
   ]
  },
  {
   "cell_type": "code",
   "execution_count": 4,
   "id": "fde5ab4a",
   "metadata": {
    "slideshow": {
     "slide_type": ""
    },
    "tags": []
   },
   "outputs": [
    {
     "data": {
      "text/plain": [
       "str"
      ]
     },
     "execution_count": 4,
     "metadata": {},
     "output_type": "execute_result"
    }
   ],
   "source": [
    "# check the type of that variable\n",
    "type(my_string)"
   ]
  },
  {
   "cell_type": "markdown",
   "id": "917f856b",
   "metadata": {
    "editable": true,
    "slideshow": {
     "slide_type": "notes"
    },
    "tags": []
   },
   "source": [
    "##### _<ins>Notes:</ins>_"
   ]
  },
  {
   "cell_type": "markdown",
   "id": "07d5ce77-b1cb-4f06-9add-5dd2e36665e3",
   "metadata": {},
   "source": [
    "In this example we see the print statement again. It will usually expect a string, or something that can be converted to a string.\n",
    "\n",
    "Here we are saying that the variable \"myString2 should have the string value 'He said \"Hello\"', and then put the print statement separately. The \"type\" command is able to tell us, what type the variable ``myString'' has. [demonstrate]\n",
    "\n",
    "As a side note, many programming languages, in particular compiled programming languages, require you to explicitly state the data type of your variable when you create it. We do not need to do that here."
   ]
  },
  {
   "cell_type": "markdown",
   "id": "2785d90d",
   "metadata": {
    "@deathbeds/jupyterlab-fonts": {
     "styles": {
      "": {
       "body[data-jp-deck-mode='presenting'] &": {
        "zoom": "79%"
       }
      }
     }
    },
    "editable": true,
    "slideshow": {
     "slide_type": "slide"
    },
    "tags": []
   },
   "source": [
    "### _<ins>Example</ins>:_ Try to assign the data types at the following qr code"
   ]
  },
  {
   "cell_type": "markdown",
   "id": "1c8d8cf6-2d99-47f9-acb4-1d97ca87cc19",
   "metadata": {},
   "source": [
    "Try not to overthink. If something is ambiguous pick what fits best\n",
    "\n",
    "![QRCode](images/qr_question1.png)"
   ]
  },
  {
   "cell_type": "markdown",
   "id": "261dcd33-7e0d-4048-a93c-e4d307474726",
   "metadata": {
    "editable": true,
    "slideshow": {
     "slide_type": "notes"
    },
    "tags": []
   },
   "source": [
    "##### _<ins>Notes:</ins>_"
   ]
  },
  {
   "cell_type": "markdown",
   "id": "add1aa58-beba-4227-bbe9-16773bb56f7d",
   "metadata": {
    "editable": true,
    "jp-MarkdownHeadingCollapsed": true,
    "slideshow": {
     "slide_type": "notes"
    },
    "tags": []
   },
   "source": [
    "Questions behind QR Code\n",
    "Assign a type to the variable names\n",
    "1. name\n",
    "   - str obviously\n",
    "2. items_in_stock\n",
    "   - usually means a number -> int\n",
    "3. pressure_bar\n",
    "   - if you have different physical units for a size put the unit into the name. Say you also have pressure_torr\n",
    "4. is_student\n",
    "   - bool\n",
    "5. participants\n",
    "   - is an ambiguous name (names, number, there are some) if this can happen, name the variable differently."
   ]
  },
  {
   "cell_type": "markdown",
   "id": "042b974f",
   "metadata": {
    "editable": true,
    "slideshow": {
     "slide_type": "slide"
    },
    "tags": []
   },
   "source": [
    "### _<ins>Example</ins>:_ Add integers"
   ]
  },
  {
   "cell_type": "code",
   "execution_count": 5,
   "id": "cbce302a",
   "metadata": {
    "editable": true,
    "slideshow": {
     "slide_type": ""
    },
    "tags": []
   },
   "outputs": [
    {
     "name": "stdout",
     "output_type": "stream",
     "text": [
      "7\n"
     ]
    }
   ],
   "source": [
    "# Adding two integers (2 and 5)\n",
    "print(2+5)"
   ]
  },
  {
   "cell_type": "code",
   "execution_count": 6,
   "id": "2221ee54",
   "metadata": {
    "editable": true,
    "slideshow": {
     "slide_type": ""
    },
    "tags": []
   },
   "outputs": [
    {
     "ename": "TypeError",
     "evalue": "can only concatenate str (not \"int\") to str",
     "output_type": "error",
     "traceback": [
      "\u001b[0;31m---------------------------------------------------------------------------\u001b[0m",
      "\u001b[0;31mTypeError\u001b[0m                                 Traceback (most recent call last)",
      "Cell \u001b[0;32mIn[6], line 2\u001b[0m\n\u001b[1;32m      1\u001b[0m \u001b[38;5;66;03m# Adding integers to a string (\"2+5 = \") naively\u001b[39;00m\n\u001b[0;32m----> 2\u001b[0m \u001b[38;5;28mprint\u001b[39m(\u001b[38;5;124;43m\"\u001b[39;49m\u001b[38;5;124;43m2+5 = \u001b[39;49m\u001b[38;5;124;43m\"\u001b[39;49m\u001b[43m \u001b[49m\u001b[38;5;241;43m+\u001b[39;49m\u001b[43m \u001b[49m\u001b[38;5;241;43m2\u001b[39;49m \u001b[38;5;241m+\u001b[39m \u001b[38;5;241m5\u001b[39m)\n",
      "\u001b[0;31mTypeError\u001b[0m: can only concatenate str (not \"int\") to str"
     ]
    }
   ],
   "source": [
    "# Adding integers to a string (\"2+5 = \") naively\n",
    "print(\"2+5 = \" + 2 + 5)"
   ]
  },
  {
   "cell_type": "code",
   "execution_count": 7,
   "id": "d372af14",
   "metadata": {
    "editable": true,
    "slideshow": {
     "slide_type": ""
    },
    "tags": []
   },
   "outputs": [
    {
     "name": "stdout",
     "output_type": "stream",
     "text": [
      "2+5 = 7\n"
     ]
    }
   ],
   "source": [
    "# Solution: call the result into a string\n",
    "print(\"2+5 = \" + str(2 + 5))"
   ]
  },
  {
   "cell_type": "markdown",
   "id": "8120be72",
   "metadata": {
    "editable": true,
    "slideshow": {
     "slide_type": "notes"
    },
    "tags": []
   },
   "source": [
    "##### _<ins>Notes:</ins>_"
   ]
  },
  {
   "cell_type": "markdown",
   "id": "a7be3a67-bba1-436d-801f-6b4f353e64ab",
   "metadata": {
    "editable": true,
    "slideshow": {
     "slide_type": "notes"
    },
    "tags": []
   },
   "source": [
    " - As I said before, ``print`` expects a string or something that can be converted to a string. Here are some examples of what happens if I am dealing with integers. Please try each of these examples for yourself, and see what the output is. One will give you an error. In the 1st case, the interpreter recognises that I have two integers that want to be added together, and gives me the answer. The 2nd case produces an error and says ``TypeError: can only concatenate str (not \"int\") to str``. The plus sign actually means two different things for numbers and for strings! You can *glue* two strings together using the plus sign, and you can add two numbers together, as we would expect. The 3rd case shows how to explicitly cast a number to a string. We tell it ``add 2 and 5 together, make it a string, and concatenate it to the other string''."
   ]
  },
  {
   "cell_type": "markdown",
   "id": "016658d3",
   "metadata": {
    "editable": true,
    "slideshow": {
     "slide_type": "slide"
    },
    "tags": []
   },
   "source": [
    "### _<ins>Example</ins>:_ Boolean type"
   ]
  },
  {
   "cell_type": "code",
   "execution_count": 8,
   "id": "1e7fe5d5",
   "metadata": {
    "editable": true,
    "slideshow": {
     "slide_type": ""
    },
    "tags": []
   },
   "outputs": [
    {
     "ename": "NameError",
     "evalue": "name 'true' is not defined",
     "output_type": "error",
     "traceback": [
      "\u001b[0;31m---------------------------------------------------------------------------\u001b[0m",
      "\u001b[0;31mNameError\u001b[0m                                 Traceback (most recent call last)",
      "Cell \u001b[0;32mIn[8], line 2\u001b[0m\n\u001b[1;32m      1\u001b[0m \u001b[38;5;66;03m# boolean have to be capitalized\u001b[39;00m\n\u001b[0;32m----> 2\u001b[0m \u001b[38;5;28mtype\u001b[39m(\u001b[43mtrue\u001b[49m)\n",
      "\u001b[0;31mNameError\u001b[0m: name 'true' is not defined"
     ]
    }
   ],
   "source": [
    "# boolean have to be capitalized\n",
    "type(true)"
   ]
  },
  {
   "cell_type": "code",
   "execution_count": 9,
   "id": "604da924",
   "metadata": {
    "editable": true,
    "slideshow": {
     "slide_type": ""
    },
    "tags": []
   },
   "outputs": [
    {
     "data": {
      "text/plain": [
       "bool"
      ]
     },
     "execution_count": 9,
     "metadata": {},
     "output_type": "execute_result"
    }
   ],
   "source": [
    "# Checking the type of a boolean\n",
    "type(True)"
   ]
  },
  {
   "cell_type": "code",
   "execution_count": 10,
   "id": "529cfea1",
   "metadata": {
    "editable": true,
    "slideshow": {
     "slide_type": ""
    },
    "tags": []
   },
   "outputs": [
    {
     "data": {
      "text/plain": [
       "2"
      ]
     },
     "execution_count": 10,
     "metadata": {},
     "output_type": "execute_result"
    }
   ],
   "source": [
    "# Adding a boolean to an integer\n",
    "1+True"
   ]
  },
  {
   "cell_type": "code",
   "execution_count": 11,
   "id": "09dda44a",
   "metadata": {
    "editable": true,
    "scrolled": true,
    "slideshow": {
     "slide_type": ""
    },
    "tags": []
   },
   "outputs": [
    {
     "data": {
      "text/plain": [
       "int"
      ]
     },
     "execution_count": 11,
     "metadata": {},
     "output_type": "execute_result"
    }
   ],
   "source": [
    "# Checking the type of the result\n",
    "type(1+True)"
   ]
  },
  {
   "cell_type": "markdown",
   "id": "dcd2a401",
   "metadata": {
    "editable": true,
    "slideshow": {
     "slide_type": "notes"
    },
    "tags": []
   },
   "source": [
    "##### _<ins>Notes:</ins>_"
   ]
  },
  {
   "cell_type": "markdown",
   "id": "f87cd211-f96f-44a0-96d2-7c1abeafdcc6",
   "metadata": {
    "editable": true,
    "slideshow": {
     "slide_type": "notes"
    },
    "tags": []
   },
   "source": [
    "Let's take a closer look at booleans. They seem a bit boring, but we will see later that they are really essential for programming. The values are case sensitive, so you have to make sure to write``True`` and ``False`` with capital letters. You will also have noticed that ``True`` has the numerical value one, and ``False`` is zero."
   ]
  },
  {
   "cell_type": "markdown",
   "id": "15b5bcc4",
   "metadata": {
    "editable": true,
    "slideshow": {
     "slide_type": "slide"
    },
    "tags": []
   },
   "source": [
    "### _<ins>Example</ins>:_ Boolean operators"
   ]
  },
  {
   "cell_type": "code",
   "execution_count": 12,
   "id": "ccf41a7d",
   "metadata": {
    "editable": true,
    "scrolled": true,
    "slideshow": {
     "slide_type": ""
    },
    "tags": []
   },
   "outputs": [
    {
     "data": {
      "text/plain": [
       "1"
      ]
     },
     "execution_count": 12,
     "metadata": {},
     "output_type": "execute_result"
    }
   ],
   "source": [
    "# Adding booleans\n",
    "True+False"
   ]
  },
  {
   "cell_type": "code",
   "execution_count": 13,
   "id": "c7c1c5a7",
   "metadata": {
    "editable": true,
    "slideshow": {
     "slide_type": ""
    },
    "tags": []
   },
   "outputs": [
    {
     "data": {
      "text/plain": [
       "False"
      ]
     },
     "execution_count": 13,
     "metadata": {},
     "output_type": "execute_result"
    }
   ],
   "source": [
    "# Logical AND\n",
    "True and False"
   ]
  },
  {
   "cell_type": "code",
   "execution_count": 14,
   "id": "0e04909a",
   "metadata": {
    "editable": true,
    "slideshow": {
     "slide_type": ""
    },
    "tags": []
   },
   "outputs": [
    {
     "data": {
      "text/plain": [
       "True"
      ]
     },
     "execution_count": 14,
     "metadata": {},
     "output_type": "execute_result"
    }
   ],
   "source": [
    "# Logical OR\n",
    "True or False"
   ]
  },
  {
   "cell_type": "code",
   "execution_count": 15,
   "id": "b5320e05",
   "metadata": {
    "editable": true,
    "slideshow": {
     "slide_type": ""
    },
    "tags": []
   },
   "outputs": [
    {
     "data": {
      "text/plain": [
       "False"
      ]
     },
     "execution_count": 15,
     "metadata": {},
     "output_type": "execute_result"
    }
   ],
   "source": [
    "# Negating boolean\n",
    "not True"
   ]
  },
  {
   "cell_type": "markdown",
   "id": "1a3fc56e-74b1-4851-a667-3b4b52466102",
   "metadata": {
    "editable": true,
    "slideshow": {
     "slide_type": "notes"
    },
    "tags": []
   },
   "source": [
    "##### _<ins>Notes:</ins>_"
   ]
  },
  {
   "cell_type": "markdown",
   "id": "01c53761",
   "metadata": {
    "editable": true,
    "slideshow": {
     "slide_type": "notes"
    },
    "tags": []
   },
   "source": [
    "While we can add booleans, the more appropriate operations are logical operations. You can invert the value with ``not``, and combine two values logically with ``and`` and ``or``."
   ]
  },
  {
   "cell_type": "markdown",
   "id": "0ff8feff",
   "metadata": {
    "editable": true,
    "slideshow": {
     "slide_type": "slide"
    },
    "tags": []
   },
   "source": [
    "## Basic operators\n",
    "New values can be obtained by applying operators to old values, for example, mathematical operators on numerical data types `int` or `float`."
   ]
  },
  {
   "cell_type": "markdown",
   "id": "f7e19569-74ef-45dd-8285-99430bc435fe",
   "metadata": {
    "editable": true,
    "slideshow": {
     "slide_type": ""
    },
    "tags": []
   },
   "source": [
    "- String: concatenation with `+`\n",
    "- Bool: `and`, `or`, `not`\n",
    "- Numerical data: `+`, `-`, `*`, `/`, `%`, `**`, built-in functions `abs`, ...\n",
    "- Order of execution:\n",
    "    1. `()`\n",
    "    2. `**`\n",
    "    3. `*`, `/`\n",
    "    4. `+`, `-`\n",
    "    5. Left-to-right (except exponentiation!)\n",
    "\n",
    "So, use parenthesis to make sure!"
   ]
  },
  {
   "cell_type": "markdown",
   "id": "3819ac3e-c9cf-4fbc-a955-5439bdee7723",
   "metadata": {
    "editable": true,
    "slideshow": {
     "slide_type": "notes"
    },
    "tags": []
   },
   "source": [
    "##### _<ins>Notes:</ins>_"
   ]
  },
  {
   "cell_type": "markdown",
   "id": "a201c520",
   "metadata": {
    "editable": true,
    "slideshow": {
     "slide_type": "notes"
    },
    "tags": []
   },
   "source": [
    "- These are the basic operations we have for our data types: String concatenation with the plus sign, logical operations on booleans with and, or, and not, and for floats and integers we have addition, subtraction, multiplication, division, modulo (i.e., the remainder of a division), exponentiation, absolute value, and so on.\n",
    " - It is very important to be aware how these operations are executed in long arithmetic expressions. Generally, if you have something like a plus b plus c, it happens from left to right: First a plus b, and then plus c. However, if you have exponents, like a to the power of b to the power of c, the right-most operations happens first: b to the power of c, and then a to the power of the result. Exponents bind stronger than times and division, i.e. exponents are computed first, and times and division is stronger than plus and minus. If in doubt, just use parenthesis.\n",
    " - You will have the chance to play around with this in a moment, and find out for yourselves how it works."
   ]
  },
  {
   "cell_type": "markdown",
   "id": "9df66d0a",
   "metadata": {
    "editable": true,
    "slideshow": {
     "slide_type": "slide"
    },
    "tags": []
   },
   "source": [
    "## Comments (and documentation)\n",
    "Anything following the `#` character on a line is ignored by Python interpreter and becomes a comment. Comments are useful to document the code."
   ]
  },
  {
   "cell_type": "code",
   "execution_count": 16,
   "id": "5242abd7",
   "metadata": {
    "editable": true,
    "slideshow": {
     "slide_type": ""
    },
    "tags": []
   },
   "outputs": [
    {
     "name": "stdout",
     "output_type": "stream",
     "text": [
      "3.5\n"
     ]
    }
   ],
   "source": [
    "# This is my programme to demonstrate how to\n",
    "# do simple calculations in Python.\n",
    "\n",
    "my_number = 2\n",
    "\n",
    "my_other_number = my_number + 5\n",
    "\n",
    "my_number = my_other_number / 2 # I have to divide\n",
    "                                # by 2 here, as the\n",
    "                                # results are\n",
    "                                # otherwise rubbish\n",
    "\n",
    "print(my_number)"
   ]
  },
  {
   "cell_type": "markdown",
   "id": "932ef318-3715-44f7-9571-12a73f4d3eef",
   "metadata": {
    "editable": true,
    "slideshow": {
     "slide_type": "notes"
    },
    "tags": []
   },
   "source": [
    "##### _<ins>Notes:</ins>_"
   ]
  },
  {
   "cell_type": "markdown",
   "id": "8964af20",
   "metadata": {
    "editable": true,
    "slideshow": {
     "slide_type": "notes"
    },
    "tags": []
   },
   "source": [
    "But first, I want to show you two more things.\n",
    "\n",
    " - One is comments. When you are writing your code, your intentions and your thinking might seem obvious, and you just want to get it running. However, believe me: If someone else is looking at your code at some point, and this someone else might be you in two weeks time, things are very probably not that obvious anymore. I found myself puzzling over my own code and why on earth I have done things like that quite often. In order to put a comment in your code you have to tell the interpreter that this bit is just for the humans reading the code, not interesting for the computer. In Python this is done by putting a hash symbol in front of the comment. This can be either at the beginning or in the middle of a line.\n"
   ]
  },
  {
   "cell_type": "markdown",
   "id": "cf5b60d8",
   "metadata": {
    "@deathbeds/jupyterlab-fonts": {
     "styles": {
      "": {
       "body[data-jp-deck-mode='presenting'] &": {
        "zoom": null
       }
      }
     }
    },
    "editable": true,
    "slideshow": {
     "slide_type": "slide"
    },
    "tags": []
   },
   "source": [
    "## Debugging and Types of Errors"
   ]
  },
  {
   "cell_type": "markdown",
   "id": "b22bca73-e02d-4c71-9361-5ec6a2bdc963",
   "metadata": {
    "editable": true,
    "slideshow": {
     "slide_type": ""
    },
    "tags": []
   },
   "source": [
    "- Errors in computer programs are called ``bugs'' for historic reasons.\n",
    "- For complex projects, you will usually spend more time testing and debugging than writing code.\n",
    "- Three types of errors:\n",
    "    - Syntax errors - written the code wrongly\n",
    "    - Semantic errors - written the wrong code\n",
    "    - Runtime errors - something's wrong with the code (during execution)"
   ]
  },
  {
   "cell_type": "markdown",
   "id": "ca972bb0-12ba-4e12-99b4-1f88b7dfecf6",
   "metadata": {
    "editable": true,
    "slideshow": {
     "slide_type": "notes"
    },
    "tags": []
   },
   "source": [
    "##### _<ins>Notes:</ins>_"
   ]
  },
  {
   "cell_type": "markdown",
   "id": "049a22e6",
   "metadata": {
    "editable": true,
    "slideshow": {
     "slide_type": "notes"
    },
    "tags": []
   },
   "source": [
    "- The other thing I want to mention at this points are errors. As soon as you start programming you will make mistakes. Everyone does that, even the most experienced programmers spend a lot of time hunting for bugs in their code. \"Bugs\" is a common term for errors in computer programs. It is said that this term originates from a time when actual insects in the hardware of a computer or another machine were the cause for malfunctions. There is a number of different opinions on when the term was first used, but I won't go into that here. Looking for and removing these errors is also called \"debugging\"."
   ]
  },
  {
   "cell_type": "markdown",
   "id": "96a29c0e",
   "metadata": {
    "editable": true,
    "slideshow": {
     "slide_type": "notes"
    },
    "tags": []
   },
   "source": [
    " - Syntax errors are usually the easiest to spot. We have seen them before, when we wrote some code that was not valid, made a typo or so. Your interpreter or compiler will tell you straight away that something is wrong.\n",
    " - Semantic errors are much harder to find. It means that the code that you have written does not do what you intended it to do. Because you have written it, you will probably have assumed that it does the right thing, so you have to question your thinking. Often it helps to explain your code to someone else, so that either they or yourself might spot the mistake.\n",
    " - The third type is runtime errors. These will just appear during execution, for example because your code cannot cope with a certain type of input. An example would be a code that divides a number by another number given by user input, which errors if the user input is zero or a string."
   ]
  },
  {
   "cell_type": "markdown",
   "id": "933acaf7",
   "metadata": {
    "editable": true,
    "slideshow": {
     "slide_type": "slide"
    },
    "tags": []
   },
   "source": [
    "## Have a play!"
   ]
  },
  {
   "cell_type": "markdown",
   "id": "13c3b993-0557-4b86-bbf8-b81bc4a2ca08",
   "metadata": {},
   "source": [
    "### _Exercises_"
   ]
  },
  {
   "cell_type": "markdown",
   "id": "f19f02c1",
   "metadata": {
    "editable": true,
    "slideshow": {
     "slide_type": ""
    },
    "tags": []
   },
   "source": [
    "You could try\n",
    " - what happens if you add a float and an integer,\n",
    " - what happens if you mix numbers and bools in arithmetic expressions,\n",
    " - how setting parenthesis changes the result of a large arithmetic expression,\n",
    " - to print statements that include variables of different data types,\n",
    " - try to reproduce each of the error types,\n",
    " - ..."
   ]
  },
  {
   "cell_type": "markdown",
   "id": "1dae5d7b-49b0-49ea-a3a5-a424c7e51377",
   "metadata": {
    "editable": true,
    "slideshow": {
     "slide_type": "notes"
    },
    "tags": []
   },
   "source": [
    "##### _<ins>Notes:</ins>_"
   ]
  },
  {
   "cell_type": "markdown",
   "id": "f32b3472",
   "metadata": {
    "editable": true,
    "raw_mimetype": "",
    "slideshow": {
     "slide_type": "notes"
    },
    "tags": []
   },
   "source": [
    "Now it's time for you to try the things that we have learned about yourselves. I want you to think about data types, variables, the different operations, comments and errors, and find out more about how they work by experimenting. Write little bits of code and see what works, what doesn't, and how the output changes.\n",
    "\n",
    "I wrote down some examples here, in case you are unsure what to do, but you can do something different.\n",
    "\n",
    "Again, if you have any question or need help, we are here to help.\n",
    "\n",
    "I'll give you about 10 minutes, then I'll go with you over possible solutions for my examples above."
   ]
  },
  {
   "cell_type": "markdown",
   "id": "5c44ad9b-016e-4e14-bed0-dfbb1ec9a267",
   "metadata": {
    "editable": true,
    "slideshow": {
     "slide_type": ""
    },
    "tags": []
   },
   "source": [
    "#### _Example solution_\n",
    "What happens if you add a float and an integer?"
   ]
  },
  {
   "cell_type": "code",
   "execution_count": 17,
   "id": "96acf080",
   "metadata": {
    "editable": true,
    "slideshow": {
     "slide_type": ""
    },
    "tags": []
   },
   "outputs": [
    {
     "data": {
      "text/plain": [
       "4.0"
      ]
     },
     "execution_count": 17,
     "metadata": {},
     "output_type": "execute_result"
    }
   ],
   "source": [
    "1+3.0"
   ]
  },
  {
   "cell_type": "markdown",
   "id": "9801f584",
   "metadata": {
    "editable": true,
    "raw_mimetype": "",
    "slideshow": {
     "slide_type": "slide"
    },
    "tags": []
   },
   "source": [
    "#### _Example solution_\n",
    "What happens if you mix numbers and bools in arithmetic expressions?"
   ]
  },
  {
   "cell_type": "code",
   "execution_count": 18,
   "id": "d6c3ffbf",
   "metadata": {
    "editable": true,
    "slideshow": {
     "slide_type": ""
    },
    "tags": []
   },
   "outputs": [
    {
     "name": "stdout",
     "output_type": "stream",
     "text": [
      "2\n",
      "6\n"
     ]
    }
   ],
   "source": [
    "print(1+True)\n",
    "\n",
    "print(6-False)"
   ]
  },
  {
   "cell_type": "markdown",
   "id": "b395b5e9-825e-4ef5-b20b-8b4d320e2ee4",
   "metadata": {
    "editable": true,
    "slideshow": {
     "slide_type": "notes"
    },
    "tags": []
   },
   "source": [
    "##### _<ins>Notes:</ins>_"
   ]
  },
  {
   "cell_type": "markdown",
   "id": "dc6ba9f7",
   "metadata": {
    "editable": true,
    "slideshow": {
     "slide_type": "fragment"
    },
    "tags": []
   },
   "source": [
    "True is converted to one and False is converted to zero"
   ]
  },
  {
   "cell_type": "markdown",
   "id": "838fcd32",
   "metadata": {
    "editable": true,
    "slideshow": {
     "slide_type": "slide"
    },
    "tags": []
   },
   "source": [
    "#### _Example solution_\n",
    "How setting parenthesis changes the result of a large arithmetic expression?"
   ]
  },
  {
   "cell_type": "code",
   "execution_count": 19,
   "id": "542ea348",
   "metadata": {
    "editable": true,
    "slideshow": {
     "slide_type": ""
    },
    "tags": []
   },
   "outputs": [
    {
     "name": "stdout",
     "output_type": "stream",
     "text": [
      "-62491.333333333336\n",
      "-46868.0\n",
      "-3662109375.0\n",
      "-0.0001920860545524395\n"
     ]
    }
   ],
   "source": [
    "print(1+2/3-4*5**6+7)\n",
    "print(((1+2)/(3-4))*(5**6)+7)\n",
    "print(((1+2)/(3-4))*5**(6+7))\n",
    "print((1+2)/((3-4)*5**6+7))"
   ]
  },
  {
   "cell_type": "markdown",
   "id": "ae67e9a0",
   "metadata": {
    "editable": true,
    "slideshow": {
     "slide_type": "slide"
    },
    "tags": []
   },
   "source": [
    "#### _Example solution_\n",
    "Print statements that include variables of different data types."
   ]
  },
  {
   "cell_type": "code",
   "execution_count": 20,
   "id": "07990249",
   "metadata": {
    "editable": true,
    "slideshow": {
     "slide_type": ""
    },
    "tags": []
   },
   "outputs": [
    {
     "name": "stdout",
     "output_type": "stream",
     "text": [
      "Add: 4.4\n",
      "Hello Flower\n",
      "Flower this:  -2.4  and that:  True\n"
     ]
    }
   ],
   "source": [
    "my_int = 1\n",
    "my_float = 3.4\n",
    "my_string = \"Flower\"\n",
    "my_bool = True\n",
    "print(\"Add:\", my_int + my_float)\n",
    "print(\"Hello \" + my_string)\n",
    "print(my_string + \" this: \", my_bool - my_float, \" and that: \", my_bool)"
   ]
  },
  {
   "cell_type": "markdown",
   "id": "f82e2f14",
   "metadata": {
    "editable": true,
    "slideshow": {
     "slide_type": "slide"
    },
    "tags": []
   },
   "source": [
    "#### _Example solutions_\n",
    "Try to reproduce each of the error types\n"
   ]
  },
  {
   "cell_type": "markdown",
   "id": "57eb8650-2946-485d-a5e0-ea4a51730f1a",
   "metadata": {
    "editable": true,
    "slideshow": {
     "slide_type": ""
    },
    "tags": []
   },
   "source": [
    "##### 1. Syntax Error"
   ]
  },
  {
   "cell_type": "code",
   "execution_count": 21,
   "id": "9ac16206",
   "metadata": {
    "editable": true,
    "slideshow": {
     "slide_type": ""
    },
    "tags": []
   },
   "outputs": [
    {
     "ename": "SyntaxError",
     "evalue": "invalid syntax. Perhaps you forgot a comma? (3595548748.py, line 1)",
     "output_type": "error",
     "traceback": [
      "\u001b[0;36m  Cell \u001b[0;32mIn[21], line 1\u001b[0;36m\u001b[0m\n\u001b[0;31m    print(\"Hello\" 5)\u001b[0m\n\u001b[0m          ^\u001b[0m\n\u001b[0;31mSyntaxError\u001b[0m\u001b[0;31m:\u001b[0m invalid syntax. Perhaps you forgot a comma?\n"
     ]
    }
   ],
   "source": [
    "print(\"Hello\" 5)"
   ]
  },
  {
   "cell_type": "markdown",
   "id": "d70ca685",
   "metadata": {
    "editable": true,
    "slideshow": {
     "slide_type": ""
    },
    "tags": []
   },
   "source": [
    "##### 2. Semantic Error"
   ]
  },
  {
   "cell_type": "code",
   "execution_count": 22,
   "id": "87fc9f69",
   "metadata": {
    "editable": true,
    "slideshow": {
     "slide_type": ""
    },
    "tags": []
   },
   "outputs": [
    {
     "name": "stdout",
     "output_type": "stream",
     "text": [
      "7+5 =  2\n"
     ]
    }
   ],
   "source": [
    "print(\"7+5 = \", 1+1)"
   ]
  },
  {
   "cell_type": "markdown",
   "id": "9d7ea0d4",
   "metadata": {
    "@deathbeds/jupyterlab-fonts": {
     "styles": {
      "": {
       "body[data-jp-deck-mode='presenting'] &": {
        "z-index": "3"
       }
      }
     }
    },
    "editable": true,
    "slideshow": {
     "slide_type": "slide"
    },
    "tags": []
   },
   "source": [
    "##### 3. Runtime Error"
   ]
  },
  {
   "cell_type": "code",
   "execution_count": 23,
   "id": "2899a78f",
   "metadata": {
    "editable": true,
    "slideshow": {
     "slide_type": ""
    },
    "tags": []
   },
   "outputs": [
    {
     "ename": "TypeError",
     "evalue": "unsupported operand type(s) for /: 'int' and 'str'",
     "output_type": "error",
     "traceback": [
      "\u001b[0;31m---------------------------------------------------------------------------\u001b[0m",
      "\u001b[0;31mTypeError\u001b[0m                                 Traceback (most recent call last)",
      "Cell \u001b[0;32mIn[23], line 2\u001b[0m\n\u001b[1;32m      1\u001b[0m x \u001b[38;5;241m=\u001b[39m \u001b[38;5;124m\"\u001b[39m\u001b[38;5;124mthisisastring\u001b[39m\u001b[38;5;124m\"\u001b[39m \u001b[38;5;66;03m#Make this an input during runtime, see next section.\u001b[39;00m\n\u001b[0;32m----> 2\u001b[0m \u001b[38;5;28mprint\u001b[39m(\u001b[38;5;124m\"\u001b[39m\u001b[38;5;124m5/x=\u001b[39m\u001b[38;5;124m\"\u001b[39m, \u001b[38;5;241;43m5\u001b[39;49m\u001b[38;5;241;43m/\u001b[39;49m\u001b[43mx\u001b[49m)\n",
      "\u001b[0;31mTypeError\u001b[0m: unsupported operand type(s) for /: 'int' and 'str'"
     ]
    }
   ],
   "source": [
    "x = \"thisisastring\" #Make this an input during runtime, see next section.\n",
    "print(\"5/x=\", 5/x)"
   ]
  },
  {
   "cell_type": "markdown",
   "id": "33b369e2",
   "metadata": {
    "editable": true,
    "slideshow": {
     "slide_type": "slide"
    },
    "tags": []
   },
   "source": [
    "# <ins>2.</ins> Getting Data in and out"
   ]
  },
  {
   "cell_type": "markdown",
   "id": "1472934a",
   "metadata": {
    "editable": true,
    "slideshow": {
     "slide_type": "notes"
    },
    "tags": []
   },
   "source": [
    "Now that we have covered the basics, let's move on to the next level. I expect that most of you are interested in processing data in one way or the other. Most times, we do not want to explicitly write our data into our code, which is also called \"hardcoding\", and has a bad reputation.\n",
    "\n",
    "Instead, we want to be able to provide data during runtime, and have a general program that is able to process the data.\n",
    "\n",
    "How then do we get the data in and out of our program?"
   ]
  },
  {
   "cell_type": "markdown",
   "id": "02581a8a",
   "metadata": {
    "editable": true,
    "slideshow": {
     "slide_type": "slide"
    },
    "tags": []
   },
   "source": [
    "## User input\n",
    "The `print` function enables a Python program to display textual information to the user. The `input` function maybe used to obtain information from the user."
   ]
  },
  {
   "cell_type": "code",
   "execution_count": 26,
   "id": "bd260099",
   "metadata": {
    "editable": true,
    "slideshow": {
     "slide_type": ""
    },
    "tags": []
   },
   "outputs": [
    {
     "name": "stdout",
     "output_type": "stream",
     "text": [
      " Hallo\n"
     ]
    },
    {
     "name": "stdout",
     "output_type": "stream",
     "text": [
      "Hallo\n"
     ]
    },
    {
     "data": {
      "text/plain": [
       "str"
      ]
     },
     "execution_count": 26,
     "metadata": {},
     "output_type": "execute_result"
    }
   ],
   "source": [
    "# Get some user input\n",
    "x = input()\n",
    "# print it\n",
    "print(x)\n",
    "# check the type of the input\n",
    "type(x)   # This will be a string if you don't convert it"
   ]
  },
  {
   "cell_type": "code",
   "execution_count": 27,
   "id": "c223de52",
   "metadata": {
    "editable": true,
    "slideshow": {
     "slide_type": ""
    },
    "tags": []
   },
   "outputs": [
    {
     "name": "stdout",
     "output_type": "stream",
     "text": [
      "What's you name? Elrond\n"
     ]
    },
    {
     "name": "stdout",
     "output_type": "stream",
     "text": [
      "Hello Elrond\n"
     ]
    }
   ],
   "source": [
    "# Implement a greeting function with user input\n",
    "name = input(\"What's you name?\")\n",
    "print(\"Hello \" + name)"
   ]
  },
  {
   "cell_type": "markdown",
   "id": "c6ca080e-6996-404e-a287-f60b0867b92b",
   "metadata": {
    "editable": true,
    "slideshow": {
     "slide_type": "notes"
    },
    "tags": []
   },
   "source": [
    "##### _<ins>Notes:</ins>_"
   ]
  },
  {
   "cell_type": "markdown",
   "id": "3858a4ca",
   "metadata": {
    "editable": true,
    "slideshow": {
     "slide_type": "notes"
    },
    "tags": []
   },
   "source": [
    "As an equivalent to the `print` built-in function, there is the `input` built-in function. It just takes the input from the command line or terminal, and you can do with it whatever you like. For example, here I am putting it into a variable `x`, and then output it. You can also add a prompting message to the user to tell them what kind of input you expect. Note that, just as `print` outputs a string, any user input will be interpreted as of type `str`, regardless of whether it is made out of letters, numbers, or symbols. So you might need to convert it to whatever data type you need it to be.\n",
    "\n",
    "This kind of user input is, of course, not suited for inputting large data sets. It is rather for getting in, for example, parameters, the path to the data set, or other settings or instructions to the program."
   ]
  },
  {
   "cell_type": "markdown",
   "id": "c95e8c06-8ea0-4194-a74a-e0ec3c580b72",
   "metadata": {
    "editable": true,
    "slideshow": {
     "slide_type": "slide"
    },
    "tags": []
   },
   "source": [
    "## Interlude: Indented blocks in python\n",
    "Python uses indention to separate blocs after a `:`\n",
    "```python\n",
    "some_functionality_on_block:\n",
    "   first_statement_in_block()\n",
    "   second_statement_in_block()\n",
    "statement_not_in_block()\n",
    "```\n"
   ]
  },
  {
   "cell_type": "markdown",
   "id": "725818ec-731d-4a42-840e-db4cd66b11ea",
   "metadata": {
    "editable": true,
    "slideshow": {
     "slide_type": ""
    },
    "tags": []
   },
   "source": [
    "##### _<ins>Notes:</ins>_"
   ]
  },
  {
   "cell_type": "markdown",
   "id": "0bfe514f-eab7-4b70-a04d-aec1ba6ecb1b",
   "metadata": {
    "editable": true,
    "slideshow": {
     "slide_type": "notes"
    },
    "tags": []
   },
   "source": [
    "We will now encounter indented blocks. In contrast to a lot of other programming languages, code blocks in python are denoted by an indentation, not brackets."
   ]
  },
  {
   "cell_type": "markdown",
   "id": "e0949fb7",
   "metadata": {
    "editable": true,
    "slideshow": {
     "slide_type": "slide"
    },
    "tags": []
   },
   "source": [
    "## Reading and writing files"
   ]
  },
  {
   "cell_type": "markdown",
   "id": "8e081caa",
   "metadata": {
    "editable": true,
    "slideshow": {
     "slide_type": ""
    },
    "tags": []
   },
   "source": [
    "```python\n",
    "# Create a file object\n",
    "with open(\"testfile.txt\", 'w') as my_file:\n",
    "    ...\n",
    "```\n",
    "Two things to note here:\n",
    " - My object `my_file` is different from my file `\"testfile\"`!\n",
    " - There are different modes:\n",
    "     - read: `'r'`\n",
    "     - (over-)write: `'w'`\n",
    "     - append: `'a'`\n",
    "     - read+write: `'w+'` or `'r+'`"
   ]
  },
  {
   "cell_type": "markdown",
   "id": "bb23b6fc-5808-4bbb-9d55-65ed16c7de18",
   "metadata": {
    "editable": true,
    "slideshow": {
     "slide_type": "notes"
    },
    "tags": []
   },
   "source": [
    "##### _<ins>Notes:</ins>_"
   ]
  },
  {
   "cell_type": "markdown",
   "id": "c1c9851b",
   "metadata": {
    "editable": true,
    "slideshow": {
     "slide_type": "notes"
    },
    "tags": []
   },
   "source": [
    "The actual data input will usually happen over a file. Follow me in creating a new file.\n",
    "\n",
    "[demonstrate] As you will see, there is now a new file called `\"testfile.txt\"` in your working directory.\n",
    "\n",
    "[show] But that is not the only thing that happened. At the same time, a file object called `my_file` was created in your program. These are two different things. For example, if I rename or delete the file object, my file in the file system won't change. This might sound trivial, but I thought I mention it, as it could lead to confusion.\n",
    "\n",
    "The `'w'` here stands for \"_write_\". If there is already a file with this name, we will now overwrite its contents. If we instead open the file with `'a'` for \"_append_\", we start writing after the existing content. We can also open the file in _read-only_ mode, or in _read-and-write_ mode."
   ]
  },
  {
   "cell_type": "markdown",
   "id": "6e71b49e",
   "metadata": {
    "editable": true,
    "slideshow": {
     "slide_type": "slide"
    },
    "tags": []
   },
   "source": [
    "### Writing files and formatting strings (C-style)"
   ]
  },
  {
   "cell_type": "code",
   "execution_count": 28,
   "id": "8d1bff53",
   "metadata": {
    "editable": true,
    "slideshow": {
     "slide_type": ""
    },
    "tags": []
   },
   "outputs": [],
   "source": [
    "with open(\"testfile.txt\", \"w\") as my_file:\n",
    "    # Write - note special characters!\n",
    "    my_file.write(\"This is some text. \\n And some more.\")\n",
    "    my_file.write(\"\\n\\nI can also add numbers like this: %d %d \\n\" %(22, 333))\n",
    "\n",
    "    my_file.write(str(222))"
   ]
  },
  {
   "cell_type": "markdown",
   "id": "541a01e7",
   "metadata": {
    "editable": true,
    "slideshow": {
     "slide_type": ""
    },
    "tags": []
   },
   "source": [
    "see also [https://www.learnpython.org/en/String\\_Formatting](https://www.learnpython.org/en/String_Formatting)"
   ]
  },
  {
   "cell_type": "markdown",
   "id": "29bc9604-f642-4041-b49b-ff942bc2c44c",
   "metadata": {
    "editable": true,
    "slideshow": {
     "slide_type": "notes"
    },
    "tags": []
   },
   "source": [
    "##### _<ins>Notes:</ins>_"
   ]
  },
  {
   "cell_type": "markdown",
   "id": "f475d1f8",
   "metadata": {
    "editable": true,
    "raw_mimetype": "",
    "slideshow": {
     "slide_type": "notes"
    },
    "tags": []
   },
   "source": [
    "Now we are writing some text and numbers into our file. Note that, again, everything needs to be a _string_. We can put in numbers either by converting them directly to a string, or by putting in a place holder, like this \"_percent d_\", for numerical or decimal values, and then putting in the number after the string. The \"_backslash n_\" symbol stands for a line break.\n",
    "\n",
    "The single backslash is a line continuation character and tells the interpreter that we are not done yet with that command, but that it continues in the next line."
   ]
  },
  {
   "cell_type": "markdown",
   "id": "2e0ad1cf",
   "metadata": {
    "editable": true,
    "slideshow": {
     "slide_type": "slide"
    },
    "tags": []
   },
   "source": [
    "### Writing files (f-strings)"
   ]
  },
  {
   "cell_type": "code",
   "execution_count": 29,
   "id": "068b4555",
   "metadata": {
    "editable": true,
    "slideshow": {
     "slide_type": ""
    },
    "tags": []
   },
   "outputs": [],
   "source": [
    "number1 = 44\n",
    "number2 = 111\n",
    "\n",
    "with open(\"testfile.txt\", \"a\") as my_file:\n",
    "    # Append to the opened file\n",
    "    my_file.write(f\"\\n I have opened the same file again.\\n More numbers: {number1} {number2}.\")"
   ]
  },
  {
   "cell_type": "markdown",
   "id": "e7591b70",
   "metadata": {
    "editable": true,
    "slideshow": {
     "slide_type": ""
    },
    "tags": []
   },
   "source": [
    "see also [f-strings](https://realpython.com/python-f-strings/)"
   ]
  },
  {
   "cell_type": "markdown",
   "id": "8150c5fa-9a35-490b-80bb-118ceaf9f5f5",
   "metadata": {
    "editable": true,
    "slideshow": {
     "slide_type": "notes"
    },
    "tags": []
   },
   "source": [
    "##### _<ins>Notes:</ins>_"
   ]
  },
  {
   "cell_type": "markdown",
   "id": "ad40eb1f",
   "metadata": {
    "editable": true,
    "slideshow": {
     "slide_type": "notes"
    },
    "tags": []
   },
   "source": [
    "This similar as on the previous slide. We open the same file in _append_-mode and add some more lines, using _f-strings_ instead of _C-style_ string formatting for including numbers.\n",
    "\n",
    "_F-strings_ are faster.\n",
    "\n",
    "Try for yourself to write something into the file using either or both styles, and then check the content of your file! We will use this file in a moment to read the content back into a Python program.\n",
    "\n",
    "[give them some minutes to do that]"
   ]
  },
  {
   "cell_type": "markdown",
   "id": "d9043124",
   "metadata": {
    "editable": true,
    "slideshow": {
     "slide_type": "slide"
    },
    "tags": []
   },
   "source": [
    "### Reading files"
   ]
  },
  {
   "cell_type": "code",
   "execution_count": 30,
   "id": "ca01525a",
   "metadata": {
    "editable": true,
    "slideshow": {
     "slide_type": ""
    },
    "tags": []
   },
   "outputs": [
    {
     "name": "stdout",
     "output_type": "stream",
     "text": [
      "This is some text. \n",
      " And some more.\n",
      "\n",
      "I can also add numbers like this: 22 333 \n",
      "222\n",
      " I have opened the same file again.\n",
      " More numbers: 44 111.\n"
     ]
    }
   ],
   "source": [
    "with open(\"testfile.txt\", \"r\") as my_file:\n",
    "    # Read it and print it to screen\n",
    "    print(my_file.read())\n",
    "\n",
    "    # Try this:\n",
    "    #print(my_file.read(7))\n",
    "    #print(my_file.readline())\n",
    "    #print(my_file.readlines())"
   ]
  },
  {
   "cell_type": "markdown",
   "id": "725b1a2d-defa-4062-84e9-9b687d5c688a",
   "metadata": {
    "editable": true,
    "slideshow": {
     "slide_type": "notes"
    },
    "tags": []
   },
   "source": [
    "##### _<ins>Notes:</ins>_"
   ]
  },
  {
   "cell_type": "markdown",
   "id": "8c3993d6",
   "metadata": {
    "editable": true,
    "slideshow": {
     "slide_type": "notes"
    },
    "tags": []
   },
   "source": [
    "In the next step, we will read out data from the file that we have just created. There are different ways of doing this. In this example, I combine the reading directly with a `print` statement, so that I see the result. Usually you would probably put the output of the reading operation into a `variable` and continue to process it.\n",
    "\n",
    "Have a go with these four different version of file reading. [give them some minutes]\n",
    "\n",
    "You have seen that you can read the whole file in one go, read single characters from the file, or a whole line. If you apply the `readline` command repeatedly, it will go on to the next line of your file.\n",
    "\n",
    "Interesting is the output of the `readlines` command. It gives you a structure that has all the lines of the file in it, as separate strings, divided by commas."
   ]
  },
  {
   "cell_type": "markdown",
   "id": "3fb27a3b-9aaa-47ea-a9a9-ec62e0569c07",
   "metadata": {
    "editable": true,
    "slideshow": {
     "slide_type": ""
    },
    "tags": []
   },
   "source": [
    "# <ins>**Part II**</ins>"
   ]
  },
  {
   "cell_type": "markdown",
   "id": "e119b3b5-ab7d-405d-b1be-d28d76d96462",
   "metadata": {
    "editable": true,
    "slideshow": {
     "slide_type": ""
    },
    "tags": []
   },
   "source": [
    "# <ins>3.</ins> Data structures"
   ]
  },
  {
   "cell_type": "markdown",
   "id": "ebae22d1-a7c9-4c26-8868-0623587b004f",
   "metadata": {},
   "source": [
    "Python can work not only with basic data types mentioned before, but also with compound ones. Compound data types in Python are a powerful tool for organizing and storing data. Among the most commonly used are _lists_ and _dictionaries_. `For`-loops described in the next section often iterate over elements of lists or pairs of keys and values in dictionaries. But they can also iterate over a series of numbers generated for indexing or calculations by the `range()` function."
   ]
  },
  {
   "cell_type": "markdown",
   "id": "1dac7514-a2ef-41c6-b3cd-10d94a59d826",
   "metadata": {},
   "source": [
    "## Lists"
   ]
  },
  {
   "cell_type": "markdown",
   "id": "a2b3841c-37d4-4856-8615-02acf5b888f0",
   "metadata": {},
   "source": [
    "_Lists_ are ordered collections of items."
   ]
  },
  {
   "cell_type": "markdown",
   "id": "009f9a53-2606-42a6-b79e-dee1a4af2fcf",
   "metadata": {
    "editable": true,
    "slideshow": {
     "slide_type": ""
    },
    "tags": []
   },
   "source": [
    "* A list contains items separated by commas and enclosed with square brackets `[]`\n",
    "* A list can contain different datatypes (`int`, `float`, `str`, etc.)\n",
    "* Similar to strings, list members can be accessed using their associated index which is zero-based\n",
    "* Common list functions: `append()`, `remove()`, `pop()`"
   ]
  },
  {
   "cell_type": "markdown",
   "id": "7326db2e-c3ee-4259-b672-ce1af2e1d3cf",
   "metadata": {},
   "source": [
    "### _<ins>Examples:</ins>_"
   ]
  },
  {
   "cell_type": "code",
   "execution_count": 2,
   "id": "a40a42bd-9677-4e3c-ac7b-a1d9549b6748",
   "metadata": {},
   "outputs": [],
   "source": [
    "# Creating/Initialising a list\n",
    "my_list = [1, 2, 3, 4, 5]"
   ]
  },
  {
   "cell_type": "code",
   "execution_count": 3,
   "id": "3f3f2670",
   "metadata": {
    "editable": true,
    "slideshow": {
     "slide_type": ""
    },
    "tags": []
   },
   "outputs": [
    {
     "name": "stdout",
     "output_type": "stream",
     "text": [
      "[1, 2, 3, 4, 5]\n"
     ]
    }
   ],
   "source": [
    "# Print a list\n",
    "print(my_list)"
   ]
  },
  {
   "cell_type": "code",
   "execution_count": 4,
   "id": "c25c03dc",
   "metadata": {
    "editable": true,
    "slideshow": {
     "slide_type": ""
    },
    "tags": []
   },
   "outputs": [
    {
     "name": "stdout",
     "output_type": "stream",
     "text": [
      "4\n"
     ]
    }
   ],
   "source": [
    "# Print an element of the list. Note: use [] not () for item indexing\n",
    "print(my_list[3])"
   ]
  },
  {
   "cell_type": "code",
   "execution_count": 5,
   "id": "ced07334",
   "metadata": {
    "editable": true,
    "slideshow": {
     "slide_type": ""
    },
    "tags": []
   },
   "outputs": [
    {
     "name": "stdout",
     "output_type": "stream",
     "text": [
      "1\n"
     ]
    }
   ],
   "source": [
    "# Print the first element of the list. Indexing starts with 0!\n",
    "print(my_list[0])"
   ]
  },
  {
   "cell_type": "code",
   "execution_count": 6,
   "id": "973879c8",
   "metadata": {
    "editable": true,
    "slideshow": {
     "slide_type": ""
    },
    "tags": []
   },
   "outputs": [
    {
     "name": "stdout",
     "output_type": "stream",
     "text": [
      "5\n"
     ]
    }
   ],
   "source": [
    "# Print the last element of the list using backward indexing\n",
    "print(my_list[-1])  # Go backwards"
   ]
  },
  {
   "cell_type": "code",
   "execution_count": 7,
   "id": "1cd9ec23",
   "metadata": {
    "editable": true,
    "slideshow": {
     "slide_type": ""
    },
    "tags": []
   },
   "outputs": [
    {
     "name": "stdout",
     "output_type": "stream",
     "text": [
      "[2, 3, 4]\n"
     ]
    }
   ],
   "source": [
    "# Print an internal slice of the list\n",
    "print(my_list[1:4]) # Include first, exclude last"
   ]
  },
  {
   "cell_type": "code",
   "execution_count": 8,
   "id": "c2333275",
   "metadata": {
    "editable": true,
    "slideshow": {
     "slide_type": ""
    },
    "tags": []
   },
   "outputs": [
    {
     "name": "stdout",
     "output_type": "stream",
     "text": [
      "[1, 2]\n"
     ]
    }
   ],
   "source": [
    "# Print a slice of the list from the beginning\n",
    "print(my_list[:2])  # More slicing"
   ]
  },
  {
   "cell_type": "code",
   "execution_count": 9,
   "id": "8c1cb056-0d88-4d96-8ad2-f04bd41b4bce",
   "metadata": {},
   "outputs": [
    {
     "name": "stdout",
     "output_type": "stream",
     "text": [
      "3\n"
     ]
    }
   ],
   "source": [
    "# Different datatypes in lists, length of lists\n",
    "list1 = [1, 'A', 4.6]\n",
    "list2 = [1, 2, 5]\n",
    "print(len(list1))"
   ]
  },
  {
   "cell_type": "code",
   "execution_count": 10,
   "id": "080d2cd2-777a-4a6e-bd36-d792b1a034b3",
   "metadata": {},
   "outputs": [
    {
     "name": "stdout",
     "output_type": "stream",
     "text": [
      "['A', 4.6]\n"
     ]
    }
   ],
   "source": [
    "# Print out `list1`, a slice containing the last element\n",
    "print(list1[1:])"
   ]
  },
  {
   "cell_type": "code",
   "execution_count": 13,
   "id": "23a6942b-8cef-4089-ad95-2f97b4c9ce32",
   "metadata": {},
   "outputs": [
    {
     "name": "stdout",
     "output_type": "stream",
     "text": [
      "[1, 'A', 4.6, 1, 2, 5]\n"
     ]
    }
   ],
   "source": [
    "# Concatenate two lists\n",
    "print(list1 + list2)"
   ]
  },
  {
   "cell_type": "markdown",
   "id": "53a7b833-8e69-43e1-bc7c-8462a5672e38",
   "metadata": {
    "editable": true,
    "slideshow": {
     "slide_type": "notes"
    },
    "tags": []
   },
   "source": [
    "##### _<ins>Notes:</ins>_"
   ]
  },
  {
   "cell_type": "markdown",
   "id": "7c1ea929",
   "metadata": {
    "editable": true,
    "slideshow": {
     "slide_type": "notes"
    },
    "tags": []
   },
   "source": [
    "This kind of structure is called a _list_, and it is an essential data structure in Python programming.\n",
    "\n",
    "We can access the entries using square brackets. The first entry in the list is entry number zero, because we are programmers now, and programmers and computer scientists like to start counting from zero. We can even go backwards, in a periodic sense, and land at the last entry of the list at -1, the second-last at -2, and so on. We can take a slice of the list, for example the entries one to three -- note that, in this notation, the first entry given is included and the last excluded.\n",
    "If we just put a colon, we mean that we go all the way to that side, so here we go from the beginning of the list, which is entry zero, to entry 1. You can just put a colon to indicate you mean the whole list."
   ]
  },
  {
   "cell_type": "markdown",
   "id": "bcbb700e-c0c2-457b-ad23-54c61ede33f4",
   "metadata": {
    "editable": true,
    "slideshow": {
     "slide_type": "notes"
    },
    "tags": []
   },
   "source": [
    "##### _<ins>Notes:</ins>_"
   ]
  },
  {
   "cell_type": "markdown",
   "id": "396ddd2b",
   "metadata": {
    "editable": true,
    "slideshow": {
     "slide_type": "notes"
    },
    "tags": []
   },
   "source": [
    "[https://www.w3schools.com/python/python_lists.asp](https://www.w3schools.com/python/python_lists.asp)\n",
    "\n",
    "This is something that is worth getting your head around. Please go to the website given here, read through it and try their examples. At the end, you will find a list of methods on lists, with links to further information. Even though the website uses all toy examples, these are really useful tools in data processing. Try to think how you would use these methods on your actual research data.\n",
    "\n",
    "I'll give you 10 minutes, then we'll continue."
   ]
  },
  {
   "cell_type": "markdown",
   "id": "e940e7c1-6a43-4aad-9cb0-b1a2da1b8bde",
   "metadata": {
    "editable": true,
    "slideshow": {
     "slide_type": "slide"
    },
    "tags": []
   },
   "source": [
    "## Dictionaries"
   ]
  },
  {
   "cell_type": "markdown",
   "id": "8c1f32f3-e75f-467c-89cb-b1ca572b7771",
   "metadata": {},
   "source": [
    "Key value pairs are encoded in _dictionaries_."
   ]
  },
  {
   "cell_type": "markdown",
   "id": "646ee638-6662-41a1-a358-02d2e96d6fbe",
   "metadata": {},
   "source": [
    " - Dictionaries are like labelled drawers\n",
    "    - the label of the drawer is called a key.\n",
    "    - however dictionaries are \"kind of\" unordered.\n",
    "    - the content of that drawer is called the value.\n",
    "    - Like lists the types of keys and values do not have to match\n",
    "    - keys need to be \"hashable\". Usually basic data types\n",
    "\n",
    "The syntax is ``{key: value}``.\n"
   ]
  },
  {
   "cell_type": "markdown",
   "id": "07d55718",
   "metadata": {
    "editable": true,
    "slideshow": {
     "slide_type": null
    },
    "tags": []
   },
   "source": [
    "### _<ins>Examples:</ins>_"
   ]
  },
  {
   "cell_type": "code",
   "execution_count": 61,
   "id": "35e0f2ea",
   "metadata": {
    "editable": true,
    "slideshow": {
     "slide_type": ""
    },
    "tags": []
   },
   "outputs": [
    {
     "data": {
      "text/plain": [
       "{'temperature_k': 298.5, 'pressure': 1.015}"
      ]
     },
     "execution_count": 61,
     "metadata": {},
     "output_type": "execute_result"
    }
   ],
   "source": [
    "# Creating a new dictionary\n",
    "my_dict = {'temperature_k': 298.5, 'pressure': 1.015}\n",
    "my_dict"
   ]
  },
  {
   "cell_type": "code",
   "execution_count": 60,
   "id": "af048f2b",
   "metadata": {
    "editable": true,
    "slideshow": {
     "slide_type": ""
    },
    "tags": []
   },
   "outputs": [
    {
     "data": {
      "text/plain": [
       "{'temperature_k': 298.5, 'pressure': 1.015, 'volume': 100.0}"
      ]
     },
     "execution_count": 60,
     "metadata": {},
     "output_type": "execute_result"
    }
   ],
   "source": [
    "# Adding a new key-value pair\n",
    "my_dict['volume'] = 100.0\n",
    "my_dict"
   ]
  },
  {
   "cell_type": "code",
   "execution_count": 62,
   "id": "f4d0e5ba-9288-4929-9177-1ab4e1a7d9b2",
   "metadata": {},
   "outputs": [
    {
     "name": "stdout",
     "output_type": "stream",
     "text": [
      "1.015\n"
     ]
    }
   ],
   "source": [
    "# Access a specific value\n",
    "print(my_dict['pressure'])"
   ]
  },
  {
   "cell_type": "code",
   "execution_count": 63,
   "id": "7632c43b-368b-4573-a1b4-591eeef74b7d",
   "metadata": {},
   "outputs": [
    {
     "name": "stdout",
     "output_type": "stream",
     "text": [
      "{'pressure': 1.015}\n"
     ]
    }
   ],
   "source": [
    "# Deleting a key-value pair\n",
    "del my_dict['temperature_k']\n",
    "print(my_dict)"
   ]
  },
  {
   "cell_type": "markdown",
   "id": "a116089d-8ec8-473d-95f4-426982de2ad0",
   "metadata": {},
   "source": [
    "## _Range()_ function"
   ]
  },
  {
   "cell_type": "markdown",
   "id": "f5cd108d-37a4-4f5e-94a5-ca90ed7fd178",
   "metadata": {},
   "source": [
    "The `range()` function in Python is used to generate a sequence of numbers. It takes up to three arguments: `start`, `stop`, and `step`. By default, `start` is 0, `step` is 1, and the sequence ends just before the `stop` value."
   ]
  },
  {
   "cell_type": "markdown",
   "id": "a3449bd5-707d-4340-8aba-9cac26a7c529",
   "metadata": {},
   "source": [
    "* `range(stop)`: Generates numbers from 0 to stop - 1.\n",
    "* `range(start, stop)`: Generates numbers from start to stop - 1.\n",
    "* `range(start, stop, step)`: Generates numbers from start to stop - 1, stepping by step.\n",
    "* `range()` can generate both increasing and decreasing sequences by changing the step argument.\n",
    "* The generated sequence is immutable, but can be converted to a list or iterated directly."
   ]
  },
  {
   "cell_type": "markdown",
   "id": "4ebff428-37bd-496d-b44e-39865e9b2da5",
   "metadata": {
    "editable": true,
    "slideshow": {
     "slide_type": null
    },
    "tags": []
   },
   "source": [
    "### _<ins>Examples:</ins>_"
   ]
  },
  {
   "cell_type": "code",
   "execution_count": 22,
   "id": "e9a492de-bb32-4dc2-8a62-db497c84a051",
   "metadata": {},
   "outputs": [
    {
     "data": {
      "text/plain": [
       "range(0, 10)"
      ]
     },
     "execution_count": 22,
     "metadata": {},
     "output_type": "execute_result"
    }
   ],
   "source": [
    "range(10)"
   ]
  },
  {
   "cell_type": "code",
   "execution_count": 23,
   "id": "4ae80053-68b8-4a37-b71b-3672f63a329d",
   "metadata": {},
   "outputs": [
    {
     "data": {
      "text/plain": [
       "[0, 1, 2, 3, 4, 5, 6, 7, 8, 9]"
      ]
     },
     "execution_count": 23,
     "metadata": {},
     "output_type": "execute_result"
    }
   ],
   "source": [
    "list(range(10))"
   ]
  },
  {
   "cell_type": "code",
   "execution_count": 24,
   "id": "5f3dcae5-ffc2-4a9f-b526-71a4efb88855",
   "metadata": {},
   "outputs": [
    {
     "data": {
      "text/plain": [
       "[1, 2, 3, 4, 5, 6, 7, 8, 9]"
      ]
     },
     "execution_count": 24,
     "metadata": {},
     "output_type": "execute_result"
    }
   ],
   "source": [
    "list(range(1,10))"
   ]
  },
  {
   "cell_type": "code",
   "execution_count": 25,
   "id": "fc327a35-16ac-4b17-b61d-a74e433489ec",
   "metadata": {},
   "outputs": [
    {
     "data": {
      "text/plain": [
       "[3, 4, 5, 6]"
      ]
     },
     "execution_count": 25,
     "metadata": {},
     "output_type": "execute_result"
    }
   ],
   "source": [
    "list(range(3,7))"
   ]
  },
  {
   "cell_type": "code",
   "execution_count": 26,
   "id": "a7341711-6764-47c4-a402-e845a841583f",
   "metadata": {},
   "outputs": [
    {
     "data": {
      "text/plain": [
       "[2, 5, 8, 11, 14]"
      ]
     },
     "execution_count": 26,
     "metadata": {},
     "output_type": "execute_result"
    }
   ],
   "source": [
    "list(range(2,15,3))"
   ]
  },
  {
   "cell_type": "code",
   "execution_count": 27,
   "id": "56d7641a-12b8-4a39-9d52-f07bb6a6cda7",
   "metadata": {},
   "outputs": [
    {
     "data": {
      "text/plain": [
       "[9, 8, 7, 6, 5, 4, 3]"
      ]
     },
     "execution_count": 27,
     "metadata": {},
     "output_type": "execute_result"
    }
   ],
   "source": [
    "list(range(9,2,-1))"
   ]
  },
  {
   "cell_type": "markdown",
   "id": "bdd87b0c",
   "metadata": {
    "editable": true,
    "slideshow": {
     "slide_type": "slide"
    },
    "tags": []
   },
   "source": [
    "## Have a Play!"
   ]
  },
  {
   "cell_type": "markdown",
   "id": "b8c6ae2f-80c6-46aa-89b4-eaa9756a95b1",
   "metadata": {},
   "source": [
    "### _Exercises_"
   ]
  },
  {
   "cell_type": "markdown",
   "id": "5f63af95-0d7c-4664-b4f2-6cdf4192a156",
   "metadata": {},
   "source": [
    "**1) Lists**: Create a list of numbers from 1 to 20 and then print the elements at every second index."
   ]
  },
  {
   "cell_type": "code",
   "execution_count": 40,
   "id": "6ea37182-685a-4e0c-be33-8eef12b10292",
   "metadata": {},
   "outputs": [
    {
     "name": "stdout",
     "output_type": "stream",
     "text": [
      "[1, 3, 5, 7, 9, 11, 13, 15, 17, 19]\n"
     ]
    }
   ],
   "source": [
    "my_list = list(range(1, 21))\n",
    "print(my_list[::2])"
   ]
  },
  {
   "cell_type": "markdown",
   "id": "5cf9a81f-cdc4-49cd-8db2-583f24580836",
   "metadata": {},
   "source": [
    "**2) Dictionaries**: Create a dictionary that maps some cities to their population and then add two more cities."
   ]
  },
  {
   "cell_type": "code",
   "execution_count": 41,
   "id": "2e99caa8-27de-4468-95a3-96fec7575866",
   "metadata": {},
   "outputs": [
    {
     "name": "stdout",
     "output_type": "stream",
     "text": [
      "{'New York': 8000000, 'London': 9000000, 'Tokyo': 14000000, 'Berlin': 3500000, 'Paris': 2200000}\n"
     ]
    }
   ],
   "source": [
    "cities = {\"New York\": 8000000, \"London\": 9000000, \"Tokyo\": 14000000}\n",
    "cities[\"Berlin\"] = 3500000\n",
    "cities[\"Paris\"] = 2200000\n",
    "print(cities)"
   ]
  },
  {
   "cell_type": "markdown",
   "id": "95e3cdb8",
   "metadata": {
    "editable": true,
    "jp-MarkdownHeadingCollapsed": true,
    "slideshow": {
     "slide_type": ""
    },
    "tags": []
   },
   "source": [
    "**3)** Create a dictionary describing a person and increase age and height from the starting values"
   ]
  },
  {
   "cell_type": "code",
   "execution_count": 44,
   "id": "d514e205",
   "metadata": {
    "editable": true,
    "slideshow": {
     "slide_type": ""
    },
    "tags": []
   },
   "outputs": [
    {
     "name": "stdout",
     "output_type": "stream",
     "text": [
      "{'name': 'Susan', 'age': 8, 'height': 1.2}\n",
      "{'name': 'Susan', 'age': 9, 'height': 1.3}\n"
     ]
    }
   ],
   "source": [
    "person = {'name': 'Susan', 'age': 8, 'height': 1.2}\n",
    "print(person)\n",
    "person['age'] += 1\n",
    "person['height'] += 0.1\n",
    "print(person)"
   ]
  },
  {
   "cell_type": "markdown",
   "id": "056d0428-1001-4089-b473-7ffaf231d0ea",
   "metadata": {
    "editable": true,
    "slideshow": {
     "slide_type": ""
    },
    "tags": []
   },
   "source": [
    "**4) Range**: Create a list of even numbers between 10 and 30 using `range()`, and print it."
   ]
  },
  {
   "cell_type": "code",
   "execution_count": 45,
   "id": "6d409742-78de-4fa1-8ce9-503e29473031",
   "metadata": {
    "editable": true,
    "slideshow": {
     "slide_type": ""
    },
    "tags": []
   },
   "outputs": [
    {
     "name": "stdout",
     "output_type": "stream",
     "text": [
      "[10, 12, 14, 16, 18, 20, 22, 24, 26, 28, 30]\n"
     ]
    }
   ],
   "source": [
    "even_numbers = list(range(10, 31, 2))\n",
    "print(even_numbers)"
   ]
  },
  {
   "cell_type": "markdown",
   "id": "0c79e292-a6c0-4991-93c6-134df9f163b2",
   "metadata": {
    "editable": true,
    "slideshow": {
     "slide_type": ""
    },
    "tags": []
   },
   "source": [
    "# <ins>4.</ins> Conditional and control flow statements"
   ]
  },
  {
   "cell_type": "markdown",
   "id": "c0b2e9c6-1806-49fa-a9fb-e73adf04fd04",
   "metadata": {},
   "source": [
    "## _If_-statements"
   ]
  },
  {
   "cell_type": "markdown",
   "id": "a6b82dd3-a7f5-474c-b336-3fc631fcf9d1",
   "metadata": {},
   "source": [
    "An `if`-statement evaluates a condition (an expression that returns `True` or `False`) and executes a block of code if the condition is true. Python uses conditional operators, colons `:` and indentation to define blocks of code. The `elif` (else if) statement allows checking multiple conditions sequentially. Once a condition evaluates to `True`, the rest are ignored. If no conditions are true, you can use an `else` statement as a fallback."
   ]
  },
  {
   "cell_type": "markdown",
   "id": "8c9e65b6-e136-43fb-a2ec-e004170619a1",
   "metadata": {},
   "source": [
    "Examples of conditional operators (expressions and their descriptions):\n",
    "\n",
    "* `if x>3:` .. if `x` is greater than 3\n",
    "* `if x>=3:` .. if `x` is greater than or equal to 3\n",
    "* `if x==3:` .. if `x` is 3\n",
    "* `if x!=3:` .. if `x` is not 3\n",
    "\n",
    "Common mistakes (incorrect --> correct):\n",
    "\n",
    "* `if x=1:` --> `if x==1:`\n",
    "* `if x>1 or x<100:` --> `if x>1 and x<100:`\n",
    "* `if grade>=80 and <90:` --> `if grade>=80 and grade<90:`"
   ]
  },
  {
   "cell_type": "markdown",
   "id": "26706c71-a3f6-4190-b67c-47d8640d723e",
   "metadata": {
    "editable": true,
    "slideshow": {
     "slide_type": null
    },
    "tags": []
   },
   "source": [
    "### _<ins>Examples:</ins>_"
   ]
  },
  {
   "cell_type": "code",
   "execution_count": 46,
   "id": "b7c06f14-6f96-48c2-a491-b0bf73173e15",
   "metadata": {},
   "outputs": [
    {
     "name": "stdout",
     "output_type": "stream",
     "text": [
      "x is greater than 5\n"
     ]
    }
   ],
   "source": [
    "x = 10\n",
    "if x > 5:\n",
    "    print(\"x is greater than 5\")"
   ]
  },
  {
   "cell_type": "code",
   "execution_count": 32,
   "id": "c374ac82-75b2-4296-98da-6c5a83d1f718",
   "metadata": {},
   "outputs": [
    {
     "name": "stdin",
     "output_type": "stream",
     "text": [
      "Enter your score:  3\n"
     ]
    }
   ],
   "source": [
    "grade = eval(input('Enter your score: '))"
   ]
  },
  {
   "cell_type": "code",
   "execution_count": 33,
   "id": "21690f9b-b3c5-4800-be1a-71b920fd07c4",
   "metadata": {},
   "outputs": [
    {
     "name": "stdout",
     "output_type": "stream",
     "text": [
      "F\n"
     ]
    }
   ],
   "source": [
    "# using only `if`\n",
    "if grade >= 90:\n",
    "    print('A')\n",
    "if grade >= 80 and grade <90:\n",
    "    print('B')\n",
    "if grade >= 70 and grade <80:\n",
    "    print('C')\n",
    "if grade >= 60 and grade <70:\n",
    "    print('D')\n",
    "if grade < 60:\n",
    "    print('F')"
   ]
  },
  {
   "cell_type": "code",
   "execution_count": 34,
   "id": "5f8be76a-70ed-4a4b-a9df-918b1097ec03",
   "metadata": {},
   "outputs": [
    {
     "name": "stdout",
     "output_type": "stream",
     "text": [
      "F\n"
     ]
    }
   ],
   "source": [
    "# using `if`, `elif` and `else`\n",
    "if grade >= 90:\n",
    "    print('A')\n",
    "elif grade >= 80:\n",
    "    print('B')\n",
    "elif grade >= 70:\n",
    "    print('C')\n",
    "elif grade >= 60:\n",
    "    print('D')\n",
    "else:\n",
    "    print('F')"
   ]
  },
  {
   "cell_type": "markdown",
   "id": "0ed81300-5058-4f6a-8725-1f94d2644f19",
   "metadata": {},
   "source": [
    "## _For_-loops"
   ]
  },
  {
   "cell_type": "markdown",
   "id": "b332326a-a00b-48bd-8643-86c8ad1952fe",
   "metadata": {},
   "source": [
    "A `for`-loop iterates over a sequence (like a list, string, or range) and executes a block of code for each item in that sequence."
   ]
  },
  {
   "cell_type": "markdown",
   "id": "b964629d-b4d3-43c9-a759-a2c281c7e4bf",
   "metadata": {},
   "source": [
    "* A `for`-loop is a _control_ instruction used for iteration and repetition\n",
    "* **iteration** .. perform _same operation_ on _different items_, one item at a time\n",
    "* **repetition** .. perform an operation _more than once_\n",
    "* Keywords: `for`, `in`\n",
    "* `i` .. _loop control variable_ or _iteration variable_\n",
    "The colon `:` indicates where the _body_ of a `for`-loop begins (with _indentation_)\n",
    "* `range()` function creates a list of integers"
   ]
  },
  {
   "cell_type": "markdown",
   "id": "e5509071-1993-4ce5-889f-50d7ae0ceab1",
   "metadata": {
    "editable": true,
    "slideshow": {
     "slide_type": null
    },
    "tags": []
   },
   "source": [
    "### _<ins>Examples:</ins>_"
   ]
  },
  {
   "cell_type": "code",
   "execution_count": 47,
   "id": "5c6d84d4-fd97-45c4-a661-a9298e3ad823",
   "metadata": {},
   "outputs": [
    {
     "name": "stdout",
     "output_type": "stream",
     "text": [
      "1\n",
      "2\n",
      "3\n",
      "0\n",
      "1\n",
      "2\n",
      "3\n",
      "4\n"
     ]
    }
   ],
   "source": [
    "# Iterating over a list\n",
    "for item in [1, 2, 3]:\n",
    "    print(item)\n",
    "\n",
    "# Using range to loop through numbers\n",
    "for i in range(5):\n",
    "    print(i)"
   ]
  },
  {
   "cell_type": "code",
   "execution_count": 18,
   "id": "d3c39bec-4601-4a4c-bb79-99eb9ea174ad",
   "metadata": {},
   "outputs": [
    {
     "name": "stdout",
     "output_type": "stream",
     "text": [
      "Andrew\n",
      "John\n",
      "Kate\n",
      "Andrew\n",
      "John\n",
      "Kate\n",
      "All items are printed\n",
      "item 0\n",
      "item 1\n",
      "item 2\n",
      "item 1\n",
      "item 2\n",
      "item 3\n",
      "item 2\n",
      "item 5\n",
      "item 8\n",
      "item 11\n",
      "item 14\n"
     ]
    }
   ],
   "source": [
    "my_list = [\"Andrew\", \"John\", \"Kate\"]\n",
    "for i in my_list:\n",
    "  print(i)\n",
    "for item in my_list:\n",
    "  print(item)\n",
    "print(\"All items are printed\")\n",
    "for i in range(3):\n",
    "  print(\"item\", i) \n",
    "for i in range(1,4):\n",
    "  print(\"item\", i)\n",
    "for i in range(2,15,3):\n",
    "  print(\"item\", i) "
   ]
  },
  {
   "cell_type": "markdown",
   "id": "568c0e40-887c-4c50-bbe0-92417bf7cae3",
   "metadata": {},
   "source": [
    "## _While_-loops"
   ]
  },
  {
   "cell_type": "markdown",
   "id": "50e8e976-32ea-4d54-8da0-057acdce5c4b",
   "metadata": {},
   "source": [
    "A `while`-loop keeps executing a block of code as long as its condition remains true. It's commonly used for indefinite loops where the number of iterations isn’t known beforehand."
   ]
  },
  {
   "cell_type": "markdown",
   "id": "165944e3-fda8-49ea-bc43-6b5cc0b82f53",
   "metadata": {},
   "source": [
    "* A `while`-loop is a _control_ instruction ideal for _indefinite loops_ when we don’t know when it ends\n",
    "* Keywords: `while`\n",
    "* `n=1` .. initialisation\n",
    "* `n<=10` .. check a condition\n",
    "* `n+=1` .. update\n",
    "* Again, the colon `:` indicates where the _body_ of a `while`-loop begins (with _indentation_)"
   ]
  },
  {
   "cell_type": "markdown",
   "id": "2de3b5ad-b1e0-4abc-9e2e-341b66c1c2f9",
   "metadata": {
    "editable": true,
    "slideshow": {
     "slide_type": null
    },
    "tags": []
   },
   "source": [
    "### _<ins>Examples:</ins>_"
   ]
  },
  {
   "cell_type": "code",
   "execution_count": 48,
   "id": "3ec0f122-4b83-484b-a201-8b100fb0c30f",
   "metadata": {},
   "outputs": [
    {
     "name": "stdout",
     "output_type": "stream",
     "text": [
      "Count: 0\n",
      "Count: 1\n",
      "Count: 2\n",
      "Count: 3\n",
      "Count: 4\n"
     ]
    }
   ],
   "source": [
    "count = 0\n",
    "while count < 5:\n",
    "    print(\"Count:\", count)\n",
    "    count += 1"
   ]
  },
  {
   "cell_type": "code",
   "execution_count": 29,
   "id": "32113188-ab93-4d5d-ae5e-0e2c89a41b9a",
   "metadata": {},
   "outputs": [
    {
     "name": "stdout",
     "output_type": "stream",
     "text": [
      "1\n",
      "2\n",
      "3\n",
      "4\n",
      "5\n",
      "6\n",
      "7\n",
      "8\n",
      "9\n",
      "10\n",
      "item 2\n",
      "item 5\n",
      "item 8\n",
      "item 11\n",
      "item 14\n"
     ]
    }
   ],
   "source": [
    "n=1\n",
    "while n<=10:\n",
    "  print(n)\n",
    "  n+=1\n",
    "items = 15\n",
    "i = 2\n",
    "while i<=items:\n",
    "  print(\"item\", i)\n",
    "  i+=3"
   ]
  },
  {
   "cell_type": "markdown",
   "id": "0e9f1f63-c3a4-4fc0-a441-0d289029ec03",
   "metadata": {
    "editable": true,
    "slideshow": {
     "slide_type": "slide"
    },
    "tags": []
   },
   "source": [
    "## Have a Play!"
   ]
  },
  {
   "cell_type": "markdown",
   "id": "a8d2614c-e3ec-4a27-a10f-d39acf3674cf",
   "metadata": {},
   "source": [
    "### _Exercises_"
   ]
  },
  {
   "cell_type": "markdown",
   "id": "3af751e1-1557-48e1-8ac7-b9c94c120b16",
   "metadata": {
    "jp-MarkdownHeadingCollapsed": true
   },
   "source": [
    "**1) `If`-statements**: Write a program that asks for a user's age and prints whether the person is a minor, an adult, or a senior citizen."
   ]
  },
  {
   "cell_type": "code",
   "execution_count": 51,
   "id": "a7963b2d-a854-4860-8002-7a11fc22750f",
   "metadata": {},
   "outputs": [
    {
     "name": "stdin",
     "output_type": "stream",
     "text": [
      "Enter your age:  34\n"
     ]
    },
    {
     "name": "stdout",
     "output_type": "stream",
     "text": [
      "You are an adult.\n"
     ]
    }
   ],
   "source": [
    "age = int(input(\"Enter your age: \"))\n",
    "if age < 18:\n",
    "    print(\"You are a minor.\")\n",
    "elif age >= 18 and age < 65:\n",
    "    print(\"You are an adult.\")\n",
    "else:\n",
    "    print(\"You are a senior citizen.\")"
   ]
  },
  {
   "cell_type": "markdown",
   "id": "987e43ac-d060-47bd-baf6-76cb911faa4b",
   "metadata": {},
   "source": [
    "**2) `For`-loops**: Use a `for`-loop to print the square of numbers from 1 to 10."
   ]
  },
  {
   "cell_type": "code",
   "execution_count": 52,
   "id": "9a768b11-81c2-45d1-b13e-b275b2472142",
   "metadata": {},
   "outputs": [
    {
     "name": "stdout",
     "output_type": "stream",
     "text": [
      "Square of 1 is 1\n",
      "Square of 2 is 4\n",
      "Square of 3 is 9\n",
      "Square of 4 is 16\n",
      "Square of 5 is 25\n",
      "Square of 6 is 36\n",
      "Square of 7 is 49\n",
      "Square of 8 is 64\n",
      "Square of 9 is 81\n",
      "Square of 10 is 100\n"
     ]
    }
   ],
   "source": [
    "for i in range(1, 11):\n",
    "    print(f\"Square of {i} is {i**2}\")"
   ]
  },
  {
   "cell_type": "markdown",
   "id": "96bfedad-7c0d-473f-8591-d41e8206fa03",
   "metadata": {},
   "source": [
    "**3) `While`-loops**: Write a program that keeps asking the user for a number and prints the number. Stop when the user enters a negative number."
   ]
  },
  {
   "cell_type": "code",
   "execution_count": 53,
   "id": "1dc0d217-8aed-4c75-93ff-febe09a1319f",
   "metadata": {},
   "outputs": [
    {
     "name": "stdin",
     "output_type": "stream",
     "text": [
      "Enter a number (negative to stop):  2\n"
     ]
    },
    {
     "name": "stdout",
     "output_type": "stream",
     "text": [
      "You entered: 2\n"
     ]
    },
    {
     "name": "stdin",
     "output_type": "stream",
     "text": [
      "Enter another number:  -1\n"
     ]
    },
    {
     "name": "stdout",
     "output_type": "stream",
     "text": [
      "Negative number detected. Exiting...\n"
     ]
    }
   ],
   "source": [
    "num = int(input(\"Enter a number (negative to stop): \"))\n",
    "while num >= 0:\n",
    "    print(f\"You entered: {num}\")\n",
    "    num = int(input(\"Enter another number: \"))\n",
    "print(\"Negative number detected. Exiting...\")"
   ]
  },
  {
   "cell_type": "markdown",
   "id": "444cd68e-6483-4a22-a626-9c8dcd48d9c9",
   "metadata": {
    "editable": true,
    "slideshow": {
     "slide_type": ""
    },
    "tags": []
   },
   "source": [
    "# <ins>5.</ins> Functions"
   ]
  },
  {
   "cell_type": "markdown",
   "id": "272b066f",
   "metadata": {
    "editable": true,
    "slideshow": {
     "slide_type": ""
    },
    "tags": []
   },
   "source": [
    "A function is a block of reusable code that performs a specific task. Functions help reduce repetition and make code easier to manage. A function is defined using the `def` keyword."
   ]
  },
  {
   "cell_type": "markdown",
   "id": "5d97b39b-8a80-4bc8-94d2-0e2991120bcc",
   "metadata": {},
   "source": [
    "* You can pass data to functions (parameters).\n",
    "* Functions can return values.\n",
    "* Functions help break down complex programs into smaller, manageable parts."
   ]
  },
  {
   "cell_type": "code",
   "execution_count": 54,
   "id": "940557c8-c51f-4b9c-a48f-aa204d32eb73",
   "metadata": {},
   "outputs": [
    {
     "name": "stdout",
     "output_type": "stream",
     "text": [
      "7\n"
     ]
    }
   ],
   "source": [
    "# Function to add two numbers\n",
    "def add_numbers(a, b):\n",
    "    return a + b\n",
    "\n",
    "# Call the function\n",
    "result = add_numbers(3, 4)\n",
    "print(result)"
   ]
  },
  {
   "cell_type": "markdown",
   "id": "900faa95-c891-4ac1-b89f-c43a61ce0e68",
   "metadata": {
    "editable": true,
    "slideshow": {
     "slide_type": "slide"
    },
    "tags": []
   },
   "source": [
    "## Have a Play!"
   ]
  },
  {
   "cell_type": "markdown",
   "id": "19728e2e-0c1a-4154-854a-013328242133",
   "metadata": {},
   "source": [
    "### _Exercises_"
   ]
  },
  {
   "cell_type": "markdown",
   "id": "04429edf-f38b-4a3f-882b-7d7cff164890",
   "metadata": {},
   "source": [
    "**1)** Write a program that prints your name 100 times"
   ]
  },
  {
   "cell_type": "code",
   "execution_count": null,
   "id": "2f7afe59-17e7-489e-a73e-6c766bed3b90",
   "metadata": {},
   "outputs": [],
   "source": [
    "for i in range(100):\n",
    "    print(\"Your Name\")"
   ]
  },
  {
   "cell_type": "markdown",
   "id": "c7afec8a-a0be-471e-9621-99d3df9254aa",
   "metadata": {},
   "source": [
    "**2)** Write a program that prints a multiplication table for numbers 1 through 10"
   ]
  },
  {
   "cell_type": "code",
   "execution_count": null,
   "id": "cbd0727b-8ab8-470c-b3ac-1f2309123454",
   "metadata": {},
   "outputs": [],
   "source": [
    "for i in range(1, 11):\n",
    "    for j in range(1, 11):\n",
    "        print(f\"{i} * {j} = {i*j}\")\n",
    "    print()  # Blank line after each row"
   ]
  },
  {
   "cell_type": "markdown",
   "id": "1389d512-1b27-469a-b143-b4ce47f4460e",
   "metadata": {},
   "source": [
    "**3)** Write a function that converts Celsius to Fahrenheit"
   ]
  },
  {
   "cell_type": "code",
   "execution_count": 57,
   "id": "b8fcb3eb-ec0b-4fd5-a84b-4100681d3a6b",
   "metadata": {},
   "outputs": [
    {
     "name": "stdin",
     "output_type": "stream",
     "text": [
      "Enter temperature in Celsius:  34\n"
     ]
    },
    {
     "name": "stdout",
     "output_type": "stream",
     "text": [
      "34.0°C is equal to 93.2°F\n"
     ]
    }
   ],
   "source": [
    "def celsius_to_fahrenheit(celsius):\n",
    "    return (celsius * 9/5) + 32\n",
    "\n",
    "celsius = float(input(\"Enter temperature in Celsius: \"))\n",
    "print(f\"{celsius}°C is equal to {celsius_to_fahrenheit(celsius)}°F\")"
   ]
  },
  {
   "cell_type": "markdown",
   "id": "e5751838-2a6e-40f2-b4ca-0791c8c696bf",
   "metadata": {},
   "source": [
    "**4)** Write a program to calculate the factorial of a number"
   ]
  },
  {
   "cell_type": "code",
   "execution_count": 58,
   "id": "61112774-fd9d-49f1-81fa-85fa44649f8c",
   "metadata": {},
   "outputs": [
    {
     "name": "stdin",
     "output_type": "stream",
     "text": [
      "Enter a number:  6\n"
     ]
    },
    {
     "name": "stdout",
     "output_type": "stream",
     "text": [
      "The factorial of 6 is 720\n"
     ]
    }
   ],
   "source": [
    "def factorial(n):\n",
    "    result = 1\n",
    "    for i in range(1, n + 1):\n",
    "        result *= i\n",
    "    return result\n",
    "\n",
    "number = int(input(\"Enter a number: \"))\n",
    "print(f\"The factorial of {number} is {factorial(number)}\")"
   ]
  },
  {
   "cell_type": "markdown",
   "id": "4c791e8c-1ebe-4ac0-8b4e-1083efb4005c",
   "metadata": {},
   "source": [
    "**5)** Ask the user to enter a temperature in Celsius. The program should print a message based on the temperature:\n",
    "\n",
    "* If the temperature is less than -273.15, print that the temperature is invalid because it is below absolute zero.\n",
    "* If it is exactly -273.15, print that the temperature is absolute 0.\n",
    "* If the temperature is between -273.15 and 0, print that the temperature is below freezing.\n",
    "* If it is 0, print that the temperature is at the freezing point.\n",
    "* If it is between 0 and 100, print that the temperature is in the normal range.\n",
    "* If it is 100, print that the temperature is at the boiling point.\n",
    "* If it is above 100, print that the temperature is above the boiling point."
   ]
  },
  {
   "cell_type": "code",
   "execution_count": 59,
   "id": "0736a994-8e4b-406a-a000-29493d2e3214",
   "metadata": {},
   "outputs": [
    {
     "name": "stdin",
     "output_type": "stream",
     "text": [
      "Enter the temperature in Celsius:  45\n"
     ]
    },
    {
     "name": "stdout",
     "output_type": "stream",
     "text": [
      "The temperature is in the normal range.\n"
     ]
    }
   ],
   "source": [
    "# Get the temperature from the user as a float\n",
    "temperature = float(input(\"Enter the temperature in Celsius: \"))\n",
    "\n",
    "# Check the conditions and print the corresponding message\n",
    "if temperature < -273.15:\n",
    "    print(\"The temperature is invalid because it is below absolute zero.\")\n",
    "elif temperature == -273.15:\n",
    "    print(\"The temperature is absolute zero.\")\n",
    "elif temperature > -273.15 and temperature < 0:\n",
    "    print(\"The temperature is below freezing.\")\n",
    "elif temperature == 0:\n",
    "    print(\"The temperature is at the freezing point.\")\n",
    "elif temperature > 0 and temperature < 100:\n",
    "    print(\"The temperature is in the normal range.\")\n",
    "elif temperature == 100:\n",
    "    print(\"The temperature is at the boiling point.\")\n",
    "else:\n",
    "    print(\"The temperature is above the boiling point.\")"
   ]
  }
 ],
 "metadata": {
  "@deathbeds/jupyterlab-fonts": {
   "fontLicenses": {},
   "fonts": {},
   "styles": {
    ":root": {}
   }
  },
  "kernelspec": {
   "display_name": "Python 3 (ipykernel)",
   "language": "python",
   "name": "python3"
  },
  "language_info": {
   "codemirror_mode": {
    "name": "ipython",
    "version": 3
   },
   "file_extension": ".py",
   "mimetype": "text/x-python",
   "name": "python",
   "nbconvert_exporter": "python",
   "pygments_lexer": "ipython3",
   "version": "3.13.0"
  }
 },
 "nbformat": 4,
 "nbformat_minor": 5
}
