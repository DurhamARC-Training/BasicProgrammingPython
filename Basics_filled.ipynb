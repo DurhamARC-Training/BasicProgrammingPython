{
 "cells": [
  {
   "cell_type": "markdown",
   "id": "111793fe",
   "metadata": {
    "slideshow": {
     "slide_type": "slide"
    }
   },
   "source": [
    "ARC course \"Learning to programme with Python\" (beginner level)\n",
    "===============================================================\n",
    "![icons8-python-48.png](images/icons8-python-48.png)"
   ]
  },
  {
   "cell_type": "markdown",
   "id": "8c93a77a",
   "metadata": {
    "slideshow": {
     "slide_type": ""
    }
   },
   "source": [
    "Welcome to our ARC course \"Learning to programme with Python\".\n",
    "\n",
    "Some general information on how the course will run:\n",
    "\n",
    "* The course will run from 09:00 to 12:30. We plan a coffee break between 2 parts at around 10:45 for ~10-15 min.\n",
    "\n",
    "* The material does not expect any prior programming experience.\n",
    "\n",
    "* Each topic will be presented wih code demonstrations followed by practical exercises.\n",
    "\n",
    "* We are happy to answer any questions during the course and to help during the exercises.\n",
    "\n",
    "Enjoy learning Python!"
   ]
  },
  {
   "cell_type": "markdown",
   "id": "cf1bb288",
   "metadata": {
    "slideshow": {
     "slide_type": "slide"
    }
   },
   "source": [
    "## Set up your Python environment"
   ]
  },
  {
   "cell_type": "markdown",
   "id": "f353be39",
   "metadata": {
    "slideshow": {
     "slide_type": ""
    }
   },
   "source": [
    "<ins>Preferred</ins>: Jupyter Notebook server or Jupyter Lab as a local Python environment installed on your laptops (hopefully, you've already received a welcome email with installation instructions).\n",
    "\n",
    "<ins>Other</ins>: Google Colab (https://colab.research.google.com).\n",
    "\n",
    "Go to the repository:\n",
    "```https://github.com/DurhamARC-Training/BasicProgrammingPython```\n",
    "\n",
    "copy the `pull_files_from_repo.py` file into your environment\n",
    "\n",
    "execute it with `python pull_files_from_repo.py`"
   ]
  },
  {
   "cell_type": "markdown",
   "id": "c5f760d1",
   "metadata": {
    "slideshow": {
     "slide_type": "skip"
    }
   },
   "source": [
    "# <ins>Table of Contents</ins>"
   ]
  },
  {
   "cell_type": "markdown",
   "id": "47cd2968",
   "metadata": {
    "slideshow": {
     "slide_type": "slide"
    }
   },
   "source": [
    "# <ins>0.</ins> Introduction"
   ]
  },
  {
   "cell_type": "markdown",
   "id": "bb931899",
   "metadata": {
    "slideshow": {
     "slide_type": "slide"
    }
   },
   "source": [
    "## Course objectives"
   ]
  },
  {
   "cell_type": "markdown",
   "id": "92348ba1",
   "metadata": {
    "slideshow": {
     "slide_type": ""
    }
   },
   "source": [
    "By the end of this course you should know:\n",
    " - how a basic computer program is written and executed,\n",
    " - what basic data types and control statements are,\n",
    " - how to get and process user input and data,\n",
    " - how to structure your code using functions,\n",
    " - what can lead to your program not working, and what to do about it,\n",
    " - where to find further resources to practice your Python programming."
   ]
  },
  {
   "cell_type": "markdown",
   "id": "6840fc51",
   "metadata": {
    "slideshow": {
     "slide_type": "skip"
    }
   },
   "source": [
    "##### _<ins>Notes:</ins>_"
   ]
  },
  {
   "cell_type": "markdown",
   "id": "38e9129f",
   "metadata": {
    "slideshow": {
     "slide_type": "notes"
    }
   },
   "source": [
    " - We'll talk about how to get a simple computer program running, the basics in terms of *data types*, *variables*, *if-statements* and *loops*, getting data in and out of the program, *functions* and *variable scope*, and a bit about *comments*, *error types* and their *handling*.\n",
    " - I hope that this course will give you a good foundation to continue your Python learning further. Programming is a lot about learning by doing. There are tons of online (and offline) resources as well as forums (online and offline) where you can ask for help."
   ]
  },
  {
   "cell_type": "markdown",
   "id": "73f728f2",
   "metadata": {
    "slideshow": {
     "slide_type": "slide"
    }
   },
   "source": [
    "## Useful resources"
   ]
  },
  {
   "cell_type": "markdown",
   "id": "75d9286e",
   "metadata": {
    "slideshow": {
     "slide_type": ""
    }
   },
   "source": [
    "#### Materials used and recommended:\n",
    " - [Python Wiki - Python for Non-Programmers](https://wiki.python.org/moin/BeginnersGuide/NonProgrammers)\n",
    " - [How to think like a Computer Scientist](http://openbookproject.net/thinkcs/python/english3e/index.html)\n",
    " - [A Whirlwind Tour of Python](https://jakevdp.github.io/WhirlwindTourOfPython)\n",
    " - [Software Carpentry - Programming with Python](https://swcarpentry.github.io/python-novice-inflammation/index.html)"
   ]
  },
  {
   "cell_type": "markdown",
   "id": "b65f4b5b",
   "metadata": {
    "slideshow": {
     "slide_type": "notes"
    }
   },
   "source": [
    "##### _<ins>Notes:</ins>_"
   ]
  },
  {
   "cell_type": "markdown",
   "id": "7edfd208",
   "metadata": {
    "slideshow": {
     "slide_type": "notes"
    }
   },
   "source": [
    "Here is a list of sources that were used when this course was prepared. It is great for self-study, and you can use it after this course to continue on your own.\n",
    "\n",
    " - *Python Wiki*, as a website, is a good resource of Python knowledge. The link I give you here is to the site \"Python for Non-Programmers\", that has an extensive list of materials to learn Python if you have not programmed in any language before.\n",
    " - *How to think like a Computer Scientist*. Some of the structure and ideas of the first few chapters have been used for this course.\n",
    " - *A Whirlwind Tour of Python* has a faster pace, and seems to be targeted at a more technically-minded audience.\n",
    " - *Software Carpentry* is an organisation aimed at providing basic software training for everyone. They have a \"<ins>train the trainers</ins>\" approach, which means that they provide material and training courses for software carpentry trainers. Thankfully, you are also allowed to access and use their material for free. This training course here gives a Python introduction at hands of a practical data processing task."
   ]
  },
  {
   "cell_type": "markdown",
   "id": "54e51fea",
   "metadata": {
    "slideshow": {
     "slide_type": "fragment"
    }
   },
   "source": [
    " - The top results are often filled with SEO sites\n",
    " - The aim is not to provide a concise explanation, but to show you as many ads as possible\n",
    " - Very verbose, lots of unneccesary alternatives.\n",
    "\n",
    " Example: \"python how do I invert a list\"\n",
    "\n",
    " Recommend: w3schools, python.org (which is often more technical)"
   ]
  },
  {
   "cell_type": "markdown",
   "id": "1b927b7a",
   "metadata": {
    "slideshow": {
     "slide_type": "notes"
    }
   },
   "source": [
    "_**Notes**_: Do not show search results. Just keep as small topic."
   ]
  },
  {
   "cell_type": "markdown",
   "id": "e6223a23",
   "metadata": {
    "slideshow": {
     "slide_type": "slide"
    }
   },
   "source": [
    "## Programming crash course"
   ]
  },
  {
   "cell_type": "markdown",
   "id": "82ca3320",
   "metadata": {
    "slideshow": {
     "slide_type": "slide"
    }
   },
   "source": [
    "### Programming means: make the computer do the work for you!"
   ]
  },
  {
   "cell_type": "markdown",
   "id": "12b4e196",
   "metadata": {
    "slideshow": {
     "slide_type": ""
    }
   },
   "source": [
    " - Do the maths\n",
    " - Boring repetitions\n",
    " - Too complicated/extensive tasks\n",
    " - Big data sets \n",
    " - Make your analysis reproducible\n",
    " -  ..."
   ]
  },
  {
   "cell_type": "markdown",
   "id": "9c06a3e6",
   "metadata": {
    "slideshow": {
     "slide_type": "slide"
    }
   },
   "source": [
    "### Running code in a compiled language (such as C)"
   ]
  },
  {
   "cell_type": "markdown",
   "id": "b955115a",
   "metadata": {},
   "source": [
    "1. Write your code in a high-level programming language.\n",
    "2. Translate into low-level (machine/assembly) language.\n",
    "3. Execute the program."
   ]
  },
  {
   "cell_type": "markdown",
   "id": "4862e81b",
   "metadata": {
    "slideshow": {
     "slide_type": "notes"
    }
   },
   "source": [
    "##### _<ins>Notes:</ins>_"
   ]
  },
  {
   "cell_type": "markdown",
   "id": "f8fc2e5f",
   "metadata": {
    "slideshow": {
     "slide_type": "notes"
    }
   },
   "source": [
    "Now, how do we get the computer to do these things for us? This is what we are doing: We write the program in a language that we as human beings (with some training) can understand. As the computer won't be able to understand the code that way, we then compile it, which means that we translate it into computer language. Then we execute the program and, given we have made no mistake, the computer will get working for us.  "
   ]
  },
  {
   "cell_type": "markdown",
   "id": "097f3f10",
   "metadata": {
    "slideshow": {
     "slide_type": "slide"
    }
   },
   "source": [
    "### Running code in an interpreted language (such as Python)"
   ]
  },
  {
   "cell_type": "markdown",
   "id": "74901fcf",
   "metadata": {
    "slideshow": {
     "slide_type": ""
    }
   },
   "source": [
    "1. Write your code in high-level programming language.\n",
    "2. Interpret code and execute directly"
   ]
  },
  {
   "cell_type": "markdown",
   "id": "1c2f41d6",
   "metadata": {
    "slideshow": {
     "slide_type": "notes"
    }
   },
   "source": [
    "##### _<ins>Notes:</ins>_"
   ]
  },
  {
   "cell_type": "markdown",
   "id": "8866ca43",
   "metadata": {
    "slideshow": {
     "slide_type": "notes"
    }
   },
   "source": [
    "Things can be made a little bit easier by using an interpreted scripting language instead of a compiled programming language.\n",
    " - *Beware!*: Oversimplification\n",
    "\n",
    "Please note that I am oversimplifying here a bit with regards to the terminology. The point I want to make is that there are languages, such as Python, which we will be using in this course, that translate and execute the code directly, without us having to do a separate compilation step."
   ]
  },
  {
   "cell_type": "markdown",
   "id": "f2721e3a",
   "metadata": {
    "slideshow": {
     "slide_type": "slide"
    }
   },
   "source": [
    "### Python can be executed in different ways\n",
    "#### Command line script"
   ]
  },
  {
   "cell_type": "markdown",
   "id": "2ea0eeb4",
   "metadata": {
    "slideshow": {
     "slide_type": ""
    }
   },
   "source": [
    "1. Create a `myname.py` file\n",
    "2. run python `myname.py`"
   ]
  },
  {
   "cell_type": "markdown",
   "id": "9a578a42",
   "metadata": {
    "slideshow": {
     "slide_type": "fragment"
    }
   },
   "source": [
    "#### interactive or ipython session:\n",
    " - Start with typing `python` or better `ipython`"
   ]
  },
  {
   "cell_type": "markdown",
   "id": "89436cc0",
   "metadata": {
    "slideshow": {
     "slide_type": "slide"
    }
   },
   "source": [
    "### Demonstration of using _Jupyter_ notebook"
   ]
  },
  {
   "cell_type": "markdown",
   "id": "f8ef9d14",
   "metadata": {
    "slideshow": {
     "slide_type": ""
    }
   },
   "source": [
    "Jupyter works with cells such as these, which you execute with the play button or `Shift/Strg + Enter`:"
   ]
  },
  {
   "cell_type": "markdown",
   "id": "910a4e8a",
   "metadata": {},
   "source": [
    "<!-- #solution -->"
   ]
  },
  {
   "cell_type": "code",
   "execution_count": null,
   "id": "7c1259b4",
   "metadata": {
    "slideshow": {
     "slide_type": ""
    }
   },
   "outputs": [],
   "source": [
    "# Add just a one to the cell and execute\n",
    "1"
   ]
  },
  {
   "cell_type": "markdown",
   "id": "4f9286f9",
   "metadata": {},
   "source": [
    "<!-- #endsolution -->"
   ]
  },
  {
   "cell_type": "markdown",
   "id": "b5a99966",
   "metadata": {
    "slideshow": {
     "slide_type": ""
    }
   },
   "source": [
    "If the box on the left is empty, you have not executed it. Otherwise a number indicates in which order the execution took place.\n",
    "\n",
    "You can add cells with the plus. You can also change the type"
   ]
  },
  {
   "cell_type": "markdown",
   "id": "0db4cba2",
   "metadata": {
    "slideshow": {
     "slide_type": ""
    }
   },
   "source": [
    "##### Now it is markdown and the `#` indicates a header (or `##`, etc., up to 6 times, with smaller font sizes)"
   ]
  },
  {
   "cell_type": "markdown",
   "id": "a61e9290",
   "metadata": {
    "slideshow": {
     "slide_type": "notes"
    }
   },
   "source": [
    "##### _<ins>Notes:</ins>_"
   ]
  },
  {
   "cell_type": "markdown",
   "id": "9a36d094",
   "metadata": {
    "slideshow": {
     "slide_type": "notes"
    }
   },
   "source": [
    " - We have individual cells to run. To do so press the run button or `Shift + Enter`\n",
    " - The small number in the box in front indicates a cell has been run."
   ]
  },
  {
   "cell_type": "markdown",
   "id": "a1af1ad2",
   "metadata": {
    "slideshow": {
     "slide_type": "slide"
    }
   },
   "source": [
    "# <ins>**Part I**</ins>"
   ]
  },
  {
   "cell_type": "markdown",
   "id": "d3b9b564",
   "metadata": {
    "slideshow": {
     "slide_type": "slide"
    }
   },
   "source": [
    "# <ins>1.</ins> Basics"
   ]
  },
  {
   "cell_type": "markdown",
   "id": "2a883d2b",
   "metadata": {
    "slideshow": {
     "slide_type": "notes"
    }
   },
   "source": [
    "In this section we will look into the very basics of programming, to give you the foundations\n",
    "to start from. A lot of it will be transferrable to other programming languages,\n",
    "even if the exact syntax, the way how you write things down, changes."
   ]
  },
  {
   "cell_type": "markdown",
   "id": "6a4ad4f6",
   "metadata": {
    "slideshow": {
     "slide_type": "slide"
    }
   },
   "source": [
    "## Basic data types\n",
    "As any programming language, Python can deal with many different data types. Among the basic ones are `str` strings, `int` integers, `float` floating-point numbers and `bool` booleans."
   ]
  },
  {
   "cell_type": "markdown",
   "id": "cd0f382a",
   "metadata": {
    "slideshow": {
     "slide_type": ""
    }
   },
   "source": [
    "- Strings: \"Heinz\", 'Banana', 'He said \"Hello\"'\n",
    "- Integers: 1, 2, 3, 22222222, -777\n",
    "- Floats: -1.2, 0.0, 2.7182\n",
    "- Booleans: True, False"
   ]
  },
  {
   "cell_type": "markdown",
   "id": "295b9df3",
   "metadata": {
    "slideshow": {
     "slide_type": "notes"
    }
   },
   "source": [
    "##### _<ins>Notes:</ins>_"
   ]
  },
  {
   "cell_type": "markdown",
   "id": "969a96a8",
   "metadata": {
    "slideshow": {
     "slide_type": "notes"
    }
   },
   "source": [
    "When you are programming, you have to be clear about what type each item you are handling has. Each data type has different rules. In the most basic version, Python has the following data types:\n",
    "- Strings, which are bits of text, noted by single or double quotation marks, which can be nested.\n",
    "- Integers, which are whole numbers, positive or negative.\n",
    "- Floats, or floating points numbers, which allow for a fractional part.\n",
    "- Booleans, or bools, which are truth values, and can be either true or false."
   ]
  },
  {
   "cell_type": "markdown",
   "id": "708d7312",
   "metadata": {
    "slideshow": {
     "slide_type": "slide"
    }
   },
   "source": [
    "## Variables\n",
    "Values are stored in _variables_, which are of data types listed above or more complex ones."
   ]
  },
  {
   "cell_type": "markdown",
   "id": "7b28cacf",
   "metadata": {
    "slideshow": {
     "slide_type": ""
    }
   },
   "source": [
    "- “I reserve a space in memory for my data bit, and I call it \n",
    "by the name x\n",
    "- Syntax: name = value”"
   ]
  },
  {
   "cell_type": "markdown",
   "id": "24b09230",
   "metadata": {
    "slideshow": {
     "slide_type": "notes"
    }
   },
   "source": [
    "##### _<ins>Notes:</ins>_"
   ]
  },
  {
   "cell_type": "markdown",
   "id": "75bf63d5",
   "metadata": {
    "slideshow": {
     "slide_type": "notes"
    }
   },
   "source": [
    "The next essential concept you need to know for programming in Python are variables.\n",
    "\n",
    "By writing ``name = value'', you are basically saying \"I reserve a space in memory for my data bit, which is value, and I call it name\". Then you can use the name to further process your data bit, as we have seen in the example with the print statement."
   ]
  },
  {
   "cell_type": "markdown",
   "id": "3ccc84a9",
   "metadata": {
    "slideshow": {
     "slide_type": "slide"
    }
   },
   "source": [
    "### _<ins>Example</ins>:_ Print type of a variable"
   ]
  },
  {
   "cell_type": "markdown",
   "id": "bf8abf5e",
   "metadata": {},
   "source": [
    "<!-- #solution -->"
   ]
  },
  {
   "cell_type": "code",
   "execution_count": null,
   "id": "36883107",
   "metadata": {
    "slideshow": {
     "slide_type": ""
    }
   },
   "outputs": [],
   "source": [
    "# print statement \"Hello\"\n",
    "print(\"Hello\")"
   ]
  },
  {
   "cell_type": "markdown",
   "id": "f5ee7d36",
   "metadata": {},
   "source": [
    "<!-- #endsolution -->\n",
    "\n",
    "<!-- #solution -->"
   ]
  },
  {
   "cell_type": "code",
   "execution_count": null,
   "id": "5a8adc31",
   "metadata": {
    "slideshow": {
     "slide_type": ""
    }
   },
   "outputs": [],
   "source": [
    "# put the content of the print statement in a variable\n",
    "my_string = \"Hello\"\n",
    "print(my_string)"
   ]
  },
  {
   "cell_type": "markdown",
   "id": "ce9deabd",
   "metadata": {},
   "source": [
    "<!-- #endsolution -->\n",
    "\n",
    "<!-- #solution -->"
   ]
  },
  {
   "cell_type": "code",
   "execution_count": null,
   "id": "ee6030e6",
   "metadata": {
    "slideshow": {
     "slide_type": ""
    }
   },
   "outputs": [],
   "source": [
    "# check the type of that variable\n",
    "type(my_string)"
   ]
  },
  {
   "cell_type": "markdown",
   "id": "923972ec",
   "metadata": {},
   "source": [
    "<!-- #endsolution -->"
   ]
  },
  {
   "cell_type": "markdown",
   "id": "f568b101",
   "metadata": {
    "slideshow": {
     "slide_type": "notes"
    }
   },
   "source": [
    "##### _<ins>Notes:</ins>_"
   ]
  },
  {
   "cell_type": "markdown",
   "id": "4f919023",
   "metadata": {
    "slideshow": {
     "slide_type": "notes"
    }
   },
   "source": [
    "In this example we see the print statement again. It will usually expect a string, or something that can be converted to a string.\n",
    "\n",
    "Here we are saying that the variable \"myString2 should have the string value 'He said \"Hello\"', and then put the print statement separately. The \"type\" command is able to tell us, what type the variable ``myString'' has. [demonstrate]\n",
    "\n",
    "As a side note, many programming languages, in particular compiled programming languages, require you to explicitly state the data type of your variable when you create it. We do not need to do that here."
   ]
  },
  {
   "cell_type": "markdown",
   "id": "71d586ac",
   "metadata": {
    "slideshow": {
     "slide_type": "slide"
    }
   },
   "source": [
    "### _<ins>Example</ins>:_ Try to assign the data types at the following qr code"
   ]
  },
  {
   "cell_type": "markdown",
   "id": "6bcd061b",
   "metadata": {},
   "source": [
    "Try not to overthink. If something is ambiguous pick what fits best\n",
    "\n",
    "![QRCode](images/qr_question1.png)"
   ]
  },
  {
   "cell_type": "markdown",
   "id": "14faccd8",
   "metadata": {
    "slideshow": {
     "slide_type": "notes"
    }
   },
   "source": [
    "##### _<ins>Notes:</ins>_"
   ]
  },
  {
   "cell_type": "markdown",
   "id": "fd6622e5",
   "metadata": {
    "slideshow": {
     "slide_type": "notes"
    }
   },
   "source": [
    "Questions behind QR Code\n",
    "Assign a type to the variable names\n",
    "1. name\n",
    "   - str obviously\n",
    "2. items_in_stock\n",
    "   - usually means a number -> int\n",
    "3. pressure_bar\n",
    "   - if you have different physical units for a size put the unit into the name. Say you also have pressure_torr\n",
    "4. is_student\n",
    "   - bool\n",
    "5. participants\n",
    "   - is an ambiguous name (names, number, there are some) if this can happen, name the variable differently."
   ]
  },
  {
   "cell_type": "markdown",
   "id": "f02ef6c8",
   "metadata": {
    "slideshow": {
     "slide_type": "slide"
    }
   },
   "source": [
    "### _<ins>Example</ins>:_ Add integers"
   ]
  },
  {
   "cell_type": "markdown",
   "id": "5c8842fd",
   "metadata": {},
   "source": [
    "<!-- #solution -->"
   ]
  },
  {
   "cell_type": "code",
   "execution_count": null,
   "id": "edd93d6e",
   "metadata": {
    "slideshow": {
     "slide_type": ""
    }
   },
   "outputs": [],
   "source": [
    "# Adding two integers (2 and 5)\n",
    "print(2+5)"
   ]
  },
  {
   "cell_type": "markdown",
   "id": "4687f683",
   "metadata": {},
   "source": [
    "<!-- #endsolution -->\n",
    "\n",
    "<!-- #solution -->"
   ]
  },
  {
   "cell_type": "code",
   "execution_count": null,
   "id": "172131d5",
   "metadata": {
    "slideshow": {
     "slide_type": ""
    }
   },
   "outputs": [],
   "source": [
    "# Adding integers to a string (\"2+5 = \") naively\n",
    "print(\"2+5 = \" + 2 + 5)"
   ]
  },
  {
   "cell_type": "markdown",
   "id": "92c35899",
   "metadata": {},
   "source": [
    "<!-- #endsolution -->\n",
    "\n",
    "<!-- #solution -->"
   ]
  },
  {
   "cell_type": "code",
   "execution_count": null,
   "id": "9f3d9bf6",
   "metadata": {
    "slideshow": {
     "slide_type": ""
    }
   },
   "outputs": [],
   "source": [
    "# Solution: call the result into a string\n",
    "print(\"2+5 = \" + str(2 + 5))"
   ]
  },
  {
   "cell_type": "markdown",
   "id": "a1e9f79c",
   "metadata": {},
   "source": [
    "<!-- #endsolution -->"
   ]
  },
  {
   "cell_type": "markdown",
   "id": "0d1e78ec",
   "metadata": {
    "slideshow": {
     "slide_type": "notes"
    }
   },
   "source": [
    "##### _<ins>Notes:</ins>_"
   ]
  },
  {
   "cell_type": "markdown",
   "id": "9623e55a",
   "metadata": {
    "slideshow": {
     "slide_type": "notes"
    }
   },
   "source": [
    " - As I said before, ``print`` expects a string or something that can be converted to a string. Here are some examples of what happens if I am dealing with integers. Please try each of these examples for yourself, and see what the output is. One will give you an error. In the 1st case, the interpreter recognises that I have two integers that want to be added together, and gives me the answer. The 2nd case produces an error and says ``TypeError: can only concatenate str (not \"int\") to str``. The plus sign actually means two different things for numbers and for strings! You can *glue* two strings together using the plus sign, and you can add two numbers together, as we would expect. The 3rd case shows how to explicitly cast a number to a string. We tell it ``add 2 and 5 together, make it a string, and concatenate it to the other string''."
   ]
  },
  {
   "cell_type": "markdown",
   "id": "a12cbdac",
   "metadata": {
    "slideshow": {
     "slide_type": "slide"
    }
   },
   "source": [
    "### _<ins>Example</ins>:_ Boolean type"
   ]
  },
  {
   "cell_type": "markdown",
   "id": "882a282c",
   "metadata": {},
   "source": [
    "<!-- #solution -->"
   ]
  },
  {
   "cell_type": "code",
   "execution_count": null,
   "id": "27dad3a9",
   "metadata": {
    "slideshow": {
     "slide_type": ""
    }
   },
   "outputs": [],
   "source": [
    "# boolean have to be capitalized\n",
    "type(true)"
   ]
  },
  {
   "cell_type": "markdown",
   "id": "df0016fb",
   "metadata": {},
   "source": [
    "<!-- #endsolution -->\n",
    "\n",
    "<!-- #solution -->"
   ]
  },
  {
   "cell_type": "code",
   "execution_count": null,
   "id": "a454ccac",
   "metadata": {
    "slideshow": {
     "slide_type": ""
    }
   },
   "outputs": [],
   "source": [
    "# Checking the type of a boolean\n",
    "type(True)"
   ]
  },
  {
   "cell_type": "markdown",
   "id": "37c4b186",
   "metadata": {},
   "source": [
    "<!-- #endsolution -->\n",
    "\n",
    "<!-- #solution -->"
   ]
  },
  {
   "cell_type": "code",
   "execution_count": null,
   "id": "e2e8f87b",
   "metadata": {
    "slideshow": {
     "slide_type": ""
    }
   },
   "outputs": [],
   "source": [
    "# Adding a boolean to an integer\n",
    "1+True"
   ]
  },
  {
   "cell_type": "markdown",
   "id": "1dd25fc2",
   "metadata": {},
   "source": [
    "<!-- #endsolution -->\n",
    "\n",
    "<!-- #solution -->"
   ]
  },
  {
   "cell_type": "code",
   "execution_count": null,
   "id": "300a581e",
   "metadata": {
    "slideshow": {
     "slide_type": ""
    }
   },
   "outputs": [],
   "source": [
    "# Checking the type of the result\n",
    "type(1+True)"
   ]
  },
  {
   "cell_type": "markdown",
   "id": "cd6f333b",
   "metadata": {},
   "source": [
    "<!-- #endsolution -->"
   ]
  },
  {
   "cell_type": "markdown",
   "id": "6d91d529",
   "metadata": {
    "slideshow": {
     "slide_type": "notes"
    }
   },
   "source": [
    "##### _<ins>Notes:</ins>_"
   ]
  },
  {
   "cell_type": "markdown",
   "id": "726d661b",
   "metadata": {
    "slideshow": {
     "slide_type": "notes"
    }
   },
   "source": [
    "Let's take a closer look at booleans. They seem a bit boring, but we will see later that they are really essential for programming. The values are case sensitive, so you have to make sure to write``True`` and ``False`` with capital letters. You will also have noticed that ``True`` has the numerical value one, and ``False`` is zero."
   ]
  },
  {
   "cell_type": "markdown",
   "id": "4fcd5933",
   "metadata": {
    "slideshow": {
     "slide_type": "slide"
    }
   },
   "source": [
    "### _<ins>Example</ins>:_ Boolean operators"
   ]
  },
  {
   "cell_type": "markdown",
   "id": "977e9a40",
   "metadata": {},
   "source": [
    "<!-- #solution -->"
   ]
  },
  {
   "cell_type": "code",
   "execution_count": null,
   "id": "3887ef28",
   "metadata": {
    "slideshow": {
     "slide_type": ""
    }
   },
   "outputs": [],
   "source": [
    "# Adding booleans\n",
    "True+False"
   ]
  },
  {
   "cell_type": "markdown",
   "id": "6584bef9",
   "metadata": {},
   "source": [
    "<!-- #endsolution -->\n",
    "\n",
    "<!-- #solution -->"
   ]
  },
  {
   "cell_type": "code",
   "execution_count": null,
   "id": "c92d0d81",
   "metadata": {
    "slideshow": {
     "slide_type": ""
    }
   },
   "outputs": [],
   "source": [
    "# Logical AND\n",
    "True and False"
   ]
  },
  {
   "cell_type": "markdown",
   "id": "5f46b22d",
   "metadata": {},
   "source": [
    "<!-- #endsolution -->\n",
    "\n",
    "<!-- #solution -->"
   ]
  },
  {
   "cell_type": "code",
   "execution_count": null,
   "id": "ec9b2699",
   "metadata": {
    "slideshow": {
     "slide_type": ""
    }
   },
   "outputs": [],
   "source": [
    "# Logical OR\n",
    "True or False"
   ]
  },
  {
   "cell_type": "markdown",
   "id": "a7e5c85b",
   "metadata": {},
   "source": [
    "<!-- #endsolution -->\n",
    "\n",
    "<!-- #solution -->"
   ]
  },
  {
   "cell_type": "code",
   "execution_count": null,
   "id": "749fd0c5",
   "metadata": {
    "slideshow": {
     "slide_type": ""
    }
   },
   "outputs": [],
   "source": [
    "# Negating boolean\n",
    "not True"
   ]
  },
  {
   "cell_type": "markdown",
   "id": "2f6208a9",
   "metadata": {},
   "source": [
    "<!-- #endsolution -->"
   ]
  },
  {
   "cell_type": "markdown",
   "id": "3b29871e",
   "metadata": {
    "slideshow": {
     "slide_type": "notes"
    }
   },
   "source": [
    "##### _<ins>Notes:</ins>_"
   ]
  },
  {
   "cell_type": "markdown",
   "id": "d65aa324",
   "metadata": {
    "slideshow": {
     "slide_type": "notes"
    }
   },
   "source": [
    "While we can add booleans, the more appropriate operations are logical operations. You can invert the value with ``not``, and combine two values logically with ``and`` and ``or``."
   ]
  },
  {
   "cell_type": "markdown",
   "id": "a42ed3f4",
   "metadata": {
    "slideshow": {
     "slide_type": "slide"
    }
   },
   "source": [
    "## Basic operators\n",
    "New values can be obtained by applying operators to old values, for example, mathematical operators on numerical data types `int` or `float`."
   ]
  },
  {
   "cell_type": "markdown",
   "id": "2eb0b7dd",
   "metadata": {
    "slideshow": {
     "slide_type": ""
    }
   },
   "source": [
    "- String: concatenation with `+`\n",
    "- Bool: `and`, `or`, `not`\n",
    "- Numerical data: `+`, `-`, `*`, `/`, `%`, `**`, built-in functions `abs`, ...\n",
    "- Order of execution:\n",
    "    1. `()`\n",
    "    2. `**`\n",
    "    3. `*`, `/`\n",
    "    4. `+`, `-`\n",
    "    5. Left-to-right (except exponentiation!)\n",
    "\n",
    "So, use parenthesis to make sure!"
   ]
  },
  {
   "cell_type": "markdown",
   "id": "f4a4619b",
   "metadata": {
    "slideshow": {
     "slide_type": "notes"
    }
   },
   "source": [
    "##### _<ins>Notes:</ins>_"
   ]
  },
  {
   "cell_type": "markdown",
   "id": "7ed9fae9",
   "metadata": {
    "slideshow": {
     "slide_type": "notes"
    }
   },
   "source": [
    "- These are the basic operations we have for our data types: String concatenation with the plus sign, logical operations on booleans with and, or, and not, and for floats and integers we have addition, subtraction, multiplication, division, modulo (i.e., the remainder of a division), exponentiation, absolute value, and so on.\n",
    " - It is very important to be aware how these operations are executed in long arithmetic expressions. Generally, if you have something like a plus b plus c, it happens from left to right: First a plus b, and then plus c. However, if you have exponents, like a to the power of b to the power of c, the right-most operations happens first: b to the power of c, and then a to the power of the result. Exponents bind stronger than times and division, i.e. exponents are computed first, and times and division is stronger than plus and minus. If in doubt, just use parenthesis.\n",
    " - You will have the chance to play around with this in a moment, and find out for yourselves how it works."
   ]
  },
  {
   "cell_type": "markdown",
   "id": "80429d5e",
   "metadata": {
    "slideshow": {
     "slide_type": "slide"
    }
   },
   "source": [
    "## Comments (and documentation)\n",
    "Anything following the `#` character on a line is ignored by Python interpreter and becomes a comment. Comments are useful to document the code."
   ]
  },
  {
   "cell_type": "code",
   "execution_count": null,
   "id": "71dcc176",
   "metadata": {
    "slideshow": {
     "slide_type": ""
    }
   },
   "outputs": [],
   "source": [
    "# This is my programme to demonstrate how to\n",
    "# do simple calculations in Python.\n",
    "\n",
    "my_number = 2\n",
    "\n",
    "my_other_number = my_number + 5\n",
    "\n",
    "my_number = my_other_number / 2 # I have to divide\n",
    "                                # by 2 here, as the\n",
    "                                # results are\n",
    "                                # otherwise rubbish\n",
    "\n",
    "print(my_number)"
   ]
  },
  {
   "cell_type": "markdown",
   "id": "b49b0641",
   "metadata": {
    "slideshow": {
     "slide_type": "notes"
    }
   },
   "source": [
    "##### _<ins>Notes:</ins>_"
   ]
  },
  {
   "cell_type": "markdown",
   "id": "9d7aea4e",
   "metadata": {
    "slideshow": {
     "slide_type": "notes"
    }
   },
   "source": [
    "But first, I want to show you two more things.\n",
    "\n",
    " - One is comments. When you are writing your code, your intentions and your thinking might seem obvious, and you just want to get it running. However, believe me: If someone else is looking at your code at some point, and this someone else might be you in two weeks time, things are very probably not that obvious anymore. I found myself puzzling over my own code and why on earth I have done things like that quite often. In order to put a comment in your code you have to tell the interpreter that this bit is just for the humans reading the code, not interesting for the computer. In Python this is done by putting a hash symbol in front of the comment. This can be either at the beginning or in the middle of a line.\n"
   ]
  },
  {
   "cell_type": "markdown",
   "id": "eab66b95",
   "metadata": {
    "slideshow": {
     "slide_type": "slide"
    }
   },
   "source": [
    "## Debugging and Types of Errors"
   ]
  },
  {
   "cell_type": "markdown",
   "id": "649c8843",
   "metadata": {
    "slideshow": {
     "slide_type": ""
    }
   },
   "source": [
    "- Errors in computer programs are called ``bugs'' for historic reasons.\n",
    "- For complex projects, you will usually spend more time testing and debugging than writing code.\n",
    "- Three types of errors:\n",
    "    - Syntax errors - written the code wrongly\n",
    "    - Semantic errors - written the wrong code\n",
    "    - Runtime errors - something's wrong with the code (during execution)"
   ]
  },
  {
   "cell_type": "markdown",
   "id": "43009f9a",
   "metadata": {
    "slideshow": {
     "slide_type": "notes"
    }
   },
   "source": [
    "##### _<ins>Notes:</ins>_"
   ]
  },
  {
   "cell_type": "markdown",
   "id": "d96664b4",
   "metadata": {
    "slideshow": {
     "slide_type": "notes"
    }
   },
   "source": [
    "- The other thing I want to mention at this points are errors. As soon as you start programming you will make mistakes. Everyone does that, even the most experienced programmers spend a lot of time hunting for bugs in their code. \"Bugs\" is a common term for errors in computer programs. It is said that this term originates from a time when actual insects in the hardware of a computer or another machine were the cause for malfunctions. There is a number of different opinions on when the term was first used, but I won't go into that here. Looking for and removing these errors is also called \"debugging\"."
   ]
  },
  {
   "cell_type": "markdown",
   "id": "1667efcd",
   "metadata": {
    "slideshow": {
     "slide_type": "notes"
    }
   },
   "source": [
    " - Syntax errors are usually the easiest to spot. We have seen them before, when we wrote some code that was not valid, made a typo or so. Your interpreter or compiler will tell you straight away that something is wrong.\n",
    " - Semantic errors are much harder to find. It means that the code that you have written does not do what you intended it to do. Because you have written it, you will probably have assumed that it does the right thing, so you have to question your thinking. Often it helps to explain your code to someone else, so that either they or yourself might spot the mistake.\n",
    " - The third type is runtime errors. These will just appear during execution, for example because your code cannot cope with a certain type of input. An example would be a code that divides a number by another number given by user input, which errors if the user input is zero or a string."
   ]
  },
  {
   "cell_type": "markdown",
   "id": "7e3af1ee",
   "metadata": {
    "slideshow": {
     "slide_type": "slide"
    }
   },
   "source": [
    "## Have a play!"
   ]
  },
  {
   "cell_type": "markdown",
   "id": "0e13aa3a",
   "metadata": {},
   "source": [
    "### _Exercises_"
   ]
  },
  {
   "cell_type": "markdown",
   "id": "e097708d",
   "metadata": {
    "slideshow": {
     "slide_type": ""
    }
   },
   "source": [
    "You could try\n",
    " - what happens if you add a float and an integer,\n",
    " - what happens if you mix numbers and bools in arithmetic expressions,\n",
    " - how setting parenthesis changes the result of a large arithmetic expression,\n",
    " - to print statements that include variables of different data types,\n",
    " - try to reproduce each of the error types,\n",
    " - ..."
   ]
  },
  {
   "cell_type": "markdown",
   "id": "165a8633",
   "metadata": {
    "slideshow": {
     "slide_type": "notes"
    }
   },
   "source": [
    "##### _<ins>Notes:</ins>_"
   ]
  },
  {
   "cell_type": "markdown",
   "id": "a704ae56",
   "metadata": {
    "slideshow": {
     "slide_type": "notes"
    }
   },
   "source": [
    "Now it's time for you to try the things that we have learned about yourselves. I want you to think about data types, variables, the different operations, comments and errors, and find out more about how they work by experimenting. Write little bits of code and see what works, what doesn't, and how the output changes.\n",
    "\n",
    "I wrote down some examples here, in case you are unsure what to do, but you can do something different.\n",
    "\n",
    "Again, if you have any question or need help, we are here to help.\n",
    "\n",
    "I'll give you about 10 minutes, then I'll go with you over possible solutions for my examples above."
   ]
  },
  {
   "cell_type": "markdown",
   "id": "4237d7d0",
   "metadata": {
    "slideshow": {
     "slide_type": "slide"
    }
   },
   "source": [
    "#### _Example solution_"
   ]
  },
  {
   "cell_type": "markdown",
   "id": "a6decae0",
   "metadata": {},
   "source": [
    "<!-- #solution -->"
   ]
  },
  {
   "cell_type": "code",
   "execution_count": null,
   "id": "6aee6f26",
   "metadata": {
    "slideshow": {
     "slide_type": ""
    }
   },
   "outputs": [],
   "source": [
    "# What happens if you add a float and an integer?\n",
    "1+3.0"
   ]
  },
  {
   "cell_type": "markdown",
   "id": "1b92cb0c",
   "metadata": {},
   "source": [
    "<!-- #endsolution -->"
   ]
  },
  {
   "cell_type": "markdown",
   "id": "48004057",
   "metadata": {
    "slideshow": {
     "slide_type": "slide"
    }
   },
   "source": [
    "#### _Example solution_"
   ]
  },
  {
   "cell_type": "markdown",
   "id": "d88d10bb",
   "metadata": {},
   "source": [
    "<!-- #solution -->"
   ]
  },
  {
   "cell_type": "code",
   "execution_count": null,
   "id": "d9cca2bf",
   "metadata": {
    "slideshow": {
     "slide_type": ""
    }
   },
   "outputs": [],
   "source": [
    "# What happens if you mix numbers and bools in arithmetic expressions?\n",
    "print(1+True)\n",
    "\n",
    "print(6-False)"
   ]
  },
  {
   "cell_type": "markdown",
   "id": "d2b476cc",
   "metadata": {},
   "source": [
    "<!-- #endsolution -->"
   ]
  },
  {
   "cell_type": "markdown",
   "id": "6e3b3070",
   "metadata": {
    "slideshow": {
     "slide_type": "notes"
    }
   },
   "source": [
    "##### _<ins>Notes:</ins>_"
   ]
  },
  {
   "cell_type": "markdown",
   "id": "d3f18e21",
   "metadata": {
    "slideshow": {
     "slide_type": "fragment"
    }
   },
   "source": [
    "True is converted to one and False is converted to zero"
   ]
  },
  {
   "cell_type": "markdown",
   "id": "3bda4412",
   "metadata": {
    "slideshow": {
     "slide_type": "slide"
    }
   },
   "source": [
    "#### _Example solution_"
   ]
  },
  {
   "cell_type": "markdown",
   "id": "56931d62",
   "metadata": {},
   "source": [
    "<!-- #solution -->"
   ]
  },
  {
   "cell_type": "code",
   "execution_count": null,
   "id": "bdd1495c",
   "metadata": {
    "slideshow": {
     "slide_type": ""
    }
   },
   "outputs": [],
   "source": [
    "# How setting parenthesis changes the result of a large arithmetic expression?\n",
    "print(1+2/3-4*5**6+7)\n",
    "print(((1+2)/(3-4))*(5**6)+7)\n",
    "print(((1+2)/(3-4))*5**(6+7))\n",
    "print((1+2)/((3-4)*5**6+7))"
   ]
  },
  {
   "cell_type": "markdown",
   "id": "5bc72310",
   "metadata": {},
   "source": [
    "<!-- #endsolution -->"
   ]
  },
  {
   "cell_type": "markdown",
   "id": "c7788422",
   "metadata": {
    "slideshow": {
     "slide_type": "slide"
    }
   },
   "source": [
    "#### _Example solution_"
   ]
  },
  {
   "cell_type": "markdown",
   "id": "b90441eb",
   "metadata": {},
   "source": [
    "<!-- #solution -->"
   ]
  },
  {
   "cell_type": "code",
   "execution_count": null,
   "id": "abe413e4",
   "metadata": {
    "slideshow": {
     "slide_type": ""
    }
   },
   "outputs": [],
   "source": [
    "# Print statements that include variables of different data types.\n",
    "my_int = 1\n",
    "my_float = 3.4\n",
    "my_string = \"Flower\"\n",
    "my_bool = True\n",
    "print(\"Add:\", my_int + my_float)\n",
    "print(\"Hello \" + my_string)\n",
    "print(my_string + \" this: \", my_bool - my_float, \" and that: \", my_bool)"
   ]
  },
  {
   "cell_type": "markdown",
   "id": "52e61cdc",
   "metadata": {},
   "source": [
    "<!-- #endsolution -->"
   ]
  },
  {
   "cell_type": "markdown",
   "id": "e9ba52c9",
   "metadata": {
    "slideshow": {
     "slide_type": "slide"
    }
   },
   "source": [
    "#### _Example solutions_\n",
    "Try to reproduce each of the error types\n"
   ]
  },
  {
   "cell_type": "markdown",
   "id": "2448ab69",
   "metadata": {
    "slideshow": {
     "slide_type": ""
    }
   },
   "source": [
    "##### 1. Syntax Error"
   ]
  },
  {
   "cell_type": "markdown",
   "id": "11d17f93",
   "metadata": {},
   "source": [
    "<!-- #solution -->"
   ]
  },
  {
   "cell_type": "code",
   "execution_count": null,
   "id": "9662536b",
   "metadata": {
    "slideshow": {
     "slide_type": ""
    }
   },
   "outputs": [],
   "source": [
    "print(\"Hello\" 5)"
   ]
  },
  {
   "cell_type": "markdown",
   "id": "70ce86d7",
   "metadata": {},
   "source": [
    "<!-- #endsolution -->"
   ]
  },
  {
   "cell_type": "markdown",
   "id": "d2211c90",
   "metadata": {
    "slideshow": {
     "slide_type": ""
    }
   },
   "source": [
    "##### 2. Semantic Error"
   ]
  },
  {
   "cell_type": "markdown",
   "id": "56d59c52",
   "metadata": {},
   "source": [
    "<!-- #solution -->"
   ]
  },
  {
   "cell_type": "code",
   "execution_count": null,
   "id": "f0040925",
   "metadata": {
    "slideshow": {
     "slide_type": ""
    }
   },
   "outputs": [],
   "source": [
    "print(\"7+5 = \", 1+1)"
   ]
  },
  {
   "cell_type": "markdown",
   "id": "90e58eb4",
   "metadata": {},
   "source": [
    "<!-- #endsolution -->"
   ]
  },
  {
   "cell_type": "markdown",
   "id": "818332e7",
   "metadata": {
    "slideshow": {
     "slide_type": ""
    }
   },
   "source": [
    "##### 3. Runtime Error"
   ]
  },
  {
   "cell_type": "markdown",
   "id": "c1cddd92",
   "metadata": {},
   "source": [
    "<!-- #solution -->"
   ]
  },
  {
   "cell_type": "code",
   "execution_count": null,
   "id": "40893ff4",
   "metadata": {
    "slideshow": {
     "slide_type": ""
    }
   },
   "outputs": [],
   "source": [
    "x = \"thisisastring\" #Make this an input during runtime, see next section.\n",
    "print(\"5/x=\", 5/x)"
   ]
  },
  {
   "cell_type": "markdown",
   "id": "5bfa5a25",
   "metadata": {},
   "source": [
    "<!-- #endsolution -->"
   ]
  },
  {
   "cell_type": "markdown",
   "id": "feb5e0da",
   "metadata": {
    "slideshow": {
     "slide_type": "slide"
    }
   },
   "source": [
    "## Interlude: Indented blocks in python\n",
    "Python uses indention to separate blocs after a `:`\n",
    "```python\n",
    "some_functionality_on_block:\n",
    "   first_statement_in_block()\n",
    "   second_statement_in_block()\n",
    "statement_not_in_block()\n",
    "```\n"
   ]
  },
  {
   "cell_type": "markdown",
   "id": "11706d2e",
   "metadata": {
    "slideshow": {
     "slide_type": "notes"
    }
   },
   "source": [
    "##### _<ins>Notes:</ins>_"
   ]
  },
  {
   "cell_type": "markdown",
   "id": "c7b10477",
   "metadata": {
    "slideshow": {
     "slide_type": "notes"
    }
   },
   "source": [
    "We will now encounter indented blocks. In contrast to a lot of other programming languages, code blocks in python are denoted by an indentation, not brackets."
   ]
  },
  {
   "cell_type": "markdown",
   "id": "3f0a2117",
   "metadata": {
    "slideshow": {
     "slide_type": "slide"
    }
   },
   "source": [
    "# <ins>2.</ins> Functions"
   ]
  },
  {
   "cell_type": "markdown",
   "id": "271582c6",
   "metadata": {
    "slideshow": {
     "slide_type": ""
    }
   },
   "source": [
    "A function is a block of reusable code that performs a specific task. Functions help reduce repetition and make code easier to manage. A function is defined using the `def` keyword."
   ]
  },
  {
   "cell_type": "markdown",
   "id": "621ce05b",
   "metadata": {},
   "source": [
    "* You can pass data to functions (parameters).\n",
    "* Functions can return values.\n",
    "* Functions help break down complex programs into smaller, manageable parts."
   ]
  },
  {
   "cell_type": "code",
   "execution_count": null,
   "id": "0768a685",
   "metadata": {},
   "outputs": [],
   "source": [
    "# Function to add two numbers\n",
    "def add_numbers(a, b):\n",
    "    return a + b\n",
    "\n",
    "# Call the function\n",
    "result = add_numbers(3, 4)\n",
    "print(result)"
   ]
  },
  {
   "cell_type": "markdown",
   "id": "0fc91585",
   "metadata": {
    "slideshow": {
     "slide_type": "slide"
    }
   },
   "source": [
    "## Have a play!"
   ]
  },
  {
   "cell_type": "markdown",
   "id": "f109e4a2",
   "metadata": {
    "slideshow": {
     "slide_type": "slide"
    }
   },
   "source": [
    "### _Exercises_\n",
    "\n",
    "**1)** Write a function that converts Celsius to Fahrenheit. Use the formula  \n",
    "$\n",
    "\\text{Fahrenheit} = (\\text{Celsius} \\times \\frac{9}{5}) + 32\n",
    "$\n",
    "\n",
    "<!-- #solution -->"
   ]
  },
  {
   "cell_type": "code",
   "execution_count": null,
   "id": "217d1390",
   "metadata": {},
   "outputs": [],
   "source": [
    "def celsius_to_fahrenheit(celsius):\n",
    "    return (celsius * 9/5) + 32\n",
    "\n",
    "celsius = 23\n",
    "print(f\"{celsius}°C is equal to {celsius_to_fahrenheit(celsius)}°F\")"
   ]
  },
  {
   "cell_type": "markdown",
   "id": "71590e03",
   "metadata": {},
   "source": [
    "<!-- #endsolution -->"
   ]
  },
  {
   "cell_type": "markdown",
   "id": "0f90595f",
   "metadata": {
    "slideshow": {
     "slide_type": "slide"
    }
   },
   "source": [
    "# <ins>**Part II**</ins>"
   ]
  },
  {
   "cell_type": "markdown",
   "id": "99b57fe9",
   "metadata": {
    "slideshow": {
     "slide_type": "slide"
    }
   },
   "source": [
    "# <ins>3.</ins> Getting Data in and out"
   ]
  },
  {
   "cell_type": "markdown",
   "id": "0c2c7c72",
   "metadata": {
    "slideshow": {
     "slide_type": "notes"
    }
   },
   "source": [
    "Now that we have covered the basics, let's move on to the next level. I expect that most of you are interested in processing data in one way or the other. Most times, we do not want to explicitly write our data into our code, which is also called \"hardcoding\", and has a bad reputation.\n",
    "\n",
    "Instead, we want to be able to provide data during runtime, and have a general program that is able to process the data.\n",
    "\n",
    "How then do we get the data in and out of our program?"
   ]
  },
  {
   "cell_type": "markdown",
   "id": "9c1a1cde",
   "metadata": {
    "slideshow": {
     "slide_type": "slide"
    }
   },
   "source": [
    "## User input\n",
    "The `print` function enables a Python program to display textual information to the user. The `input` function maybe used to obtain information from the user."
   ]
  },
  {
   "cell_type": "code",
   "execution_count": null,
   "id": "ef33d2d3",
   "metadata": {
    "slideshow": {
     "slide_type": ""
    }
   },
   "outputs": [],
   "source": [
    "# Get some user input\n",
    "x = input()\n",
    "# print it\n",
    "print(x)\n",
    "# check the type of the input\n",
    "type(x)   # This will be a string if you don't convert it"
   ]
  },
  {
   "cell_type": "code",
   "execution_count": null,
   "id": "6ae17b64",
   "metadata": {
    "slideshow": {
     "slide_type": ""
    }
   },
   "outputs": [],
   "source": [
    "# Implement a greeting function with user input\n",
    "name = input(\"What's you name?\")\n",
    "print(\"Hello \" + name)"
   ]
  },
  {
   "cell_type": "markdown",
   "id": "6a116deb",
   "metadata": {
    "slideshow": {
     "slide_type": "notes"
    }
   },
   "source": [
    "##### _<ins>Notes:</ins>_"
   ]
  },
  {
   "cell_type": "markdown",
   "id": "a0feeaaa",
   "metadata": {
    "slideshow": {
     "slide_type": "notes"
    }
   },
   "source": [
    "As an equivalent to the `print` built-in function, there is the `input` built-in function. It just takes the input from the command line or terminal, and you can do with it whatever you like. For example, here I am putting it into a variable `x`, and then output it. You can also add a prompting message to the user to tell them what kind of input you expect. Note that, just as `print` outputs a string, any user input will be interpreted as of type `str`, regardless of whether it is made out of letters, numbers, or symbols. So you might need to convert it to whatever data type you need it to be.\n",
    "\n",
    "This kind of user input is, of course, not suited for inputting large data sets. It is rather for getting in, for example, parameters, the path to the data set, or other settings or instructions to the program."
   ]
  },
  {
   "cell_type": "markdown",
   "id": "4b0d3d21",
   "metadata": {
    "slideshow": {
     "slide_type": "slide"
    }
   },
   "source": [
    "## Reading and writing files"
   ]
  },
  {
   "cell_type": "markdown",
   "id": "4c02ed8e",
   "metadata": {
    "slideshow": {
     "slide_type": ""
    }
   },
   "source": [
    "```python\n",
    "# Create a file object\n",
    "with open(\"testfile.txt\", 'w') as my_file:\n",
    "    ...\n",
    "```\n",
    "Two things to note here:\n",
    " - My object `my_file` is different from my file `\"testfile\"`!\n",
    " - There are different modes:\n",
    "     - read: `'r'`\n",
    "     - (over-)write: `'w'`\n",
    "     - append: `'a'`\n",
    "     - read+write: `'w+'` or `'r+'`"
   ]
  },
  {
   "cell_type": "markdown",
   "id": "e5912ffa",
   "metadata": {
    "slideshow": {
     "slide_type": "notes"
    }
   },
   "source": [
    "##### _<ins>Notes:</ins>_"
   ]
  },
  {
   "cell_type": "markdown",
   "id": "60e98284",
   "metadata": {
    "slideshow": {
     "slide_type": "notes"
    }
   },
   "source": [
    "The actual data input will usually happen over a file. Follow me in creating a new file.\n",
    "\n",
    "[demonstrate] As you will see, there is now a new file called `\"testfile.txt\"` in your working directory.\n",
    "\n",
    "[show] But that is not the only thing that happened. At the same time, a file object called `my_file` was created in your program. These are two different things. For example, if I rename or delete the file object, my file in the file system won't change. This might sound trivial, but I thought I mention it, as it could lead to confusion.\n",
    "\n",
    "The `'w'` here stands for \"_write_\". If there is already a file with this name, we will now overwrite its contents. If we instead open the file with `'a'` for \"_append_\", we start writing after the existing content. We can also open the file in _read-only_ mode, or in _read-and-write_ mode."
   ]
  },
  {
   "cell_type": "markdown",
   "id": "297782aa",
   "metadata": {
    "slideshow": {
     "slide_type": "slide"
    }
   },
   "source": [
    "### Writing files and formatting strings (C-style)"
   ]
  },
  {
   "cell_type": "code",
   "execution_count": null,
   "id": "2e781dc1",
   "metadata": {
    "slideshow": {
     "slide_type": ""
    }
   },
   "outputs": [],
   "source": [
    "with open(\"testfile.txt\", \"w\") as my_file:\n",
    "    # Write - note special characters!\n",
    "    my_file.write(\"This is some text. \\n And some more.\")\n",
    "    my_file.write(\"\\n\\nI can also add numbers like this: %d %d \\n\" %(22, 333))\n",
    "\n",
    "    my_file.write(str(222))"
   ]
  },
  {
   "cell_type": "markdown",
   "id": "9a2b1308",
   "metadata": {
    "slideshow": {
     "slide_type": ""
    }
   },
   "source": [
    "see also [https://www.learnpython.org/en/String\\_Formatting](https://www.learnpython.org/en/String_Formatting)"
   ]
  },
  {
   "cell_type": "markdown",
   "id": "48cd7ce1",
   "metadata": {
    "slideshow": {
     "slide_type": "notes"
    }
   },
   "source": [
    "##### _<ins>Notes:</ins>_"
   ]
  },
  {
   "cell_type": "markdown",
   "id": "2ec381fa",
   "metadata": {
    "slideshow": {
     "slide_type": "notes"
    }
   },
   "source": [
    "Now we are writing some text and numbers into our file. Note that, again, everything needs to be a _string_. We can put in numbers either by converting them directly to a string, or by putting in a place holder, like this \"_percent d_\", for numerical or decimal values, and then putting in the number after the string. The \"_backslash n_\" symbol stands for a line break.\n",
    "\n",
    "The single backslash is a line continuation character and tells the interpreter that we are not done yet with that command, but that it continues in the next line."
   ]
  },
  {
   "cell_type": "markdown",
   "id": "6913eb36",
   "metadata": {
    "slideshow": {
     "slide_type": "slide"
    }
   },
   "source": [
    "### Writing files (f-strings)"
   ]
  },
  {
   "cell_type": "code",
   "execution_count": null,
   "id": "39ec2211",
   "metadata": {
    "slideshow": {
     "slide_type": ""
    }
   },
   "outputs": [],
   "source": [
    "number1 = 44\n",
    "number2 = 111\n",
    "\n",
    "with open(\"testfile.txt\", \"a\") as my_file:\n",
    "    # Append to the opened file\n",
    "    my_file.write(f\"\\n I have opened the same file again.\\n More numbers: {number1} {number2}.\")"
   ]
  },
  {
   "cell_type": "markdown",
   "id": "1ba0747e",
   "metadata": {
    "slideshow": {
     "slide_type": ""
    }
   },
   "source": [
    "see also [f-strings](https://realpython.com/python-f-strings/)"
   ]
  },
  {
   "cell_type": "markdown",
   "id": "68e0797f",
   "metadata": {
    "slideshow": {
     "slide_type": "notes"
    }
   },
   "source": [
    "##### _<ins>Notes:</ins>_"
   ]
  },
  {
   "cell_type": "markdown",
   "id": "50670352",
   "metadata": {
    "slideshow": {
     "slide_type": "notes"
    }
   },
   "source": [
    "This similar as on the previous slide. We open the same file in _append_-mode and add some more lines, using _f-strings_ instead of _C-style_ string formatting for including numbers.\n",
    "\n",
    "_F-strings_ are faster.\n",
    "\n",
    "Try for yourself to write something into the file using either or both styles, and then check the content of your file! We will use this file in a moment to read the content back into a Python program.\n",
    "\n",
    "[give them some minutes to do that]"
   ]
  },
  {
   "cell_type": "markdown",
   "id": "ce5dc945",
   "metadata": {
    "slideshow": {
     "slide_type": "slide"
    }
   },
   "source": [
    "### Reading files"
   ]
  },
  {
   "cell_type": "code",
   "execution_count": null,
   "id": "a0b48631",
   "metadata": {
    "slideshow": {
     "slide_type": ""
    }
   },
   "outputs": [],
   "source": [
    "with open(\"testfile.txt\", \"r\") as my_file:\n",
    "    # Read it and print it to screen\n",
    "    print(my_file.read())\n",
    "\n",
    "    # Try this:\n",
    "    #print(my_file.read(7))\n",
    "    #print(my_file.readline())\n",
    "    #print(my_file.readlines())"
   ]
  },
  {
   "cell_type": "markdown",
   "id": "357b6570",
   "metadata": {
    "slideshow": {
     "slide_type": "notes"
    }
   },
   "source": [
    "##### _<ins>Notes:</ins>_"
   ]
  },
  {
   "cell_type": "markdown",
   "id": "27cab681",
   "metadata": {
    "slideshow": {
     "slide_type": "notes"
    }
   },
   "source": [
    "In the next step, we will read out data from the file that we have just created. There are different ways of doing this. In this example, I combine the reading directly with a `print` statement, so that I see the result. Usually you would probably put the output of the reading operation into a `variable` and continue to process it.\n",
    "\n",
    "Have a go with these four different version of file reading. [give them some minutes]\n",
    "\n",
    "You have seen that you can read the whole file in one go, read single characters from the file, or a whole line. If you apply the `readline` command repeatedly, it will go on to the next line of your file.\n",
    "\n",
    "Interesting is the output of the `readlines` command. It gives you a structure that has all the lines of the file in it, as separate strings, divided by commas."
   ]
  },
  {
   "cell_type": "markdown",
   "id": "c2bdb659",
   "metadata": {
    "slideshow": {
     "slide_type": "slide"
    }
   },
   "source": [
    "## Have a play!"
   ]
  },
  {
   "cell_type": "markdown",
   "id": "cc5b287a",
   "metadata": {},
   "source": [
    "### _Exercises_"
   ]
  },
  {
   "cell_type": "markdown",
   "id": "00971ae2",
   "metadata": {
    "slideshow": {
     "slide_type": ""
    }
   },
   "source": [
    "Here are some exercise ideas for \"Getting data in and out\":\n",
    "- Prompt the user for a filename and write a short text into it.\n",
    "- Read it back and print the lines to the screen.\n",
    "- Experiment with different modes: 'r', 'w', 'a' to see how the file content changes."
   ]
  },
  {
   "cell_type": "code",
   "execution_count": null,
   "id": "a0eead50",
   "metadata": {},
   "outputs": [],
   "source": []
  },
  {
   "cell_type": "markdown",
   "id": "59a2c7af",
   "metadata": {
    "slideshow": {
     "slide_type": "slide"
    }
   },
   "source": [
    "# <ins>4.</ins> Data structures"
   ]
  },
  {
   "cell_type": "markdown",
   "id": "ff151de8",
   "metadata": {},
   "source": [
    "Python can work not only with basic data types mentioned before, but also with compound ones. Compound data types in Python are a powerful tool for organizing and storing data. Among the most commonly used are _lists_ and _dictionaries_. `For`-loops described in the next section often iterate over elements of lists or pairs of keys and values in dictionaries. But they can also iterate over a series of numbers generated for indexing or calculations by the `range()` function."
   ]
  },
  {
   "cell_type": "markdown",
   "id": "875f6816",
   "metadata": {
    "slideshow": {
     "slide_type": "slide"
    }
   },
   "source": [
    "## Lists"
   ]
  },
  {
   "cell_type": "markdown",
   "id": "0f30d93e",
   "metadata": {},
   "source": [
    "_Lists_ are ordered collections of items."
   ]
  },
  {
   "cell_type": "markdown",
   "id": "836418f1",
   "metadata": {
    "slideshow": {
     "slide_type": ""
    }
   },
   "source": [
    "* A list contains items separated by commas and enclosed with square brackets `[]`\n",
    "* A list can contain different datatypes (`int`, `float`, `str`, etc.)\n",
    "* Similar to strings, list members can be accessed using their associated index which is zero-based\n",
    "* Common list functions: `append()`, `remove()`, `pop()`"
   ]
  },
  {
   "cell_type": "markdown",
   "id": "c19b5055",
   "metadata": {
    "slideshow": {
     "slide_type": "slide"
    }
   },
   "source": [
    "### _<ins>Examples:</ins>_\n",
    "\n",
    "<!-- #solution -->"
   ]
  },
  {
   "cell_type": "code",
   "execution_count": null,
   "id": "d8c55834",
   "metadata": {},
   "outputs": [],
   "source": [
    "# Creating/Initialising a list\n",
    "my_list = [1, 2, 3, 4, 5]"
   ]
  },
  {
   "cell_type": "markdown",
   "id": "018b40bc",
   "metadata": {},
   "source": [
    "<!-- #endsolution -->\n",
    "\n",
    "<!-- #solution -->"
   ]
  },
  {
   "cell_type": "code",
   "execution_count": null,
   "id": "39ba2aed",
   "metadata": {
    "slideshow": {
     "slide_type": ""
    }
   },
   "outputs": [],
   "source": [
    "# Print a list\n",
    "print(my_list)"
   ]
  },
  {
   "cell_type": "markdown",
   "id": "b2ed25b0",
   "metadata": {},
   "source": [
    "<!-- #endsolution -->\n",
    "\n",
    "<!-- #solution -->"
   ]
  },
  {
   "cell_type": "code",
   "execution_count": null,
   "id": "c44bda60",
   "metadata": {
    "slideshow": {
     "slide_type": ""
    }
   },
   "outputs": [],
   "source": [
    "# Print an element of the list. Note: use [] not () for item indexing\n",
    "print(my_list[3])"
   ]
  },
  {
   "cell_type": "markdown",
   "id": "0a9fcec0",
   "metadata": {},
   "source": [
    "<!-- #endsolution -->\n",
    "\n",
    "<!-- #solution -->"
   ]
  },
  {
   "cell_type": "code",
   "execution_count": null,
   "id": "800d4345",
   "metadata": {
    "slideshow": {
     "slide_type": ""
    }
   },
   "outputs": [],
   "source": [
    "# Print the first element of the list. Indexing starts with 0!\n",
    "print(my_list[0])"
   ]
  },
  {
   "cell_type": "markdown",
   "id": "0041704b",
   "metadata": {},
   "source": [
    "<!-- #endsolution -->\n",
    "\n",
    "<!-- #solution -->"
   ]
  },
  {
   "cell_type": "code",
   "execution_count": null,
   "id": "9752517a",
   "metadata": {
    "slideshow": {
     "slide_type": ""
    }
   },
   "outputs": [],
   "source": [
    "# Print the last element of the list using backward indexing\n",
    "print(my_list[-1])  # Go backwards"
   ]
  },
  {
   "cell_type": "markdown",
   "id": "a03445f7",
   "metadata": {},
   "source": [
    "<!-- #endsolution -->\n",
    "\n",
    "<!-- #solution -->"
   ]
  },
  {
   "cell_type": "code",
   "execution_count": null,
   "id": "babd16bb",
   "metadata": {
    "slideshow": {
     "slide_type": ""
    }
   },
   "outputs": [],
   "source": [
    "# Print an internal slice of the list\n",
    "print(my_list[1:4]) # Include first, exclude last"
   ]
  },
  {
   "cell_type": "markdown",
   "id": "3bd7b57b",
   "metadata": {},
   "source": [
    "<!-- #endsolution -->\n",
    "\n",
    "<!-- #solution -->"
   ]
  },
  {
   "cell_type": "code",
   "execution_count": null,
   "id": "7fa63ab9",
   "metadata": {
    "slideshow": {
     "slide_type": ""
    }
   },
   "outputs": [],
   "source": [
    "# Print a slice of the list from the beginning\n",
    "print(my_list[:2])  # More slicing"
   ]
  },
  {
   "cell_type": "markdown",
   "id": "661e6cb3",
   "metadata": {},
   "source": [
    "<!-- #endsolution -->\n",
    "\n",
    "<!-- #solution -->"
   ]
  },
  {
   "cell_type": "code",
   "execution_count": null,
   "id": "9c1ff742",
   "metadata": {},
   "outputs": [],
   "source": [
    "# Different datatypes in lists, length of lists\n",
    "list1 = [1, 'A', 4.6]\n",
    "list2 = [1, 2, 5]\n",
    "print(len(list1))"
   ]
  },
  {
   "cell_type": "markdown",
   "id": "b31475a9",
   "metadata": {},
   "source": [
    "<!-- #endsolution -->\n",
    "\n",
    "<!-- #solution -->"
   ]
  },
  {
   "cell_type": "code",
   "execution_count": null,
   "id": "a722472f",
   "metadata": {},
   "outputs": [],
   "source": [
    "# Print out `list1`, a slice containing the last element\n",
    "print(list1[1:])"
   ]
  },
  {
   "cell_type": "markdown",
   "id": "cfc8700c",
   "metadata": {},
   "source": [
    "<!-- #endsolution -->\n",
    "\n",
    "<!-- #solution -->"
   ]
  },
  {
   "cell_type": "code",
   "execution_count": null,
   "id": "0964b16d",
   "metadata": {},
   "outputs": [],
   "source": [
    "# Concatenate two lists\n",
    "print(list1 + list2)"
   ]
  },
  {
   "cell_type": "markdown",
   "id": "5912c4cc",
   "metadata": {},
   "source": [
    "<!-- #endsolution -->"
   ]
  },
  {
   "cell_type": "markdown",
   "id": "b08391ee",
   "metadata": {
    "slideshow": {
     "slide_type": "notes"
    }
   },
   "source": [
    "##### _<ins>Notes:</ins>_"
   ]
  },
  {
   "cell_type": "markdown",
   "id": "295b041c",
   "metadata": {
    "slideshow": {
     "slide_type": "notes"
    }
   },
   "source": [
    "This kind of structure is called a _list_, and it is an essential data structure in Python programming.\n",
    "\n",
    "We can access the entries using square brackets. The first entry in the list is entry number zero, because we are programmers now, and programmers and computer scientists like to start counting from zero. We can even go backwards, in a periodic sense, and land at the last entry of the list at -1, the second-last at -2, and so on. We can take a slice of the list, for example the entries one to three -- note that, in this notation, the first entry given is included and the last excluded.\n",
    "If we just put a colon, we mean that we go all the way to that side, so here we go from the beginning of the list, which is entry zero, to entry 1. You can just put a colon to indicate you mean the whole list."
   ]
  },
  {
   "cell_type": "markdown",
   "id": "bd1d201a",
   "metadata": {
    "slideshow": {
     "slide_type": "notes"
    }
   },
   "source": [
    "##### _<ins>Notes:</ins>_"
   ]
  },
  {
   "cell_type": "markdown",
   "id": "2fc1dec4",
   "metadata": {
    "slideshow": {
     "slide_type": "notes"
    }
   },
   "source": [
    "[https://www.w3schools.com/python/python_lists.asp](https://www.w3schools.com/python/python_lists.asp)\n",
    "\n",
    "This is something that is worth getting your head around. Please go to the website given here, read through it and try their examples. At the end, you will find a list of methods on lists, with links to further information. Even though the website uses all toy examples, these are really useful tools in data processing. Try to think how you would use these methods on your actual research data.\n",
    "\n",
    "I'll give you 10 minutes, then we'll continue."
   ]
  },
  {
   "cell_type": "markdown",
   "id": "c1503045",
   "metadata": {
    "slideshow": {
     "slide_type": "slide"
    }
   },
   "source": [
    "## _Range()_ function"
   ]
  },
  {
   "cell_type": "markdown",
   "id": "09527364",
   "metadata": {},
   "source": [
    "The `range()` function in Python is used to generate a sequence of numbers. It takes up to three arguments: `start`, `stop`, and `step`. By default, `start` is 0, `step` is 1, and the sequence ends just before the `stop` value."
   ]
  },
  {
   "cell_type": "markdown",
   "id": "abc25fd1",
   "metadata": {},
   "source": [
    "* `range(stop)`: Generates numbers from 0 to stop - 1.\n",
    "* `range(start, stop)`: Generates numbers from start to stop - 1.\n",
    "* `range(start, stop, step)`: Generates numbers from start to stop - 1, stepping by step.\n",
    "* `range()` can generate both increasing and decreasing sequences by changing the step argument.\n",
    "* The generated sequence is immutable, but can be converted to a list or iterated directly."
   ]
  },
  {
   "cell_type": "markdown",
   "id": "4347b16e",
   "metadata": {
    "slideshow": {
     "slide_type": "slide"
    }
   },
   "source": [
    "### _<ins>Examples:</ins>_"
   ]
  },
  {
   "cell_type": "code",
   "execution_count": null,
   "id": "7d0dc73c",
   "metadata": {},
   "outputs": [],
   "source": [
    "range(10)"
   ]
  },
  {
   "cell_type": "code",
   "execution_count": null,
   "id": "b29ed590",
   "metadata": {},
   "outputs": [],
   "source": [
    "list(range(10))"
   ]
  },
  {
   "cell_type": "code",
   "execution_count": null,
   "id": "9873a37c",
   "metadata": {},
   "outputs": [],
   "source": [
    "list(range(1,10))"
   ]
  },
  {
   "cell_type": "code",
   "execution_count": null,
   "id": "ac92d698",
   "metadata": {},
   "outputs": [],
   "source": [
    "list(range(3,7))"
   ]
  },
  {
   "cell_type": "code",
   "execution_count": null,
   "id": "7cfaea9a",
   "metadata": {},
   "outputs": [],
   "source": [
    "list(range(2,15,3))"
   ]
  },
  {
   "cell_type": "code",
   "execution_count": null,
   "id": "55a4ec8a",
   "metadata": {},
   "outputs": [],
   "source": [
    "list(range(9,2,-1))"
   ]
  },
  {
   "cell_type": "markdown",
   "id": "aed33b74",
   "metadata": {
    "slideshow": {
     "slide_type": "slide"
    }
   },
   "source": [
    "## Have a Play!"
   ]
  },
  {
   "cell_type": "markdown",
   "id": "3e5f09fd",
   "metadata": {},
   "source": [
    "### _Exercises_"
   ]
  },
  {
   "cell_type": "markdown",
   "id": "26c6c459",
   "metadata": {},
   "source": [
    "**1) Lists**: Create a list of numbers from 1 to 20 and then print the elements at every second index.\n",
    "\n",
    "<!-- #solution -->"
   ]
  },
  {
   "cell_type": "code",
   "execution_count": null,
   "id": "f3d71d48",
   "metadata": {},
   "outputs": [],
   "source": [
    "my_list = list(range(1, 21))\n",
    "print(my_list[::2])"
   ]
  },
  {
   "cell_type": "markdown",
   "id": "b682bcd2",
   "metadata": {},
   "source": [
    "<!-- #endsolution -->"
   ]
  },
  {
   "cell_type": "markdown",
   "id": "71f1e7ca",
   "metadata": {
    "slideshow": {
     "slide_type": ""
    }
   },
   "source": [
    "**2) Range**: Create a list of even numbers between 10 and 30 using `range()`, and print it."
   ]
  },
  {
   "cell_type": "markdown",
   "id": "44767143",
   "metadata": {},
   "source": [
    "<!-- #solution -->"
   ]
  },
  {
   "cell_type": "code",
   "execution_count": null,
   "id": "00c5a783",
   "metadata": {
    "slideshow": {
     "slide_type": ""
    }
   },
   "outputs": [],
   "source": [
    "even_numbers = list(range(10, 31, 2))\n",
    "print(even_numbers)"
   ]
  },
  {
   "cell_type": "markdown",
   "id": "1803581f",
   "metadata": {
    "slideshow": {
     "slide_type": "slide"
    }
   },
   "source": [
    "# <ins>5.</ins> Conditional and control flow statements"
   ]
  },
  {
   "cell_type": "markdown",
   "id": "e6e8c8a4",
   "metadata": {
    "slideshow": {
     "slide_type": "slide"
    }
   },
   "source": [
    "## _If_-statements"
   ]
  },
  {
   "cell_type": "markdown",
   "id": "b6028de5",
   "metadata": {},
   "source": [
    "An `if`-statement evaluates a condition (an expression that returns `True` or `False`) and executes a block of code if the condition is true. Python uses conditional operators, colons `:` and indentation to define blocks of code. The `elif` (else if) statement allows checking multiple conditions sequentially. Once a condition evaluates to `True`, the rest are ignored. If no conditions are true, you can use an `else` statement as a fallback."
   ]
  },
  {
   "cell_type": "markdown",
   "id": "99efaa3b",
   "metadata": {
    "slideshow": {
     "slide_type": "fragment"
    }
   },
   "source": [
    "Examples of conditional operators (expressions and their descriptions):\n",
    "\n",
    "* `if x>3:` .. if `x` is greater than 3\n",
    "* `if x>=3:` .. if `x` is greater than or equal to 3\n",
    "* `if x==3:` .. if `x` is 3\n",
    "* `if x!=3:` .. if `x` is not 3\n",
    "\n",
    "Common mistakes (incorrect --> correct):\n",
    "\n",
    "* `if x=1:` --> `if x==1:`\n",
    "* `if x>1 or x<100:` --> `if x>1 and x<100:`\n",
    "* `if grade>=80 and <90:` --> `if grade>=80 and grade<90:`"
   ]
  },
  {
   "cell_type": "markdown",
   "id": "63b5712d",
   "metadata": {
    "slideshow": {
     "slide_type": "slide"
    }
   },
   "source": [
    "### _<ins>Examples:</ins>_"
   ]
  },
  {
   "cell_type": "code",
   "execution_count": null,
   "id": "e0e7936a",
   "metadata": {},
   "outputs": [],
   "source": [
    "x = 10\n",
    "if x > 5:\n",
    "    print(\"x is greater than 5\")"
   ]
  },
  {
   "cell_type": "code",
   "execution_count": null,
   "id": "78f161ec",
   "metadata": {},
   "outputs": [],
   "source": [
    "grade = int(input('Enter your score: '))"
   ]
  },
  {
   "cell_type": "code",
   "execution_count": null,
   "id": "b8b5e0f9",
   "metadata": {},
   "outputs": [],
   "source": [
    "# using only `if`\n",
    "if grade >= 90:\n",
    "    print('A')\n",
    "if grade >= 80 and grade <90:\n",
    "    print('B')\n",
    "if grade >= 70 and grade <80:\n",
    "    print('C')\n",
    "if grade >= 60 and grade <70:\n",
    "    print('D')\n",
    "if grade < 60:\n",
    "    print('F')"
   ]
  },
  {
   "cell_type": "code",
   "execution_count": null,
   "id": "e0d3558e",
   "metadata": {},
   "outputs": [],
   "source": [
    "# using `if`, `elif` and `else`\n",
    "if grade >= 90:\n",
    "    print('A')\n",
    "elif grade >= 80:\n",
    "    print('B')\n",
    "elif grade >= 70:\n",
    "    print('C')\n",
    "elif grade >= 60:\n",
    "    print('D')\n",
    "else:\n",
    "    print('F')"
   ]
  },
  {
   "cell_type": "markdown",
   "id": "f2036405",
   "metadata": {
    "slideshow": {
     "slide_type": "slide"
    }
   },
   "source": [
    "## _For_-loops"
   ]
  },
  {
   "cell_type": "markdown",
   "id": "f68f62fa",
   "metadata": {},
   "source": [
    "A `for`-loop iterates over a sequence (like a list, string, or range) and executes a block of code for each item in that sequence."
   ]
  },
  {
   "cell_type": "markdown",
   "id": "44981364",
   "metadata": {},
   "source": [
    "* A `for`-loop is a _control_ instruction used for iteration and repetition\n",
    "* **iteration** .. perform _same operation_ on _different items_, one item at a time\n",
    "* **repetition** .. perform an operation _more than once_\n",
    "* Keywords: `for`, `in`\n",
    "* `i` .. _loop control variable_ or _iteration variable_\n",
    "The colon `:` indicates where the _body_ of a `for`-loop begins (with _indentation_)\n",
    "* `range()` function creates a list of integers"
   ]
  },
  {
   "cell_type": "markdown",
   "id": "8e1a7975",
   "metadata": {
    "slideshow": {
     "slide_type": "slide"
    }
   },
   "source": [
    "### _<ins>Examples:</ins>_"
   ]
  },
  {
   "cell_type": "code",
   "execution_count": null,
   "id": "91bccbeb",
   "metadata": {},
   "outputs": [],
   "source": [
    "# Iterating over a list\n",
    "for item in [1, 2, 3]:\n",
    "    print(item)\n",
    "\n",
    "# Using range to loop through numbers\n",
    "for i in range(5):\n",
    "    print(i)"
   ]
  },
  {
   "cell_type": "code",
   "execution_count": null,
   "id": "3aeb6cc7",
   "metadata": {},
   "outputs": [],
   "source": [
    "my_list = [\"Andrew\", \"John\", \"Kate\"]\n",
    "for i in my_list:\n",
    "  print(i)\n",
    "for item in my_list:\n",
    "  print(item)\n",
    "print(\"All items are printed\")\n",
    "for i in range(3):\n",
    "  print(\"item\", i) \n",
    "for i in range(1,4):\n",
    "  print(\"item\", i)\n",
    "for i in range(2,15,3):\n",
    "  print(\"item\", i) "
   ]
  },
  {
   "cell_type": "markdown",
   "id": "aaa0bedb",
   "metadata": {
    "slideshow": {
     "slide_type": "slide"
    }
   },
   "source": [
    "## _While_-loops"
   ]
  },
  {
   "cell_type": "markdown",
   "id": "7368d4a4",
   "metadata": {},
   "source": [
    "A `while`-loop keeps executing a block of code as long as its condition remains true. It's commonly used for indefinite loops where the number of iterations isn’t known beforehand."
   ]
  },
  {
   "cell_type": "markdown",
   "id": "397a5bbb",
   "metadata": {},
   "source": [
    "* A `while`-loop is a _control_ instruction ideal for _indefinite loops_ when we don’t know when it ends\n",
    "* Keywords: `while`\n",
    "* `n=1` .. initialisation\n",
    "* `n<=10` .. check a condition\n",
    "* `n+=1` .. update\n",
    "* Again, the colon `:` indicates where the _body_ of a `while`-loop begins (with _indentation_)"
   ]
  },
  {
   "cell_type": "markdown",
   "id": "068bcdc3",
   "metadata": {
    "slideshow": {
     "slide_type": "slide"
    }
   },
   "source": [
    "### _<ins>Examples:</ins>_"
   ]
  },
  {
   "cell_type": "code",
   "execution_count": null,
   "id": "25e709f3",
   "metadata": {},
   "outputs": [],
   "source": [
    "count = 0\n",
    "while count < 5:\n",
    "    print(\"Count:\", count)\n",
    "    count += 1"
   ]
  },
  {
   "cell_type": "code",
   "execution_count": null,
   "id": "62513232",
   "metadata": {},
   "outputs": [],
   "source": [
    "n=1\n",
    "while n<=10:\n",
    "  print(n)\n",
    "  n+=1\n",
    "items = 15\n",
    "i = 2\n",
    "while i<=items:\n",
    "  print(\"item\", i)\n",
    "  i+=3"
   ]
  },
  {
   "cell_type": "markdown",
   "id": "5d91f2f5",
   "metadata": {
    "slideshow": {
     "slide_type": "slide"
    }
   },
   "source": [
    "## Have a Play!"
   ]
  },
  {
   "cell_type": "markdown",
   "id": "f5edef07",
   "metadata": {
    "slideshow": {
     "slide_type": "slide"
    }
   },
   "source": [
    "### _Exercises_"
   ]
  },
  {
   "cell_type": "markdown",
   "id": "6478bbdf",
   "metadata": {
    "slideshow": {
     "slide_type": "slide"
    }
   },
   "source": [
    "**1) `If`-statements**: Write a program that asks for a user's age and prints whether the person is a minor, an adult, or a senior citizen."
   ]
  },
  {
   "cell_type": "markdown",
   "id": "155ac8d3",
   "metadata": {},
   "source": [
    "<!-- #solution -->"
   ]
  },
  {
   "cell_type": "code",
   "execution_count": null,
   "id": "efd6cbd6",
   "metadata": {},
   "outputs": [],
   "source": [
    "age = int(input(\"Enter your age: \"))\n",
    "if age < 18:\n",
    "    print(\"You are a minor.\")\n",
    "elif age >= 18 and age < 65:\n",
    "    print(\"You are an adult.\")\n",
    "else:\n",
    "    print(\"You are a senior citizen.\")"
   ]
  },
  {
   "cell_type": "markdown",
   "id": "9f54dc73",
   "metadata": {
    "slideshow": {
     "slide_type": "slide"
    }
   },
   "source": [
    "<!-- #endsolution -->\n",
    "\n",
    "**2) `For`-loops**: Use a `for`-loop to print the square of numbers from 1 to 10.\n",
    "\n",
    "<!-- #solution -->"
   ]
  },
  {
   "cell_type": "code",
   "execution_count": null,
   "id": "f79cb01a",
   "metadata": {},
   "outputs": [],
   "source": [
    "for i in range(1, 11):\n",
    "    print(f\"Square of {i} is {i**2}\")"
   ]
  },
  {
   "cell_type": "markdown",
   "id": "6c4843d8",
   "metadata": {
    "slideshow": {
     "slide_type": "slide"
    }
   },
   "source": [
    "<!-- #endsolution -->\n",
    "\n",
    "**3) `While`-loops**: Write a program that keeps asking the user for a number and prints the number. Stop when the user enters a negative number.\n",
    "\n",
    "<!-- #solution -->"
   ]
  },
  {
   "cell_type": "code",
   "execution_count": null,
   "id": "a708710a",
   "metadata": {},
   "outputs": [],
   "source": [
    "num = int(input(\"Enter a number (negative to stop): \"))\n",
    "while num >= 0:\n",
    "    print(f\"You entered: {num}\")\n",
    "    num = int(input(\"Enter another number: \"))\n",
    "print(\"Negative number detected. Exiting...\")"
   ]
  },
  {
   "cell_type": "markdown",
   "id": "8a098e09",
   "metadata": {
    "slideshow": {
     "slide_type": "slide"
    }
   },
   "source": [
    "<!-- #endsolution -->\n",
    "\n",
    "**4) Functions**: Write a program to calculate the factorial of a number\n",
    "\n",
    "<!-- #solution -->"
   ]
  },
  {
   "cell_type": "code",
   "execution_count": null,
   "id": "8deec888",
   "metadata": {},
   "outputs": [],
   "source": [
    "def factorial(n):\n",
    "    result = 1\n",
    "    for i in range(1, n + 1):\n",
    "        result *= i\n",
    "    return result\n",
    "\n",
    "number = int(input(\"Enter a number: \"))\n",
    "print(f\"The factorial of {number} is {factorial(number)}\")"
   ]
  },
  {
   "cell_type": "markdown",
   "id": "080f6f0d",
   "metadata": {},
   "source": [
    "<!-- #endsolution -->"
   ]
  }
 ],
 "metadata": {
  "kernelspec": {
   "display_name": "Python 3 (ipykernel)",
   "language": "python",
   "name": "python3"
  }
 },
 "nbformat": 4,
 "nbformat_minor": 5
}
