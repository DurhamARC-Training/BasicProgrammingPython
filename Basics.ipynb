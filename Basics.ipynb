{
 "cells": [
  {
   "cell_type": "markdown",
   "id": "0614a18e",
   "metadata": {
    "slideshow": {
     "slide_type": "slide"
    }
   },
   "source": [
    "ARC course \"Learning to programme with Python\" (beginner level)\n",
    "===============================================================\n",
    "![icons8-python-48.png](images/icons8-python-48.png)"
   ]
  },
  {
   "cell_type": "markdown",
   "id": "1609aef1",
   "metadata": {
    "slideshow": {
     "slide_type": ""
    }
   },
   "source": [
    "Welcome to our ARC course \"Learning to programme with Python\".\n",
    "\n",
    "Some general information on how the course will run:\n",
    "\n",
    "* The course will run from 09:00 to 12:30. We plan a coffee break between 2 parts at around 10:45 for ~10-15 min.\n",
    "\n",
    "* The material does not expect any prior programming experience.\n",
    "\n",
    "* Each topic will be presented wih code demonstrations followed by practical exercises.\n",
    "\n",
    "* We are happy to answer any questions during the course and to help during the exercises.\n",
    "\n",
    "Enjoy learning Python!"
   ]
  },
  {
   "cell_type": "markdown",
   "id": "7459816b",
   "metadata": {
    "slideshow": {
     "slide_type": "slide"
    }
   },
   "source": [
    "## Set up your Python environment"
   ]
  },
  {
   "cell_type": "markdown",
   "id": "bf989362",
   "metadata": {
    "slideshow": {
     "slide_type": ""
    }
   },
   "source": [
    "<ins>Preferred</ins>: Jupyter Notebook server or Jupyter Lab as a local Python environment installed on your laptops (hopefully, you've already received a welcome email with installation instructions).\n",
    "\n",
    "<ins>Other</ins>: Google Colab (https://colab.research.google.com).\n",
    "\n",
    "Go to the repository:\n",
    "```https://github.com/DurhamARC-Training/BasicProgrammingPython```\n",
    "\n",
    "copy the `pull_files_from_repo.py` file into your environment\n",
    "\n",
    "execute it with `python pull_files_from_repo.py`"
   ]
  },
  {
   "cell_type": "markdown",
   "id": "ca847530",
   "metadata": {
    "slideshow": {
     "slide_type": "skip"
    }
   },
   "source": []
  },
  {
   "cell_type": "markdown",
   "id": "cbea14a2",
   "metadata": {
    "slideshow": {
     "slide_type": "slide"
    }
   },
   "source": [
    "# <ins>0.</ins> Introduction"
   ]
  },
  {
   "cell_type": "markdown",
   "id": "3079f727",
   "metadata": {
    "slideshow": {
     "slide_type": "slide"
    }
   },
   "source": [
    "## Course objectives"
   ]
  },
  {
   "cell_type": "markdown",
   "id": "3a9f59ed",
   "metadata": {
    "slideshow": {
     "slide_type": ""
    }
   },
   "source": [
    "By the end of this course you should know:\n",
    " - how a basic computer program is written and executed,\n",
    " - what basic data types and control statements are,\n",
    " - how to get and process user input and data,\n",
    " - how to structure your code using functions,\n",
    " - what can lead to your program not working, and what to do about it,\n",
    " - where to find further resources to practice your Python programming."
   ]
  },
  {
   "cell_type": "markdown",
   "id": "dac6eea0",
   "metadata": {
    "slideshow": {
     "slide_type": "skip"
    }
   },
   "source": []
  },
  {
   "cell_type": "markdown",
   "id": "a37643bf",
   "metadata": {
    "slideshow": {
     "slide_type": "notes"
    }
   },
   "source": []
  },
  {
   "cell_type": "markdown",
   "id": "642b3031",
   "metadata": {
    "slideshow": {
     "slide_type": "slide"
    }
   },
   "source": [
    "## Useful resources"
   ]
  },
  {
   "cell_type": "markdown",
   "id": "d328105a",
   "metadata": {
    "slideshow": {
     "slide_type": ""
    }
   },
   "source": [
    "#### Materials used and recommended:\n",
    " - [Python Wiki - Python for Non-Programmers](https://wiki.python.org/moin/BeginnersGuide/NonProgrammers)\n",
    " - [How to think like a Computer Scientist](http://openbookproject.net/thinkcs/python/english3e/index.html)\n",
    " - [A Whirlwind Tour of Python](https://jakevdp.github.io/WhirlwindTourOfPython)\n",
    " - [Software Carpentry - Programming with Python](https://swcarpentry.github.io/python-novice-inflammation/index.html)"
   ]
  },
  {
   "cell_type": "markdown",
   "id": "4f2a71dd",
   "metadata": {
    "slideshow": {
     "slide_type": "notes"
    }
   },
   "source": []
  },
  {
   "cell_type": "markdown",
   "id": "9265486a",
   "metadata": {
    "slideshow": {
     "slide_type": "notes"
    }
   },
   "source": []
  },
  {
   "cell_type": "markdown",
   "id": "0ecdc80d",
   "metadata": {
    "slideshow": {
     "slide_type": "fragment"
    }
   },
   "source": [
    " - The top results are often filled with SEO sites\n",
    " - The aim is not to provide a concise explanation, but to show you as many ads as possible\n",
    " - Very verbose, lots of unneccesary alternatives.\n",
    "\n",
    " Example: \"python how do I invert a list\"\n",
    "\n",
    " Recommend: w3schools, python.org (which is often more technical)"
   ]
  },
  {
   "cell_type": "markdown",
   "id": "39b09079",
   "metadata": {
    "slideshow": {
     "slide_type": "notes"
    }
   },
   "source": []
  },
  {
   "cell_type": "markdown",
   "id": "a1b215f9",
   "metadata": {
    "slideshow": {
     "slide_type": "slide"
    }
   },
   "source": [
    "## Programming crash course"
   ]
  },
  {
   "cell_type": "markdown",
   "id": "fa155159",
   "metadata": {
    "slideshow": {
     "slide_type": "slide"
    }
   },
   "source": [
    "### Programming means: make the computer do the work for you!"
   ]
  },
  {
   "cell_type": "markdown",
   "id": "881dea21",
   "metadata": {
    "slideshow": {
     "slide_type": ""
    }
   },
   "source": [
    " - Do the maths\n",
    " - Boring repetitions\n",
    " - Too complicated/extensive tasks\n",
    " - Big data sets \n",
    " - Make your analysis reproducible\n",
    " -  ..."
   ]
  },
  {
   "cell_type": "markdown",
   "id": "64ab1c8f",
   "metadata": {
    "slideshow": {
     "slide_type": "slide"
    }
   },
   "source": [
    "### Running code in a compiled language (such as C)"
   ]
  },
  {
   "cell_type": "markdown",
   "id": "2db77529",
   "metadata": {},
   "source": [
    "1. Write your code in a high-level programming language.\n",
    "2. Translate into low-level (machine/assembly) language.\n",
    "3. Execute the program."
   ]
  },
  {
   "cell_type": "markdown",
   "id": "e65eead7",
   "metadata": {
    "slideshow": {
     "slide_type": "notes"
    }
   },
   "source": []
  },
  {
   "cell_type": "markdown",
   "id": "d463c435",
   "metadata": {
    "slideshow": {
     "slide_type": "notes"
    }
   },
   "source": []
  },
  {
   "cell_type": "markdown",
   "id": "db82552c",
   "metadata": {
    "slideshow": {
     "slide_type": "slide"
    }
   },
   "source": [
    "### Running code in an interpreted language (such as Python)"
   ]
  },
  {
   "cell_type": "markdown",
   "id": "97075add",
   "metadata": {
    "slideshow": {
     "slide_type": ""
    }
   },
   "source": [
    "1. Write your code in high-level programming language.\n",
    "2. Interpret code and execute directly"
   ]
  },
  {
   "cell_type": "markdown",
   "id": "44e74785",
   "metadata": {
    "slideshow": {
     "slide_type": "notes"
    }
   },
   "source": []
  },
  {
   "cell_type": "markdown",
   "id": "4e616623",
   "metadata": {
    "slideshow": {
     "slide_type": "notes"
    }
   },
   "source": []
  },
  {
   "cell_type": "markdown",
   "id": "a691b25e",
   "metadata": {
    "slideshow": {
     "slide_type": "slide"
    }
   },
   "source": [
    "### Python can be executed in different ways\n",
    "#### Command line script"
   ]
  },
  {
   "cell_type": "markdown",
   "id": "12436afd",
   "metadata": {
    "slideshow": {
     "slide_type": ""
    }
   },
   "source": [
    "1. Create a `myname.py` file\n",
    "2. run python `myname.py`"
   ]
  },
  {
   "cell_type": "markdown",
   "id": "d6c05012",
   "metadata": {
    "slideshow": {
     "slide_type": "fragment"
    }
   },
   "source": [
    "#### interactive or ipython session:\n",
    " - Start with typing `python` or better `ipython`"
   ]
  },
  {
   "cell_type": "markdown",
   "id": "e0ca0880",
   "metadata": {
    "slideshow": {
     "slide_type": "slide"
    }
   },
   "source": [
    "### Demonstration of using _Jupyter_ notebook"
   ]
  },
  {
   "cell_type": "markdown",
   "id": "8957c965",
   "metadata": {
    "slideshow": {
     "slide_type": ""
    }
   },
   "source": [
    "Jupyter works with cells such as these, which you execute with the play button or `Shift/Strg + Enter`:"
   ]
  },
  {
   "cell_type": "markdown",
   "id": "1c36831d",
   "metadata": {
    "lines_to_next_cell": 0
   },
   "source": [
    "<!-- #solution -->"
   ]
  },
  {
   "cell_type": "code",
   "execution_count": null,
   "id": "dfc9acb1",
   "metadata": {
    "lines_to_next_cell": 0,
    "slideshow": {
     "slide_type": ""
    }
   },
   "outputs": [],
   "source": [
    "# Add just a one to the cell and execute"
   ]
  },
  {
   "cell_type": "markdown",
   "id": "ab9dce20",
   "metadata": {},
   "source": [
    "<!-- #endsolution -->"
   ]
  },
  {
   "cell_type": "markdown",
   "id": "affcefbb",
   "metadata": {
    "slideshow": {
     "slide_type": ""
    }
   },
   "source": [
    "If the box on the left is empty, you have not executed it. Otherwise a number indicates in which order the execution took place.\n",
    "\n",
    "You can add cells with the plus. You can also change the type"
   ]
  },
  {
   "cell_type": "markdown",
   "id": "250265b5",
   "metadata": {
    "slideshow": {
     "slide_type": ""
    }
   },
   "source": [
    "##### Now it is markdown and the `#` indicates a header (or `##`, etc., up to 6 times, with smaller font sizes)"
   ]
  },
  {
   "cell_type": "markdown",
   "id": "242b43b6",
   "metadata": {
    "slideshow": {
     "slide_type": "notes"
    }
   },
   "source": []
  },
  {
   "cell_type": "markdown",
   "id": "b6508516",
   "metadata": {
    "slideshow": {
     "slide_type": "notes"
    }
   },
   "source": []
  },
  {
   "cell_type": "markdown",
   "id": "a2e12083",
   "metadata": {
    "slideshow": {
     "slide_type": "slide"
    }
   },
   "source": [
    "# <ins>**Part I**</ins>"
   ]
  },
  {
   "cell_type": "markdown",
   "id": "9a169df9",
   "metadata": {
    "slideshow": {
     "slide_type": "slide"
    }
   },
   "source": [
    "# <ins>1.</ins> Basics"
   ]
  },
  {
   "cell_type": "markdown",
   "id": "7b41b2ee",
   "metadata": {
    "slideshow": {
     "slide_type": "notes"
    }
   },
   "source": []
  },
  {
   "cell_type": "markdown",
   "id": "2c9df602",
   "metadata": {
    "slideshow": {
     "slide_type": "slide"
    }
   },
   "source": [
    "## Basic data types\n",
    "As any programming language, Python can deal with many different data types. Among the basic ones are `str` strings, `int` integers, `float` floating-point numbers and `bool` booleans."
   ]
  },
  {
   "cell_type": "markdown",
   "id": "64a31da6",
   "metadata": {
    "slideshow": {
     "slide_type": ""
    }
   },
   "source": [
    "- Strings: \"Heinz\", 'Banana', 'He said \"Hello\"'\n",
    "- Integers: 1, 2, 3, 22222222, -777\n",
    "- Floats: -1.2, 0.0, 2.7182\n",
    "- Booleans: True, False"
   ]
  },
  {
   "cell_type": "markdown",
   "id": "a5528e49",
   "metadata": {
    "slideshow": {
     "slide_type": "notes"
    }
   },
   "source": []
  },
  {
   "cell_type": "markdown",
   "id": "60ddbe66",
   "metadata": {
    "slideshow": {
     "slide_type": "notes"
    }
   },
   "source": []
  },
  {
   "cell_type": "markdown",
   "id": "4002868f",
   "metadata": {
    "slideshow": {
     "slide_type": "slide"
    }
   },
   "source": [
    "## Variables\n",
    "Values are stored in _variables_, which are of data types listed above or more complex ones."
   ]
  },
  {
   "cell_type": "markdown",
   "id": "65123472",
   "metadata": {
    "slideshow": {
     "slide_type": ""
    }
   },
   "source": [
    "- “I reserve a space in memory for my data bit, and I call it \n",
    "by the name x\n",
    "- Syntax: name = value”"
   ]
  },
  {
   "cell_type": "markdown",
   "id": "fea202e8",
   "metadata": {
    "slideshow": {
     "slide_type": "notes"
    }
   },
   "source": []
  },
  {
   "cell_type": "markdown",
   "id": "2bdab666",
   "metadata": {
    "slideshow": {
     "slide_type": "notes"
    }
   },
   "source": []
  },
  {
   "cell_type": "markdown",
   "id": "a13007ff",
   "metadata": {
    "slideshow": {
     "slide_type": "slide"
    }
   },
   "source": [
    "### _<ins>Example</ins>:_ Print type of a variable"
   ]
  },
  {
   "cell_type": "markdown",
   "id": "359f99dd",
   "metadata": {
    "lines_to_next_cell": 0
   },
   "source": [
    "<!-- #solution -->"
   ]
  },
  {
   "cell_type": "code",
   "execution_count": null,
   "id": "717b6bbc",
   "metadata": {
    "lines_to_next_cell": 0,
    "slideshow": {
     "slide_type": ""
    }
   },
   "outputs": [],
   "source": [
    "# print statement \"Hello\""
   ]
  },
  {
   "cell_type": "markdown",
   "id": "2f0c7865",
   "metadata": {
    "lines_to_next_cell": 0
   },
   "source": [
    "<!-- #endsolution -->\n",
    "\n",
    "<!-- #solution -->"
   ]
  },
  {
   "cell_type": "code",
   "execution_count": null,
   "id": "237bfc57",
   "metadata": {
    "lines_to_next_cell": 0,
    "slideshow": {
     "slide_type": ""
    }
   },
   "outputs": [],
   "source": [
    "# put the content of the print statement in a variable"
   ]
  },
  {
   "cell_type": "markdown",
   "id": "5917a268",
   "metadata": {
    "lines_to_next_cell": 0
   },
   "source": [
    "<!-- #endsolution -->\n",
    "\n",
    "<!-- #solution -->"
   ]
  },
  {
   "cell_type": "code",
   "execution_count": null,
   "id": "98910535",
   "metadata": {
    "lines_to_next_cell": 0,
    "slideshow": {
     "slide_type": ""
    }
   },
   "outputs": [],
   "source": [
    "# check the type of that variable"
   ]
  },
  {
   "cell_type": "markdown",
   "id": "00b88797",
   "metadata": {},
   "source": [
    "<!-- #endsolution -->"
   ]
  },
  {
   "cell_type": "markdown",
   "id": "fed30935",
   "metadata": {
    "slideshow": {
     "slide_type": "notes"
    }
   },
   "source": []
  },
  {
   "cell_type": "markdown",
   "id": "12e844fe",
   "metadata": {
    "slideshow": {
     "slide_type": "notes"
    }
   },
   "source": []
  },
  {
   "cell_type": "markdown",
   "id": "a249b14c",
   "metadata": {
    "slideshow": {
     "slide_type": "slide"
    }
   },
   "source": [
    "### _<ins>Example</ins>:_ Try to assign the data types at the following qr code"
   ]
  },
  {
   "cell_type": "markdown",
   "id": "f402bcf9",
   "metadata": {},
   "source": [
    "Try not to overthink. If something is ambiguous pick what fits best\n",
    "\n",
    "![QRCode](images/qr_question1.png)"
   ]
  },
  {
   "cell_type": "markdown",
   "id": "80125e77",
   "metadata": {
    "slideshow": {
     "slide_type": "notes"
    }
   },
   "source": []
  },
  {
   "cell_type": "markdown",
   "id": "37acb6be",
   "metadata": {
    "slideshow": {
     "slide_type": "notes"
    }
   },
   "source": []
  },
  {
   "cell_type": "markdown",
   "id": "a380d1f2",
   "metadata": {
    "slideshow": {
     "slide_type": "slide"
    }
   },
   "source": [
    "### _<ins>Example</ins>:_ Add integers"
   ]
  },
  {
   "cell_type": "markdown",
   "id": "54cfe259",
   "metadata": {
    "lines_to_next_cell": 0
   },
   "source": [
    "<!-- #solution -->"
   ]
  },
  {
   "cell_type": "code",
   "execution_count": null,
   "id": "3ddfa97e",
   "metadata": {
    "lines_to_next_cell": 0,
    "slideshow": {
     "slide_type": ""
    }
   },
   "outputs": [],
   "source": [
    "# Adding two integers (2 and 5)"
   ]
  },
  {
   "cell_type": "markdown",
   "id": "1c414863",
   "metadata": {
    "lines_to_next_cell": 0
   },
   "source": [
    "<!-- #endsolution -->\n",
    "\n",
    "<!-- #solution -->"
   ]
  },
  {
   "cell_type": "code",
   "execution_count": null,
   "id": "bb17f14b",
   "metadata": {
    "lines_to_next_cell": 0,
    "slideshow": {
     "slide_type": ""
    }
   },
   "outputs": [],
   "source": [
    "# Adding integers to a string (\"2+5 = \") naively"
   ]
  },
  {
   "cell_type": "markdown",
   "id": "67345426",
   "metadata": {
    "lines_to_next_cell": 0
   },
   "source": [
    "<!-- #endsolution -->\n",
    "\n",
    "<!-- #solution -->"
   ]
  },
  {
   "cell_type": "code",
   "execution_count": null,
   "id": "89c1bd34",
   "metadata": {
    "lines_to_next_cell": 0,
    "slideshow": {
     "slide_type": ""
    }
   },
   "outputs": [],
   "source": [
    "# Solution: call the result into a string"
   ]
  },
  {
   "cell_type": "markdown",
   "id": "f802b5b3",
   "metadata": {},
   "source": [
    "<!-- #endsolution -->"
   ]
  },
  {
   "cell_type": "markdown",
   "id": "671c6c22",
   "metadata": {
    "slideshow": {
     "slide_type": "notes"
    }
   },
   "source": []
  },
  {
   "cell_type": "markdown",
   "id": "c16ffcbc",
   "metadata": {
    "slideshow": {
     "slide_type": "notes"
    }
   },
   "source": []
  },
  {
   "cell_type": "markdown",
   "id": "fc17b2e1",
   "metadata": {
    "slideshow": {
     "slide_type": "slide"
    }
   },
   "source": [
    "### _<ins>Example</ins>:_ Boolean type"
   ]
  },
  {
   "cell_type": "markdown",
   "id": "caeb98b5",
   "metadata": {
    "lines_to_next_cell": 0
   },
   "source": [
    "<!-- #solution -->"
   ]
  },
  {
   "cell_type": "code",
   "execution_count": null,
   "id": "7c59e311",
   "metadata": {
    "lines_to_next_cell": 0,
    "slideshow": {
     "slide_type": ""
    }
   },
   "outputs": [],
   "source": [
    "# boolean have to be capitalized"
   ]
  },
  {
   "cell_type": "markdown",
   "id": "8dd08e68",
   "metadata": {
    "lines_to_next_cell": 0
   },
   "source": [
    "<!-- #endsolution -->\n",
    "\n",
    "<!-- #solution -->"
   ]
  },
  {
   "cell_type": "code",
   "execution_count": null,
   "id": "c683516c",
   "metadata": {
    "lines_to_next_cell": 0,
    "slideshow": {
     "slide_type": ""
    }
   },
   "outputs": [],
   "source": [
    "# Checking the type of a boolean"
   ]
  },
  {
   "cell_type": "markdown",
   "id": "3c5facfe",
   "metadata": {
    "lines_to_next_cell": 0
   },
   "source": [
    "<!-- #endsolution -->\n",
    "\n",
    "<!-- #solution -->"
   ]
  },
  {
   "cell_type": "code",
   "execution_count": null,
   "id": "32d7494e",
   "metadata": {
    "lines_to_next_cell": 0,
    "slideshow": {
     "slide_type": ""
    }
   },
   "outputs": [],
   "source": [
    "# Adding a boolean to an integer"
   ]
  },
  {
   "cell_type": "markdown",
   "id": "c3466405",
   "metadata": {
    "lines_to_next_cell": 0
   },
   "source": [
    "<!-- #endsolution -->\n",
    "\n",
    "<!-- #solution -->"
   ]
  },
  {
   "cell_type": "code",
   "execution_count": null,
   "id": "c329ed80",
   "metadata": {
    "lines_to_next_cell": 0,
    "slideshow": {
     "slide_type": ""
    }
   },
   "outputs": [],
   "source": [
    "# Checking the type of the result"
   ]
  },
  {
   "cell_type": "markdown",
   "id": "c987beb5",
   "metadata": {},
   "source": [
    "<!-- #endsolution -->"
   ]
  },
  {
   "cell_type": "markdown",
   "id": "33b4e613",
   "metadata": {
    "slideshow": {
     "slide_type": "notes"
    }
   },
   "source": []
  },
  {
   "cell_type": "markdown",
   "id": "40d03230",
   "metadata": {
    "slideshow": {
     "slide_type": "notes"
    }
   },
   "source": []
  },
  {
   "cell_type": "markdown",
   "id": "bf95ab58",
   "metadata": {
    "slideshow": {
     "slide_type": "slide"
    }
   },
   "source": [
    "### _<ins>Example</ins>:_ Boolean operators"
   ]
  },
  {
   "cell_type": "markdown",
   "id": "65dbb8dd",
   "metadata": {
    "lines_to_next_cell": 0
   },
   "source": [
    "<!-- #solution -->"
   ]
  },
  {
   "cell_type": "code",
   "execution_count": null,
   "id": "4149e45d",
   "metadata": {
    "lines_to_next_cell": 0,
    "slideshow": {
     "slide_type": ""
    }
   },
   "outputs": [],
   "source": [
    "# Adding booleans"
   ]
  },
  {
   "cell_type": "markdown",
   "id": "d688c31e",
   "metadata": {
    "lines_to_next_cell": 0
   },
   "source": [
    "<!-- #endsolution -->\n",
    "\n",
    "<!-- #solution -->"
   ]
  },
  {
   "cell_type": "code",
   "execution_count": null,
   "id": "6549284c",
   "metadata": {
    "lines_to_next_cell": 0,
    "slideshow": {
     "slide_type": ""
    }
   },
   "outputs": [],
   "source": [
    "# Logical AND"
   ]
  },
  {
   "cell_type": "markdown",
   "id": "eaa9e69d",
   "metadata": {
    "lines_to_next_cell": 0
   },
   "source": [
    "<!-- #endsolution -->\n",
    "\n",
    "<!-- #solution -->"
   ]
  },
  {
   "cell_type": "code",
   "execution_count": null,
   "id": "d434b336",
   "metadata": {
    "lines_to_next_cell": 0,
    "slideshow": {
     "slide_type": ""
    }
   },
   "outputs": [],
   "source": [
    "# Logical OR"
   ]
  },
  {
   "cell_type": "markdown",
   "id": "ccdecf5b",
   "metadata": {
    "lines_to_next_cell": 0
   },
   "source": [
    "<!-- #endsolution -->\n",
    "\n",
    "<!-- #solution -->"
   ]
  },
  {
   "cell_type": "code",
   "execution_count": null,
   "id": "80880ae2",
   "metadata": {
    "lines_to_next_cell": 0,
    "slideshow": {
     "slide_type": ""
    }
   },
   "outputs": [],
   "source": [
    "# Negating boolean"
   ]
  },
  {
   "cell_type": "markdown",
   "id": "42dc3310",
   "metadata": {},
   "source": [
    "<!-- #endsolution -->"
   ]
  },
  {
   "cell_type": "markdown",
   "id": "0e5d96e7",
   "metadata": {
    "slideshow": {
     "slide_type": "notes"
    }
   },
   "source": []
  },
  {
   "cell_type": "markdown",
   "id": "9f568194",
   "metadata": {
    "slideshow": {
     "slide_type": "notes"
    }
   },
   "source": []
  },
  {
   "cell_type": "markdown",
   "id": "ca2d2479",
   "metadata": {
    "slideshow": {
     "slide_type": "slide"
    }
   },
   "source": [
    "## Basic operators\n",
    "New values can be obtained by applying operators to old values, for example, mathematical operators on numerical data types `int` or `float`."
   ]
  },
  {
   "cell_type": "markdown",
   "id": "c14cfdca",
   "metadata": {
    "slideshow": {
     "slide_type": ""
    }
   },
   "source": [
    "- String: concatenation with `+`\n",
    "- Bool: `and`, `or`, `not`\n",
    "- Numerical data: `+`, `-`, `*`, `/`, `%`, `**`, built-in functions `abs`, ...\n",
    "- Order of execution:\n",
    "    1. `()`\n",
    "    2. `**`\n",
    "    3. `*`, `/`\n",
    "    4. `+`, `-`\n",
    "    5. Left-to-right (except exponentiation!)\n",
    "\n",
    "So, use parenthesis to make sure!"
   ]
  },
  {
   "cell_type": "markdown",
   "id": "528f7c1b",
   "metadata": {
    "slideshow": {
     "slide_type": "notes"
    }
   },
   "source": []
  },
  {
   "cell_type": "markdown",
   "id": "9be99c53",
   "metadata": {
    "slideshow": {
     "slide_type": "notes"
    }
   },
   "source": []
  },
  {
   "cell_type": "markdown",
   "id": "690f0bf4",
   "metadata": {
    "slideshow": {
     "slide_type": "slide"
    }
   },
   "source": [
    "## Comments (and documentation)\n",
    "Anything following the `#` character on a line is ignored by Python interpreter and becomes a comment. Comments are useful to document the code."
   ]
  },
  {
   "cell_type": "code",
   "execution_count": null,
   "id": "adb6db84",
   "metadata": {
    "slideshow": {
     "slide_type": ""
    }
   },
   "outputs": [],
   "source": [
    "# This is my programme to demonstrate how to\n",
    "# do simple calculations in Python.\n",
    "\n",
    "my_number = 2\n",
    "\n",
    "my_other_number = my_number + 5\n",
    "\n",
    "my_number = my_other_number / 2 # I have to divide\n",
    "                                # by 2 here, as the\n",
    "                                # results are\n",
    "                                # otherwise rubbish\n",
    "\n",
    "print(my_number)"
   ]
  },
  {
   "cell_type": "markdown",
   "id": "80e5743e",
   "metadata": {
    "slideshow": {
     "slide_type": "notes"
    }
   },
   "source": []
  },
  {
   "cell_type": "markdown",
   "id": "26e457c3",
   "metadata": {
    "slideshow": {
     "slide_type": "notes"
    }
   },
   "source": []
  },
  {
   "cell_type": "markdown",
   "id": "fd08cf70",
   "metadata": {
    "slideshow": {
     "slide_type": "slide"
    }
   },
   "source": [
    "## Debugging and Types of Errors"
   ]
  },
  {
   "cell_type": "markdown",
   "id": "5c61499e",
   "metadata": {
    "slideshow": {
     "slide_type": ""
    }
   },
   "source": [
    "- Errors in computer programs are called ``bugs'' for historic reasons.\n",
    "- For complex projects, you will usually spend more time testing and debugging than writing code.\n",
    "- Three types of errors:\n",
    "    - Syntax errors - written the code wrongly\n",
    "    - Semantic errors - written the wrong code\n",
    "    - Runtime errors - something's wrong with the code (during execution)"
   ]
  },
  {
   "cell_type": "markdown",
   "id": "1cec4781",
   "metadata": {
    "slideshow": {
     "slide_type": "notes"
    }
   },
   "source": []
  },
  {
   "cell_type": "markdown",
   "id": "4c8e5862",
   "metadata": {
    "slideshow": {
     "slide_type": "notes"
    }
   },
   "source": []
  },
  {
   "cell_type": "markdown",
   "id": "291620eb",
   "metadata": {
    "slideshow": {
     "slide_type": "notes"
    }
   },
   "source": []
  },
  {
   "cell_type": "markdown",
   "id": "121616fc",
   "metadata": {
    "slideshow": {
     "slide_type": "slide"
    }
   },
   "source": [
    "## Have a play!"
   ]
  },
  {
   "cell_type": "markdown",
   "id": "f9d9f47d",
   "metadata": {},
   "source": [
    "### _Exercises_"
   ]
  },
  {
   "cell_type": "markdown",
   "id": "57c03061",
   "metadata": {
    "slideshow": {
     "slide_type": ""
    }
   },
   "source": [
    "You could try\n",
    " - what happens if you add a float and an integer,\n",
    " - what happens if you mix numbers and bools in arithmetic expressions,\n",
    " - how setting parenthesis changes the result of a large arithmetic expression,\n",
    " - to print statements that include variables of different data types,\n",
    " - try to reproduce each of the error types,\n",
    " - ..."
   ]
  },
  {
   "cell_type": "markdown",
   "id": "58147838",
   "metadata": {
    "slideshow": {
     "slide_type": "notes"
    }
   },
   "source": []
  },
  {
   "cell_type": "markdown",
   "id": "2bfdab96",
   "metadata": {
    "slideshow": {
     "slide_type": "notes"
    }
   },
   "source": []
  },
  {
   "cell_type": "markdown",
   "id": "0f42da84",
   "metadata": {
    "slideshow": {
     "slide_type": "slide"
    }
   },
   "source": [
    "#### _Example solution_"
   ]
  },
  {
   "cell_type": "markdown",
   "id": "592bba16",
   "metadata": {
    "lines_to_next_cell": 0
   },
   "source": [
    "<!-- #solution -->"
   ]
  },
  {
   "cell_type": "code",
   "execution_count": null,
   "id": "1c20fb07",
   "metadata": {
    "lines_to_next_cell": 0,
    "slideshow": {
     "slide_type": ""
    }
   },
   "outputs": [],
   "source": [
    "# What happens if you add a float and an integer?"
   ]
  },
  {
   "cell_type": "markdown",
   "id": "f443e335",
   "metadata": {},
   "source": [
    "<!-- #endsolution -->"
   ]
  },
  {
   "cell_type": "markdown",
   "id": "7106d94d",
   "metadata": {
    "slideshow": {
     "slide_type": "slide"
    }
   },
   "source": [
    "#### _Example solution_"
   ]
  },
  {
   "cell_type": "markdown",
   "id": "af40b92f",
   "metadata": {
    "lines_to_next_cell": 0
   },
   "source": [
    "<!-- #solution -->"
   ]
  },
  {
   "cell_type": "code",
   "execution_count": null,
   "id": "3f77e87c",
   "metadata": {
    "lines_to_next_cell": 0,
    "slideshow": {
     "slide_type": ""
    }
   },
   "outputs": [],
   "source": [
    "# What happens if you mix numbers and bools in arithmetic expressions?"
   ]
  },
  {
   "cell_type": "markdown",
   "id": "46b352c0",
   "metadata": {},
   "source": [
    "<!-- #endsolution -->"
   ]
  },
  {
   "cell_type": "markdown",
   "id": "7feadb3c",
   "metadata": {
    "slideshow": {
     "slide_type": "notes"
    }
   },
   "source": []
  },
  {
   "cell_type": "markdown",
   "id": "8ae060e8",
   "metadata": {
    "slideshow": {
     "slide_type": "fragment"
    }
   },
   "source": [
    "True is converted to one and False is converted to zero"
   ]
  },
  {
   "cell_type": "markdown",
   "id": "2e29dc66",
   "metadata": {
    "slideshow": {
     "slide_type": "slide"
    }
   },
   "source": [
    "#### _Example solution_"
   ]
  },
  {
   "cell_type": "markdown",
   "id": "3c16fa3d",
   "metadata": {
    "lines_to_next_cell": 0
   },
   "source": [
    "<!-- #solution -->"
   ]
  },
  {
   "cell_type": "code",
   "execution_count": null,
   "id": "54224902",
   "metadata": {
    "lines_to_next_cell": 0,
    "slideshow": {
     "slide_type": ""
    }
   },
   "outputs": [],
   "source": [
    "# How setting parenthesis changes the result of a large arithmetic expression?"
   ]
  },
  {
   "cell_type": "markdown",
   "id": "03933a10",
   "metadata": {},
   "source": [
    "<!-- #endsolution -->"
   ]
  },
  {
   "cell_type": "markdown",
   "id": "145537d6",
   "metadata": {
    "slideshow": {
     "slide_type": "slide"
    }
   },
   "source": [
    "#### _Example solution_"
   ]
  },
  {
   "cell_type": "markdown",
   "id": "7488efbc",
   "metadata": {
    "lines_to_next_cell": 0
   },
   "source": [
    "<!-- #solution -->"
   ]
  },
  {
   "cell_type": "code",
   "execution_count": null,
   "id": "ecba13f4",
   "metadata": {
    "lines_to_next_cell": 0,
    "slideshow": {
     "slide_type": ""
    }
   },
   "outputs": [],
   "source": [
    "# Print statements that include variables of different data types."
   ]
  },
  {
   "cell_type": "markdown",
   "id": "d594a42d",
   "metadata": {},
   "source": [
    "<!-- #endsolution -->"
   ]
  },
  {
   "cell_type": "markdown",
   "id": "8d6418e6",
   "metadata": {
    "slideshow": {
     "slide_type": "slide"
    }
   },
   "source": [
    "#### _Example solutions_\n",
    "Try to reproduce each of the error types\n"
   ]
  },
  {
   "cell_type": "markdown",
   "id": "f01c2958",
   "metadata": {
    "slideshow": {
     "slide_type": ""
    }
   },
   "source": [
    "##### 1. Syntax Error"
   ]
  },
  {
   "cell_type": "markdown",
   "id": "83af292f",
   "metadata": {
    "lines_to_next_cell": 0
   },
   "source": [
    "<!-- #solution -->"
   ]
  },
  {
   "cell_type": "code",
   "execution_count": null,
   "id": "03973cad",
   "metadata": {
    "lines_to_next_cell": 0,
    "slideshow": {
     "slide_type": ""
    }
   },
   "outputs": [],
   "source": []
  },
  {
   "cell_type": "markdown",
   "id": "30006c8a",
   "metadata": {},
   "source": [
    "<!-- #endsolution -->"
   ]
  },
  {
   "cell_type": "markdown",
   "id": "3a52d6e5",
   "metadata": {
    "slideshow": {
     "slide_type": ""
    }
   },
   "source": [
    "##### 2. Semantic Error"
   ]
  },
  {
   "cell_type": "markdown",
   "id": "a7ec1488",
   "metadata": {
    "lines_to_next_cell": 0
   },
   "source": [
    "<!-- #solution -->"
   ]
  },
  {
   "cell_type": "code",
   "execution_count": null,
   "id": "1b6bec44",
   "metadata": {
    "lines_to_next_cell": 0,
    "slideshow": {
     "slide_type": ""
    }
   },
   "outputs": [],
   "source": []
  },
  {
   "cell_type": "markdown",
   "id": "343bc059",
   "metadata": {},
   "source": [
    "<!-- #endsolution -->"
   ]
  },
  {
   "cell_type": "markdown",
   "id": "eb9b256e",
   "metadata": {
    "slideshow": {
     "slide_type": ""
    }
   },
   "source": [
    "##### 3. Runtime Error"
   ]
  },
  {
   "cell_type": "markdown",
   "id": "0f286d5c",
   "metadata": {
    "lines_to_next_cell": 0
   },
   "source": [
    "<!-- #solution -->"
   ]
  },
  {
   "cell_type": "code",
   "execution_count": null,
   "id": "bbd86ac0",
   "metadata": {
    "lines_to_next_cell": 0,
    "slideshow": {
     "slide_type": ""
    }
   },
   "outputs": [],
   "source": []
  },
  {
   "cell_type": "markdown",
   "id": "8651c6ea",
   "metadata": {},
   "source": [
    "<!-- #endsolution -->"
   ]
  },
  {
   "cell_type": "markdown",
   "id": "c986cecd",
   "metadata": {
    "slideshow": {
     "slide_type": "slide"
    }
   },
   "source": [
    "## Interlude: Indented blocks in python\n",
    "Python uses indention to separate blocs after a `:`\n",
    "```python\n",
    "some_functionality_on_block:\n",
    "   first_statement_in_block()\n",
    "   second_statement_in_block()\n",
    "statement_not_in_block()\n",
    "```\n"
   ]
  },
  {
   "cell_type": "markdown",
   "id": "70449b74",
   "metadata": {
    "slideshow": {
     "slide_type": "notes"
    }
   },
   "source": []
  },
  {
   "cell_type": "markdown",
   "id": "3d8c49fd",
   "metadata": {
    "slideshow": {
     "slide_type": "notes"
    }
   },
   "source": []
  },
  {
   "cell_type": "markdown",
   "id": "9d7a01b1",
   "metadata": {
    "slideshow": {
     "slide_type": "slide"
    }
   },
   "source": [
    "# <ins>2.</ins> Functions"
   ]
  },
  {
   "cell_type": "markdown",
   "id": "37e9cceb",
   "metadata": {
    "slideshow": {
     "slide_type": ""
    }
   },
   "source": [
    "A function is a block of reusable code that performs a specific task. Functions help reduce repetition and make code easier to manage. A function is defined using the `def` keyword."
   ]
  },
  {
   "cell_type": "markdown",
   "id": "4cd946f4",
   "metadata": {},
   "source": [
    "* You can pass data to functions (parameters).\n",
    "* Functions can return values.\n",
    "* Functions help break down complex programs into smaller, manageable parts."
   ]
  },
  {
   "cell_type": "code",
   "execution_count": null,
   "id": "72a94e2a",
   "metadata": {},
   "outputs": [],
   "source": [
    "# Function to add two numbers\n",
    "def add_numbers(a, b):\n",
    "    return a + b\n",
    "\n",
    "# Call the function\n",
    "result = add_numbers(3, 4)\n",
    "print(result)"
   ]
  },
  {
   "cell_type": "markdown",
   "id": "0e169f11",
   "metadata": {
    "slideshow": {
     "slide_type": "slide"
    }
   },
   "source": [
    "## Have a play!"
   ]
  },
  {
   "cell_type": "markdown",
   "id": "25f57489",
   "metadata": {
    "lines_to_next_cell": 0,
    "slideshow": {
     "slide_type": "slide"
    }
   },
   "source": [
    "### _Exercises_\n",
    "\n",
    "**1)** Write a function that converts Celsius to Fahrenheit. Use the formula  \n",
    "$\n",
    "\\text{Fahrenheit} = (\\text{Celsius} \\times \\frac{9}{5}) + 32\n",
    "$\n",
    "\n",
    "<!-- #solution -->"
   ]
  },
  {
   "cell_type": "code",
   "execution_count": null,
   "id": "682c5500",
   "metadata": {
    "lines_to_next_cell": 0
   },
   "outputs": [],
   "source": []
  },
  {
   "cell_type": "markdown",
   "id": "a4892d09",
   "metadata": {},
   "source": [
    "<!-- #endsolution -->"
   ]
  },
  {
   "cell_type": "markdown",
   "id": "b7c729f9",
   "metadata": {
    "slideshow": {
     "slide_type": "slide"
    }
   },
   "source": [
    "# <ins>**Part II**</ins>"
   ]
  },
  {
   "cell_type": "markdown",
   "id": "607c7fbb",
   "metadata": {
    "slideshow": {
     "slide_type": "slide"
    }
   },
   "source": [
    "# <ins>3.</ins> Getting Data in and out"
   ]
  },
  {
   "cell_type": "markdown",
   "id": "10f751e2",
   "metadata": {
    "slideshow": {
     "slide_type": "notes"
    }
   },
   "source": []
  },
  {
   "cell_type": "markdown",
   "id": "60b076a8",
   "metadata": {
    "slideshow": {
     "slide_type": "slide"
    }
   },
   "source": [
    "## User input\n",
    "The `print` function enables a Python program to display textual information to the user. The `input` function maybe used to obtain information from the user."
   ]
  },
  {
   "cell_type": "code",
   "execution_count": null,
   "id": "fdf9caf0",
   "metadata": {
    "slideshow": {
     "slide_type": ""
    }
   },
   "outputs": [],
   "source": [
    "# Get some user input\n",
    "x = input()\n",
    "# print it\n",
    "print(x)\n",
    "# check the type of the input\n",
    "type(x)   # This will be a string if you don't convert it"
   ]
  },
  {
   "cell_type": "code",
   "execution_count": null,
   "id": "0ffa0ea3",
   "metadata": {
    "slideshow": {
     "slide_type": ""
    }
   },
   "outputs": [],
   "source": [
    "# Implement a greeting function with user input\n",
    "name = input(\"What's you name?\")\n",
    "print(\"Hello \" + name)"
   ]
  },
  {
   "cell_type": "markdown",
   "id": "36f4a529",
   "metadata": {
    "slideshow": {
     "slide_type": "notes"
    }
   },
   "source": []
  },
  {
   "cell_type": "markdown",
   "id": "c8bf5f9e",
   "metadata": {
    "slideshow": {
     "slide_type": "notes"
    }
   },
   "source": []
  },
  {
   "cell_type": "markdown",
   "id": "650d2ec4",
   "metadata": {
    "slideshow": {
     "slide_type": "slide"
    }
   },
   "source": [
    "## Reading and writing files"
   ]
  },
  {
   "cell_type": "markdown",
   "id": "282ad735",
   "metadata": {
    "slideshow": {
     "slide_type": ""
    }
   },
   "source": [
    "```python\n",
    "# Create a file object\n",
    "with open(\"testfile.txt\", 'w') as my_file:\n",
    "    ...\n",
    "```\n",
    "Two things to note here:\n",
    " - My object `my_file` is different from my file `\"testfile\"`!\n",
    " - There are different modes:\n",
    "     - read: `'r'`\n",
    "     - (over-)write: `'w'`\n",
    "     - append: `'a'`\n",
    "     - read+write: `'w+'` or `'r+'`"
   ]
  },
  {
   "cell_type": "markdown",
   "id": "b85f5879",
   "metadata": {
    "slideshow": {
     "slide_type": "notes"
    }
   },
   "source": []
  },
  {
   "cell_type": "markdown",
   "id": "cb7822e0",
   "metadata": {
    "slideshow": {
     "slide_type": "notes"
    }
   },
   "source": []
  },
  {
   "cell_type": "markdown",
   "id": "655b4a99",
   "metadata": {
    "slideshow": {
     "slide_type": "slide"
    }
   },
   "source": [
    "### Writing files and formatting strings (C-style)"
   ]
  },
  {
   "cell_type": "code",
   "execution_count": null,
   "id": "d6dd487e",
   "metadata": {
    "slideshow": {
     "slide_type": ""
    }
   },
   "outputs": [],
   "source": [
    "with open(\"testfile.txt\", \"w\") as my_file:\n",
    "    # Write - note special characters!\n",
    "    my_file.write(\"This is some text. \\n And some more.\")\n",
    "    my_file.write(\"\\n\\nI can also add numbers like this: %d %d \\n\" %(22, 333))\n",
    "\n",
    "    my_file.write(str(222))"
   ]
  },
  {
   "cell_type": "markdown",
   "id": "294d7e16",
   "metadata": {
    "slideshow": {
     "slide_type": ""
    }
   },
   "source": [
    "see also [https://www.learnpython.org/en/String\\_Formatting](https://www.learnpython.org/en/String_Formatting)"
   ]
  },
  {
   "cell_type": "markdown",
   "id": "1d980b46",
   "metadata": {
    "slideshow": {
     "slide_type": "notes"
    }
   },
   "source": []
  },
  {
   "cell_type": "markdown",
   "id": "88ca12dc",
   "metadata": {
    "slideshow": {
     "slide_type": "notes"
    }
   },
   "source": []
  },
  {
   "cell_type": "markdown",
   "id": "e2833477",
   "metadata": {
    "slideshow": {
     "slide_type": "slide"
    }
   },
   "source": [
    "### Writing files (f-strings)"
   ]
  },
  {
   "cell_type": "code",
   "execution_count": null,
   "id": "c16f15b6",
   "metadata": {
    "slideshow": {
     "slide_type": ""
    }
   },
   "outputs": [],
   "source": [
    "number1 = 44\n",
    "number2 = 111\n",
    "\n",
    "with open(\"testfile.txt\", \"a\") as my_file:\n",
    "    # Append to the opened file\n",
    "    my_file.write(f\"\\n I have opened the same file again.\\n More numbers: {number1} {number2}.\")"
   ]
  },
  {
   "cell_type": "markdown",
   "id": "1437d033",
   "metadata": {
    "slideshow": {
     "slide_type": ""
    }
   },
   "source": [
    "see also [f-strings](https://realpython.com/python-f-strings/)"
   ]
  },
  {
   "cell_type": "markdown",
   "id": "bd3decb9",
   "metadata": {
    "slideshow": {
     "slide_type": "notes"
    }
   },
   "source": []
  },
  {
   "cell_type": "markdown",
   "id": "5d835feb",
   "metadata": {
    "slideshow": {
     "slide_type": "notes"
    }
   },
   "source": []
  },
  {
   "cell_type": "markdown",
   "id": "ec1f5820",
   "metadata": {
    "slideshow": {
     "slide_type": "slide"
    }
   },
   "source": [
    "### Reading files"
   ]
  },
  {
   "cell_type": "code",
   "execution_count": null,
   "id": "c2cfdd8e",
   "metadata": {
    "slideshow": {
     "slide_type": ""
    }
   },
   "outputs": [],
   "source": [
    "with open(\"testfile.txt\", \"r\") as my_file:\n",
    "    # Read it and print it to screen\n",
    "    print(my_file.read())\n",
    "\n",
    "    # Try this:\n",
    "    #print(my_file.read(7))\n",
    "    #print(my_file.readline())\n",
    "    #print(my_file.readlines())"
   ]
  },
  {
   "cell_type": "markdown",
   "id": "6bde6769",
   "metadata": {
    "slideshow": {
     "slide_type": "notes"
    }
   },
   "source": []
  },
  {
   "cell_type": "markdown",
   "id": "e87aea82",
   "metadata": {
    "slideshow": {
     "slide_type": "notes"
    }
   },
   "source": []
  },
  {
   "cell_type": "markdown",
   "id": "0207aba6",
   "metadata": {
    "slideshow": {
     "slide_type": "slide"
    }
   },
   "source": [
    "## Have a play!"
   ]
  },
  {
   "cell_type": "markdown",
   "id": "876b3209",
   "metadata": {},
   "source": [
    "### _Exercises_"
   ]
  },
  {
   "cell_type": "markdown",
   "id": "da79c58e",
   "metadata": {
    "slideshow": {
     "slide_type": ""
    }
   },
   "source": [
    "Here are some exercise ideas for \"Getting data in and out\":\n",
    "- Prompt the user for a filename and write a short text into it.\n",
    "- Read it back and print the lines to the screen.\n",
    "- Experiment with different modes: 'r', 'w', 'a' to see how the file content changes."
   ]
  },
  {
   "cell_type": "code",
   "execution_count": null,
   "id": "ae05a814",
   "metadata": {},
   "outputs": [],
   "source": []
  },
  {
   "cell_type": "markdown",
   "id": "a9a06a67",
   "metadata": {
    "slideshow": {
     "slide_type": "slide"
    }
   },
   "source": [
    "# <ins>4.</ins> Data structures"
   ]
  },
  {
   "cell_type": "markdown",
   "id": "f83e729a",
   "metadata": {},
   "source": [
    "Python can work not only with basic data types mentioned before, but also with compound ones. Compound data types in Python are a powerful tool for organizing and storing data. Among the most commonly used are _lists_ and _dictionaries_. `For`-loops described in the next section often iterate over elements of lists or pairs of keys and values in dictionaries. But they can also iterate over a series of numbers generated for indexing or calculations by the `range()` function."
   ]
  },
  {
   "cell_type": "markdown",
   "id": "334a998d",
   "metadata": {
    "slideshow": {
     "slide_type": "slide"
    }
   },
   "source": [
    "## Lists"
   ]
  },
  {
   "cell_type": "markdown",
   "id": "45b39d52",
   "metadata": {},
   "source": [
    "_Lists_ are ordered collections of items."
   ]
  },
  {
   "cell_type": "markdown",
   "id": "46189ccf",
   "metadata": {
    "slideshow": {
     "slide_type": ""
    }
   },
   "source": [
    "* A list contains items separated by commas and enclosed with square brackets `[]`\n",
    "* A list can contain different datatypes (`int`, `float`, `str`, etc.)\n",
    "* Similar to strings, list members can be accessed using their associated index which is zero-based\n",
    "* Common list functions: `append()`, `remove()`, `pop()`"
   ]
  },
  {
   "cell_type": "markdown",
   "id": "a6807f18",
   "metadata": {
    "lines_to_next_cell": 0,
    "slideshow": {
     "slide_type": "slide"
    }
   },
   "source": [
    "### _<ins>Examples:</ins>_\n",
    "\n",
    "<!-- #solution -->"
   ]
  },
  {
   "cell_type": "code",
   "execution_count": null,
   "id": "c72577c6",
   "metadata": {
    "lines_to_next_cell": 0
   },
   "outputs": [],
   "source": [
    "# Creating/Initialising a list"
   ]
  },
  {
   "cell_type": "markdown",
   "id": "c96db7b4",
   "metadata": {
    "lines_to_next_cell": 0
   },
   "source": [
    "<!-- #endsolution -->\n",
    "\n",
    "<!-- #solution -->"
   ]
  },
  {
   "cell_type": "code",
   "execution_count": null,
   "id": "4c7743ce",
   "metadata": {
    "lines_to_next_cell": 0,
    "slideshow": {
     "slide_type": ""
    }
   },
   "outputs": [],
   "source": [
    "# Print a list"
   ]
  },
  {
   "cell_type": "markdown",
   "id": "762ba7ac",
   "metadata": {
    "lines_to_next_cell": 0
   },
   "source": [
    "<!-- #endsolution -->\n",
    "\n",
    "<!-- #solution -->"
   ]
  },
  {
   "cell_type": "code",
   "execution_count": null,
   "id": "cdba6cbb",
   "metadata": {
    "lines_to_next_cell": 0,
    "slideshow": {
     "slide_type": ""
    }
   },
   "outputs": [],
   "source": [
    "# Print an element of the list. Note: use [] not () for item indexing"
   ]
  },
  {
   "cell_type": "markdown",
   "id": "857b213a",
   "metadata": {
    "lines_to_next_cell": 0
   },
   "source": [
    "<!-- #endsolution -->\n",
    "\n",
    "<!-- #solution -->"
   ]
  },
  {
   "cell_type": "code",
   "execution_count": null,
   "id": "e1b08974",
   "metadata": {
    "lines_to_next_cell": 0,
    "slideshow": {
     "slide_type": ""
    }
   },
   "outputs": [],
   "source": [
    "# Print the first element of the list. Indexing starts with 0!"
   ]
  },
  {
   "cell_type": "markdown",
   "id": "a72fb9b2",
   "metadata": {
    "lines_to_next_cell": 0
   },
   "source": [
    "<!-- #endsolution -->\n",
    "\n",
    "<!-- #solution -->"
   ]
  },
  {
   "cell_type": "code",
   "execution_count": null,
   "id": "3c500b50",
   "metadata": {
    "lines_to_next_cell": 0,
    "slideshow": {
     "slide_type": ""
    }
   },
   "outputs": [],
   "source": [
    "# Print the last element of the list using backward indexing"
   ]
  },
  {
   "cell_type": "markdown",
   "id": "71586e43",
   "metadata": {
    "lines_to_next_cell": 0
   },
   "source": [
    "<!-- #endsolution -->\n",
    "\n",
    "<!-- #solution -->"
   ]
  },
  {
   "cell_type": "code",
   "execution_count": null,
   "id": "d1ba53fc",
   "metadata": {
    "lines_to_next_cell": 0,
    "slideshow": {
     "slide_type": ""
    }
   },
   "outputs": [],
   "source": [
    "# Print an internal slice of the list"
   ]
  },
  {
   "cell_type": "markdown",
   "id": "8e562d57",
   "metadata": {
    "lines_to_next_cell": 0
   },
   "source": [
    "<!-- #endsolution -->\n",
    "\n",
    "<!-- #solution -->"
   ]
  },
  {
   "cell_type": "code",
   "execution_count": null,
   "id": "66eb518b",
   "metadata": {
    "lines_to_next_cell": 0,
    "slideshow": {
     "slide_type": ""
    }
   },
   "outputs": [],
   "source": [
    "# Print a slice of the list from the beginning"
   ]
  },
  {
   "cell_type": "markdown",
   "id": "80c85859",
   "metadata": {
    "lines_to_next_cell": 0
   },
   "source": [
    "<!-- #endsolution -->\n",
    "\n",
    "<!-- #solution -->"
   ]
  },
  {
   "cell_type": "code",
   "execution_count": null,
   "id": "973337ea",
   "metadata": {
    "lines_to_next_cell": 0
   },
   "outputs": [],
   "source": [
    "# Different datatypes in lists, length of lists"
   ]
  },
  {
   "cell_type": "markdown",
   "id": "e2851d57",
   "metadata": {
    "lines_to_next_cell": 0
   },
   "source": [
    "<!-- #endsolution -->\n",
    "\n",
    "<!-- #solution -->"
   ]
  },
  {
   "cell_type": "code",
   "execution_count": null,
   "id": "2ac8b9ca",
   "metadata": {
    "lines_to_next_cell": 0
   },
   "outputs": [],
   "source": [
    "# Print out `list1`, a slice containing the last element"
   ]
  },
  {
   "cell_type": "markdown",
   "id": "c171e06f",
   "metadata": {
    "lines_to_next_cell": 0
   },
   "source": [
    "<!-- #endsolution -->\n",
    "\n",
    "<!-- #solution -->"
   ]
  },
  {
   "cell_type": "code",
   "execution_count": null,
   "id": "05a2927e",
   "metadata": {
    "lines_to_next_cell": 0
   },
   "outputs": [],
   "source": [
    "# Concatenate two lists"
   ]
  },
  {
   "cell_type": "markdown",
   "id": "9c562b35",
   "metadata": {},
   "source": [
    "<!-- #endsolution -->"
   ]
  },
  {
   "cell_type": "markdown",
   "id": "55059421",
   "metadata": {
    "slideshow": {
     "slide_type": "notes"
    }
   },
   "source": []
  },
  {
   "cell_type": "markdown",
   "id": "cc131237",
   "metadata": {
    "slideshow": {
     "slide_type": "notes"
    }
   },
   "source": []
  },
  {
   "cell_type": "markdown",
   "id": "132accc9",
   "metadata": {
    "slideshow": {
     "slide_type": "notes"
    }
   },
   "source": []
  },
  {
   "cell_type": "markdown",
   "id": "6e751d59",
   "metadata": {
    "slideshow": {
     "slide_type": "notes"
    }
   },
   "source": []
  },
  {
   "cell_type": "markdown",
   "id": "52416b6e",
   "metadata": {
    "slideshow": {
     "slide_type": "slide"
    }
   },
   "source": [
    "## _Range()_ function"
   ]
  },
  {
   "cell_type": "markdown",
   "id": "4ff9b709",
   "metadata": {},
   "source": [
    "The `range()` function in Python is used to generate a sequence of numbers. It takes up to three arguments: `start`, `stop`, and `step`. By default, `start` is 0, `step` is 1, and the sequence ends just before the `stop` value."
   ]
  },
  {
   "cell_type": "markdown",
   "id": "a4306a3f",
   "metadata": {},
   "source": [
    "* `range(stop)`: Generates numbers from 0 to stop - 1.\n",
    "* `range(start, stop)`: Generates numbers from start to stop - 1.\n",
    "* `range(start, stop, step)`: Generates numbers from start to stop - 1, stepping by step.\n",
    "* `range()` can generate both increasing and decreasing sequences by changing the step argument.\n",
    "* The generated sequence is immutable, but can be converted to a list or iterated directly."
   ]
  },
  {
   "cell_type": "markdown",
   "id": "f3a48d7c",
   "metadata": {
    "slideshow": {
     "slide_type": "slide"
    }
   },
   "source": [
    "### _<ins>Examples:</ins>_"
   ]
  },
  {
   "cell_type": "code",
   "execution_count": null,
   "id": "6290c412",
   "metadata": {},
   "outputs": [],
   "source": [
    "range(10)"
   ]
  },
  {
   "cell_type": "code",
   "execution_count": null,
   "id": "db799bb1",
   "metadata": {},
   "outputs": [],
   "source": [
    "list(range(10))"
   ]
  },
  {
   "cell_type": "code",
   "execution_count": null,
   "id": "3725ed2e",
   "metadata": {},
   "outputs": [],
   "source": [
    "list(range(1,10))"
   ]
  },
  {
   "cell_type": "code",
   "execution_count": null,
   "id": "925ffa1f",
   "metadata": {},
   "outputs": [],
   "source": [
    "list(range(3,7))"
   ]
  },
  {
   "cell_type": "code",
   "execution_count": null,
   "id": "42756dfd",
   "metadata": {},
   "outputs": [],
   "source": [
    "list(range(2,15,3))"
   ]
  },
  {
   "cell_type": "code",
   "execution_count": null,
   "id": "fc371c66",
   "metadata": {},
   "outputs": [],
   "source": [
    "list(range(9,2,-1))"
   ]
  },
  {
   "cell_type": "markdown",
   "id": "4458166b",
   "metadata": {
    "slideshow": {
     "slide_type": "slide"
    }
   },
   "source": [
    "## Have a Play!"
   ]
  },
  {
   "cell_type": "markdown",
   "id": "83a65236",
   "metadata": {},
   "source": [
    "### _Exercises_"
   ]
  },
  {
   "cell_type": "markdown",
   "id": "7d5db584",
   "metadata": {
    "lines_to_next_cell": 0
   },
   "source": [
    "**1) Lists**: Create a list of numbers from 1 to 20 and then print the elements at every second index.\n",
    "\n",
    "<!-- #solution -->"
   ]
  },
  {
   "cell_type": "code",
   "execution_count": null,
   "id": "8a9b927b",
   "metadata": {
    "lines_to_next_cell": 0
   },
   "outputs": [],
   "source": []
  },
  {
   "cell_type": "markdown",
   "id": "6cc2f42c",
   "metadata": {},
   "source": [
    "<!-- #endsolution -->"
   ]
  },
  {
   "cell_type": "markdown",
   "id": "bf4d731a",
   "metadata": {
    "slideshow": {
     "slide_type": ""
    }
   },
   "source": [
    "**2) Range**: Create a list of even numbers between 10 and 30 using `range()`, and print it."
   ]
  },
  {
   "cell_type": "markdown",
   "id": "91cd0937",
   "metadata": {
    "lines_to_next_cell": 0
   },
   "source": [
    "<!-- #solution -->"
   ]
  },
  {
   "cell_type": "code",
   "execution_count": null,
   "id": "50d3fa4c",
   "metadata": {
    "lines_to_next_cell": 0,
    "slideshow": {
     "slide_type": ""
    }
   },
   "outputs": [],
   "source": []
  },
  {
   "cell_type": "markdown",
   "id": "3f8e08e4",
   "metadata": {
    "lines_to_next_cell": 0,
    "slideshow": {
     "slide_type": "slide"
    }
   },
   "source": [
    "# <ins>5.</ins> Conditional and control flow statements"
   ]
  },
  {
   "cell_type": "markdown",
   "id": "542fe4d0",
   "metadata": {
    "lines_to_next_cell": 0,
    "slideshow": {
     "slide_type": "slide"
    }
   },
   "source": [
    "## _If_-statements"
   ]
  },
  {
   "cell_type": "markdown",
   "id": "c46bd4ca",
   "metadata": {
    "lines_to_next_cell": 0,
    "slideshow": {
     "slide_type": "fragment"
    }
   },
   "source": []
  },
  {
   "cell_type": "markdown",
   "id": "d67c15a8",
   "metadata": {
    "lines_to_next_cell": 0,
    "slideshow": {
     "slide_type": "slide"
    }
   },
   "source": [
    "### _<ins>Examples:</ins>_"
   ]
  },
  {
   "cell_type": "code",
   "execution_count": null,
   "id": "4472efbd",
   "metadata": {
    "lines_to_next_cell": 0
   },
   "outputs": [],
   "source": []
  },
  {
   "cell_type": "code",
   "execution_count": null,
   "id": "1a0feef1",
   "metadata": {
    "lines_to_next_cell": 0
   },
   "outputs": [],
   "source": []
  },
  {
   "cell_type": "code",
   "execution_count": null,
   "id": "0b54cebb",
   "metadata": {
    "lines_to_next_cell": 0
   },
   "outputs": [],
   "source": [
    "# using only `if`"
   ]
  },
  {
   "cell_type": "code",
   "execution_count": null,
   "id": "24bb4f1b",
   "metadata": {
    "lines_to_next_cell": 0
   },
   "outputs": [],
   "source": [
    "# using `if`, `elif` and `else`"
   ]
  },
  {
   "cell_type": "markdown",
   "id": "849f0ee6",
   "metadata": {
    "lines_to_next_cell": 0,
    "slideshow": {
     "slide_type": "slide"
    }
   },
   "source": [
    "## _For_-loops"
   ]
  },
  {
   "cell_type": "markdown",
   "id": "c1bffb24",
   "metadata": {
    "lines_to_next_cell": 0,
    "slideshow": {
     "slide_type": "slide"
    }
   },
   "source": [
    "### _<ins>Examples:</ins>_"
   ]
  },
  {
   "cell_type": "code",
   "execution_count": null,
   "id": "130b61d6",
   "metadata": {
    "lines_to_next_cell": 0
   },
   "outputs": [],
   "source": [
    "# Iterating over a list\n",
    "# Using range to loop through numbers"
   ]
  },
  {
   "cell_type": "code",
   "execution_count": null,
   "id": "bed98b55",
   "metadata": {
    "lines_to_next_cell": 0
   },
   "outputs": [],
   "source": []
  },
  {
   "cell_type": "markdown",
   "id": "b5484411",
   "metadata": {
    "lines_to_next_cell": 0,
    "slideshow": {
     "slide_type": "slide"
    }
   },
   "source": [
    "## _While_-loops"
   ]
  },
  {
   "cell_type": "markdown",
   "id": "d779caa2",
   "metadata": {
    "lines_to_next_cell": 0,
    "slideshow": {
     "slide_type": "slide"
    }
   },
   "source": [
    "### _<ins>Examples:</ins>_"
   ]
  },
  {
   "cell_type": "code",
   "execution_count": null,
   "id": "a04655bd",
   "metadata": {
    "lines_to_next_cell": 0
   },
   "outputs": [],
   "source": []
  },
  {
   "cell_type": "code",
   "execution_count": null,
   "id": "fc5ac25f",
   "metadata": {
    "lines_to_next_cell": 0
   },
   "outputs": [],
   "source": []
  },
  {
   "cell_type": "markdown",
   "id": "064e4c7e",
   "metadata": {
    "lines_to_next_cell": 0,
    "slideshow": {
     "slide_type": "slide"
    }
   },
   "source": [
    "## Have a Play!"
   ]
  },
  {
   "cell_type": "markdown",
   "id": "e54d2979",
   "metadata": {
    "lines_to_next_cell": 0,
    "slideshow": {
     "slide_type": "slide"
    }
   },
   "source": [
    "### _Exercises_"
   ]
  },
  {
   "cell_type": "markdown",
   "id": "a940e962",
   "metadata": {
    "lines_to_next_cell": 0,
    "slideshow": {
     "slide_type": "slide"
    }
   },
   "source": []
  },
  {
   "cell_type": "markdown",
   "id": "ffe37e55",
   "metadata": {
    "lines_to_next_cell": 0
   },
   "source": [
    "<!-- #solution -->"
   ]
  },
  {
   "cell_type": "code",
   "execution_count": null,
   "id": "4c58b8f1",
   "metadata": {
    "lines_to_next_cell": 0
   },
   "outputs": [],
   "source": []
  },
  {
   "cell_type": "markdown",
   "id": "9a0c01f7",
   "metadata": {
    "lines_to_next_cell": 0,
    "slideshow": {
     "slide_type": "slide"
    }
   },
   "source": [
    "<!-- #endsolution -->\n",
    "\n",
    "**2) `For`-loops**: Use a `for`-loop to print the square of numbers from 1 to 10.\n",
    "\n",
    "<!-- #solution -->"
   ]
  },
  {
   "cell_type": "code",
   "execution_count": null,
   "id": "c04c8728",
   "metadata": {
    "lines_to_next_cell": 0
   },
   "outputs": [],
   "source": []
  },
  {
   "cell_type": "markdown",
   "id": "183a0d93",
   "metadata": {
    "lines_to_next_cell": 0,
    "slideshow": {
     "slide_type": "slide"
    }
   },
   "source": [
    "<!-- #endsolution -->\n",
    "\n",
    "**3) `While`-loops**: Write a program that keeps asking the user for a number and prints the number. Stop when the user enters a negative number.\n",
    "\n",
    "<!-- #solution -->"
   ]
  },
  {
   "cell_type": "code",
   "execution_count": null,
   "id": "9329b0cd",
   "metadata": {
    "lines_to_next_cell": 0
   },
   "outputs": [],
   "source": []
  },
  {
   "cell_type": "markdown",
   "id": "450d9937",
   "metadata": {
    "lines_to_next_cell": 0,
    "slideshow": {
     "slide_type": "slide"
    }
   },
   "source": [
    "<!-- #endsolution -->\n",
    "\n",
    "**4) Functions**: Write a program to calculate the factorial of a number\n",
    "\n",
    "<!-- #solution -->"
   ]
  },
  {
   "cell_type": "code",
   "execution_count": null,
   "id": "75dee671",
   "metadata": {
    "lines_to_next_cell": 0
   },
   "outputs": [],
   "source": []
  },
  {
   "cell_type": "markdown",
   "id": "b477a83b",
   "metadata": {},
   "source": [
    "<!-- #endsolution -->"
   ]
  }
 ],
 "metadata": {
  "kernelspec": {
   "display_name": "Python 3 (ipykernel)",
   "language": "python",
   "name": "python3"
  }
 },
 "nbformat": 4,
 "nbformat_minor": 5
}
