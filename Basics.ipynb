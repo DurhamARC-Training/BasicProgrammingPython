{
 "cells": [
  {
   "attachments": {
    "4bc4187b-d7a8-40d7-9b9b-e39c975e84a1.png": {
     "image/png": "[encoded data removed]"
    }
   },
   "cell_type": "markdown",
   "id": "70f989b2-9a0b-467c-857b-72d64973f13e",
   "metadata": {
    "jp-MarkdownHeadingCollapsed": true
   },
   "source": [
    "ARC course \"Learning to programme with Python\" (Beginner level)\n",
    "------------------------------------------------\n",
    "![icons8-python-48.png](attachment:4bc4187b-d7a8-40d7-9b9b-e39c975e84a1.png)"
   ]
  },
  {
   "cell_type": "markdown",
   "id": "61b5aa63-4198-40ce-aaf0-7e82d9f52db0",
   "metadata": {},
   "source": [
    "Welcome to our ARC course \"Learning to programme with Python\".\n",
    "\n",
    "Some general information on how the course will run:\n",
    "\n",
    "* The course will run for three hours from 10.00 to 13.00. We plan a coffee break between 2 parts at around 11:30 for ~10-15 min.\n",
    "\n",
    "* The material is very basic and does not expect any prior programming experience.\n",
    "\n",
    "* Each topic will be presented wih code demonstrations followed by practical exercises.\n",
    "\n",
    "* We are happy to answer any questions during the course and to help during the exercises.\n",
    "\n",
    "Upon completion of the course, please, don't forget to scan the activity QR code to record your attendance.\n",
    "\n",
    "Enjoy learning Python!"
   ]
  },
  {
   "cell_type": "markdown",
   "id": "3c41da46-c2b1-4c86-8d53-c8244be805f0",
   "metadata": {},
   "source": [
    "# <ins>Table of Contents</ins>"
   ]
  },
  {
   "cell_type": "markdown",
   "id": "00c761fd-fac1-4256-8df6-c61b96f92c3f",
   "metadata": {},
   "source": [
    "  - [0. Introduction](#0.-Introduction)\n",
    "    - [Course objectives](#Course-objectives)\n",
    "    - [Useful resources](#Useful-resources)\n",
    "    - [Set up your Python environment](#Set-up-your-Python-environment)\n",
    "    - [Programming crash course](#Programming-crash-course)\n",
    "- [Part I](#Part-I)\n",
    "  - [1. Basics](#1.-Basics)\n",
    "    - [Basic data types](#Basic-data-types)\n",
    "    - [Variables](#Variables)\n",
    "    - [Basic operators](#Basic-operators)\n",
    "    - [Comments (and documentation)](#Comments-(and-documentation))\n",
    "    - [Debugging and types of errors](#Debugging-and-types-of-errors)\n",
    "  - [2. Getting data in and out](#2.-Getting-data-in-and-out)\n",
    "    - [User input](#User-input)\n",
    "    - [Reading and writing files](#Reading-and-writing-files)\n",
    "- [Part II](#Part-II)\n",
    "  - [3. Data structures](#3.-Data-structures)\n",
    "  - [4. Repetitions and conditions](#4.-Repetitions-and-conditions)\n",
    "  - [5. Functions](#5.-Functions)"
   ]
  },
  {
   "cell_type": "markdown",
   "id": "fc3cfa7c",
   "metadata": {
    "editable": true,
    "slideshow": {
     "slide_type": "slide"
    },
    "tags": []
   },
   "source": [
    "# <ins>0.</ins> Introduction"
   ]
  },
  {
   "cell_type": "markdown",
   "id": "4962dd85",
   "metadata": {
    "editable": true,
    "jp-MarkdownHeadingCollapsed": true,
    "slideshow": {
     "slide_type": "slide"
    },
    "tags": []
   },
   "source": [
    "## Course objectives"
   ]
  },
  {
   "cell_type": "markdown",
   "id": "a4f38775-39b2-4af2-8f81-d3530913858b",
   "metadata": {},
   "source": [
    "By the end of this course you should know:\n",
    " - how a basic computer program is written and executed,\n",
    " - what basic data types and control statements are,\n",
    " - how to get and process user input and data,\n",
    " - how to structure your code using functions,\n",
    " - what can lead to your program not working, and what to do about it,\n",
    " - where to find further resources to practice your Python programming."
   ]
  },
  {
   "cell_type": "markdown",
   "id": "b2f405e3",
   "metadata": {
    "editable": true,
    "jp-MarkdownHeadingCollapsed": true,
    "slideshow": {
     "slide_type": "slide"
    },
    "tags": []
   },
   "source": [
    "## Useful resources"
   ]
  },
  {
   "cell_type": "markdown",
   "id": "4a075751-8ff4-4f53-becd-813b372e9eaf",
   "metadata": {
    "jp-MarkdownHeadingCollapsed": true
   },
   "source": [
    "#### Materials used and recommended:\n",
    " - [Python Wiki - Python for Non-Programmers](https://wiki.python.org/moin/BeginnersGuide/NonProgrammers)\n",
    " - [How to think like a Computer Scientist](http://openbookproject.net/thinkcs/python/english3e/index.html)\n",
    " - [A Whirlwind Tour of Python](https://jakevdp.github.io/WhirlwindTourOfPython)\n",
    " - [Software Carpentry - Programming with Python](https://swcarpentry.github.io/python-novice-inflammation/index.html)"
   ]
  },
  {
   "cell_type": "markdown",
   "id": "afeabf95",
   "metadata": {
    "editable": true,
    "jp-MarkdownHeadingCollapsed": true,
    "slideshow": {
     "slide_type": "slide"
    },
    "tags": []
   },
   "source": [
    "## Set up your Python environment"
   ]
  },
  {
   "cell_type": "markdown",
   "id": "90e1bad8-d6f8-497c-8b7b-d15a2492b7ce",
   "metadata": {},
   "source": [
    "<ins>Option 1</ins>: Jupyter Notebook server set up by Daniel Maitre from the Physics department \n",
    " - log in with you CIS account; loading process can take some time:\n",
    " - https://notebooks.dmaitre.phyip3.dur.ac.uk/arc\n",
    "\n",
    "<ins>Option 2</ins>: Local python environment\n",
    "\n",
    "<ins>Option 3</ins>: Google Colab (https://colab.research.google.com)."
   ]
  },
  {
   "cell_type": "markdown",
   "id": "e980db31",
   "metadata": {
    "editable": true,
    "slideshow": {
     "slide_type": "slide"
    },
    "tags": []
   },
   "source": [
    "## Programming crash course"
   ]
  },
  {
   "cell_type": "markdown",
   "id": "d22e58a8-7ab4-45f7-9c2f-1ac04c8e95a9",
   "metadata": {
    "jp-MarkdownHeadingCollapsed": true
   },
   "source": [
    "### Programming means: make the computer do the work for you!"
   ]
  },
  {
   "cell_type": "markdown",
   "id": "8036f98a-2075-4a48-8b55-a17f3a46bc5a",
   "metadata": {},
   "source": [
    " - Do the maths\n",
    " - Boring repetitions\n",
    " - Too complicated/extensive tasks\n",
    " - Big data sets \n",
    " - Make your analysis reproducible\n",
    " -  ..."
   ]
  },
  {
   "cell_type": "markdown",
   "id": "f1abdc3f",
   "metadata": {
    "editable": true,
    "jp-MarkdownHeadingCollapsed": true,
    "slideshow": {
     "slide_type": "fragment"
    },
    "tags": []
   },
   "source": [
    "### Running code in a compiled language (such as C)"
   ]
  },
  {
   "cell_type": "markdown",
   "id": "54d26c64-cec4-43f3-a742-3172fdd72068",
   "metadata": {},
   "source": [
    "1. Write your code in a high-level programming language.\n",
    "2. Translate into low-level (machine/assembly) language.\n",
    "3. Execute the program."
   ]
  },
  {
   "cell_type": "markdown",
   "id": "d6b930a5-e898-4554-a7e1-626db883114b",
   "metadata": {
    "jp-MarkdownHeadingCollapsed": true
   },
   "source": [
    "### Running code in an interpreted language (such as Python)"
   ]
  },
  {
   "cell_type": "markdown",
   "id": "20934a2d-67ca-4bb6-9ec5-4f2449a71671",
   "metadata": {},
   "source": [
    "1. Write your code in high-level programming language.\n",
    "2. Interpret code and execute directly"
   ]
  },
  {
   "cell_type": "markdown",
   "id": "e8dfeecc-e2ef-4c52-bcf6-a08faf358233",
   "metadata": {},
   "source": [
    "  - *Beware!*: Oversimplification"
   ]
  },
  {
   "cell_type": "markdown",
   "id": "f00ec119",
   "metadata": {
    "editable": true,
    "jp-MarkdownHeadingCollapsed": true,
    "slideshow": {
     "slide_type": "slide"
    },
    "tags": []
   },
   "source": [
    "### Demonstration of running python scripts"
   ]
  },
  {
   "cell_type": "markdown",
   "id": "fd8c1517-65ef-4e80-8bce-c26a24ecb1fb",
   "metadata": {},
   "source": [
    "1. Create a `myname.py` file\n",
    "2. run python `myname.py`"
   ]
  },
  {
   "cell_type": "markdown",
   "id": "500702de",
   "metadata": {
    "editable": true,
    "jp-MarkdownHeadingCollapsed": true,
    "slideshow": {
     "slide_type": "slide"
    },
    "tags": []
   },
   "source": [
    "### Demonstration of using an interactive or ipython session"
   ]
  },
  {
   "cell_type": "markdown",
   "id": "4e89edf7",
   "metadata": {
    "editable": true,
    "jp-MarkdownHeadingCollapsed": true,
    "slideshow": {
     "slide_type": "slide"
    },
    "tags": []
   },
   "source": [
    "### Demonstration of using _Jupyter_ notebook"
   ]
  },
  {
   "cell_type": "markdown",
   "id": "0fce7923-c7de-4c2d-a552-a94d02d47833",
   "metadata": {},
   "source": [
    "Jupyter works with cells such as these, which you execute with the play button or `Shift/Strg + Enter`:"
   ]
  },
  {
   "cell_type": "code",
   "execution_count": null,
   "id": "f7d16903-c06b-4be3-a934-62d267b4eae1",
   "metadata": {
    "editable": true,
    "slideshow": {
     "slide_type": ""
    },
    "tags": []
   },
   "outputs": [],
   "source": [
    "# Add just a one to the cell and execute\n"
   ]
  },
  {
   "cell_type": "markdown",
   "id": "94908b56-7e4f-4076-9f6b-0f0c082e2928",
   "metadata": {},
   "source": [
    "If the box on the left is empty, you have not executed it. Otherwise a number indicates in which order the execution took place.\n",
    "\n",
    "You can add cells with the plus. You can also change the type"
   ]
  },
  {
   "cell_type": "code",
   "execution_count": null,
   "id": "2ebc8147-3002-459a-8379-2b96190c6bcc",
   "metadata": {},
   "outputs": [],
   "source": []
  },
  {
   "cell_type": "markdown",
   "id": "08ef8a65-7f73-4624-a649-becb4b78c795",
   "metadata": {
    "jp-MarkdownHeadingCollapsed": true
   },
   "source": [
    "# <ins>**Part I**</ins>"
   ]
  },
  {
   "cell_type": "markdown",
   "id": "df02faaa-50a5-4adf-89a2-d264e05792c1",
   "metadata": {
    "jp-MarkdownHeadingCollapsed": true,
    "slideshow": {
     "slide_type": "slide"
    },
    "tags": []
   },
   "source": [
    "# <ins>1.</ins> Basics"
   ]
  },
  {
   "cell_type": "markdown",
   "id": "990dbd35-a1c7-41f5-a5da-d983e36022f5",
   "metadata": {
    "slideshow": {
     "slide_type": "notes"
    },
    "tags": []
   },
   "source": [
    "In this section we will look into the very basics of programming, to give you the foundations\n",
    "to start from. A lot of it will be transferrable to other programming languages,\n",
    "even if the exact syntax, the way how you write things down, changes."
   ]
  },
  {
   "cell_type": "markdown",
   "id": "61a069f5-5057-4418-b429-57e7cf878113",
   "metadata": {
    "editable": true,
    "jp-MarkdownHeadingCollapsed": true,
    "slideshow": {
     "slide_type": "slide"
    },
    "tags": []
   },
   "source": [
    "## Basic data types\n",
    "As any programming language, Python can deal with many different data types. Among the basic ones are `str` strings, `int` integers, `float` floating-point numbers and `bool` booleans."
   ]
  },
  {
   "cell_type": "markdown",
   "id": "c1630f4c-bd33-49a1-a9dc-f1fe70f8b324",
   "metadata": {},
   "source": [
    "- Strings: \"Heinz\", 'Banana', 'He said \"Hello\"'\n",
    "- Integers: 1, 2, 3, 22222222, -777\n",
    "- Floats: -1.2, 0.0, 2.7182\n",
    "- Booleans: True, False"
   ]
  },
  {
   "cell_type": "markdown",
   "id": "c3494c49-aba5-4237-937a-c83f452b949d",
   "metadata": {
    "editable": true,
    "slideshow": {
     "slide_type": "slide"
    },
    "tags": []
   },
   "source": [
    "## Variables\n",
    "Values are stored in _variables_, which are of data types listed above or more complex ones."
   ]
  },
  {
   "cell_type": "markdown",
   "id": "29d4a8f2-dd61-465d-aa4d-a732afccccba",
   "metadata": {},
   "source": [
    "- “I reserve a space in memory for my data bit, and I call it \n",
    "by the name x\n",
    "- Syntax: name = value”"
   ]
  },
  {
   "cell_type": "markdown",
   "id": "fa02f78d-213c-42e2-b856-04da0d7221a3",
   "metadata": {
    "editable": true,
    "jp-MarkdownHeadingCollapsed": true,
    "slideshow": {
     "slide_type": "slide"
    },
    "tags": []
   },
   "source": [
    "### _<ins>Example</ins>:_ Print type of a variable"
   ]
  },
  {
   "cell_type": "code",
   "execution_count": null,
   "id": "14f8d1c7-e7ad-4c8e-a102-49eda7d54576",
   "metadata": {
    "collapsed": true,
    "editable": true,
    "jupyter": {
     "outputs_hidden": true
    },
    "slideshow": {
     "slide_type": ""
    },
    "tags": []
   },
   "outputs": [],
   "source": [
    "# print statement 'He said \"Hello\"'\n"
   ]
  },
  {
   "cell_type": "code",
   "execution_count": null,
   "id": "45605286-5da6-4d9d-83c2-66b89f97d3d9",
   "metadata": {
    "collapsed": true,
    "editable": true,
    "jupyter": {
     "outputs_hidden": true
    },
    "slideshow": {
     "slide_type": ""
    },
    "tags": []
   },
   "outputs": [],
   "source": [
    "# put the content of the print statement in a variable\n"
   ]
  },
  {
   "cell_type": "code",
   "execution_count": null,
   "id": "56b4cee3-6f98-42bd-9264-982974d75162",
   "metadata": {
    "collapsed": true,
    "editable": true,
    "jupyter": {
     "outputs_hidden": true
    },
    "slideshow": {
     "slide_type": ""
    },
    "tags": []
   },
   "outputs": [],
   "source": [
    "# check the type of that variable\n"
   ]
  },
  {
   "cell_type": "markdown",
   "id": "66c1eed8-4072-4b59-a9d1-fbc39c149232",
   "metadata": {
    "@deathbeds/jupyterlab-fonts": {
     "styles": {
      "": {
       "body[data-jp-deck-mode='presenting'] &": {
        "zoom": "79%"
       }
      }
     }
    },
    "editable": true,
    "jp-MarkdownHeadingCollapsed": true,
    "slideshow": {
     "slide_type": "slide"
    },
    "tags": []
   },
   "source": [
    "### _<ins>Example</ins>:_ Ty to assign the data types at the following qr code"
   ]
  },
  {
   "cell_type": "markdown",
   "id": "9c050e84-f4ec-4467-b584-b3207de49d88",
   "metadata": {},
   "source": [
    "Try not to overthink. If something is ambiguous pick what fits best\n",
    "\n",
    "![QRCode](qr_question1.png)"
   ]
  },
  {
   "cell_type": "markdown",
   "id": "f4ce8703-5465-4230-9e24-65881932ba8c",
   "metadata": {
    "editable": true,
    "jp-MarkdownHeadingCollapsed": true,
    "slideshow": {
     "slide_type": "slide"
    },
    "tags": []
   },
   "source": [
    "### _<ins>Example</ins>:_ Add integers\n",
    "try it out yourself"
   ]
  },
  {
   "cell_type": "code",
   "execution_count": null,
   "id": "8d8ec979-18c9-4172-aee0-da0dd4d7093d",
   "metadata": {
    "collapsed": true,
    "editable": true,
    "jupyter": {
     "outputs_hidden": true,
     "source_hidden": true
    },
    "slideshow": {
     "slide_type": ""
    },
    "tags": []
   },
   "outputs": [],
   "source": [
    "# Adding two integers (2 and 5)\n"
   ]
  },
  {
   "cell_type": "code",
   "execution_count": null,
   "id": "4b09cd7f-3379-4ca3-9b2a-4f8a673e65e5",
   "metadata": {
    "collapsed": true,
    "editable": true,
    "jupyter": {
     "outputs_hidden": true,
     "source_hidden": true
    },
    "slideshow": {
     "slide_type": ""
    },
    "tags": []
   },
   "outputs": [],
   "source": [
    "# Adding integers to a string (\"2+5 = \") naively\n"
   ]
  },
  {
   "cell_type": "code",
   "execution_count": null,
   "id": "10f6eedb-93d4-409a-9840-3c5d2b5ce301",
   "metadata": {
    "collapsed": true,
    "editable": true,
    "jupyter": {
     "outputs_hidden": true,
     "source_hidden": true
    },
    "slideshow": {
     "slide_type": ""
    },
    "tags": []
   },
   "outputs": [],
   "source": [
    "# Option 1: call the result into a string\n"
   ]
  },
  {
   "cell_type": "code",
   "execution_count": null,
   "id": "c4c12df2-2e77-4efd-894d-f901ef2ac5db",
   "metadata": {
    "collapsed": true,
    "editable": true,
    "jupyter": {
     "outputs_hidden": true,
     "source_hidden": true
    },
    "scrolled": true,
    "slideshow": {
     "slide_type": ""
    },
    "tags": []
   },
   "outputs": [],
   "source": [
    "# Option 2: Using multiple arguments in print\n"
   ]
  },
  {
   "cell_type": "markdown",
   "id": "f72bfc35-fac1-4f13-9b77-6bf8db349e68",
   "metadata": {
    "editable": true,
    "jp-MarkdownHeadingCollapsed": true,
    "slideshow": {
     "slide_type": "slide"
    },
    "tags": []
   },
   "source": [
    "### _<ins>Example</ins>:_ Boolean type"
   ]
  },
  {
   "cell_type": "code",
   "execution_count": null,
   "id": "d6ea538b-9b0e-4080-a53d-daab595bad44",
   "metadata": {
    "editable": true,
    "slideshow": {
     "slide_type": ""
    },
    "tags": []
   },
   "outputs": [],
   "source": [
    "# boolean have to be capitalized\n"
   ]
  },
  {
   "cell_type": "code",
   "execution_count": null,
   "id": "6b017dfb-0b3f-4ec5-8912-777fa4433db7",
   "metadata": {
    "editable": true,
    "slideshow": {
     "slide_type": ""
    },
    "tags": []
   },
   "outputs": [],
   "source": [
    "# Checking the type of a boolean\n"
   ]
  },
  {
   "cell_type": "code",
   "execution_count": null,
   "id": "cb6c4d3d-73cc-4ee4-b619-b52f6dc15012",
   "metadata": {
    "editable": true,
    "slideshow": {
     "slide_type": ""
    },
    "tags": []
   },
   "outputs": [],
   "source": [
    "# Adding a boolean to an integer\n"
   ]
  },
  {
   "cell_type": "code",
   "execution_count": null,
   "id": "f3d04d7e-43aa-4c52-b3b5-81ba50cb1ebc",
   "metadata": {
    "editable": true,
    "scrolled": true,
    "slideshow": {
     "slide_type": ""
    },
    "tags": []
   },
   "outputs": [],
   "source": [
    "# Checking the type of the result\n"
   ]
  },
  {
   "cell_type": "markdown",
   "id": "e395c450-4d1d-4d8b-a737-4e743e9842bb",
   "metadata": {
    "editable": true,
    "jp-MarkdownHeadingCollapsed": true,
    "slideshow": {
     "slide_type": "slide"
    },
    "tags": []
   },
   "source": [
    "### _<ins>Example</ins>:_ Boolean operators"
   ]
  },
  {
   "cell_type": "code",
   "execution_count": null,
   "id": "8b4fafe9-c0af-4cb9-b00d-6651c07aac0a",
   "metadata": {
    "collapsed": true,
    "editable": true,
    "jupyter": {
     "outputs_hidden": true,
     "source_hidden": true
    },
    "scrolled": true,
    "slideshow": {
     "slide_type": ""
    },
    "tags": []
   },
   "outputs": [],
   "source": [
    "# Adding two booleans\n"
   ]
  },
  {
   "cell_type": "code",
   "execution_count": null,
   "id": "350a7371-a31c-4d89-af31-208a09f32e42",
   "metadata": {
    "collapsed": true,
    "editable": true,
    "jupyter": {
     "outputs_hidden": true,
     "source_hidden": true
    },
    "slideshow": {
     "slide_type": ""
    },
    "tags": []
   },
   "outputs": [],
   "source": [
    "# Logical AND\n"
   ]
  },
  {
   "cell_type": "code",
   "execution_count": null,
   "id": "78f03073-e1e6-4099-ba4b-71da552a7ce9",
   "metadata": {
    "collapsed": true,
    "editable": true,
    "jupyter": {
     "outputs_hidden": true,
     "source_hidden": true
    },
    "slideshow": {
     "slide_type": ""
    },
    "tags": []
   },
   "outputs": [],
   "source": [
    "# Logical OR\n"
   ]
  },
  {
   "cell_type": "code",
   "execution_count": null,
   "id": "5489948e-d28b-4c8b-a100-b21c8fec83c1",
   "metadata": {
    "collapsed": true,
    "editable": true,
    "jupyter": {
     "outputs_hidden": true,
     "source_hidden": true
    },
    "slideshow": {
     "slide_type": ""
    },
    "tags": []
   },
   "outputs": [],
   "source": [
    "# Negating boolean\n"
   ]
  },
  {
   "cell_type": "markdown",
   "id": "b8e27f8f-5a41-405e-85e7-0647be3c9c76",
   "metadata": {
    "editable": true,
    "jp-MarkdownHeadingCollapsed": true,
    "slideshow": {
     "slide_type": "slide"
    },
    "tags": []
   },
   "source": [
    "## Basic operators\n",
    "New values can be obtained by applying operators to old values, for example, mathematical operators on numerical data types `int` or `float`."
   ]
  },
  {
   "cell_type": "markdown",
   "id": "3c5c1499-0a0f-466d-893a-3acff868ed61",
   "metadata": {
    "editable": true,
    "slideshow": {
     "slide_type": ""
    },
    "tags": []
   },
   "source": [
    "- String: concatenation with `+`\n",
    "- Bool: `and`, `or`, `not`\n",
    "- Numerical data: `+`, `-`, `*`, `/`, `%`, `**`, built-in functions `abs`, ...\n",
    "- Order of execution:\n",
    "    1. `()`\n",
    "    2. `**`\n",
    "    3. `*`, `/`\n",
    "    4. `+`, `-`\n",
    "    5. Left-to-right (except exponentiation!)\n",
    "\n",
    "So, use parenthesis to make sure!"
   ]
  },
  {
   "cell_type": "markdown",
   "id": "e47a92b4-b791-4a1e-a81f-b73e97eb19ef",
   "metadata": {
    "editable": true,
    "jp-MarkdownHeadingCollapsed": true,
    "slideshow": {
     "slide_type": "slide"
    },
    "tags": []
   },
   "source": [
    "## Comments (and documentation)\n",
    "Anything following the `#` character on a line is ignored by Python interpreter and becomes a comment. Comments are useful to document the code."
   ]
  },
  {
   "cell_type": "code",
   "execution_count": null,
   "id": "f9b4a639-5dd5-4ee5-a20c-b95bd0e62bed",
   "metadata": {
    "editable": true,
    "slideshow": {
     "slide_type": ""
    },
    "tags": []
   },
   "outputs": [],
   "source": [
    "# This is my programme to demonstrate how to\n",
    "# do simple calculations in Python.\n",
    "\n",
    "my_number = 2\n",
    "\n",
    "my_other_number = my_number + 5\n",
    "\n",
    "my_number = my_other_number / 2 # I have to divide\n",
    "                                # by 2 here, as the\n",
    "                                # results are\n",
    "                                # otherwise rubbish\n",
    "\n",
    "print(my_number)"
   ]
  },
  {
   "cell_type": "markdown",
   "id": "b653ac34-54c7-4033-998b-ad4ac40d355a",
   "metadata": {
    "@deathbeds/jupyterlab-fonts": {
     "styles": {
      "": {
       "body[data-jp-deck-mode='presenting'] &": {
        "zoom": null
       }
      }
     }
    },
    "editable": true,
    "jp-MarkdownHeadingCollapsed": true,
    "slideshow": {
     "slide_type": "slide"
    },
    "tags": []
   },
   "source": [
    "## Debugging and types of errors"
   ]
  },
  {
   "cell_type": "markdown",
   "id": "f1c525db-f88f-4dc3-bb67-6b8014dc6cfa",
   "metadata": {},
   "source": [
    "- Errors in computer programs are called ``bugs'' for historic reasons.\n",
    "- For complex projects, you will usually spend more time testing and debugging than writing code.\n",
    "- Three types of errors:\n",
    "    - Syntax errors - written the code wrongly\n",
    "    - Semantic errors - written the wrong code\n",
    "    - Runtime errors - something's wrong with the code (during execution)"
   ]
  },
  {
   "cell_type": "markdown",
   "id": "0acb73f6-fbfa-430d-bb59-9d6fa460e814",
   "metadata": {
    "editable": true,
    "jp-MarkdownHeadingCollapsed": true,
    "slideshow": {
     "slide_type": "slide"
    },
    "tags": []
   },
   "source": [
    "## Have a play!"
   ]
  },
  {
   "cell_type": "markdown",
   "id": "7776d84b-d435-43c0-a42b-65ac111b8c51",
   "metadata": {
    "editable": true,
    "slideshow": {
     "slide_type": ""
    },
    "tags": []
   },
   "source": [
    "You could try\n",
    " - what happens if you add a float and an integer,\n",
    " - what happens if you mix numbers and bools in arithmetic expressions,\n",
    " - how setting parenthesis changes the result of a large arithmetic expression,\n",
    " - to print statements that include variables of different data types,\n",
    " - try to reproduce each of the error types,\n",
    " - ..."
   ]
  },
  {
   "cell_type": "markdown",
   "id": "5422c1a3-d823-46fe-970c-b5df70c42125",
   "metadata": {
    "jp-MarkdownHeadingCollapsed": true
   },
   "source": [
    "### _Example_\n",
    "What happens if you add a float and an integer?"
   ]
  },
  {
   "cell_type": "code",
   "execution_count": null,
   "id": "ef76a990-2d52-4c6b-b78b-b9eea0d333bd",
   "metadata": {
    "editable": true,
    "slideshow": {
     "slide_type": ""
    },
    "tags": []
   },
   "outputs": [],
   "source": []
  },
  {
   "cell_type": "markdown",
   "id": "2d2f1b27-4165-473d-9c23-c2dee1ad5e21",
   "metadata": {
    "editable": true,
    "jp-MarkdownHeadingCollapsed": true,
    "raw_mimetype": "",
    "slideshow": {
     "slide_type": "slide"
    },
    "tags": []
   },
   "source": [
    "### _Example_\n",
    "What happens if you mix numbers and bools in arithmetic expressions?"
   ]
  },
  {
   "cell_type": "code",
   "execution_count": null,
   "id": "c8a2d063-e886-44fb-b252-3c6a9669218f",
   "metadata": {
    "editable": true,
    "slideshow": {
     "slide_type": ""
    },
    "tags": []
   },
   "outputs": [],
   "source": []
  },
  {
   "cell_type": "markdown",
   "id": "f0ddd221-6e34-4e21-8de8-ff6b8b640c8c",
   "metadata": {
    "editable": true,
    "jp-MarkdownHeadingCollapsed": true,
    "slideshow": {
     "slide_type": "slide"
    },
    "tags": []
   },
   "source": [
    "### _Example_\n",
    "How setting parenthesis changes the result of a large arithmetic expression?"
   ]
  },
  {
   "cell_type": "code",
   "execution_count": null,
   "id": "dfc0cad7-65e0-447d-a8d0-7736d1e8ab05",
   "metadata": {
    "editable": true,
    "slideshow": {
     "slide_type": ""
    },
    "tags": []
   },
   "outputs": [],
   "source": []
  },
  {
   "cell_type": "markdown",
   "id": "a679797c-d1d8-4435-bdab-0eab6fb14224",
   "metadata": {
    "editable": true,
    "jp-MarkdownHeadingCollapsed": true,
    "slideshow": {
     "slide_type": "slide"
    },
    "tags": []
   },
   "source": [
    "### _Example_\n",
    "Print statements that include variables of different data types."
   ]
  },
  {
   "cell_type": "code",
   "execution_count": null,
   "id": "a5606737-142f-4f73-a8fc-5add98689926",
   "metadata": {
    "collapsed": true,
    "editable": true,
    "jupyter": {
     "outputs_hidden": true,
     "source_hidden": true
    },
    "slideshow": {
     "slide_type": ""
    },
    "tags": []
   },
   "outputs": [],
   "source": []
  },
  {
   "cell_type": "markdown",
   "id": "3d6aa469-1847-4eb7-9125-cbef8a9dff69",
   "metadata": {
    "editable": true,
    "jp-MarkdownHeadingCollapsed": true,
    "slideshow": {
     "slide_type": "slide"
    },
    "tags": []
   },
   "source": [
    "### Examples\n",
    "Try to reproduce each of the error types"
   ]
  },
  {
   "cell_type": "markdown",
   "id": "bfd3b830-4edc-4394-951b-7de378d25314",
   "metadata": {},
   "source": [
    "#### 1. Syntax Error"
   ]
  },
  {
   "cell_type": "code",
   "execution_count": null,
   "id": "c71f14c6-50bd-42f5-9fef-59c1dd3c8f50",
   "metadata": {
    "editable": true,
    "slideshow": {
     "slide_type": ""
    },
    "tags": []
   },
   "outputs": [],
   "source": []
  },
  {
   "cell_type": "markdown",
   "id": "086e0aa2-f175-4a3d-816a-f0aa079e8576",
   "metadata": {
    "editable": true,
    "slideshow": {
     "slide_type": "slide"
    },
    "tags": []
   },
   "source": [
    "#### 2. Semantic Error"
   ]
  },
  {
   "cell_type": "code",
   "execution_count": null,
   "id": "2ea2c2ca-ac75-48df-8264-2e5d5e066db9",
   "metadata": {
    "collapsed": true,
    "editable": true,
    "jupyter": {
     "outputs_hidden": true,
     "source_hidden": true
    },
    "slideshow": {
     "slide_type": ""
    },
    "tags": []
   },
   "outputs": [],
   "source": []
  },
  {
   "cell_type": "markdown",
   "id": "ff357b54-bcf8-4d4c-bea2-bf6c71ea6ac7",
   "metadata": {
    "editable": true,
    "slideshow": {
     "slide_type": "slide"
    },
    "tags": []
   },
   "source": [
    "#### 3. Runtime Error"
   ]
  },
  {
   "cell_type": "code",
   "execution_count": null,
   "id": "f4c4dfce-cfe0-48c5-9594-165915232c90",
   "metadata": {
    "collapsed": true,
    "editable": true,
    "jupyter": {
     "outputs_hidden": true,
     "source_hidden": true
    },
    "slideshow": {
     "slide_type": ""
    },
    "tags": []
   },
   "outputs": [],
   "source": []
  },
  {
   "cell_type": "markdown",
   "id": "b36e0957-233a-4cc7-877c-521a9738ab14",
   "metadata": {
    "editable": true,
    "jp-MarkdownHeadingCollapsed": true,
    "slideshow": {
     "slide_type": "slide"
    },
    "tags": []
   },
   "source": [
    "# <ins>2.</ins> Getting data in and out"
   ]
  },
  {
   "cell_type": "markdown",
   "id": "5c40df8e-532b-408d-985f-198ef2e60e9b",
   "metadata": {
    "slideshow": {
     "slide_type": "notes"
    },
    "tags": []
   },
   "source": [
    "Now that we have covered the basics, let's move on to the next level. I expect that most of you are interested in processing data in one way or the other. Most times, we do not want to explicitly write our data into our code, which is also called \"hardcoding\", and has a bad reputation.\n",
    "\n",
    "Instead, we want to be able to provide data during runtime, and have a general program that is able to process the data.\n",
    "\n",
    "How then do we get the data in and out of our program?"
   ]
  },
  {
   "cell_type": "markdown",
   "id": "e68f4e7d-eed9-4ed6-8165-e3c0d685cf17",
   "metadata": {
    "editable": true,
    "jp-MarkdownHeadingCollapsed": true,
    "slideshow": {
     "slide_type": "slide"
    },
    "tags": []
   },
   "source": [
    "## User input\n",
    "The `print` function enables a Python program to display textual information to the user. The `input` function maybe used to obtain information from the user."
   ]
  },
  {
   "cell_type": "code",
   "execution_count": null,
   "id": "1de7bf5e-94d3-446f-b594-0f8f9c51049c",
   "metadata": {
    "editable": true,
    "slideshow": {
     "slide_type": ""
    },
    "tags": []
   },
   "outputs": [],
   "source": [
    "# Get some user input\n",
    "\n",
    "# print it\n",
    "\n",
    "# check the type of the input"
   ]
  },
  {
   "cell_type": "code",
   "execution_count": null,
   "id": "b64d8946-089d-415f-b800-b6584c02f4fb",
   "metadata": {
    "editable": true,
    "slideshow": {
     "slide_type": ""
    },
    "tags": []
   },
   "outputs": [],
   "source": [
    "# Implement a greeting function with user input\n"
   ]
  },
  {
   "cell_type": "markdown",
   "id": "fc8763fe-118d-4198-91b2-51bfc73ea862",
   "metadata": {
    "editable": true,
    "jp-MarkdownHeadingCollapsed": true,
    "slideshow": {
     "slide_type": "slide"
    },
    "tags": []
   },
   "source": [
    "## Reading and writing files"
   ]
  },
  {
   "cell_type": "markdown",
   "id": "783809ff-f4d6-4271-9cd4-253454b091a4",
   "metadata": {
    "editable": true,
    "slideshow": {
     "slide_type": "fragment"
    },
    "tags": []
   },
   "source": [
    "```python\n",
    "# Create a file object\n",
    "with open(\"testfile.txt\", 'w') as my_file:\n",
    "    ...\n",
    "```\n",
    "Two things to note here:\n",
    " - My object `my_file` is different from my file `\"testfile.txt\"`!\n",
    " - There are different modes:\n",
    "     - read: `'r'`\n",
    "     - (over-)write: `'w'`\n",
    "     - append: `'a'`\n",
    "     - read+write: `'w+'` or `'r+'`"
   ]
  },
  {
   "cell_type": "markdown",
   "id": "dbc5a0c2-e0e1-4f7e-b5f3-678f137c33d8",
   "metadata": {
    "editable": true,
    "jp-MarkdownHeadingCollapsed": true,
    "slideshow": {
     "slide_type": "slide"
    },
    "tags": []
   },
   "source": [
    "### Writing files and formatting strings (C-style)"
   ]
  },
  {
   "cell_type": "code",
   "execution_count": null,
   "id": "9efd84bc-1c19-4593-ba98-d3d16d9fa8d0",
   "metadata": {
    "editable": true,
    "slideshow": {
     "slide_type": ""
    },
    "tags": []
   },
   "outputs": [],
   "source": [
    "with open(\"testfile.txt\", \"w\") as my_file:\n",
    "    # Write - note special characters!\n",
    "    my_file.write(\"This is some text. \\n And some more.\")\n",
    "    my_file.write(\"\\n\\nI can also add numbers like this: %d %d \\n\" %(22, 333))\n",
    "\n",
    "    my_file.write(str(222))"
   ]
  },
  {
   "cell_type": "markdown",
   "id": "c8261770-70c9-43f2-8b0e-3a0ef6d70554",
   "metadata": {
    "editable": true,
    "slideshow": {
     "slide_type": ""
    },
    "tags": []
   },
   "source": [
    "see also [https://www.learnpython.org/en/String\\_Formatting](https://www.learnpython.org/en/String_Formatting)"
   ]
  },
  {
   "cell_type": "markdown",
   "id": "a37e8bed-eb3d-4277-bda8-de3f042e3f04",
   "metadata": {
    "editable": true,
    "jp-MarkdownHeadingCollapsed": true,
    "slideshow": {
     "slide_type": "slide"
    },
    "tags": []
   },
   "source": [
    "### Writing files (f-strings)"
   ]
  },
  {
   "cell_type": "code",
   "execution_count": null,
   "id": "97f98699-4066-4187-8abc-fea39997f64c",
   "metadata": {
    "editable": true,
    "slideshow": {
     "slide_type": ""
    },
    "tags": []
   },
   "outputs": [],
   "source": [
    "number1 = 44\n",
    "number2 = 111\n",
    "\n",
    "with open(\"testfile.txt\", \"a\") as my_file:\n",
    "    # Append to the opened file\n",
    "    my_file.write(f\"\\n I have opened the same file again.\\n More numbers: {number1} {number2}.\")"
   ]
  },
  {
   "cell_type": "markdown",
   "id": "9a5a0165-3517-4cc3-b78f-c8a922aa41ca",
   "metadata": {
    "editable": true,
    "slideshow": {
     "slide_type": ""
    },
    "tags": []
   },
   "source": [
    "see also [f-strings](https://realpython.com/python-f-strings/)"
   ]
  },
  {
   "cell_type": "markdown",
   "id": "75a8bbb2-bd8b-4078-9291-8d04e176980f",
   "metadata": {
    "editable": true,
    "jp-MarkdownHeadingCollapsed": true,
    "slideshow": {
     "slide_type": "slide"
    },
    "tags": []
   },
   "source": [
    "### Reading files"
   ]
  },
  {
   "cell_type": "code",
   "execution_count": null,
   "id": "2f0b4c54-dcd1-4067-b142-ec046a61ac84",
   "metadata": {
    "editable": true,
    "slideshow": {
     "slide_type": ""
    },
    "tags": []
   },
   "outputs": [],
   "source": [
    "with open(\"testfile.txt\", \"r\") as my_file:\n",
    "    # Read it and print it to screen\n",
    "    print(my_file.read())\n",
    "\n",
    "    # Try this:\n",
    "    #print(my_file.read(7))\n",
    "    #print(my_file.readline())\n",
    "    #print(my_file.readlines())\n"
   ]
  },
  {
   "cell_type": "markdown",
   "id": "f4c69291-187d-4867-8cf5-f403f1a42fcf",
   "metadata": {
    "slideshow": {
     "slide_type": "slide"
    }
   },
   "source": [
    "### _Exercise_:\n",
    "Create a dictionary describing a person and increase age and height from the starting values"
   ]
  },
  {
   "cell_type": "code",
   "execution_count": null,
   "id": "b2e29532",
   "metadata": {},
   "outputs": [],
   "source": []
  },
  {
   "cell_type": "markdown",
   "id": "94f73967-41b5-4059-91a0-ca9a2b1946a3",
   "metadata": {
    "jp-MarkdownHeadingCollapsed": true
   },
   "source": [
    "# [TBD] <ins>**Part II**</ins>"
   ]
  },
  {
   "cell_type": "markdown",
   "id": "c2aa323f-e080-48ff-915e-78e1475b34a1",
   "metadata": {
    "jp-MarkdownHeadingCollapsed": true
   },
   "source": [
    "# <ins>3.</ins> Data structures\n",
    "Python can work not only with basic data types mentioned before, but also with compound ones. Among the most commonly used are _lists_ and _dictionaries_."
   ]
  },
  {
   "cell_type": "markdown",
   "id": "3b0706ae-20e0-4134-8f8c-84836be57c3f",
   "metadata": {
    "editable": true,
    "jp-MarkdownHeadingCollapsed": true,
    "slideshow": {
     "slide_type": "slide"
    },
    "tags": []
   },
   "source": [
    "## Lists\n",
    "_Lists_ are ordered collections of items."
   ]
  },
  {
   "cell_type": "code",
   "execution_count": null,
   "id": "e405910a-20cf-4abe-8518-53f678df6237",
   "metadata": {
    "collapsed": true,
    "editable": true,
    "jupyter": {
     "outputs_hidden": true
    },
    "slideshow": {
     "slide_type": ""
    },
    "tags": []
   },
   "outputs": [],
   "source": [
    "my_list = [1, 2, 3, 4, 5] # A list!\n",
    "print(my_list)"
   ]
  },
  {
   "cell_type": "code",
   "execution_count": null,
   "id": "8a9428f2-ef3e-4341-8edc-41c5375a3530",
   "metadata": {
    "collapsed": true,
    "editable": true,
    "jupyter": {
     "outputs_hidden": true,
     "source_hidden": true
    },
    "slideshow": {
     "slide_type": ""
    },
    "tags": []
   },
   "outputs": [],
   "source": [
    "print(my_list[3])   # Note: [] not ()"
   ]
  },
  {
   "cell_type": "code",
   "execution_count": null,
   "id": "303f03e3-058c-4526-b61e-f18fedf3fbd9",
   "metadata": {
    "collapsed": true,
    "editable": true,
    "jupyter": {
     "outputs_hidden": true,
     "source_hidden": true
    },
    "slideshow": {
     "slide_type": ""
    },
    "tags": []
   },
   "outputs": [],
   "source": [
    "print(my_list[0])   # Start with 0!"
   ]
  },
  {
   "cell_type": "code",
   "execution_count": null,
   "id": "452ea0d9-68c9-4dae-9642-23e8970e1c1a",
   "metadata": {
    "collapsed": true,
    "editable": true,
    "jupyter": {
     "outputs_hidden": true,
     "source_hidden": true
    },
    "slideshow": {
     "slide_type": ""
    },
    "tags": []
   },
   "outputs": [],
   "source": [
    "print(my_list[-1])  # Go backwards"
   ]
  },
  {
   "cell_type": "code",
   "execution_count": null,
   "id": "087b87a8-5fc7-4d48-9a8b-0a29e9acab5f",
   "metadata": {
    "collapsed": true,
    "editable": true,
    "jupyter": {
     "outputs_hidden": true,
     "source_hidden": true
    },
    "slideshow": {
     "slide_type": ""
    },
    "tags": []
   },
   "outputs": [],
   "source": [
    "print(my_list[1:4]) # Include first, exclude last"
   ]
  },
  {
   "cell_type": "code",
   "execution_count": null,
   "id": "1dc90bad-f3bf-4721-915a-cabf76a41eab",
   "metadata": {
    "collapsed": true,
    "editable": true,
    "jupyter": {
     "outputs_hidden": true,
     "source_hidden": true
    },
    "slideshow": {
     "slide_type": ""
    },
    "tags": []
   },
   "outputs": [],
   "source": [
    "print(my_list[:2])  # More slicing"
   ]
  },
  {
   "cell_type": "markdown",
   "id": "fc5d7015-751a-4666-abc7-35f27e474e63",
   "metadata": {
    "editable": true,
    "jp-MarkdownHeadingCollapsed": true,
    "slideshow": {
     "slide_type": "slide"
    },
    "tags": []
   },
   "source": [
    "## Dictionaries\n",
    "Key value pairs are encoded in _dictionaries_"
   ]
  },
  {
   "cell_type": "markdown",
   "id": "1a997409-e9a0-43bb-b79b-e2e58ad03f41",
   "metadata": {
    "slideshow": {
     "slide_type": null
    }
   },
   "source": [
    " - dicts are like labelled drawers\n",
    "    - the label of the drawer is called a key.\n",
    "    - however dictionaries are \"kind of\" unordered.\n",
    "    - the content of that drawer is called the value.\n",
    "The syntax is ``{key: value}``.\n"
   ]
  },
  {
   "cell_type": "code",
   "execution_count": null,
   "id": "93e31811-cae8-4f4e-9acb-fa705fe0eb2b",
   "metadata": {
    "collapsed": true,
    "jupyter": {
     "outputs_hidden": true
    }
   },
   "outputs": [],
   "source": [
    "my_dict = {'temperature_k': 298.5, 'pressure': 1.015}\n",
    "my_dict"
   ]
  },
  {
   "cell_type": "code",
   "execution_count": null,
   "id": "8bb50959-a404-4c60-8e69-f060d8d2cbb0",
   "metadata": {
    "collapsed": true,
    "jupyter": {
     "outputs_hidden": true,
     "source_hidden": true
    }
   },
   "outputs": [],
   "source": [
    "my_dict['volume'] = 100.0"
   ]
  },
  {
   "cell_type": "code",
   "execution_count": null,
   "id": "dc514c9e-fe92-4617-97bb-18d214028801",
   "metadata": {
    "collapsed": true,
    "jupyter": {
     "outputs_hidden": true,
     "source_hidden": true
    }
   },
   "outputs": [],
   "source": [
    "my_dict"
   ]
  },
  {
   "cell_type": "markdown",
   "id": "afb12c48-3102-498d-9b97-7dd9ff5f4da0",
   "metadata": {
    "editable": true,
    "jp-MarkdownHeadingCollapsed": true,
    "slideshow": {
     "slide_type": "slide"
    },
    "tags": []
   },
   "source": [
    "## Have a Play!"
   ]
  },
  {
   "cell_type": "markdown",
   "id": "fe8686a2-0dd6-479c-8c13-089e07c3302a",
   "metadata": {
    "editable": true,
    "jp-MarkdownHeadingCollapsed": true,
    "slideshow": {
     "slide_type": ""
    },
    "tags": []
   },
   "source": [
    "[https://www.w3schools.com/python/python_lists.asp](https://www.w3schools.com/python/python_lists.asp)"
   ]
  },
  {
   "cell_type": "markdown",
   "id": "96480748-2972-45c7-9948-3551bf2cdddc",
   "metadata": {
    "jp-MarkdownHeadingCollapsed": true
   },
   "source": [
    "### _Exercise:_\n",
    "Create a dictionary describing a person and increase age and height from the starting values"
   ]
  },
  {
   "cell_type": "code",
   "execution_count": null,
   "id": "519e933f-eb96-4822-a0e0-eb2d0457ae87",
   "metadata": {},
   "outputs": [],
   "source": []
  },
  {
   "cell_type": "markdown",
   "id": "415ea078-ae49-4f0b-8c3d-2332c9dacdcd",
   "metadata": {},
   "source": [
    "# [TBD] <ins>4.</ins> Repetitions and conditions"
   ]
  },
  {
   "cell_type": "markdown",
   "id": "ebddc321-b5cf-44a4-8e65-74ba51c860c3",
   "metadata": {
    "jp-MarkdownHeadingCollapsed": true
   },
   "source": [
    "# [TBD] <ins>5.</ins> Functions"
   ]
  },
  {
   "cell_type": "code",
   "execution_count": null,
   "id": "2078931a-5524-4c66-ba8d-da0b3774a312",
   "metadata": {},
   "outputs": [],
   "source": []
  }
 ],
 "metadata": {
  "@deathbeds/jupyterlab-fonts": {
   "fontLicenses": {},
   "fonts": {},
   "styles": {
    ":root": {}
   }
  },
  "kernelspec": {
   "display_name": "Python 3 (ipykernel)",
   "language": "python",
   "name": "python3"
  },
  "language_info": {
   "codemirror_mode": {
    "name": "ipython",
    "version": 3
   },
   "file_extension": ".py",
   "mimetype": "text/x-python",
   "name": "python",
   "nbconvert_exporter": "python",
   "pygments_lexer": "ipython3",
   "version": "3.10.12"
  }
 },
 "nbformat": 4,
 "nbformat_minor": 5
}
