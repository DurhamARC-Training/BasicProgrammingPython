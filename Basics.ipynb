{
 "cells": [
  {
   "cell_type": "markdown",
   "id": "95416ef0",
   "metadata": {
    "slideshow": {
     "slide_type": "slide"
    }
   },
   "source": [
    "ARC course \"Learning to programme with Python\" (beginner level)\n",
    "===============================================================\n",
    "![icons8-python-48.png](images/icons8-python-48.png)"
   ]
  },
  {
   "cell_type": "markdown",
   "id": "9bd31ae1",
   "metadata": {
    "slideshow": {
     "slide_type": ""
    }
   },
   "source": [
    "Welcome to our ARC course \"Learning to programme with Python\".\n",
    "\n",
    "Some general information on how the course will run:\n",
    "\n",
    "* The course will run from 09:00 to 12:30. We plan a coffee break between 2 parts at around 10:45 for ~10-15 min.\n",
    "\n",
    "* The material does not expect any prior programming experience.\n",
    "\n",
    "* Each topic will be presented wih code demonstrations followed by practical exercises.\n",
    "\n",
    "* We are happy to answer any questions during the course and to help during the exercises.\n",
    "\n",
    "Enjoy learning Python!"
   ]
  },
  {
   "cell_type": "markdown",
   "id": "cb780f36",
   "metadata": {
    "slideshow": {
     "slide_type": "slide"
    }
   },
   "source": [
    "## Set up your Python environment"
   ]
  },
  {
   "cell_type": "markdown",
   "id": "07fc3dea",
   "metadata": {
    "lines_to_next_cell": 2,
    "slideshow": {
     "slide_type": ""
    }
   },
   "source": [
    "<ins>Preferred</ins>: Jupyter Notebook server or Jupyter Lab as a local Python environment installed on your laptops (hopefully, you've already received a welcome email with installation instructions).\n",
    "\n",
    "There is a Python script which downloads everything (including the filled notebook) as a ZIP archive and extracts the content to a folder:\n",
    "\n",
    "Open a console by clicking on the `New` button on the top right and selecting `Terminal`. Then execute the two commands sent to you via e-mail this morning.\n",
    "\n",
    "```bash\n",
    "wget https://raw.githubusercontent.com/DurhamARC-Training/BasicProgrammingPython/refs/heads/main/pull_files_from_repo_basic.py\n",
    "python pull_files_from_repo_basic.py\n",
    "```\n",
    "\n",
    "This will automatically\n",
    "\n",
    "a. Download the pull_files_from_repo_basic.py file and put it into your environment.\n",
    "\n",
    "b. Execute python pull_files_from_repo_basic.py in the folder.\n",
    "\n",
    "<ins>Other</ins>: Google Colab (https://colab.research.google.com).\n",
    "\n",
    "1. Go to [https://colab.research.google.com/](https://colab.research.google.com/) and log in with your google account\n",
    "2. Click `File` on the top left and select `Open Notebook`, then go to GitHub\n",
    "3. Copy in the link to the repository [https://github.com/DurhamARC-Training/BasicProgrammingPython/](https://github.com/DurhamARC-Training/BasicProgrammingPython/)\n",
    "4. Select the `Basics.ipynb`"
   ]
  },
  {
   "cell_type": "markdown",
   "id": "de484ba9",
   "metadata": {
    "slideshow": {
     "slide_type": "slide"
    }
   },
   "source": [
    "# <ins>0.</ins> Introduction"
   ]
  },
  {
   "cell_type": "markdown",
   "id": "3393503e",
   "metadata": {
    "slideshow": {
     "slide_type": "slide"
    }
   },
   "source": [
    "## Course objectives"
   ]
  },
  {
   "cell_type": "markdown",
   "id": "f4776e7d",
   "metadata": {
    "lines_to_next_cell": 0,
    "slideshow": {
     "slide_type": ""
    }
   },
   "source": [
    "By the end of this course you should know:\n",
    " - how a basic computer program is written and executed,\n",
    " - what basic data types and control statements are,\n",
    " - how to get and process user input and data,\n",
    " - how to structure your code using functions,\n",
    " - what can lead to your program not working, and what to do about it,\n",
    " - where to find further resources to practice your Python programming."
   ]
  },
  {
   "cell_type": "markdown",
   "id": "769d8f47",
   "metadata": {},
   "source": [
    "\n"
   ]
  },
  {
   "cell_type": "markdown",
   "id": "3bb2372a",
   "metadata": {
    "slideshow": {
     "slide_type": "slide"
    }
   },
   "source": [
    "## Useful resources"
   ]
  },
  {
   "cell_type": "markdown",
   "id": "3d61cd19",
   "metadata": {
    "lines_to_next_cell": 0,
    "slideshow": {
     "slide_type": ""
    }
   },
   "source": [
    "#### Materials used and recommended:\n",
    " - [Python Wiki - Python for Non-Programmers](https://wiki.python.org/moin/BeginnersGuide/NonProgrammers)\n",
    " - [How to think like a Computer Scientist](http://openbookproject.net/thinkcs/python/english3e/index.html)\n",
    " - [A Whirlwind Tour of Python](https://jakevdp.github.io/WhirlwindTourOfPython)\n",
    " - [Software Carpentry - Programming with Python](https://swcarpentry.github.io/python-novice-inflammation/index.html)"
   ]
  },
  {
   "cell_type": "markdown",
   "id": "706f5460",
   "metadata": {},
   "source": [
    "\n",
    "\n",
    "\n"
   ]
  },
  {
   "cell_type": "markdown",
   "id": "95e554c4",
   "metadata": {
    "slideshow": {
     "slide_type": "slide"
    }
   },
   "source": [
    "## Programming crash course"
   ]
  },
  {
   "cell_type": "markdown",
   "id": "815a1f5f",
   "metadata": {
    "slideshow": {
     "slide_type": "slide"
    }
   },
   "source": [
    "### Programming means: make the computer do the work for you!"
   ]
  },
  {
   "cell_type": "markdown",
   "id": "ebff0f0d",
   "metadata": {
    "slideshow": {
     "slide_type": ""
    }
   },
   "source": [
    " - Do the maths\n",
    " - Boring repetitions\n",
    " - Too complicated/extensive tasks\n",
    " - Big data sets \n",
    " - Make your analysis reproducible\n",
    " -  ..."
   ]
  },
  {
   "cell_type": "markdown",
   "id": "5387fdc4",
   "metadata": {
    "slideshow": {
     "slide_type": "slide"
    }
   },
   "source": [
    "### Running code in a compiled language (such as C)"
   ]
  },
  {
   "cell_type": "markdown",
   "id": "40af4d20",
   "metadata": {},
   "source": [
    "1. Write your code in a high-level programming language.\n",
    "2. Translate into low-level (machine/assembly) language.\n",
    "3. Execute the program.\n",
    "\n"
   ]
  },
  {
   "cell_type": "markdown",
   "id": "6e3569b7",
   "metadata": {
    "slideshow": {
     "slide_type": "slide"
    }
   },
   "source": [
    "### Running code in an interpreted language (such as Python)"
   ]
  },
  {
   "cell_type": "markdown",
   "id": "25ea8390",
   "metadata": {
    "lines_to_next_cell": 0,
    "slideshow": {
     "slide_type": ""
    }
   },
   "source": [
    "1. Write your code in high-level programming language.\n",
    "2. Interpret code and execute directly"
   ]
  },
  {
   "cell_type": "markdown",
   "id": "218f91a6",
   "metadata": {},
   "source": [
    "\n"
   ]
  },
  {
   "cell_type": "markdown",
   "id": "1fcecf59",
   "metadata": {
    "slideshow": {
     "slide_type": "slide"
    }
   },
   "source": [
    "### Python can be executed in different ways\n",
    "#### Command line script"
   ]
  },
  {
   "cell_type": "markdown",
   "id": "026e4e5f",
   "metadata": {
    "lines_to_next_cell": 2,
    "slideshow": {
     "slide_type": ""
    }
   },
   "source": [
    "1. Create a `myname.py` file\n",
    "2. run python `myname.py`"
   ]
  },
  {
   "cell_type": "markdown",
   "id": "ebda09a1",
   "metadata": {
    "slideshow": {
     "slide_type": "slide"
    }
   },
   "source": [
    "### Demonstration of using _Jupyter_ notebook"
   ]
  },
  {
   "cell_type": "markdown",
   "id": "06c41d32",
   "metadata": {
    "slideshow": {
     "slide_type": ""
    }
   },
   "source": [
    "Jupyter works with cells such as these, which you execute with the play button or `Shift/Ctrl + Enter`:"
   ]
  },
  {
   "cell_type": "markdown",
   "id": "fc378ab1",
   "metadata": {
    "lines_to_next_cell": 0
   },
   "source": [
    "<!-- #solution -->"
   ]
  },
  {
   "cell_type": "code",
   "execution_count": null,
   "id": "d072c2af",
   "metadata": {
    "lines_to_next_cell": 0,
    "slideshow": {
     "slide_type": ""
    }
   },
   "outputs": [],
   "source": [
    "# Add just a one to the cell and execute"
   ]
  },
  {
   "cell_type": "markdown",
   "id": "3022fb96",
   "metadata": {},
   "source": [
    "<!-- #endsolution -->"
   ]
  },
  {
   "cell_type": "markdown",
   "id": "66ac2126",
   "metadata": {
    "slideshow": {
     "slide_type": ""
    }
   },
   "source": [
    "If the box on the left is empty, you have not executed it. Otherwise a number indicates in which order the execution took place.\n",
    "\n",
    "You can add cells with the plus. You can also change the type"
   ]
  },
  {
   "cell_type": "markdown",
   "id": "56888490",
   "metadata": {
    "lines_to_next_cell": 0,
    "slideshow": {
     "slide_type": ""
    }
   },
   "source": [
    "##### Now it is markdown and the `#` indicates a header (or `##`, etc., up to 6 times, with smaller font sizes)"
   ]
  },
  {
   "cell_type": "markdown",
   "id": "44d42e66",
   "metadata": {},
   "source": [
    "\n"
   ]
  },
  {
   "cell_type": "markdown",
   "id": "1ccf4c16",
   "metadata": {
    "slideshow": {
     "slide_type": "slide"
    }
   },
   "source": [
    "# <ins>**Part I**</ins>"
   ]
  },
  {
   "cell_type": "markdown",
   "id": "eabb87d1",
   "metadata": {
    "lines_to_next_cell": 2,
    "slideshow": {
     "slide_type": "slide"
    }
   },
   "source": [
    "# <ins>1.</ins> Basics"
   ]
  },
  {
   "cell_type": "markdown",
   "id": "d560b757",
   "metadata": {
    "slideshow": {
     "slide_type": "slide"
    }
   },
   "source": [
    "## Basic data types\n",
    "As any programming language, Python can deal with many different data types. Among the basic ones are `str` strings, `int` integers, `float` floating-point numbers and `bool` booleans."
   ]
  },
  {
   "cell_type": "markdown",
   "id": "3c1b8ca2",
   "metadata": {
    "lines_to_next_cell": 0,
    "slideshow": {
     "slide_type": ""
    }
   },
   "source": [
    "- Strings: \"Heinz\", 'Banana', 'He said \"Hello\"'\n",
    "- Integers: 1, 2, 3, 22222222, -777\n",
    "- Floats: -1.2, 0.0, 2.7182\n",
    "- Booleans: True, False"
   ]
  },
  {
   "cell_type": "markdown",
   "id": "f97e2998",
   "metadata": {},
   "source": [
    "\n"
   ]
  },
  {
   "cell_type": "markdown",
   "id": "8f062034",
   "metadata": {
    "slideshow": {
     "slide_type": "slide"
    }
   },
   "source": [
    "## Variables\n",
    "Values are stored in _variables_, which are of data types listed above or more complex ones."
   ]
  },
  {
   "cell_type": "markdown",
   "id": "82709ee6",
   "metadata": {
    "lines_to_next_cell": 0,
    "slideshow": {
     "slide_type": ""
    }
   },
   "source": [
    "- “I reserve a space in memory for my data bit, and I call it \n",
    "by the name x\n",
    "- Syntax: name = value”"
   ]
  },
  {
   "cell_type": "markdown",
   "id": "656ce85e",
   "metadata": {},
   "source": [
    "\n"
   ]
  },
  {
   "cell_type": "markdown",
   "id": "653797de",
   "metadata": {
    "slideshow": {
     "slide_type": "slide"
    }
   },
   "source": [
    "### _<ins>Example</ins>:_ Print type of a variable"
   ]
  },
  {
   "cell_type": "markdown",
   "id": "c1ab22a3",
   "metadata": {
    "lines_to_next_cell": 0
   },
   "source": [
    "<!-- #solution -->"
   ]
  },
  {
   "cell_type": "code",
   "execution_count": null,
   "id": "9fa4a170",
   "metadata": {
    "lines_to_next_cell": 0,
    "slideshow": {
     "slide_type": ""
    }
   },
   "outputs": [],
   "source": [
    "# print statement \"Hello\""
   ]
  },
  {
   "cell_type": "markdown",
   "id": "d6ff07b5",
   "metadata": {
    "lines_to_next_cell": 0
   },
   "source": [
    "<!-- #endsolution -->\n",
    "\n",
    "<!-- #solution -->"
   ]
  },
  {
   "cell_type": "code",
   "execution_count": null,
   "id": "802e56aa",
   "metadata": {
    "lines_to_next_cell": 0,
    "slideshow": {
     "slide_type": ""
    }
   },
   "outputs": [],
   "source": [
    "# put the content of the print statement in a variable"
   ]
  },
  {
   "cell_type": "markdown",
   "id": "b20a898a",
   "metadata": {
    "lines_to_next_cell": 0
   },
   "source": [
    "<!-- #endsolution -->\n",
    "\n",
    "<!-- #solution -->"
   ]
  },
  {
   "cell_type": "code",
   "execution_count": null,
   "id": "f3945698",
   "metadata": {
    "lines_to_next_cell": 0,
    "slideshow": {
     "slide_type": ""
    }
   },
   "outputs": [],
   "source": [
    "# check the type of that variable"
   ]
  },
  {
   "cell_type": "markdown",
   "id": "f25f23ea",
   "metadata": {},
   "source": [
    "<!-- #endsolution -->\n",
    "\n"
   ]
  },
  {
   "cell_type": "markdown",
   "id": "4e53a2f9",
   "metadata": {
    "slideshow": {
     "slide_type": "slide"
    }
   },
   "source": [
    "### _<ins>Example</ins>:_ Try to assign the data types at the following qr code"
   ]
  },
  {
   "cell_type": "markdown",
   "id": "8127db7c",
   "metadata": {},
   "source": [
    "Try not to overthink. If something is ambiguous pick what fits best\n",
    "\n",
    "![QRCode](images/qr_question1.png)\n",
    "\n"
   ]
  },
  {
   "cell_type": "markdown",
   "id": "66811a8f",
   "metadata": {
    "slideshow": {
     "slide_type": "slide"
    }
   },
   "source": [
    "### _<ins>Example</ins>:_ Add integers"
   ]
  },
  {
   "cell_type": "markdown",
   "id": "c3278b79",
   "metadata": {
    "lines_to_next_cell": 0
   },
   "source": [
    "<!-- #solution -->"
   ]
  },
  {
   "cell_type": "code",
   "execution_count": null,
   "id": "92551efb",
   "metadata": {
    "lines_to_next_cell": 0,
    "slideshow": {
     "slide_type": ""
    }
   },
   "outputs": [],
   "source": [
    "# Adding two integers (2 and 5)"
   ]
  },
  {
   "cell_type": "markdown",
   "id": "e85d25d2",
   "metadata": {
    "lines_to_next_cell": 0
   },
   "source": [
    "<!-- #endsolution -->\n",
    "\n",
    "<!-- #solution -->"
   ]
  },
  {
   "cell_type": "code",
   "execution_count": null,
   "id": "9bd8a0f2",
   "metadata": {
    "lines_to_next_cell": 0,
    "slideshow": {
     "slide_type": ""
    }
   },
   "outputs": [],
   "source": [
    "# Adding integers to a string (\"2+5 = \") naively"
   ]
  },
  {
   "cell_type": "markdown",
   "id": "dc20e9b9",
   "metadata": {
    "lines_to_next_cell": 0
   },
   "source": [
    "<!-- #endsolution -->\n",
    "\n",
    "<!-- #solution -->"
   ]
  },
  {
   "cell_type": "code",
   "execution_count": null,
   "id": "87bef9ab",
   "metadata": {
    "lines_to_next_cell": 0,
    "slideshow": {
     "slide_type": ""
    }
   },
   "outputs": [],
   "source": [
    "# Solution: call the result into a string"
   ]
  },
  {
   "cell_type": "markdown",
   "id": "35b3837e",
   "metadata": {},
   "source": [
    "<!-- #endsolution -->\n",
    "\n"
   ]
  },
  {
   "cell_type": "markdown",
   "id": "95a23618",
   "metadata": {
    "slideshow": {
     "slide_type": "slide"
    }
   },
   "source": [
    "### _<ins>Example</ins>:_ Boolean type"
   ]
  },
  {
   "cell_type": "markdown",
   "id": "2eff8608",
   "metadata": {
    "lines_to_next_cell": 0
   },
   "source": [
    "<!-- #solution -->"
   ]
  },
  {
   "cell_type": "code",
   "execution_count": null,
   "id": "7ad6a9c4",
   "metadata": {
    "lines_to_next_cell": 0,
    "slideshow": {
     "slide_type": ""
    }
   },
   "outputs": [],
   "source": [
    "# boolean have to be capitalized"
   ]
  },
  {
   "cell_type": "markdown",
   "id": "f69fe2b0",
   "metadata": {
    "lines_to_next_cell": 0
   },
   "source": [
    "<!-- #endsolution -->\n",
    "\n",
    "<!-- #solution -->"
   ]
  },
  {
   "cell_type": "code",
   "execution_count": null,
   "id": "b4d9c868",
   "metadata": {
    "lines_to_next_cell": 0,
    "slideshow": {
     "slide_type": ""
    }
   },
   "outputs": [],
   "source": [
    "# Checking the type of a boolean"
   ]
  },
  {
   "cell_type": "markdown",
   "id": "fd95a14a",
   "metadata": {
    "lines_to_next_cell": 0
   },
   "source": [
    "<!-- #endsolution -->\n",
    "\n",
    "<!-- #solution -->"
   ]
  },
  {
   "cell_type": "code",
   "execution_count": null,
   "id": "f02c10fe",
   "metadata": {
    "lines_to_next_cell": 0,
    "slideshow": {
     "slide_type": ""
    }
   },
   "outputs": [],
   "source": [
    "# Adding a boolean to an integer"
   ]
  },
  {
   "cell_type": "markdown",
   "id": "1689a5b8",
   "metadata": {
    "lines_to_next_cell": 0
   },
   "source": [
    "<!-- #endsolution -->\n",
    "\n",
    "<!-- #solution -->"
   ]
  },
  {
   "cell_type": "code",
   "execution_count": null,
   "id": "4cb7a770",
   "metadata": {
    "lines_to_next_cell": 0,
    "slideshow": {
     "slide_type": ""
    }
   },
   "outputs": [],
   "source": [
    "# Checking the type of the result"
   ]
  },
  {
   "cell_type": "markdown",
   "id": "78920cf2",
   "metadata": {},
   "source": [
    "<!-- #endsolution -->\n",
    "\n"
   ]
  },
  {
   "cell_type": "markdown",
   "id": "83bb0f57",
   "metadata": {
    "slideshow": {
     "slide_type": "slide"
    }
   },
   "source": [
    "### _<ins>Example</ins>:_ Boolean operators"
   ]
  },
  {
   "cell_type": "markdown",
   "id": "386827f0",
   "metadata": {
    "lines_to_next_cell": 0
   },
   "source": [
    "<!-- #solution -->"
   ]
  },
  {
   "cell_type": "code",
   "execution_count": null,
   "id": "40128283",
   "metadata": {
    "lines_to_next_cell": 0,
    "slideshow": {
     "slide_type": ""
    }
   },
   "outputs": [],
   "source": [
    "# Adding booleans"
   ]
  },
  {
   "cell_type": "markdown",
   "id": "402d9596",
   "metadata": {
    "lines_to_next_cell": 0
   },
   "source": [
    "<!-- #endsolution -->\n",
    "\n",
    "<!-- #solution -->"
   ]
  },
  {
   "cell_type": "code",
   "execution_count": null,
   "id": "32556626",
   "metadata": {
    "lines_to_next_cell": 0,
    "slideshow": {
     "slide_type": ""
    }
   },
   "outputs": [],
   "source": [
    "# Logical AND"
   ]
  },
  {
   "cell_type": "markdown",
   "id": "c3bc81fe",
   "metadata": {
    "lines_to_next_cell": 0
   },
   "source": [
    "<!-- #endsolution -->\n",
    "\n",
    "<!-- #solution -->"
   ]
  },
  {
   "cell_type": "code",
   "execution_count": null,
   "id": "f128e469",
   "metadata": {
    "lines_to_next_cell": 0,
    "slideshow": {
     "slide_type": ""
    }
   },
   "outputs": [],
   "source": [
    "# Logical OR"
   ]
  },
  {
   "cell_type": "markdown",
   "id": "79f27997",
   "metadata": {
    "lines_to_next_cell": 0
   },
   "source": [
    "<!-- #endsolution -->\n",
    "\n",
    "<!-- #solution -->"
   ]
  },
  {
   "cell_type": "code",
   "execution_count": null,
   "id": "c3ff8b28",
   "metadata": {
    "lines_to_next_cell": 0,
    "slideshow": {
     "slide_type": ""
    }
   },
   "outputs": [],
   "source": [
    "# Negating boolean"
   ]
  },
  {
   "cell_type": "markdown",
   "id": "96a23170",
   "metadata": {},
   "source": [
    "<!-- #endsolution -->\n",
    "\n"
   ]
  },
  {
   "cell_type": "markdown",
   "id": "7da10d55",
   "metadata": {
    "slideshow": {
     "slide_type": "slide"
    }
   },
   "source": [
    "## Basic operators\n",
    "New values can be obtained by applying operators to old values, for example, mathematical operators on numerical data types `int` or `float`."
   ]
  },
  {
   "cell_type": "markdown",
   "id": "1b3f94cc",
   "metadata": {
    "lines_to_next_cell": 0,
    "slideshow": {
     "slide_type": ""
    }
   },
   "source": [
    "- String: concatenation with `+`\n",
    "- Bool: `and`, `or`, `not`\n",
    "- Numerical data: `+`, `-`, `*`, `/`, `%`, `**`, built-in functions `abs`, ...\n",
    "- Order of execution:\n",
    "    1. `()`\n",
    "    2. `**`\n",
    "    3. `*`, `/`\n",
    "    4. `+`, `-`\n",
    "    5. Left-to-right (except exponentiation!)\n",
    "\n",
    "So, use parenthesis to make sure!"
   ]
  },
  {
   "cell_type": "markdown",
   "id": "7f5a92f4",
   "metadata": {},
   "source": [
    "\n"
   ]
  },
  {
   "cell_type": "markdown",
   "id": "233456ce",
   "metadata": {
    "slideshow": {
     "slide_type": "slide"
    }
   },
   "source": [
    "## Comments (and documentation)\n",
    "Anything following the `#` character on a line is ignored by Python interpreter and becomes a comment. Comments are useful to document the code."
   ]
  },
  {
   "cell_type": "code",
   "execution_count": null,
   "id": "9554f54a",
   "metadata": {
    "lines_to_next_cell": 0,
    "slideshow": {
     "slide_type": ""
    }
   },
   "outputs": [],
   "source": [
    "# This is my programme to demonstrate how to\n",
    "# do simple calculations in Python.\n",
    "\n",
    "my_number = 2\n",
    "\n",
    "my_other_number = my_number + 5\n",
    "\n",
    "my_number = my_other_number / 2 # I have to divide\n",
    "                                # by 2 here, as the\n",
    "                                # results are\n",
    "                                # otherwise rubbish\n",
    "\n",
    "print(my_number)"
   ]
  },
  {
   "cell_type": "markdown",
   "id": "ddb8bcd0",
   "metadata": {},
   "source": [
    "\n"
   ]
  },
  {
   "cell_type": "markdown",
   "id": "5e647880",
   "metadata": {
    "slideshow": {
     "slide_type": "slide"
    }
   },
   "source": [
    "## Debugging and Types of Errors"
   ]
  },
  {
   "cell_type": "markdown",
   "id": "13f5a0a3",
   "metadata": {
    "lines_to_next_cell": 0,
    "slideshow": {
     "slide_type": ""
    }
   },
   "source": [
    "- Errors in computer programs are called ``bugs'' for historic reasons.\n",
    "- For complex projects, you will usually spend more time testing and debugging than writing code.\n",
    "- Three types of errors:\n",
    "    - Syntax errors - written the code wrongly\n",
    "    - Semantic errors - written the wrong code\n",
    "    - Runtime errors - something's wrong with the code (during execution)"
   ]
  },
  {
   "cell_type": "markdown",
   "id": "7064706e",
   "metadata": {},
   "source": [
    "\n",
    "\n"
   ]
  },
  {
   "cell_type": "markdown",
   "id": "ca0c3f73",
   "metadata": {
    "slideshow": {
     "slide_type": "slide"
    }
   },
   "source": [
    "## Have a play!"
   ]
  },
  {
   "cell_type": "markdown",
   "id": "184676c3",
   "metadata": {},
   "source": [
    "### _Exercises_"
   ]
  },
  {
   "cell_type": "markdown",
   "id": "66c7e15b",
   "metadata": {
    "lines_to_next_cell": 0,
    "slideshow": {
     "slide_type": ""
    }
   },
   "source": [
    "You could try\n",
    " - what happens if you add a float and an integer,\n",
    " - what happens if you mix numbers and bools in arithmetic expressions,\n",
    " - how setting parenthesis changes the result of a large arithmetic expression,\n",
    " - to print statements that include variables of different data types,\n",
    " - try to reproduce each of the error types,\n",
    " - ..."
   ]
  },
  {
   "cell_type": "markdown",
   "id": "f9a0636d",
   "metadata": {},
   "source": [
    "\n"
   ]
  },
  {
   "cell_type": "markdown",
   "id": "a8635ed0",
   "metadata": {
    "slideshow": {
     "slide_type": "slide"
    }
   },
   "source": [
    "#### _Example solution_"
   ]
  },
  {
   "cell_type": "markdown",
   "id": "8db0e28f",
   "metadata": {
    "lines_to_next_cell": 0
   },
   "source": [
    "<!-- #solution -->"
   ]
  },
  {
   "cell_type": "code",
   "execution_count": null,
   "id": "d8a19223",
   "metadata": {
    "lines_to_next_cell": 0,
    "slideshow": {
     "slide_type": ""
    }
   },
   "outputs": [],
   "source": [
    "# What happens if you add a float and an integer?"
   ]
  },
  {
   "cell_type": "markdown",
   "id": "eb01a68c",
   "metadata": {},
   "source": [
    "<!-- #endsolution -->"
   ]
  },
  {
   "cell_type": "markdown",
   "id": "4cdc4fa0",
   "metadata": {
    "slideshow": {
     "slide_type": "slide"
    }
   },
   "source": [
    "#### _Example solution_"
   ]
  },
  {
   "cell_type": "markdown",
   "id": "35eb8249",
   "metadata": {
    "lines_to_next_cell": 0
   },
   "source": [
    "<!-- #solution -->"
   ]
  },
  {
   "cell_type": "code",
   "execution_count": null,
   "id": "40cbb675",
   "metadata": {
    "lines_to_next_cell": 0,
    "slideshow": {
     "slide_type": ""
    }
   },
   "outputs": [],
   "source": [
    "# What happens if you mix numbers and bools in arithmetic expressions?"
   ]
  },
  {
   "cell_type": "markdown",
   "id": "36b8ff0d",
   "metadata": {},
   "source": [
    "<!-- #endsolution -->\n",
    "\n"
   ]
  },
  {
   "cell_type": "markdown",
   "id": "c6fb6857",
   "metadata": {
    "slideshow": {
     "slide_type": "slide"
    }
   },
   "source": [
    "#### _Example solution_"
   ]
  },
  {
   "cell_type": "markdown",
   "id": "6b4efd55",
   "metadata": {
    "lines_to_next_cell": 0
   },
   "source": [
    "<!-- #solution -->"
   ]
  },
  {
   "cell_type": "code",
   "execution_count": null,
   "id": "4fc407de",
   "metadata": {
    "lines_to_next_cell": 0,
    "slideshow": {
     "slide_type": ""
    }
   },
   "outputs": [],
   "source": [
    "# How setting parenthesis changes the result of a large arithmetic expression?"
   ]
  },
  {
   "cell_type": "markdown",
   "id": "8fda8b6e",
   "metadata": {},
   "source": [
    "<!-- #endsolution -->"
   ]
  },
  {
   "cell_type": "markdown",
   "id": "4f51aefd",
   "metadata": {
    "slideshow": {
     "slide_type": "slide"
    }
   },
   "source": [
    "#### _Example solution_"
   ]
  },
  {
   "cell_type": "markdown",
   "id": "c3c56d5f",
   "metadata": {
    "lines_to_next_cell": 0
   },
   "source": [
    "<!-- #solution -->"
   ]
  },
  {
   "cell_type": "code",
   "execution_count": null,
   "id": "9e742f54",
   "metadata": {
    "lines_to_next_cell": 0,
    "slideshow": {
     "slide_type": ""
    }
   },
   "outputs": [],
   "source": [
    "# Print statements that include variables of different data types."
   ]
  },
  {
   "cell_type": "markdown",
   "id": "b0a50481",
   "metadata": {},
   "source": [
    "<!-- #endsolution -->"
   ]
  },
  {
   "cell_type": "markdown",
   "id": "36b4d457",
   "metadata": {
    "slideshow": {
     "slide_type": "slide"
    }
   },
   "source": [
    "#### _Example solutions_\n",
    "Try to reproduce each of the error types\n"
   ]
  },
  {
   "cell_type": "markdown",
   "id": "0524b252",
   "metadata": {
    "slideshow": {
     "slide_type": ""
    }
   },
   "source": [
    "##### 1. Syntax Error"
   ]
  },
  {
   "cell_type": "markdown",
   "id": "feacbe27",
   "metadata": {
    "lines_to_next_cell": 0
   },
   "source": [
    "<!-- #solution -->"
   ]
  },
  {
   "cell_type": "code",
   "execution_count": null,
   "id": "e7dc9274",
   "metadata": {
    "lines_to_next_cell": 0,
    "slideshow": {
     "slide_type": ""
    }
   },
   "outputs": [],
   "source": []
  },
  {
   "cell_type": "markdown",
   "id": "2b27ed00",
   "metadata": {},
   "source": [
    "<!-- #endsolution -->"
   ]
  },
  {
   "cell_type": "markdown",
   "id": "b8776ae7",
   "metadata": {
    "slideshow": {
     "slide_type": ""
    }
   },
   "source": [
    "##### 2. Semantic Error"
   ]
  },
  {
   "cell_type": "markdown",
   "id": "d8a1295c",
   "metadata": {
    "lines_to_next_cell": 0
   },
   "source": [
    "<!-- #solution -->"
   ]
  },
  {
   "cell_type": "code",
   "execution_count": null,
   "id": "f5c99719",
   "metadata": {
    "lines_to_next_cell": 0,
    "slideshow": {
     "slide_type": ""
    }
   },
   "outputs": [],
   "source": []
  },
  {
   "cell_type": "markdown",
   "id": "a70ab645",
   "metadata": {},
   "source": [
    "<!-- #endsolution -->"
   ]
  },
  {
   "cell_type": "markdown",
   "id": "bfcd49da",
   "metadata": {
    "slideshow": {
     "slide_type": ""
    }
   },
   "source": [
    "##### 3. Runtime Error"
   ]
  },
  {
   "cell_type": "markdown",
   "id": "2e408793",
   "metadata": {
    "lines_to_next_cell": 0
   },
   "source": [
    "<!-- #solution -->"
   ]
  },
  {
   "cell_type": "code",
   "execution_count": null,
   "id": "7f2e1527",
   "metadata": {
    "lines_to_next_cell": 0,
    "slideshow": {
     "slide_type": ""
    }
   },
   "outputs": [],
   "source": []
  },
  {
   "cell_type": "markdown",
   "id": "2abd5d28",
   "metadata": {},
   "source": [
    "<!-- #endsolution -->"
   ]
  },
  {
   "cell_type": "markdown",
   "id": "f4c0bd9c",
   "metadata": {
    "lines_to_next_cell": 0,
    "slideshow": {
     "slide_type": "slide"
    }
   },
   "source": [
    "## Interlude: Indented blocks in python\n",
    "Python uses indention to separate blocs after a `:`\n",
    "```python\n",
    "some_functionality_on_block:\n",
    "   first_statement_in_block()\n",
    "   second_statement_in_block()\n",
    "statement_not_in_block()\n",
    "```\n"
   ]
  },
  {
   "cell_type": "markdown",
   "id": "46cc3ebd",
   "metadata": {},
   "source": [
    "\n"
   ]
  },
  {
   "cell_type": "markdown",
   "id": "ea8ac324",
   "metadata": {
    "slideshow": {
     "slide_type": "slide"
    }
   },
   "source": [
    "# <ins>2.</ins> Functions"
   ]
  },
  {
   "cell_type": "markdown",
   "id": "e8b6e79d",
   "metadata": {
    "slideshow": {
     "slide_type": ""
    }
   },
   "source": [
    "A function is a block of reusable code that performs a specific task. Functions help reduce repetition and make code easier to manage. A function is defined using the `def` keyword."
   ]
  },
  {
   "cell_type": "markdown",
   "id": "769fefce",
   "metadata": {},
   "source": [
    "* You can pass data to functions (parameters).\n",
    "* Functions can return values.\n",
    "* Functions help break down complex programs into smaller, manageable parts."
   ]
  },
  {
   "cell_type": "code",
   "execution_count": null,
   "id": "50b2f430",
   "metadata": {},
   "outputs": [],
   "source": [
    "# Function to add two numbers\n",
    "def add_numbers(a, b):\n",
    "    return a + b\n",
    "\n",
    "# Call the function\n",
    "result = add_numbers(3, 4)\n",
    "print(result)"
   ]
  },
  {
   "cell_type": "markdown",
   "id": "e48fb7ac",
   "metadata": {
    "slideshow": {
     "slide_type": "slide"
    }
   },
   "source": [
    "## Have a play!"
   ]
  },
  {
   "cell_type": "markdown",
   "id": "d5db0eb2",
   "metadata": {
    "lines_to_next_cell": 0,
    "slideshow": {
     "slide_type": "slide"
    }
   },
   "source": [
    "### _Exercises_\n",
    "\n",
    "**1)** Write a function that converts Celsius to Fahrenheit. Use the formula  \n",
    "$\n",
    "\\text{Fahrenheit} = (\\text{Celsius} \\times \\frac{9}{5}) + 32\n",
    "$\n",
    "\n",
    "<!-- #solution -->"
   ]
  },
  {
   "cell_type": "code",
   "execution_count": null,
   "id": "1b181b10",
   "metadata": {
    "lines_to_next_cell": 0
   },
   "outputs": [],
   "source": []
  },
  {
   "cell_type": "markdown",
   "id": "aa3ecd47",
   "metadata": {},
   "source": [
    "<!-- #endsolution -->"
   ]
  },
  {
   "cell_type": "markdown",
   "id": "50113a2b",
   "metadata": {
    "slideshow": {
     "slide_type": "slide"
    }
   },
   "source": [
    "# <ins>**Part II**</ins>"
   ]
  },
  {
   "cell_type": "markdown",
   "id": "faafab69",
   "metadata": {
    "slideshow": {
     "slide_type": "slide"
    }
   },
   "source": [
    "# <ins>3.</ins> Data structures"
   ]
  },
  {
   "cell_type": "markdown",
   "id": "03bdb2ba",
   "metadata": {},
   "source": [
    "Python can work not only with basic data types mentioned before, but also with compound ones. Compound data types in Python are a powerful tool for organizing and storing data. Among the most commonly used are _lists_ and _dictionaries_. `For`-loops described in the next section often iterate over elements of lists or pairs of keys and values in dictionaries. But they can also iterate over a series of numbers generated for indexing or calculations by the `range()` function."
   ]
  },
  {
   "cell_type": "markdown",
   "id": "3b3e081d",
   "metadata": {
    "slideshow": {
     "slide_type": "slide"
    }
   },
   "source": [
    "## Lists"
   ]
  },
  {
   "cell_type": "markdown",
   "id": "903b8fe2",
   "metadata": {},
   "source": [
    "_Lists_ are ordered collections of items."
   ]
  },
  {
   "cell_type": "markdown",
   "id": "abd9983f",
   "metadata": {
    "slideshow": {
     "slide_type": ""
    }
   },
   "source": [
    "* A list contains items separated by commas and enclosed with square brackets `[]`\n",
    "* A list can contain different datatypes (`int`, `float`, `str`, etc.)\n",
    "* Similar to strings, list members can be accessed using their associated index which is zero-based\n",
    "* Common list functions: `append()`, `remove()`, `pop()`"
   ]
  },
  {
   "cell_type": "markdown",
   "id": "a3dd320f",
   "metadata": {
    "lines_to_next_cell": 0,
    "slideshow": {
     "slide_type": "slide"
    }
   },
   "source": [
    "### _<ins>Examples:</ins>_\n",
    "\n",
    "<!-- #solution -->"
   ]
  },
  {
   "cell_type": "code",
   "execution_count": null,
   "id": "96da5536",
   "metadata": {
    "lines_to_next_cell": 0
   },
   "outputs": [],
   "source": [
    "# Creating/Initialising a list"
   ]
  },
  {
   "cell_type": "markdown",
   "id": "a4edbb0e",
   "metadata": {
    "lines_to_next_cell": 0
   },
   "source": [
    "<!-- #endsolution -->\n",
    "\n",
    "<!-- #solution -->"
   ]
  },
  {
   "cell_type": "code",
   "execution_count": null,
   "id": "1f0c2da5",
   "metadata": {
    "lines_to_next_cell": 0,
    "slideshow": {
     "slide_type": ""
    }
   },
   "outputs": [],
   "source": [
    "# Print a list"
   ]
  },
  {
   "cell_type": "markdown",
   "id": "a0cf15d5",
   "metadata": {
    "lines_to_next_cell": 0
   },
   "source": [
    "<!-- #endsolution -->\n",
    "\n",
    "<!-- #solution -->"
   ]
  },
  {
   "cell_type": "code",
   "execution_count": null,
   "id": "195da8f7",
   "metadata": {
    "lines_to_next_cell": 0,
    "slideshow": {
     "slide_type": ""
    }
   },
   "outputs": [],
   "source": [
    "# Print an element of the list. Note: use [] not () for item indexing"
   ]
  },
  {
   "cell_type": "markdown",
   "id": "7916ca5a",
   "metadata": {
    "lines_to_next_cell": 0
   },
   "source": [
    "<!-- #endsolution -->\n",
    "\n",
    "<!-- #solution -->"
   ]
  },
  {
   "cell_type": "code",
   "execution_count": null,
   "id": "33617aac",
   "metadata": {
    "lines_to_next_cell": 0,
    "slideshow": {
     "slide_type": ""
    }
   },
   "outputs": [],
   "source": [
    "# Print the first element of the list. Indexing starts with 0!"
   ]
  },
  {
   "cell_type": "markdown",
   "id": "0cfef78f",
   "metadata": {
    "lines_to_next_cell": 0
   },
   "source": [
    "<!-- #endsolution -->\n",
    "\n",
    "<!-- #solution -->"
   ]
  },
  {
   "cell_type": "code",
   "execution_count": null,
   "id": "91b6f0bb",
   "metadata": {
    "lines_to_next_cell": 0,
    "slideshow": {
     "slide_type": ""
    }
   },
   "outputs": [],
   "source": [
    "# Print the last element of the list using backward indexing"
   ]
  },
  {
   "cell_type": "markdown",
   "id": "68c27ff2",
   "metadata": {
    "lines_to_next_cell": 0
   },
   "source": [
    "<!-- #endsolution -->\n",
    "\n",
    "<!-- #solution -->"
   ]
  },
  {
   "cell_type": "code",
   "execution_count": null,
   "id": "82e5474a",
   "metadata": {
    "lines_to_next_cell": 0,
    "slideshow": {
     "slide_type": ""
    }
   },
   "outputs": [],
   "source": [
    "# Print an internal slice of the list"
   ]
  },
  {
   "cell_type": "markdown",
   "id": "9f4f05e7",
   "metadata": {
    "lines_to_next_cell": 0
   },
   "source": [
    "<!-- #endsolution -->\n",
    "\n",
    "<!-- #solution -->"
   ]
  },
  {
   "cell_type": "code",
   "execution_count": null,
   "id": "b26020bb",
   "metadata": {
    "lines_to_next_cell": 0,
    "slideshow": {
     "slide_type": ""
    }
   },
   "outputs": [],
   "source": [
    "# Print a slice of the list from the beginning"
   ]
  },
  {
   "cell_type": "markdown",
   "id": "698514db",
   "metadata": {
    "lines_to_next_cell": 0
   },
   "source": [
    "<!-- #endsolution -->\n",
    "\n",
    "<!-- #solution -->"
   ]
  },
  {
   "cell_type": "code",
   "execution_count": null,
   "id": "9bb2953c",
   "metadata": {
    "lines_to_next_cell": 0
   },
   "outputs": [],
   "source": [
    "# Different datatypes in lists, length of lists"
   ]
  },
  {
   "cell_type": "markdown",
   "id": "1481c3b6",
   "metadata": {
    "lines_to_next_cell": 0
   },
   "source": [
    "<!-- #endsolution -->\n",
    "\n",
    "<!-- #solution -->"
   ]
  },
  {
   "cell_type": "code",
   "execution_count": null,
   "id": "6a8635b2",
   "metadata": {
    "lines_to_next_cell": 0
   },
   "outputs": [],
   "source": [
    "# Print out `list1`, a slice containing the last element"
   ]
  },
  {
   "cell_type": "markdown",
   "id": "d9382645",
   "metadata": {
    "lines_to_next_cell": 0
   },
   "source": [
    "<!-- #endsolution -->\n",
    "\n",
    "<!-- #solution -->"
   ]
  },
  {
   "cell_type": "code",
   "execution_count": null,
   "id": "e7b148f3",
   "metadata": {
    "lines_to_next_cell": 0
   },
   "outputs": [],
   "source": [
    "# Concatenate two lists"
   ]
  },
  {
   "cell_type": "markdown",
   "id": "5e727386",
   "metadata": {},
   "source": [
    "<!-- #endsolution -->\n",
    "\n",
    "\n",
    "\n"
   ]
  },
  {
   "cell_type": "markdown",
   "id": "dccd34a9",
   "metadata": {
    "slideshow": {
     "slide_type": "slide"
    }
   },
   "source": [
    "## _Range()_ function"
   ]
  },
  {
   "cell_type": "markdown",
   "id": "866ff24c",
   "metadata": {},
   "source": [
    "The `range()` function in Python is used to generate a sequence of numbers. It takes up to three arguments: `start`, `stop`, and `step`. By default, `start` is 0, `step` is 1, and the sequence ends just before the `stop` value."
   ]
  },
  {
   "cell_type": "markdown",
   "id": "6251a41c",
   "metadata": {},
   "source": [
    "* `range(stop)`: Generates numbers from 0 to stop - 1.\n",
    "* `range(start, stop)`: Generates numbers from start to stop - 1.\n",
    "* `range(start, stop, step)`: Generates numbers from start to stop - 1, stepping by step.\n",
    "* `range()` can generate both increasing and decreasing sequences by changing the step argument.\n",
    "* The generated sequence is immutable, but can be converted to a list or iterated directly."
   ]
  },
  {
   "cell_type": "markdown",
   "id": "039a3a63",
   "metadata": {
    "slideshow": {
     "slide_type": "slide"
    }
   },
   "source": [
    "### _<ins>Examples:</ins>_"
   ]
  },
  {
   "cell_type": "code",
   "execution_count": null,
   "id": "fcd4489c",
   "metadata": {},
   "outputs": [],
   "source": [
    "range(10)"
   ]
  },
  {
   "cell_type": "code",
   "execution_count": null,
   "id": "fd042535",
   "metadata": {},
   "outputs": [],
   "source": [
    "list(range(10))"
   ]
  },
  {
   "cell_type": "code",
   "execution_count": null,
   "id": "392130c9",
   "metadata": {},
   "outputs": [],
   "source": [
    "list(range(1,10))"
   ]
  },
  {
   "cell_type": "code",
   "execution_count": null,
   "id": "92f032ae",
   "metadata": {},
   "outputs": [],
   "source": [
    "list(range(3,7))"
   ]
  },
  {
   "cell_type": "code",
   "execution_count": null,
   "id": "4c8ec052",
   "metadata": {},
   "outputs": [],
   "source": [
    "list(range(2,15,3))"
   ]
  },
  {
   "cell_type": "code",
   "execution_count": null,
   "id": "9fbe31d8",
   "metadata": {},
   "outputs": [],
   "source": [
    "list(range(9,2,-1))"
   ]
  },
  {
   "cell_type": "markdown",
   "id": "ca61d006",
   "metadata": {
    "slideshow": {
     "slide_type": "slide"
    }
   },
   "source": [
    "## Have a Play!"
   ]
  },
  {
   "cell_type": "markdown",
   "id": "9c3850d9",
   "metadata": {},
   "source": [
    "### _Exercises_"
   ]
  },
  {
   "cell_type": "markdown",
   "id": "002cb830",
   "metadata": {
    "lines_to_next_cell": 0
   },
   "source": [
    "**1) Lists**: Create a list of numbers from 1 to 20 and then print the elements at every second index.\n",
    "\n",
    "<!-- #solution -->"
   ]
  },
  {
   "cell_type": "code",
   "execution_count": null,
   "id": "1f4ab806",
   "metadata": {
    "lines_to_next_cell": 0
   },
   "outputs": [],
   "source": []
  },
  {
   "cell_type": "markdown",
   "id": "8b7df826",
   "metadata": {},
   "source": [
    "<!-- #endsolution -->"
   ]
  },
  {
   "cell_type": "markdown",
   "id": "d9988258",
   "metadata": {
    "slideshow": {
     "slide_type": ""
    }
   },
   "source": [
    "**2) Range**: Create a list of even numbers between 10 and 30 using `range()`, and print it."
   ]
  },
  {
   "cell_type": "markdown",
   "id": "e54787d5",
   "metadata": {
    "lines_to_next_cell": 0
   },
   "source": [
    "<!-- #solution -->"
   ]
  },
  {
   "cell_type": "code",
   "execution_count": null,
   "id": "c1c4d2b0",
   "metadata": {
    "lines_to_next_cell": 0,
    "slideshow": {
     "slide_type": ""
    }
   },
   "outputs": [],
   "source": []
  },
  {
   "cell_type": "markdown",
   "id": "1d1ec774",
   "metadata": {
    "lines_to_next_cell": 0,
    "slideshow": {
     "slide_type": "slide"
    }
   },
   "source": [
    "# <ins>4.</ins> Conditional and control flow statements"
   ]
  },
  {
   "cell_type": "markdown",
   "id": "04f82d6c",
   "metadata": {
    "lines_to_next_cell": 0,
    "slideshow": {
     "slide_type": "slide"
    }
   },
   "source": [
    "## _If_-statements"
   ]
  },
  {
   "cell_type": "markdown",
   "id": "a7a512d1",
   "metadata": {
    "lines_to_next_cell": 0,
    "slideshow": {
     "slide_type": "slide"
    }
   },
   "source": [
    "### _<ins>Examples:</ins>_"
   ]
  },
  {
   "cell_type": "code",
   "execution_count": null,
   "id": "be842195",
   "metadata": {
    "lines_to_next_cell": 0
   },
   "outputs": [],
   "source": []
  },
  {
   "cell_type": "code",
   "execution_count": null,
   "id": "afd6a822",
   "metadata": {
    "lines_to_next_cell": 0
   },
   "outputs": [],
   "source": []
  },
  {
   "cell_type": "code",
   "execution_count": null,
   "id": "2d0841d4",
   "metadata": {
    "lines_to_next_cell": 0
   },
   "outputs": [],
   "source": [
    "# using only `if`"
   ]
  },
  {
   "cell_type": "code",
   "execution_count": null,
   "id": "badca291",
   "metadata": {
    "lines_to_next_cell": 0
   },
   "outputs": [],
   "source": [
    "# using `if`, `elif` and `else`"
   ]
  },
  {
   "cell_type": "markdown",
   "id": "5edc3553",
   "metadata": {
    "lines_to_next_cell": 0,
    "slideshow": {
     "slide_type": "slide"
    }
   },
   "source": [
    "## _For_-loops"
   ]
  },
  {
   "cell_type": "markdown",
   "id": "dacfb811",
   "metadata": {
    "lines_to_next_cell": 0,
    "slideshow": {
     "slide_type": "slide"
    }
   },
   "source": [
    "### _<ins>Examples:</ins>_"
   ]
  },
  {
   "cell_type": "code",
   "execution_count": null,
   "id": "fb1a0c8f",
   "metadata": {
    "lines_to_next_cell": 0
   },
   "outputs": [],
   "source": [
    "# Iterating over a list\n",
    "# Using range to loop through numbers"
   ]
  },
  {
   "cell_type": "code",
   "execution_count": null,
   "id": "0737dc97",
   "metadata": {
    "lines_to_next_cell": 0
   },
   "outputs": [],
   "source": []
  },
  {
   "cell_type": "markdown",
   "id": "6ddfc996",
   "metadata": {
    "lines_to_next_cell": 0,
    "slideshow": {
     "slide_type": "slide"
    }
   },
   "source": [
    "## _While_-loops"
   ]
  },
  {
   "cell_type": "markdown",
   "id": "70cfd006",
   "metadata": {
    "lines_to_next_cell": 0,
    "slideshow": {
     "slide_type": "slide"
    }
   },
   "source": [
    "### _<ins>Examples:</ins>_"
   ]
  },
  {
   "cell_type": "code",
   "execution_count": null,
   "id": "e5efa1a1",
   "metadata": {
    "lines_to_next_cell": 0
   },
   "outputs": [],
   "source": []
  },
  {
   "cell_type": "code",
   "execution_count": null,
   "id": "5ea981b1",
   "metadata": {
    "lines_to_next_cell": 0
   },
   "outputs": [],
   "source": []
  },
  {
   "cell_type": "markdown",
   "id": "737c33d9",
   "metadata": {
    "lines_to_next_cell": 0,
    "slideshow": {
     "slide_type": "slide"
    }
   },
   "source": [
    "## Have a Play!"
   ]
  },
  {
   "cell_type": "markdown",
   "id": "01b0dcd6",
   "metadata": {
    "lines_to_next_cell": 0,
    "slideshow": {
     "slide_type": "slide"
    }
   },
   "source": [
    "### _Exercises_"
   ]
  },
  {
   "cell_type": "markdown",
   "id": "23cf7e0b",
   "metadata": {
    "lines_to_next_cell": 0,
    "slideshow": {
     "slide_type": "slide"
    }
   },
   "source": []
  },
  {
   "cell_type": "markdown",
   "id": "231f627c",
   "metadata": {
    "lines_to_next_cell": 0
   },
   "source": [
    "<!-- #solution -->"
   ]
  },
  {
   "cell_type": "code",
   "execution_count": null,
   "id": "68f815d9",
   "metadata": {
    "lines_to_next_cell": 0
   },
   "outputs": [],
   "source": []
  },
  {
   "cell_type": "markdown",
   "id": "09d3ef5b",
   "metadata": {
    "lines_to_next_cell": 0,
    "slideshow": {
     "slide_type": "slide"
    }
   },
   "source": [
    "<!-- #endsolution -->\n",
    "\n",
    "**2) `For`-loops**: Use a `for`-loop to print the square of numbers from 1 to 10.\n",
    "\n",
    "<!-- #solution -->"
   ]
  },
  {
   "cell_type": "code",
   "execution_count": null,
   "id": "abffd2fc",
   "metadata": {
    "lines_to_next_cell": 0
   },
   "outputs": [],
   "source": []
  },
  {
   "cell_type": "markdown",
   "id": "984c8ed5",
   "metadata": {
    "lines_to_next_cell": 0,
    "slideshow": {
     "slide_type": "slide"
    }
   },
   "source": [
    "<!-- #endsolution -->\n",
    "\n",
    "**3) `While`-loops**: Write a program that keeps asking the user for a number and prints the number. Stop when the user enters a negative number.\n",
    "\n",
    "<!-- #solution -->"
   ]
  },
  {
   "cell_type": "code",
   "execution_count": null,
   "id": "87599343",
   "metadata": {
    "lines_to_next_cell": 0
   },
   "outputs": [],
   "source": []
  },
  {
   "cell_type": "markdown",
   "id": "178ec030",
   "metadata": {
    "lines_to_next_cell": 0,
    "slideshow": {
     "slide_type": "slide"
    }
   },
   "source": [
    "<!-- #endsolution -->\n",
    "\n",
    "**4) Functions**: Write a program to calculate the factorial of a number\n",
    "\n",
    "<!-- #solution -->"
   ]
  },
  {
   "cell_type": "code",
   "execution_count": null,
   "id": "19e1659f",
   "metadata": {
    "lines_to_next_cell": 0
   },
   "outputs": [],
   "source": []
  },
  {
   "cell_type": "markdown",
   "id": "d85f696f",
   "metadata": {},
   "source": [
    "<!-- #endsolution -->"
   ]
  },
  {
   "cell_type": "markdown",
   "id": "038a0848",
   "metadata": {
    "lines_to_next_cell": 2,
    "slideshow": {
     "slide_type": "slide"
    }
   },
   "source": [
    "# <ins>5.</ins> Getting Data in and out"
   ]
  },
  {
   "cell_type": "markdown",
   "id": "7e172954",
   "metadata": {
    "slideshow": {
     "slide_type": "slide"
    }
   },
   "source": [
    "## User input\n",
    "The `print` function enables a Python program to display textual information to the user. The `input` function maybe used to obtain information from the user."
   ]
  },
  {
   "cell_type": "code",
   "execution_count": null,
   "id": "130d7360",
   "metadata": {
    "slideshow": {
     "slide_type": ""
    }
   },
   "outputs": [],
   "source": [
    "# Get some user input\n",
    "x = input()\n",
    "# print it\n",
    "print(x)\n",
    "# check the type of the input\n",
    "type(x)   # This will be a string if you don't convert it"
   ]
  },
  {
   "cell_type": "code",
   "execution_count": null,
   "id": "06188432",
   "metadata": {
    "lines_to_next_cell": 0,
    "slideshow": {
     "slide_type": ""
    }
   },
   "outputs": [],
   "source": [
    "# Implement a greeting function with user input\n",
    "name = input(\"What's you name?\")\n",
    "print(\"Hello \" + name)"
   ]
  },
  {
   "cell_type": "markdown",
   "id": "df96437c",
   "metadata": {},
   "source": [
    "\n"
   ]
  },
  {
   "cell_type": "markdown",
   "id": "5eae9cff",
   "metadata": {
    "slideshow": {
     "slide_type": "slide"
    }
   },
   "source": [
    "## Reading and writing files"
   ]
  },
  {
   "cell_type": "markdown",
   "id": "db69b5e1",
   "metadata": {
    "lines_to_next_cell": 0,
    "slideshow": {
     "slide_type": ""
    }
   },
   "source": [
    "```python\n",
    "# Create a file object\n",
    "with open(\"testfile.txt\", 'w') as my_file:\n",
    "    ...\n",
    "```\n",
    "Two things to note here:\n",
    " - My object `my_file` is different from my file `\"testfile\"`!\n",
    " - There are different modes:\n",
    "     - read: `'r'`\n",
    "     - (over-)write: `'w'`\n",
    "     - append: `'a'`\n",
    "     - read+write: `'w+'` or `'r+'`"
   ]
  },
  {
   "cell_type": "markdown",
   "id": "466d45be",
   "metadata": {},
   "source": [
    "\n"
   ]
  },
  {
   "cell_type": "markdown",
   "id": "2c830faf",
   "metadata": {
    "slideshow": {
     "slide_type": "slide"
    }
   },
   "source": [
    "### Writing files and formatting strings (C-style)"
   ]
  },
  {
   "cell_type": "code",
   "execution_count": null,
   "id": "7f0fc6a5",
   "metadata": {
    "slideshow": {
     "slide_type": ""
    }
   },
   "outputs": [],
   "source": [
    "with open(\"testfile.txt\", \"w\") as my_file:\n",
    "    # Write - note special characters!\n",
    "    my_file.write(\"This is some text. \\n And some more.\")\n",
    "    my_file.write(\"\\n\\nI can also add numbers like this: %d %d \\n\" %(22, 333))\n",
    "\n",
    "    my_file.write(str(222))"
   ]
  },
  {
   "cell_type": "markdown",
   "id": "fc7bc62c",
   "metadata": {
    "lines_to_next_cell": 0,
    "slideshow": {
     "slide_type": ""
    }
   },
   "source": [
    "see also [https://www.learnpython.org/en/String\\_Formatting](https://www.learnpython.org/en/String_Formatting)"
   ]
  },
  {
   "cell_type": "markdown",
   "id": "aaec26ff",
   "metadata": {},
   "source": [
    "\n"
   ]
  },
  {
   "cell_type": "markdown",
   "id": "fd401d28",
   "metadata": {
    "slideshow": {
     "slide_type": "slide"
    }
   },
   "source": [
    "### Writing files (f-strings)"
   ]
  },
  {
   "cell_type": "code",
   "execution_count": null,
   "id": "4be1d82c",
   "metadata": {
    "slideshow": {
     "slide_type": ""
    }
   },
   "outputs": [],
   "source": [
    "number1 = 44\n",
    "number2 = 111\n",
    "\n",
    "with open(\"testfile.txt\", \"a\") as my_file:\n",
    "    # Append to the opened file\n",
    "    my_file.write(f\"\\n I have opened the same file again.\\n More numbers: {number1} {number2}.\")"
   ]
  },
  {
   "cell_type": "markdown",
   "id": "f8de816a",
   "metadata": {
    "lines_to_next_cell": 0,
    "slideshow": {
     "slide_type": ""
    }
   },
   "source": [
    "see also [f-strings](https://realpython.com/python-f-strings/)"
   ]
  },
  {
   "cell_type": "markdown",
   "id": "a4dd090d",
   "metadata": {},
   "source": [
    "\n"
   ]
  },
  {
   "cell_type": "markdown",
   "id": "68a84583",
   "metadata": {
    "slideshow": {
     "slide_type": "slide"
    }
   },
   "source": [
    "### Reading files"
   ]
  },
  {
   "cell_type": "code",
   "execution_count": null,
   "id": "b91261f8",
   "metadata": {
    "lines_to_next_cell": 0,
    "slideshow": {
     "slide_type": ""
    }
   },
   "outputs": [],
   "source": [
    "with open(\"testfile.txt\", \"r\") as my_file:\n",
    "    # Read it and print it to screen\n",
    "    print(my_file.read())\n",
    "\n",
    "    # Try this:\n",
    "    #print(my_file.read(7))\n",
    "    #print(my_file.readline())\n",
    "    #print(my_file.readlines())"
   ]
  },
  {
   "cell_type": "markdown",
   "id": "9f823d4e",
   "metadata": {},
   "source": [
    "\n"
   ]
  },
  {
   "cell_type": "markdown",
   "id": "54661b6e",
   "metadata": {
    "slideshow": {
     "slide_type": "slide"
    }
   },
   "source": [
    "## Have a play!"
   ]
  },
  {
   "cell_type": "markdown",
   "id": "68a5aca1",
   "metadata": {},
   "source": [
    "### _Exercises_"
   ]
  },
  {
   "cell_type": "markdown",
   "id": "e0dc6e01",
   "metadata": {
    "slideshow": {
     "slide_type": ""
    }
   },
   "source": [
    "Here are some exercise ideas for \"Getting data in and out\":\n",
    "- Prompt the user for a filename and write a short text into it.\n",
    "- Read it back and print the lines to the screen.\n",
    "- Experiment with different modes: 'r', 'w', 'a' to see how the file content changes."
   ]
  },
  {
   "cell_type": "code",
   "execution_count": null,
   "id": "177b67f3",
   "metadata": {},
   "outputs": [],
   "source": []
  }
 ],
 "metadata": {
  "kernelspec": {
   "display_name": "Python 3 (ipykernel)",
   "language": "python",
   "name": "python3"
  }
 },
 "nbformat": 4,
 "nbformat_minor": 5
}
