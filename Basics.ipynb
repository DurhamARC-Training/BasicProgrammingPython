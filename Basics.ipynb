{
 "cells": [
  {
   "cell_type": "markdown",
   "id": "ecd37dfa",
   "metadata": {
    "slideshow": {
     "slide_type": "slide"
    }
   },
   "source": [
    "ARC course \"Learning to programme with Python\" (beginner level)\n",
    "===============================================================\n",
    "![icons8-python-48.png](images/icons8-python-48.png)"
   ]
  },
  {
   "cell_type": "markdown",
   "id": "f64f54e0",
   "metadata": {
    "slideshow": {
     "slide_type": ""
    }
   },
   "source": [
    "Welcome to our ARC course \"Learning to programme with Python\".\n",
    "\n",
    "Some general information on how the course will run:\n",
    "\n",
    "* The course will run from 09:00 to 12:30. We plan a coffee break between 2 parts at around 10:45 for ~10-15 min.\n",
    "\n",
    "* The material does not expect any prior programming experience.\n",
    "\n",
    "* Each topic will be presented wih code demonstrations followed by practical exercises.\n",
    "\n",
    "* We are happy to answer any questions during the course and to help during the exercises.\n",
    "\n",
    "Enjoy learning Python!"
   ]
  },
  {
   "cell_type": "markdown",
   "id": "8ccf0c5d",
   "metadata": {
    "slideshow": {
     "slide_type": "slide"
    }
   },
   "source": [
    "## Set up your Python environment"
   ]
  },
  {
   "cell_type": "markdown",
   "id": "b4ba9fa9",
   "metadata": {
    "lines_to_next_cell": 2,
    "slideshow": {
     "slide_type": ""
    }
   },
   "source": [
    "<ins>Preferred</ins>: Jupyter Notebook server or Jupyter Lab as a local Python environment installed on your laptops (hopefully, you've already received a welcome email with installation instructions).\n",
    "\n",
    "<ins>Other</ins>: Google Colab (https://colab.research.google.com).\n",
    "\n",
    "Go to the repository:\n",
    "```https://github.com/DurhamARC-Training/BasicProgrammingPython```\n",
    "\n",
    "copy the `pull_files_from_repo.py` file into your environment\n",
    "\n",
    "execute it with `python pull_files_from_repo.py`"
   ]
  },
  {
   "cell_type": "markdown",
   "id": "7ac497ea",
   "metadata": {
    "slideshow": {
     "slide_type": "slide"
    }
   },
   "source": [
    "# <ins>0.</ins> Introduction"
   ]
  },
  {
   "cell_type": "markdown",
   "id": "dcb05f78",
   "metadata": {
    "slideshow": {
     "slide_type": "slide"
    }
   },
   "source": [
    "## Course objectives"
   ]
  },
  {
   "cell_type": "markdown",
   "id": "67db5a97",
   "metadata": {
    "lines_to_next_cell": 0,
    "slideshow": {
     "slide_type": ""
    }
   },
   "source": [
    "By the end of this course you should know:\n",
    " - how a basic computer program is written and executed,\n",
    " - what basic data types and control statements are,\n",
    " - how to get and process user input and data,\n",
    " - how to structure your code using functions,\n",
    " - what can lead to your program not working, and what to do about it,\n",
    " - where to find further resources to practice your Python programming."
   ]
  },
  {
   "cell_type": "markdown",
   "id": "7cb3812c",
   "metadata": {},
   "source": [
    "\n"
   ]
  },
  {
   "cell_type": "markdown",
   "id": "b97b10c2",
   "metadata": {
    "slideshow": {
     "slide_type": "slide"
    }
   },
   "source": [
    "## Useful resources"
   ]
  },
  {
   "cell_type": "markdown",
   "id": "4258f0d3",
   "metadata": {
    "lines_to_next_cell": 0,
    "slideshow": {
     "slide_type": ""
    }
   },
   "source": [
    "#### Materials used and recommended:\n",
    " - [Python Wiki - Python for Non-Programmers](https://wiki.python.org/moin/BeginnersGuide/NonProgrammers)\n",
    " - [How to think like a Computer Scientist](http://openbookproject.net/thinkcs/python/english3e/index.html)\n",
    " - [A Whirlwind Tour of Python](https://jakevdp.github.io/WhirlwindTourOfPython)\n",
    " - [Software Carpentry - Programming with Python](https://swcarpentry.github.io/python-novice-inflammation/index.html)"
   ]
  },
  {
   "cell_type": "markdown",
   "id": "aa28bb13",
   "metadata": {},
   "source": [
    "\n"
   ]
  },
  {
   "cell_type": "markdown",
   "id": "5cf7be3e",
   "metadata": {
    "lines_to_next_cell": 2,
    "slideshow": {
     "slide_type": "fragment"
    }
   },
   "source": [
    " - The top results are often filled with SEO sites\n",
    " - The aim is not to provide a concise explanation, but to show you as many ads as possible\n",
    " - Very verbose, lots of unneccesary alternatives.\n",
    "\n",
    " Example: \"python how do I invert a list\"\n",
    "\n",
    " Recommend: w3schools, python.org (which is often more technical)"
   ]
  },
  {
   "cell_type": "markdown",
   "id": "fc14f79b",
   "metadata": {
    "slideshow": {
     "slide_type": "slide"
    }
   },
   "source": [
    "## Programming crash course"
   ]
  },
  {
   "cell_type": "markdown",
   "id": "c651d3b6",
   "metadata": {
    "slideshow": {
     "slide_type": "slide"
    }
   },
   "source": [
    "### Programming means: make the computer do the work for you!"
   ]
  },
  {
   "cell_type": "markdown",
   "id": "4991dc3b",
   "metadata": {
    "slideshow": {
     "slide_type": ""
    }
   },
   "source": [
    " - Do the maths\n",
    " - Boring repetitions\n",
    " - Too complicated/extensive tasks\n",
    " - Big data sets \n",
    " - Make your analysis reproducible\n",
    " -  ..."
   ]
  },
  {
   "cell_type": "markdown",
   "id": "ea89d370",
   "metadata": {
    "slideshow": {
     "slide_type": "slide"
    }
   },
   "source": [
    "### Running code in a compiled language (such as C)"
   ]
  },
  {
   "cell_type": "markdown",
   "id": "7392424c",
   "metadata": {},
   "source": [
    "1. Write your code in a high-level programming language.\n",
    "2. Translate into low-level (machine/assembly) language.\n",
    "3. Execute the program.\n",
    "\n"
   ]
  },
  {
   "cell_type": "markdown",
   "id": "6b021fa4",
   "metadata": {
    "slideshow": {
     "slide_type": "slide"
    }
   },
   "source": [
    "### Running code in an interpreted language (such as Python)"
   ]
  },
  {
   "cell_type": "markdown",
   "id": "33f9ae48",
   "metadata": {
    "lines_to_next_cell": 0,
    "slideshow": {
     "slide_type": ""
    }
   },
   "source": [
    "1. Write your code in high-level programming language.\n",
    "2. Interpret code and execute directly"
   ]
  },
  {
   "cell_type": "markdown",
   "id": "27c289db",
   "metadata": {},
   "source": [
    "\n"
   ]
  },
  {
   "cell_type": "markdown",
   "id": "2467a4cc",
   "metadata": {
    "slideshow": {
     "slide_type": "slide"
    }
   },
   "source": [
    "### Python can be executed in different ways\n",
    "#### Command line script"
   ]
  },
  {
   "cell_type": "markdown",
   "id": "7bf428ce",
   "metadata": {
    "slideshow": {
     "slide_type": ""
    }
   },
   "source": [
    "1. Create a `myname.py` file\n",
    "2. run python `myname.py`"
   ]
  },
  {
   "cell_type": "markdown",
   "id": "772cccfe",
   "metadata": {
    "slideshow": {
     "slide_type": "fragment"
    }
   },
   "source": [
    "#### interactive or ipython session:\n",
    " - Start with typing `python` or better `ipython`"
   ]
  },
  {
   "cell_type": "markdown",
   "id": "0055ace7",
   "metadata": {
    "slideshow": {
     "slide_type": "slide"
    }
   },
   "source": [
    "### Demonstration of using _Jupyter_ notebook"
   ]
  },
  {
   "cell_type": "markdown",
   "id": "9c882b07",
   "metadata": {
    "slideshow": {
     "slide_type": ""
    }
   },
   "source": [
    "Jupyter works with cells such as these, which you execute with the play button or `Shift/Strg + Enter`:"
   ]
  },
  {
   "cell_type": "markdown",
   "id": "bf0f501d",
   "metadata": {
    "lines_to_next_cell": 0
   },
   "source": [
    "<!-- #solution -->"
   ]
  },
  {
   "cell_type": "code",
   "execution_count": null,
   "id": "8db73c72",
   "metadata": {
    "lines_to_next_cell": 0,
    "slideshow": {
     "slide_type": ""
    }
   },
   "outputs": [],
   "source": [
    "# Add just a one to the cell and execute"
   ]
  },
  {
   "cell_type": "markdown",
   "id": "17c791d0",
   "metadata": {},
   "source": [
    "<!-- #endsolution -->"
   ]
  },
  {
   "cell_type": "markdown",
   "id": "e49a788f",
   "metadata": {
    "slideshow": {
     "slide_type": ""
    }
   },
   "source": [
    "If the box on the left is empty, you have not executed it. Otherwise a number indicates in which order the execution took place.\n",
    "\n",
    "You can add cells with the plus. You can also change the type"
   ]
  },
  {
   "cell_type": "markdown",
   "id": "d4fe0f20",
   "metadata": {
    "lines_to_next_cell": 0,
    "slideshow": {
     "slide_type": ""
    }
   },
   "source": [
    "##### Now it is markdown and the `#` indicates a header (or `##`, etc., up to 6 times, with smaller font sizes)"
   ]
  },
  {
   "cell_type": "markdown",
   "id": "e8141edb",
   "metadata": {},
   "source": [
    "\n"
   ]
  },
  {
   "cell_type": "markdown",
   "id": "f7a3ffdd",
   "metadata": {
    "slideshow": {
     "slide_type": "slide"
    }
   },
   "source": [
    "# <ins>**Part I**</ins>"
   ]
  },
  {
   "cell_type": "markdown",
   "id": "a37c4ddc",
   "metadata": {
    "lines_to_next_cell": 2,
    "slideshow": {
     "slide_type": "slide"
    }
   },
   "source": [
    "# <ins>1.</ins> Basics"
   ]
  },
  {
   "cell_type": "markdown",
   "id": "be7a1f81",
   "metadata": {
    "slideshow": {
     "slide_type": "slide"
    }
   },
   "source": [
    "## Basic data types\n",
    "As any programming language, Python can deal with many different data types. Among the basic ones are `str` strings, `int` integers, `float` floating-point numbers and `bool` booleans."
   ]
  },
  {
   "cell_type": "markdown",
   "id": "7b93adae",
   "metadata": {
    "lines_to_next_cell": 0,
    "slideshow": {
     "slide_type": ""
    }
   },
   "source": [
    "- Strings: \"Heinz\", 'Banana', 'He said \"Hello\"'\n",
    "- Integers: 1, 2, 3, 22222222, -777\n",
    "- Floats: -1.2, 0.0, 2.7182\n",
    "- Booleans: True, False"
   ]
  },
  {
   "cell_type": "markdown",
   "id": "67d0cf8e",
   "metadata": {},
   "source": [
    "\n"
   ]
  },
  {
   "cell_type": "markdown",
   "id": "4e0863a4",
   "metadata": {
    "slideshow": {
     "slide_type": "slide"
    }
   },
   "source": [
    "## Variables\n",
    "Values are stored in _variables_, which are of data types listed above or more complex ones."
   ]
  },
  {
   "cell_type": "markdown",
   "id": "2943d6ef",
   "metadata": {
    "lines_to_next_cell": 0,
    "slideshow": {
     "slide_type": ""
    }
   },
   "source": [
    "- “I reserve a space in memory for my data bit, and I call it \n",
    "by the name x\n",
    "- Syntax: name = value”"
   ]
  },
  {
   "cell_type": "markdown",
   "id": "b0b1d444",
   "metadata": {},
   "source": [
    "\n"
   ]
  },
  {
   "cell_type": "markdown",
   "id": "9b1f4335",
   "metadata": {
    "slideshow": {
     "slide_type": "slide"
    }
   },
   "source": [
    "### _<ins>Example</ins>:_ Print type of a variable"
   ]
  },
  {
   "cell_type": "markdown",
   "id": "003b5558",
   "metadata": {
    "lines_to_next_cell": 0
   },
   "source": [
    "<!-- #solution -->"
   ]
  },
  {
   "cell_type": "code",
   "execution_count": null,
   "id": "820cab63",
   "metadata": {
    "lines_to_next_cell": 0,
    "slideshow": {
     "slide_type": ""
    }
   },
   "outputs": [],
   "source": [
    "# print statement \"Hello\""
   ]
  },
  {
   "cell_type": "markdown",
   "id": "644c5101",
   "metadata": {
    "lines_to_next_cell": 0
   },
   "source": [
    "<!-- #endsolution -->\n",
    "\n",
    "<!-- #solution -->"
   ]
  },
  {
   "cell_type": "code",
   "execution_count": null,
   "id": "fed51c79",
   "metadata": {
    "lines_to_next_cell": 0,
    "slideshow": {
     "slide_type": ""
    }
   },
   "outputs": [],
   "source": [
    "# put the content of the print statement in a variable"
   ]
  },
  {
   "cell_type": "markdown",
   "id": "57d4dea1",
   "metadata": {
    "lines_to_next_cell": 0
   },
   "source": [
    "<!-- #endsolution -->\n",
    "\n",
    "<!-- #solution -->"
   ]
  },
  {
   "cell_type": "code",
   "execution_count": null,
   "id": "f617c39d",
   "metadata": {
    "lines_to_next_cell": 0,
    "slideshow": {
     "slide_type": ""
    }
   },
   "outputs": [],
   "source": [
    "# check the type of that variable"
   ]
  },
  {
   "cell_type": "markdown",
   "id": "6a867485",
   "metadata": {},
   "source": [
    "<!-- #endsolution -->\n",
    "\n"
   ]
  },
  {
   "cell_type": "markdown",
   "id": "61a87be4",
   "metadata": {
    "slideshow": {
     "slide_type": "slide"
    }
   },
   "source": [
    "### _<ins>Example</ins>:_ Try to assign the data types at the following qr code"
   ]
  },
  {
   "cell_type": "markdown",
   "id": "ac53d88b",
   "metadata": {},
   "source": [
    "Try not to overthink. If something is ambiguous pick what fits best\n",
    "\n",
    "![QRCode](images/qr_question1.png)\n",
    "\n"
   ]
  },
  {
   "cell_type": "markdown",
   "id": "9b5130de",
   "metadata": {
    "slideshow": {
     "slide_type": "slide"
    }
   },
   "source": [
    "### _<ins>Example</ins>:_ Add integers"
   ]
  },
  {
   "cell_type": "markdown",
   "id": "1ab1cc7e",
   "metadata": {
    "lines_to_next_cell": 0
   },
   "source": [
    "<!-- #solution -->"
   ]
  },
  {
   "cell_type": "code",
   "execution_count": null,
   "id": "b0b6ae4c",
   "metadata": {
    "lines_to_next_cell": 0,
    "slideshow": {
     "slide_type": ""
    }
   },
   "outputs": [],
   "source": [
    "# Adding two integers (2 and 5)"
   ]
  },
  {
   "cell_type": "markdown",
   "id": "99346cbe",
   "metadata": {
    "lines_to_next_cell": 0
   },
   "source": [
    "<!-- #endsolution -->\n",
    "\n",
    "<!-- #solution -->"
   ]
  },
  {
   "cell_type": "code",
   "execution_count": null,
   "id": "e74cf86f",
   "metadata": {
    "lines_to_next_cell": 0,
    "slideshow": {
     "slide_type": ""
    }
   },
   "outputs": [],
   "source": [
    "# Adding integers to a string (\"2+5 = \") naively"
   ]
  },
  {
   "cell_type": "markdown",
   "id": "9bfb0bd3",
   "metadata": {
    "lines_to_next_cell": 0
   },
   "source": [
    "<!-- #endsolution -->\n",
    "\n",
    "<!-- #solution -->"
   ]
  },
  {
   "cell_type": "code",
   "execution_count": null,
   "id": "2bff0602",
   "metadata": {
    "lines_to_next_cell": 0,
    "slideshow": {
     "slide_type": ""
    }
   },
   "outputs": [],
   "source": [
    "# Solution: call the result into a string"
   ]
  },
  {
   "cell_type": "markdown",
   "id": "168c68a0",
   "metadata": {},
   "source": [
    "<!-- #endsolution -->\n",
    "\n"
   ]
  },
  {
   "cell_type": "markdown",
   "id": "e1a7fb17",
   "metadata": {
    "slideshow": {
     "slide_type": "slide"
    }
   },
   "source": [
    "### _<ins>Example</ins>:_ Boolean type"
   ]
  },
  {
   "cell_type": "markdown",
   "id": "1f1b24c9",
   "metadata": {
    "lines_to_next_cell": 0
   },
   "source": [
    "<!-- #solution -->"
   ]
  },
  {
   "cell_type": "code",
   "execution_count": null,
   "id": "cc43074a",
   "metadata": {
    "lines_to_next_cell": 0,
    "slideshow": {
     "slide_type": ""
    }
   },
   "outputs": [],
   "source": [
    "# boolean have to be capitalized"
   ]
  },
  {
   "cell_type": "markdown",
   "id": "3e5122b8",
   "metadata": {
    "lines_to_next_cell": 0
   },
   "source": [
    "<!-- #endsolution -->\n",
    "\n",
    "<!-- #solution -->"
   ]
  },
  {
   "cell_type": "code",
   "execution_count": null,
   "id": "0c858cab",
   "metadata": {
    "lines_to_next_cell": 0,
    "slideshow": {
     "slide_type": ""
    }
   },
   "outputs": [],
   "source": [
    "# Checking the type of a boolean"
   ]
  },
  {
   "cell_type": "markdown",
   "id": "305cb49d",
   "metadata": {
    "lines_to_next_cell": 0
   },
   "source": [
    "<!-- #endsolution -->\n",
    "\n",
    "<!-- #solution -->"
   ]
  },
  {
   "cell_type": "code",
   "execution_count": null,
   "id": "33c18b42",
   "metadata": {
    "lines_to_next_cell": 0,
    "slideshow": {
     "slide_type": ""
    }
   },
   "outputs": [],
   "source": [
    "# Adding a boolean to an integer"
   ]
  },
  {
   "cell_type": "markdown",
   "id": "6277eda8",
   "metadata": {
    "lines_to_next_cell": 0
   },
   "source": [
    "<!-- #endsolution -->\n",
    "\n",
    "<!-- #solution -->"
   ]
  },
  {
   "cell_type": "code",
   "execution_count": null,
   "id": "50d03182",
   "metadata": {
    "lines_to_next_cell": 0,
    "slideshow": {
     "slide_type": ""
    }
   },
   "outputs": [],
   "source": [
    "# Checking the type of the result"
   ]
  },
  {
   "cell_type": "markdown",
   "id": "caebdb32",
   "metadata": {},
   "source": [
    "<!-- #endsolution -->\n",
    "\n"
   ]
  },
  {
   "cell_type": "markdown",
   "id": "2ae3023b",
   "metadata": {
    "slideshow": {
     "slide_type": "slide"
    }
   },
   "source": [
    "### _<ins>Example</ins>:_ Boolean operators"
   ]
  },
  {
   "cell_type": "markdown",
   "id": "cf3bac5a",
   "metadata": {
    "lines_to_next_cell": 0
   },
   "source": [
    "<!-- #solution -->"
   ]
  },
  {
   "cell_type": "code",
   "execution_count": null,
   "id": "56460715",
   "metadata": {
    "lines_to_next_cell": 0,
    "slideshow": {
     "slide_type": ""
    }
   },
   "outputs": [],
   "source": [
    "# Adding booleans"
   ]
  },
  {
   "cell_type": "markdown",
   "id": "f1b713c4",
   "metadata": {
    "lines_to_next_cell": 0
   },
   "source": [
    "<!-- #endsolution -->\n",
    "\n",
    "<!-- #solution -->"
   ]
  },
  {
   "cell_type": "code",
   "execution_count": null,
   "id": "3b82c1bf",
   "metadata": {
    "lines_to_next_cell": 0,
    "slideshow": {
     "slide_type": ""
    }
   },
   "outputs": [],
   "source": [
    "# Logical AND"
   ]
  },
  {
   "cell_type": "markdown",
   "id": "74ab2a2b",
   "metadata": {
    "lines_to_next_cell": 0
   },
   "source": [
    "<!-- #endsolution -->\n",
    "\n",
    "<!-- #solution -->"
   ]
  },
  {
   "cell_type": "code",
   "execution_count": null,
   "id": "d92e4276",
   "metadata": {
    "lines_to_next_cell": 0,
    "slideshow": {
     "slide_type": ""
    }
   },
   "outputs": [],
   "source": [
    "# Logical OR"
   ]
  },
  {
   "cell_type": "markdown",
   "id": "ef711f92",
   "metadata": {
    "lines_to_next_cell": 0
   },
   "source": [
    "<!-- #endsolution -->\n",
    "\n",
    "<!-- #solution -->"
   ]
  },
  {
   "cell_type": "code",
   "execution_count": null,
   "id": "9582c3d1",
   "metadata": {
    "lines_to_next_cell": 0,
    "slideshow": {
     "slide_type": ""
    }
   },
   "outputs": [],
   "source": [
    "# Negating boolean"
   ]
  },
  {
   "cell_type": "markdown",
   "id": "9d711c66",
   "metadata": {},
   "source": [
    "<!-- #endsolution -->\n",
    "\n"
   ]
  },
  {
   "cell_type": "markdown",
   "id": "ae8f14bb",
   "metadata": {
    "slideshow": {
     "slide_type": "slide"
    }
   },
   "source": [
    "## Basic operators\n",
    "New values can be obtained by applying operators to old values, for example, mathematical operators on numerical data types `int` or `float`."
   ]
  },
  {
   "cell_type": "markdown",
   "id": "a1d837fa",
   "metadata": {
    "lines_to_next_cell": 0,
    "slideshow": {
     "slide_type": ""
    }
   },
   "source": [
    "- String: concatenation with `+`\n",
    "- Bool: `and`, `or`, `not`\n",
    "- Numerical data: `+`, `-`, `*`, `/`, `%`, `**`, built-in functions `abs`, ...\n",
    "- Order of execution:\n",
    "    1. `()`\n",
    "    2. `**`\n",
    "    3. `*`, `/`\n",
    "    4. `+`, `-`\n",
    "    5. Left-to-right (except exponentiation!)\n",
    "\n",
    "So, use parenthesis to make sure!"
   ]
  },
  {
   "cell_type": "markdown",
   "id": "5dd59b5f",
   "metadata": {},
   "source": [
    "\n"
   ]
  },
  {
   "cell_type": "markdown",
   "id": "35b61bd8",
   "metadata": {
    "slideshow": {
     "slide_type": "slide"
    }
   },
   "source": [
    "## Comments (and documentation)\n",
    "Anything following the `#` character on a line is ignored by Python interpreter and becomes a comment. Comments are useful to document the code."
   ]
  },
  {
   "cell_type": "code",
   "execution_count": null,
   "id": "24c14c81",
   "metadata": {
    "lines_to_next_cell": 0,
    "slideshow": {
     "slide_type": ""
    }
   },
   "outputs": [],
   "source": [
    "# This is my programme to demonstrate how to\n",
    "# do simple calculations in Python.\n",
    "\n",
    "my_number = 2\n",
    "\n",
    "my_other_number = my_number + 5\n",
    "\n",
    "my_number = my_other_number / 2 # I have to divide\n",
    "                                # by 2 here, as the\n",
    "                                # results are\n",
    "                                # otherwise rubbish\n",
    "\n",
    "print(my_number)"
   ]
  },
  {
   "cell_type": "markdown",
   "id": "8c82d0b5",
   "metadata": {},
   "source": [
    "\n"
   ]
  },
  {
   "cell_type": "markdown",
   "id": "5bb65f4e",
   "metadata": {
    "slideshow": {
     "slide_type": "slide"
    }
   },
   "source": [
    "## Debugging and Types of Errors"
   ]
  },
  {
   "cell_type": "markdown",
   "id": "02623068",
   "metadata": {
    "lines_to_next_cell": 0,
    "slideshow": {
     "slide_type": ""
    }
   },
   "source": [
    "- Errors in computer programs are called ``bugs'' for historic reasons.\n",
    "- For complex projects, you will usually spend more time testing and debugging than writing code.\n",
    "- Three types of errors:\n",
    "    - Syntax errors - written the code wrongly\n",
    "    - Semantic errors - written the wrong code\n",
    "    - Runtime errors - something's wrong with the code (during execution)"
   ]
  },
  {
   "cell_type": "markdown",
   "id": "a00c80a4",
   "metadata": {},
   "source": [
    "\n",
    "\n"
   ]
  },
  {
   "cell_type": "markdown",
   "id": "f0fa6e22",
   "metadata": {
    "slideshow": {
     "slide_type": "slide"
    }
   },
   "source": [
    "## Have a play!"
   ]
  },
  {
   "cell_type": "markdown",
   "id": "d455cdd9",
   "metadata": {},
   "source": [
    "### _Exercises_"
   ]
  },
  {
   "cell_type": "markdown",
   "id": "512936f6",
   "metadata": {
    "lines_to_next_cell": 0,
    "slideshow": {
     "slide_type": ""
    }
   },
   "source": [
    "You could try\n",
    " - what happens if you add a float and an integer,\n",
    " - what happens if you mix numbers and bools in arithmetic expressions,\n",
    " - how setting parenthesis changes the result of a large arithmetic expression,\n",
    " - to print statements that include variables of different data types,\n",
    " - try to reproduce each of the error types,\n",
    " - ..."
   ]
  },
  {
   "cell_type": "markdown",
   "id": "bdde759c",
   "metadata": {},
   "source": [
    "\n"
   ]
  },
  {
   "cell_type": "markdown",
   "id": "08cead02",
   "metadata": {
    "slideshow": {
     "slide_type": "slide"
    }
   },
   "source": [
    "#### _Example solution_"
   ]
  },
  {
   "cell_type": "markdown",
   "id": "f27d19ef",
   "metadata": {
    "lines_to_next_cell": 0
   },
   "source": [
    "<!-- #solution -->"
   ]
  },
  {
   "cell_type": "code",
   "execution_count": null,
   "id": "a8e270b7",
   "metadata": {
    "lines_to_next_cell": 0,
    "slideshow": {
     "slide_type": ""
    }
   },
   "outputs": [],
   "source": [
    "# What happens if you add a float and an integer?"
   ]
  },
  {
   "cell_type": "markdown",
   "id": "8da25ccf",
   "metadata": {},
   "source": [
    "<!-- #endsolution -->"
   ]
  },
  {
   "cell_type": "markdown",
   "id": "240c7eb6",
   "metadata": {
    "slideshow": {
     "slide_type": "slide"
    }
   },
   "source": [
    "#### _Example solution_"
   ]
  },
  {
   "cell_type": "markdown",
   "id": "dea5c55a",
   "metadata": {
    "lines_to_next_cell": 0
   },
   "source": [
    "<!-- #solution -->"
   ]
  },
  {
   "cell_type": "code",
   "execution_count": null,
   "id": "27770ab1",
   "metadata": {
    "lines_to_next_cell": 0,
    "slideshow": {
     "slide_type": ""
    }
   },
   "outputs": [],
   "source": [
    "# What happens if you mix numbers and bools in arithmetic expressions?"
   ]
  },
  {
   "cell_type": "markdown",
   "id": "1cd75b47",
   "metadata": {},
   "source": [
    "<!-- #endsolution -->\n"
   ]
  },
  {
   "cell_type": "markdown",
   "id": "0ef8ff45",
   "metadata": {
    "slideshow": {
     "slide_type": "fragment"
    }
   },
   "source": [
    "True is converted to one and False is converted to zero"
   ]
  },
  {
   "cell_type": "markdown",
   "id": "e31ad5cb",
   "metadata": {
    "slideshow": {
     "slide_type": "slide"
    }
   },
   "source": [
    "#### _Example solution_"
   ]
  },
  {
   "cell_type": "markdown",
   "id": "bb8993d7",
   "metadata": {
    "lines_to_next_cell": 0
   },
   "source": [
    "<!-- #solution -->"
   ]
  },
  {
   "cell_type": "code",
   "execution_count": null,
   "id": "4ac6ac2f",
   "metadata": {
    "lines_to_next_cell": 0,
    "slideshow": {
     "slide_type": ""
    }
   },
   "outputs": [],
   "source": [
    "# How setting parenthesis changes the result of a large arithmetic expression?"
   ]
  },
  {
   "cell_type": "markdown",
   "id": "d3f563ed",
   "metadata": {},
   "source": [
    "<!-- #endsolution -->"
   ]
  },
  {
   "cell_type": "markdown",
   "id": "9b08f178",
   "metadata": {
    "slideshow": {
     "slide_type": "slide"
    }
   },
   "source": [
    "#### _Example solution_"
   ]
  },
  {
   "cell_type": "markdown",
   "id": "e135cb0d",
   "metadata": {
    "lines_to_next_cell": 0
   },
   "source": [
    "<!-- #solution -->"
   ]
  },
  {
   "cell_type": "code",
   "execution_count": null,
   "id": "85ac384f",
   "metadata": {
    "lines_to_next_cell": 0,
    "slideshow": {
     "slide_type": ""
    }
   },
   "outputs": [],
   "source": [
    "# Print statements that include variables of different data types."
   ]
  },
  {
   "cell_type": "markdown",
   "id": "3aa21ed3",
   "metadata": {},
   "source": [
    "<!-- #endsolution -->"
   ]
  },
  {
   "cell_type": "markdown",
   "id": "89839800",
   "metadata": {
    "slideshow": {
     "slide_type": "slide"
    }
   },
   "source": [
    "#### _Example solutions_\n",
    "Try to reproduce each of the error types\n"
   ]
  },
  {
   "cell_type": "markdown",
   "id": "dc38f9c9",
   "metadata": {
    "slideshow": {
     "slide_type": ""
    }
   },
   "source": [
    "##### 1. Syntax Error"
   ]
  },
  {
   "cell_type": "markdown",
   "id": "92561014",
   "metadata": {
    "lines_to_next_cell": 0
   },
   "source": [
    "<!-- #solution -->"
   ]
  },
  {
   "cell_type": "code",
   "execution_count": null,
   "id": "f2990050",
   "metadata": {
    "lines_to_next_cell": 0,
    "slideshow": {
     "slide_type": ""
    }
   },
   "outputs": [],
   "source": []
  },
  {
   "cell_type": "markdown",
   "id": "bea48593",
   "metadata": {},
   "source": [
    "<!-- #endsolution -->"
   ]
  },
  {
   "cell_type": "markdown",
   "id": "3f2bc6f3",
   "metadata": {
    "slideshow": {
     "slide_type": ""
    }
   },
   "source": [
    "##### 2. Semantic Error"
   ]
  },
  {
   "cell_type": "markdown",
   "id": "d965cec7",
   "metadata": {
    "lines_to_next_cell": 0
   },
   "source": [
    "<!-- #solution -->"
   ]
  },
  {
   "cell_type": "code",
   "execution_count": null,
   "id": "9e5cb369",
   "metadata": {
    "lines_to_next_cell": 0,
    "slideshow": {
     "slide_type": ""
    }
   },
   "outputs": [],
   "source": []
  },
  {
   "cell_type": "markdown",
   "id": "8019bff9",
   "metadata": {},
   "source": [
    "<!-- #endsolution -->"
   ]
  },
  {
   "cell_type": "markdown",
   "id": "fab74f4e",
   "metadata": {
    "slideshow": {
     "slide_type": ""
    }
   },
   "source": [
    "##### 3. Runtime Error"
   ]
  },
  {
   "cell_type": "markdown",
   "id": "12f54e56",
   "metadata": {
    "lines_to_next_cell": 0
   },
   "source": [
    "<!-- #solution -->"
   ]
  },
  {
   "cell_type": "code",
   "execution_count": null,
   "id": "5e3c18a0",
   "metadata": {
    "lines_to_next_cell": 0,
    "slideshow": {
     "slide_type": ""
    }
   },
   "outputs": [],
   "source": []
  },
  {
   "cell_type": "markdown",
   "id": "185a3c68",
   "metadata": {},
   "source": [
    "<!-- #endsolution -->"
   ]
  },
  {
   "cell_type": "markdown",
   "id": "5e3a6a96",
   "metadata": {
    "lines_to_next_cell": 0,
    "slideshow": {
     "slide_type": "slide"
    }
   },
   "source": [
    "## Interlude: Indented blocks in python\n",
    "Python uses indention to separate blocs after a `:`\n",
    "```python\n",
    "some_functionality_on_block:\n",
    "   first_statement_in_block()\n",
    "   second_statement_in_block()\n",
    "statement_not_in_block()\n",
    "```\n"
   ]
  },
  {
   "cell_type": "markdown",
   "id": "aaaf08a1",
   "metadata": {},
   "source": [
    "\n"
   ]
  },
  {
   "cell_type": "markdown",
   "id": "c18bdc0a",
   "metadata": {
    "slideshow": {
     "slide_type": "slide"
    }
   },
   "source": [
    "# <ins>2.</ins> Functions"
   ]
  },
  {
   "cell_type": "markdown",
   "id": "5690687b",
   "metadata": {
    "slideshow": {
     "slide_type": ""
    }
   },
   "source": [
    "A function is a block of reusable code that performs a specific task. Functions help reduce repetition and make code easier to manage. A function is defined using the `def` keyword."
   ]
  },
  {
   "cell_type": "markdown",
   "id": "d945e2a6",
   "metadata": {},
   "source": [
    "* You can pass data to functions (parameters).\n",
    "* Functions can return values.\n",
    "* Functions help break down complex programs into smaller, manageable parts."
   ]
  },
  {
   "cell_type": "code",
   "execution_count": null,
   "id": "df408f1c",
   "metadata": {},
   "outputs": [],
   "source": [
    "# Function to add two numbers\n",
    "def add_numbers(a, b):\n",
    "    return a + b\n",
    "\n",
    "# Call the function\n",
    "result = add_numbers(3, 4)\n",
    "print(result)"
   ]
  },
  {
   "cell_type": "markdown",
   "id": "2f183b45",
   "metadata": {
    "slideshow": {
     "slide_type": "slide"
    }
   },
   "source": [
    "## Have a play!"
   ]
  },
  {
   "cell_type": "markdown",
   "id": "a0836ac8",
   "metadata": {
    "lines_to_next_cell": 0,
    "slideshow": {
     "slide_type": "slide"
    }
   },
   "source": [
    "### _Exercises_\n",
    "\n",
    "**1)** Write a function that converts Celsius to Fahrenheit. Use the formula  \n",
    "$\n",
    "\\text{Fahrenheit} = (\\text{Celsius} \\times \\frac{9}{5}) + 32\n",
    "$\n",
    "\n",
    "<!-- #solution -->"
   ]
  },
  {
   "cell_type": "code",
   "execution_count": null,
   "id": "4ff1d304",
   "metadata": {
    "lines_to_next_cell": 0
   },
   "outputs": [],
   "source": []
  },
  {
   "cell_type": "markdown",
   "id": "d5657ac3",
   "metadata": {},
   "source": [
    "<!-- #endsolution -->"
   ]
  },
  {
   "cell_type": "markdown",
   "id": "82399b50",
   "metadata": {
    "slideshow": {
     "slide_type": "slide"
    }
   },
   "source": [
    "# <ins>**Part II**</ins>"
   ]
  },
  {
   "cell_type": "markdown",
   "id": "55d42634",
   "metadata": {
    "lines_to_next_cell": 2,
    "slideshow": {
     "slide_type": "slide"
    }
   },
   "source": [
    "# <ins>3.</ins> Getting Data in and out"
   ]
  },
  {
   "cell_type": "markdown",
   "id": "81908501",
   "metadata": {
    "slideshow": {
     "slide_type": "slide"
    }
   },
   "source": [
    "## User input\n",
    "The `print` function enables a Python program to display textual information to the user. The `input` function maybe used to obtain information from the user."
   ]
  },
  {
   "cell_type": "code",
   "execution_count": null,
   "id": "e308b647",
   "metadata": {
    "slideshow": {
     "slide_type": ""
    }
   },
   "outputs": [],
   "source": [
    "# Get some user input\n",
    "x = input()\n",
    "# print it\n",
    "print(x)\n",
    "# check the type of the input\n",
    "type(x)   # This will be a string if you don't convert it"
   ]
  },
  {
   "cell_type": "code",
   "execution_count": null,
   "id": "4314aa1c",
   "metadata": {
    "lines_to_next_cell": 0,
    "slideshow": {
     "slide_type": ""
    }
   },
   "outputs": [],
   "source": [
    "# Implement a greeting function with user input\n",
    "name = input(\"What's you name?\")\n",
    "print(\"Hello \" + name)"
   ]
  },
  {
   "cell_type": "markdown",
   "id": "be305bd9",
   "metadata": {},
   "source": [
    "\n"
   ]
  },
  {
   "cell_type": "markdown",
   "id": "37e09251",
   "metadata": {
    "slideshow": {
     "slide_type": "slide"
    }
   },
   "source": [
    "## Reading and writing files"
   ]
  },
  {
   "cell_type": "markdown",
   "id": "29b11e65",
   "metadata": {
    "lines_to_next_cell": 0,
    "slideshow": {
     "slide_type": ""
    }
   },
   "source": [
    "```python\n",
    "# Create a file object\n",
    "with open(\"testfile.txt\", 'w') as my_file:\n",
    "    ...\n",
    "```\n",
    "Two things to note here:\n",
    " - My object `my_file` is different from my file `\"testfile\"`!\n",
    " - There are different modes:\n",
    "     - read: `'r'`\n",
    "     - (over-)write: `'w'`\n",
    "     - append: `'a'`\n",
    "     - read+write: `'w+'` or `'r+'`"
   ]
  },
  {
   "cell_type": "markdown",
   "id": "3e6b15f4",
   "metadata": {},
   "source": [
    "\n"
   ]
  },
  {
   "cell_type": "markdown",
   "id": "9e8a3461",
   "metadata": {
    "slideshow": {
     "slide_type": "slide"
    }
   },
   "source": [
    "### Writing files and formatting strings (C-style)"
   ]
  },
  {
   "cell_type": "code",
   "execution_count": null,
   "id": "7b60e398",
   "metadata": {
    "slideshow": {
     "slide_type": ""
    }
   },
   "outputs": [],
   "source": [
    "with open(\"testfile.txt\", \"w\") as my_file:\n",
    "    # Write - note special characters!\n",
    "    my_file.write(\"This is some text. \\n And some more.\")\n",
    "    my_file.write(\"\\n\\nI can also add numbers like this: %d %d \\n\" %(22, 333))\n",
    "\n",
    "    my_file.write(str(222))"
   ]
  },
  {
   "cell_type": "markdown",
   "id": "2e65fead",
   "metadata": {
    "lines_to_next_cell": 0,
    "slideshow": {
     "slide_type": ""
    }
   },
   "source": [
    "see also [https://www.learnpython.org/en/String\\_Formatting](https://www.learnpython.org/en/String_Formatting)"
   ]
  },
  {
   "cell_type": "markdown",
   "id": "637e0c17",
   "metadata": {},
   "source": [
    "\n"
   ]
  },
  {
   "cell_type": "markdown",
   "id": "8c0809d6",
   "metadata": {
    "slideshow": {
     "slide_type": "slide"
    }
   },
   "source": [
    "### Writing files (f-strings)"
   ]
  },
  {
   "cell_type": "code",
   "execution_count": null,
   "id": "31781e46",
   "metadata": {
    "slideshow": {
     "slide_type": ""
    }
   },
   "outputs": [],
   "source": [
    "number1 = 44\n",
    "number2 = 111\n",
    "\n",
    "with open(\"testfile.txt\", \"a\") as my_file:\n",
    "    # Append to the opened file\n",
    "    my_file.write(f\"\\n I have opened the same file again.\\n More numbers: {number1} {number2}.\")"
   ]
  },
  {
   "cell_type": "markdown",
   "id": "6b866c4d",
   "metadata": {
    "lines_to_next_cell": 0,
    "slideshow": {
     "slide_type": ""
    }
   },
   "source": [
    "see also [f-strings](https://realpython.com/python-f-strings/)"
   ]
  },
  {
   "cell_type": "markdown",
   "id": "4ffce1e8",
   "metadata": {},
   "source": [
    "\n"
   ]
  },
  {
   "cell_type": "markdown",
   "id": "f13138d1",
   "metadata": {
    "slideshow": {
     "slide_type": "slide"
    }
   },
   "source": [
    "### Reading files"
   ]
  },
  {
   "cell_type": "code",
   "execution_count": null,
   "id": "b303c874",
   "metadata": {
    "lines_to_next_cell": 0,
    "slideshow": {
     "slide_type": ""
    }
   },
   "outputs": [],
   "source": [
    "with open(\"testfile.txt\", \"r\") as my_file:\n",
    "    # Read it and print it to screen\n",
    "    print(my_file.read())\n",
    "\n",
    "    # Try this:\n",
    "    #print(my_file.read(7))\n",
    "    #print(my_file.readline())\n",
    "    #print(my_file.readlines())"
   ]
  },
  {
   "cell_type": "markdown",
   "id": "2d1313ed",
   "metadata": {},
   "source": [
    "\n"
   ]
  },
  {
   "cell_type": "markdown",
   "id": "3d699dba",
   "metadata": {
    "slideshow": {
     "slide_type": "slide"
    }
   },
   "source": [
    "## Have a play!"
   ]
  },
  {
   "cell_type": "markdown",
   "id": "71d8f804",
   "metadata": {},
   "source": [
    "### _Exercises_"
   ]
  },
  {
   "cell_type": "markdown",
   "id": "31b5c9a2",
   "metadata": {
    "slideshow": {
     "slide_type": ""
    }
   },
   "source": [
    "Here are some exercise ideas for \"Getting data in and out\":\n",
    "- Prompt the user for a filename and write a short text into it.\n",
    "- Read it back and print the lines to the screen.\n",
    "- Experiment with different modes: 'r', 'w', 'a' to see how the file content changes."
   ]
  },
  {
   "cell_type": "code",
   "execution_count": null,
   "id": "013b75fb",
   "metadata": {},
   "outputs": [],
   "source": []
  },
  {
   "cell_type": "markdown",
   "id": "a0689a9d",
   "metadata": {
    "slideshow": {
     "slide_type": "slide"
    }
   },
   "source": [
    "# <ins>4.</ins> Data structures"
   ]
  },
  {
   "cell_type": "markdown",
   "id": "6cc9a8f8",
   "metadata": {},
   "source": [
    "Python can work not only with basic data types mentioned before, but also with compound ones. Compound data types in Python are a powerful tool for organizing and storing data. Among the most commonly used are _lists_ and _dictionaries_. `For`-loops described in the next section often iterate over elements of lists or pairs of keys and values in dictionaries. But they can also iterate over a series of numbers generated for indexing or calculations by the `range()` function."
   ]
  },
  {
   "cell_type": "markdown",
   "id": "ef9198c1",
   "metadata": {
    "slideshow": {
     "slide_type": "slide"
    }
   },
   "source": [
    "## Lists"
   ]
  },
  {
   "cell_type": "markdown",
   "id": "60ee777c",
   "metadata": {},
   "source": [
    "_Lists_ are ordered collections of items."
   ]
  },
  {
   "cell_type": "markdown",
   "id": "c04cf599",
   "metadata": {
    "slideshow": {
     "slide_type": ""
    }
   },
   "source": [
    "* A list contains items separated by commas and enclosed with square brackets `[]`\n",
    "* A list can contain different datatypes (`int`, `float`, `str`, etc.)\n",
    "* Similar to strings, list members can be accessed using their associated index which is zero-based\n",
    "* Common list functions: `append()`, `remove()`, `pop()`"
   ]
  },
  {
   "cell_type": "markdown",
   "id": "0c251e70",
   "metadata": {
    "lines_to_next_cell": 0,
    "slideshow": {
     "slide_type": "slide"
    }
   },
   "source": [
    "### _<ins>Examples:</ins>_\n",
    "\n",
    "<!-- #solution -->"
   ]
  },
  {
   "cell_type": "code",
   "execution_count": null,
   "id": "4702a951",
   "metadata": {
    "lines_to_next_cell": 0
   },
   "outputs": [],
   "source": [
    "# Creating/Initialising a list"
   ]
  },
  {
   "cell_type": "markdown",
   "id": "9210ed76",
   "metadata": {
    "lines_to_next_cell": 0
   },
   "source": [
    "<!-- #endsolution -->\n",
    "\n",
    "<!-- #solution -->"
   ]
  },
  {
   "cell_type": "code",
   "execution_count": null,
   "id": "1aa09c4f",
   "metadata": {
    "lines_to_next_cell": 0,
    "slideshow": {
     "slide_type": ""
    }
   },
   "outputs": [],
   "source": [
    "# Print a list"
   ]
  },
  {
   "cell_type": "markdown",
   "id": "9da87850",
   "metadata": {
    "lines_to_next_cell": 0
   },
   "source": [
    "<!-- #endsolution -->\n",
    "\n",
    "<!-- #solution -->"
   ]
  },
  {
   "cell_type": "code",
   "execution_count": null,
   "id": "40bb6756",
   "metadata": {
    "lines_to_next_cell": 0,
    "slideshow": {
     "slide_type": ""
    }
   },
   "outputs": [],
   "source": [
    "# Print an element of the list. Note: use [] not () for item indexing"
   ]
  },
  {
   "cell_type": "markdown",
   "id": "df7f1bed",
   "metadata": {
    "lines_to_next_cell": 0
   },
   "source": [
    "<!-- #endsolution -->\n",
    "\n",
    "<!-- #solution -->"
   ]
  },
  {
   "cell_type": "code",
   "execution_count": null,
   "id": "185e0d82",
   "metadata": {
    "lines_to_next_cell": 0,
    "slideshow": {
     "slide_type": ""
    }
   },
   "outputs": [],
   "source": [
    "# Print the first element of the list. Indexing starts with 0!"
   ]
  },
  {
   "cell_type": "markdown",
   "id": "6bf3bc64",
   "metadata": {
    "lines_to_next_cell": 0
   },
   "source": [
    "<!-- #endsolution -->\n",
    "\n",
    "<!-- #solution -->"
   ]
  },
  {
   "cell_type": "code",
   "execution_count": null,
   "id": "29cf0660",
   "metadata": {
    "lines_to_next_cell": 0,
    "slideshow": {
     "slide_type": ""
    }
   },
   "outputs": [],
   "source": [
    "# Print the last element of the list using backward indexing"
   ]
  },
  {
   "cell_type": "markdown",
   "id": "334832e4",
   "metadata": {
    "lines_to_next_cell": 0
   },
   "source": [
    "<!-- #endsolution -->\n",
    "\n",
    "<!-- #solution -->"
   ]
  },
  {
   "cell_type": "code",
   "execution_count": null,
   "id": "a65191d2",
   "metadata": {
    "lines_to_next_cell": 0,
    "slideshow": {
     "slide_type": ""
    }
   },
   "outputs": [],
   "source": [
    "# Print an internal slice of the list"
   ]
  },
  {
   "cell_type": "markdown",
   "id": "bc8a63b6",
   "metadata": {
    "lines_to_next_cell": 0
   },
   "source": [
    "<!-- #endsolution -->\n",
    "\n",
    "<!-- #solution -->"
   ]
  },
  {
   "cell_type": "code",
   "execution_count": null,
   "id": "2f33e6b2",
   "metadata": {
    "lines_to_next_cell": 0,
    "slideshow": {
     "slide_type": ""
    }
   },
   "outputs": [],
   "source": [
    "# Print a slice of the list from the beginning"
   ]
  },
  {
   "cell_type": "markdown",
   "id": "76118dbb",
   "metadata": {
    "lines_to_next_cell": 0
   },
   "source": [
    "<!-- #endsolution -->\n",
    "\n",
    "<!-- #solution -->"
   ]
  },
  {
   "cell_type": "code",
   "execution_count": null,
   "id": "f4621ac0",
   "metadata": {
    "lines_to_next_cell": 0
   },
   "outputs": [],
   "source": [
    "# Different datatypes in lists, length of lists"
   ]
  },
  {
   "cell_type": "markdown",
   "id": "23681536",
   "metadata": {
    "lines_to_next_cell": 0
   },
   "source": [
    "<!-- #endsolution -->\n",
    "\n",
    "<!-- #solution -->"
   ]
  },
  {
   "cell_type": "code",
   "execution_count": null,
   "id": "bb9e7041",
   "metadata": {
    "lines_to_next_cell": 0
   },
   "outputs": [],
   "source": [
    "# Print out `list1`, a slice containing the last element"
   ]
  },
  {
   "cell_type": "markdown",
   "id": "bba4fbf8",
   "metadata": {
    "lines_to_next_cell": 0
   },
   "source": [
    "<!-- #endsolution -->\n",
    "\n",
    "<!-- #solution -->"
   ]
  },
  {
   "cell_type": "code",
   "execution_count": null,
   "id": "6d339d53",
   "metadata": {
    "lines_to_next_cell": 0
   },
   "outputs": [],
   "source": [
    "# Concatenate two lists"
   ]
  },
  {
   "cell_type": "markdown",
   "id": "32a6292a",
   "metadata": {},
   "source": [
    "<!-- #endsolution -->\n",
    "\n",
    "\n",
    "\n"
   ]
  },
  {
   "cell_type": "markdown",
   "id": "659766ef",
   "metadata": {
    "slideshow": {
     "slide_type": "slide"
    }
   },
   "source": [
    "## _Range()_ function"
   ]
  },
  {
   "cell_type": "markdown",
   "id": "5b206061",
   "metadata": {},
   "source": [
    "The `range()` function in Python is used to generate a sequence of numbers. It takes up to three arguments: `start`, `stop`, and `step`. By default, `start` is 0, `step` is 1, and the sequence ends just before the `stop` value."
   ]
  },
  {
   "cell_type": "markdown",
   "id": "3449d1d8",
   "metadata": {},
   "source": [
    "* `range(stop)`: Generates numbers from 0 to stop - 1.\n",
    "* `range(start, stop)`: Generates numbers from start to stop - 1.\n",
    "* `range(start, stop, step)`: Generates numbers from start to stop - 1, stepping by step.\n",
    "* `range()` can generate both increasing and decreasing sequences by changing the step argument.\n",
    "* The generated sequence is immutable, but can be converted to a list or iterated directly."
   ]
  },
  {
   "cell_type": "markdown",
   "id": "f4ce72c4",
   "metadata": {
    "slideshow": {
     "slide_type": "slide"
    }
   },
   "source": [
    "### _<ins>Examples:</ins>_"
   ]
  },
  {
   "cell_type": "code",
   "execution_count": null,
   "id": "d3f7eea0",
   "metadata": {},
   "outputs": [],
   "source": [
    "range(10)"
   ]
  },
  {
   "cell_type": "code",
   "execution_count": null,
   "id": "29f8c5d8",
   "metadata": {},
   "outputs": [],
   "source": [
    "list(range(10))"
   ]
  },
  {
   "cell_type": "code",
   "execution_count": null,
   "id": "886b6a38",
   "metadata": {},
   "outputs": [],
   "source": [
    "list(range(1,10))"
   ]
  },
  {
   "cell_type": "code",
   "execution_count": null,
   "id": "6adc5788",
   "metadata": {},
   "outputs": [],
   "source": [
    "list(range(3,7))"
   ]
  },
  {
   "cell_type": "code",
   "execution_count": null,
   "id": "d068b585",
   "metadata": {},
   "outputs": [],
   "source": [
    "list(range(2,15,3))"
   ]
  },
  {
   "cell_type": "code",
   "execution_count": null,
   "id": "0811add7",
   "metadata": {},
   "outputs": [],
   "source": [
    "list(range(9,2,-1))"
   ]
  },
  {
   "cell_type": "markdown",
   "id": "83b1abf6",
   "metadata": {
    "slideshow": {
     "slide_type": "slide"
    }
   },
   "source": [
    "## Have a Play!"
   ]
  },
  {
   "cell_type": "markdown",
   "id": "ae7d3f83",
   "metadata": {},
   "source": [
    "### _Exercises_"
   ]
  },
  {
   "cell_type": "markdown",
   "id": "b0e3db55",
   "metadata": {
    "lines_to_next_cell": 0
   },
   "source": [
    "**1) Lists**: Create a list of numbers from 1 to 20 and then print the elements at every second index.\n",
    "\n",
    "<!-- #solution -->"
   ]
  },
  {
   "cell_type": "code",
   "execution_count": null,
   "id": "0fa445f0",
   "metadata": {
    "lines_to_next_cell": 0
   },
   "outputs": [],
   "source": []
  },
  {
   "cell_type": "markdown",
   "id": "004574ad",
   "metadata": {},
   "source": [
    "<!-- #endsolution -->"
   ]
  },
  {
   "cell_type": "markdown",
   "id": "4f6713b7",
   "metadata": {
    "slideshow": {
     "slide_type": ""
    }
   },
   "source": [
    "**2) Range**: Create a list of even numbers between 10 and 30 using `range()`, and print it."
   ]
  },
  {
   "cell_type": "markdown",
   "id": "b2d58b4b",
   "metadata": {
    "lines_to_next_cell": 0
   },
   "source": [
    "<!-- #solution -->"
   ]
  },
  {
   "cell_type": "code",
   "execution_count": null,
   "id": "87e094df",
   "metadata": {
    "lines_to_next_cell": 0,
    "slideshow": {
     "slide_type": ""
    }
   },
   "outputs": [],
   "source": []
  },
  {
   "cell_type": "markdown",
   "id": "d9ff615a",
   "metadata": {
    "lines_to_next_cell": 0,
    "slideshow": {
     "slide_type": "slide"
    }
   },
   "source": [
    "# <ins>5.</ins> Conditional and control flow statements"
   ]
  },
  {
   "cell_type": "markdown",
   "id": "d6c80cb7",
   "metadata": {
    "lines_to_next_cell": 0,
    "slideshow": {
     "slide_type": "slide"
    }
   },
   "source": [
    "## _If_-statements"
   ]
  },
  {
   "cell_type": "markdown",
   "id": "81217c42",
   "metadata": {
    "lines_to_next_cell": 0,
    "slideshow": {
     "slide_type": "fragment"
    }
   },
   "source": []
  },
  {
   "cell_type": "markdown",
   "id": "319457a7",
   "metadata": {
    "lines_to_next_cell": 0,
    "slideshow": {
     "slide_type": "slide"
    }
   },
   "source": [
    "### _<ins>Examples:</ins>_"
   ]
  },
  {
   "cell_type": "code",
   "execution_count": null,
   "id": "22b42087",
   "metadata": {
    "lines_to_next_cell": 0
   },
   "outputs": [],
   "source": []
  },
  {
   "cell_type": "code",
   "execution_count": null,
   "id": "24b4dfd9",
   "metadata": {
    "lines_to_next_cell": 0
   },
   "outputs": [],
   "source": []
  },
  {
   "cell_type": "code",
   "execution_count": null,
   "id": "7a505598",
   "metadata": {
    "lines_to_next_cell": 0
   },
   "outputs": [],
   "source": [
    "# using only `if`"
   ]
  },
  {
   "cell_type": "code",
   "execution_count": null,
   "id": "d944e6d3",
   "metadata": {
    "lines_to_next_cell": 0
   },
   "outputs": [],
   "source": [
    "# using `if`, `elif` and `else`"
   ]
  },
  {
   "cell_type": "markdown",
   "id": "10a35713",
   "metadata": {
    "lines_to_next_cell": 0,
    "slideshow": {
     "slide_type": "slide"
    }
   },
   "source": [
    "## _For_-loops"
   ]
  },
  {
   "cell_type": "markdown",
   "id": "e8d1770b",
   "metadata": {
    "lines_to_next_cell": 0,
    "slideshow": {
     "slide_type": "slide"
    }
   },
   "source": [
    "### _<ins>Examples:</ins>_"
   ]
  },
  {
   "cell_type": "code",
   "execution_count": null,
   "id": "d83e804c",
   "metadata": {
    "lines_to_next_cell": 0
   },
   "outputs": [],
   "source": [
    "# Iterating over a list\n",
    "# Using range to loop through numbers"
   ]
  },
  {
   "cell_type": "code",
   "execution_count": null,
   "id": "0ac02b8c",
   "metadata": {
    "lines_to_next_cell": 0
   },
   "outputs": [],
   "source": []
  },
  {
   "cell_type": "markdown",
   "id": "df82fe36",
   "metadata": {
    "lines_to_next_cell": 0,
    "slideshow": {
     "slide_type": "slide"
    }
   },
   "source": [
    "## _While_-loops"
   ]
  },
  {
   "cell_type": "markdown",
   "id": "741f324f",
   "metadata": {
    "lines_to_next_cell": 0,
    "slideshow": {
     "slide_type": "slide"
    }
   },
   "source": [
    "### _<ins>Examples:</ins>_"
   ]
  },
  {
   "cell_type": "code",
   "execution_count": null,
   "id": "5704c3f5",
   "metadata": {
    "lines_to_next_cell": 0
   },
   "outputs": [],
   "source": []
  },
  {
   "cell_type": "code",
   "execution_count": null,
   "id": "d9f28c31",
   "metadata": {
    "lines_to_next_cell": 0
   },
   "outputs": [],
   "source": []
  },
  {
   "cell_type": "markdown",
   "id": "0e102839",
   "metadata": {
    "lines_to_next_cell": 0,
    "slideshow": {
     "slide_type": "slide"
    }
   },
   "source": [
    "## Have a Play!"
   ]
  },
  {
   "cell_type": "markdown",
   "id": "46327943",
   "metadata": {
    "lines_to_next_cell": 0,
    "slideshow": {
     "slide_type": "slide"
    }
   },
   "source": [
    "### _Exercises_"
   ]
  },
  {
   "cell_type": "markdown",
   "id": "bdc23e03",
   "metadata": {
    "lines_to_next_cell": 0,
    "slideshow": {
     "slide_type": "slide"
    }
   },
   "source": []
  },
  {
   "cell_type": "markdown",
   "id": "8a72126a",
   "metadata": {
    "lines_to_next_cell": 0
   },
   "source": [
    "<!-- #solution -->"
   ]
  },
  {
   "cell_type": "code",
   "execution_count": null,
   "id": "6f569650",
   "metadata": {
    "lines_to_next_cell": 0
   },
   "outputs": [],
   "source": []
  },
  {
   "cell_type": "markdown",
   "id": "3bd13f30",
   "metadata": {
    "lines_to_next_cell": 0,
    "slideshow": {
     "slide_type": "slide"
    }
   },
   "source": [
    "<!-- #endsolution -->\n",
    "\n",
    "**2) `For`-loops**: Use a `for`-loop to print the square of numbers from 1 to 10.\n",
    "\n",
    "<!-- #solution -->"
   ]
  },
  {
   "cell_type": "code",
   "execution_count": null,
   "id": "4949ecba",
   "metadata": {
    "lines_to_next_cell": 0
   },
   "outputs": [],
   "source": []
  },
  {
   "cell_type": "markdown",
   "id": "6e2ebe15",
   "metadata": {
    "lines_to_next_cell": 0,
    "slideshow": {
     "slide_type": "slide"
    }
   },
   "source": [
    "<!-- #endsolution -->\n",
    "\n",
    "**3) `While`-loops**: Write a program that keeps asking the user for a number and prints the number. Stop when the user enters a negative number.\n",
    "\n",
    "<!-- #solution -->"
   ]
  },
  {
   "cell_type": "code",
   "execution_count": null,
   "id": "5cb65336",
   "metadata": {
    "lines_to_next_cell": 0
   },
   "outputs": [],
   "source": []
  },
  {
   "cell_type": "markdown",
   "id": "e95e5aa3",
   "metadata": {
    "lines_to_next_cell": 0,
    "slideshow": {
     "slide_type": "slide"
    }
   },
   "source": [
    "<!-- #endsolution -->\n",
    "\n",
    "**4) Functions**: Write a program to calculate the factorial of a number\n",
    "\n",
    "<!-- #solution -->"
   ]
  },
  {
   "cell_type": "code",
   "execution_count": null,
   "id": "7d570b64",
   "metadata": {
    "lines_to_next_cell": 0
   },
   "outputs": [],
   "source": []
  },
  {
   "cell_type": "markdown",
   "id": "bc7c9a56",
   "metadata": {},
   "source": [
    "<!-- #endsolution -->"
   ]
  }
 ],
 "metadata": {
  "kernelspec": {
   "display_name": "Python 3 (ipykernel)",
   "language": "python",
   "name": "python3"
  }
 },
 "nbformat": 4,
 "nbformat_minor": 5
}
