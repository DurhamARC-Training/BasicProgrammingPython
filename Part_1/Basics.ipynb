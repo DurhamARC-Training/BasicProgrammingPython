{
 "cells": [
  {
   "cell_type": "markdown",
   "id": "afeabf95",
   "metadata": {
    "editable": true,
    "slideshow": {
     "slide_type": "slide"
    },
    "tags": []
   },
   "source": [
    "# Set up your Python environment\n",
    "Option 1: Jupyter Notebook server set up by Daniel Maitre from the Physics department \n",
    " - log in with you CIS account; loading process can take some time:\n",
    " - https://notebooks.dmaitre.phyip3.dur.ac.uk/arc\n",
    "\n",
    "Option 2: Local python environment\n",
    "\n",
    "Option 3: Google Colab (https://colab.research.google.com).\n",
    "\n"
   ]
  },
  {
   "cell_type": "markdown",
   "id": "fc3cfa7c",
   "metadata": {
    "editable": true,
    "slideshow": {
     "slide_type": "slide"
    },
    "tags": []
   },
   "source": [
    "# Introduction"
   ]
  },
  {
   "cell_type": "markdown",
   "id": "b2f405e3",
   "metadata": {
    "editable": true,
    "slideshow": {
     "slide_type": "slide"
    },
    "tags": []
   },
   "source": [
    "## Materials used and recommended\n",
    "\n",
    " - [Python Wiki - Python for Non-Programmers](https://wiki.python.org/moin/BeginnersGuide/NonProgrammers)\n",
    " - [How to think like a Computer Scientist](http://openbookproject.net/thinkcs/python/english3e/index.html)\n",
    " - [A Whirlwind Tour of Python](https://jakevdp.github.io/WhirlwindTourOfPython)\n",
    " - [Software Carpentry - Programming with Python](https://swcarpentry.github.io/python-novice-inflammation/index.html)\n"
   ]
  },
  {
   "cell_type": "markdown",
   "id": "e7bfc0cb",
   "metadata": {
    "slideshow": {
     "slide_type": "slide"
    }
   },
   "source": [
    "## The problem with googling python answers\n",
    " - The top results are often filled with SEO sites\n",
    " - The aim is not to provide a concise explanation, but to show you as many ads as possible\n",
    " - Very verbose, lots of unneccesary alternatives.\n",
    "\n",
    " Example: \"python how do I invert a list\"\n",
    "\n",
    " Recommend: w3schools, python.org (which is often more technical)\n"
   ]
  },
  {
   "cell_type": "markdown",
   "id": "4962dd85",
   "metadata": {
    "editable": true,
    "slideshow": {
     "slide_type": "slide"
    },
    "tags": []
   },
   "source": [
    "## By the end of this course you should know\n",
    "\n",
    " - how a basic computer program is written and executed,\n",
    " - what basic data types and control statements are,\n",
    " - how to get and process user input and data,\n",
    " - how to structure your code using functions,\n",
    " - what can lead to your program not working, and what to do about it,\n",
    " - where to find further resources to practice your Python programming."
   ]
  },
  {
   "cell_type": "markdown",
   "id": "e980db31",
   "metadata": {
    "editable": true,
    "slideshow": {
     "slide_type": "slide"
    },
    "tags": []
   },
   "source": [
    "## Programming means: make the computer do the work for you!\n",
    "\n",
    " - Do the maths\n",
    " - Boring repetitions\n",
    " - Too complicated/extensive tasks\n",
    " - Big data sets \n",
    " - Make your analysis reproducible\n",
    " -  ... "
   ]
  },
  {
   "cell_type": "markdown",
   "id": "b4b24475",
   "metadata": {
    "editable": true,
    "slideshow": {
     "slide_type": "slide"
    },
    "tags": []
   },
   "source": [
    "## Running code in a compiled language (such as C)\n",
    "\n",
    " 1. Write your code in a high-level programming language.\n",
    " 2. Translate into low-level (machine/assembly) language.\n",
    " 3. Execute the program. \n"
   ]
  },
  {
   "cell_type": "markdown",
   "id": "273385e2",
   "metadata": {
    "editable": true,
    "slideshow": {
     "slide_type": "slide"
    },
    "tags": []
   },
   "source": [
    "## Running code in an interpreted language (such as Python)\n",
    "\n",
    " 1. Write your code in high-level programming language.\n",
    " 2. Interpret code and execute directly"
   ]
  },
  {
   "cell_type": "markdown",
   "id": "f1abdc3f",
   "metadata": {
    "editable": true,
    "slideshow": {
     "slide_type": "fragment"
    },
    "tags": []
   },
   "source": [
    " - *Beware!*: Oversimplification"
   ]
  },
  {
   "cell_type": "markdown",
   "id": "f00ec119",
   "metadata": {
    "editable": true,
    "slideshow": {
     "slide_type": "slide"
    },
    "tags": []
   },
   "source": [
    "## Demonstration of running python scripts\n",
    "\n",
    "We will also use this to download the repository to your programming environment.\n",
    "\n",
    "Steps:\n",
    " 1. Download the script from [my url](/my/url)\n",
    " 2. Drag or upload it into your Jupyter environment\n",
    " 3. run `python pull_files_from_repo.py`\n",
    "\n",
    "This should download and unpack an archive from [my repo url](/my/repo/url) with everything you need for the first part.\n",
    "There is also a Filled_course folder that contains the presentation with notes and filled code in case you want to have a solution"
   ]
  },
  {
   "cell_type": "markdown",
   "id": "500702de",
   "metadata": {
    "editable": true,
    "slideshow": {
     "slide_type": "slide"
    },
    "tags": []
   },
   "source": [
    "## Demonstration of using an interactive or ipython session"
   ]
  },
  {
   "cell_type": "markdown",
   "id": "4e89edf7",
   "metadata": {
    "editable": true,
    "slideshow": {
     "slide_type": "slide"
    },
    "tags": []
   },
   "source": [
    "## A quick introduction into jupyter\n",
    "Jupyter works with cells such as these, which you execute with the play button or `Shift/Strg + Enter`:"
   ]
  },
  {
   "cell_type": "code",
   "execution_count": null,
   "id": "f7d16903-c06b-4be3-a934-62d267b4eae1",
   "metadata": {
    "editable": true,
    "slideshow": {
     "slide_type": ""
    },
    "tags": []
   },
   "outputs": [],
   "source": [
    "# Add just a one to the cell and execute\n"
   ]
  },
  {
   "cell_type": "markdown",
   "id": "94908b56-7e4f-4076-9f6b-0f0c082e2928",
   "metadata": {},
   "source": [
    "If the box on the left is empty, you have not executed it. Otherwise a number indicates in which order the execution took place.\n",
    "\n",
    "You can add cells with the plus. You can also change the type"
   ]
  },
  {
   "cell_type": "markdown",
   "id": "5f00bd67-609f-4760-b726-a22ac601dbe5",
   "metadata": {
    "editable": true,
    "slideshow": {
     "slide_type": "slide"
    },
    "tags": []
   },
   "source": [
    "# Basics"
   ]
  },
  {
   "cell_type": "markdown",
   "id": "61a069f5-5057-4418-b429-57e7cf878113",
   "metadata": {
    "editable": true,
    "slideshow": {
     "slide_type": "slide"
    },
    "tags": []
   },
   "source": [
    "## Basic Data Types\n",
    "\n",
    "- Strings: \"Heinz\", 'Banana', 'He said \"Hello\"'\n",
    "- Integers: 1, 2, 3, 22222222, -777\n",
    "- Floats: -1.2, 0.0, 2.7182\n",
    "- Booleans: True, False"
   ]
  },
  {
   "cell_type": "markdown",
   "id": "c3494c49-aba5-4237-937a-c83f452b949d",
   "metadata": {
    "editable": true,
    "slideshow": {
     "slide_type": "slide"
    },
    "tags": []
   },
   "source": [
    "## Basics: Variables\n",
    "\n",
    "- “I reserve a space in memory for my data bit, and I call it \n",
    "by the name x\n",
    "- Syntax: name = value”"
   ]
  },
  {
   "cell_type": "markdown",
   "id": "fa02f78d-213c-42e2-b856-04da0d7221a3",
   "metadata": {
    "editable": true,
    "slideshow": {
     "slide_type": "slide"
    },
    "tags": []
   },
   "source": [
    "## Examples\n"
   ]
  },
  {
   "cell_type": "code",
   "execution_count": null,
   "id": "14f8d1c7-e7ad-4c8e-a102-49eda7d54576",
   "metadata": {
    "editable": true,
    "slideshow": {
     "slide_type": ""
    },
    "tags": []
   },
   "outputs": [],
   "source": [
    "# print statement 'He said \"Hello\"'\n"
   ]
  },
  {
   "cell_type": "code",
   "execution_count": null,
   "id": "45605286-5da6-4d9d-83c2-66b89f97d3d9",
   "metadata": {
    "editable": true,
    "slideshow": {
     "slide_type": ""
    },
    "tags": []
   },
   "outputs": [],
   "source": [
    "# put the content of the print statement in a variable\n"
   ]
  },
  {
   "cell_type": "code",
   "execution_count": null,
   "id": "56b4cee3-6f98-42bd-9264-982974d75162",
   "metadata": {
    "editable": true,
    "slideshow": {
     "slide_type": ""
    },
    "tags": []
   },
   "outputs": [],
   "source": [
    "# check the type of that variable\n"
   ]
  },
  {
   "cell_type": "markdown",
   "id": "66c1eed8-4072-4b59-a9d1-fbc39c149232",
   "metadata": {
    "@deathbeds/jupyterlab-fonts": {
     "styles": {
      "": {
       "body[data-jp-deck-mode='presenting'] &": {
        "zoom": "79%"
       }
      }
     }
    },
    "editable": true,
    "slideshow": {
     "slide_type": "slide"
    },
    "tags": []
   },
   "source": [
    "## Try to assign the data types at the following qr code\n",
    "\n",
    "Try not to overthink. If something is ambiguous pick what fits best\n",
    "\n",
    "![QRCode](qr_question1.png)"
   ]
  },
  {
   "cell_type": "markdown",
   "id": "f4ce8703-5465-4230-9e24-65881932ba8c",
   "metadata": {
    "editable": true,
    "slideshow": {
     "slide_type": "slide"
    },
    "tags": []
   },
   "source": [
    "## Examples\n",
    "try it out yourself"
   ]
  },
  {
   "cell_type": "code",
   "execution_count": null,
   "id": "8d8ec979-18c9-4172-aee0-da0dd4d7093d",
   "metadata": {
    "editable": true,
    "slideshow": {
     "slide_type": ""
    },
    "tags": []
   },
   "outputs": [],
   "source": [
    "# Adding two integers (2 and 5)\n"
   ]
  },
  {
   "cell_type": "code",
   "execution_count": null,
   "id": "4b09cd7f-3379-4ca3-9b2a-4f8a673e65e5",
   "metadata": {
    "editable": true,
    "slideshow": {
     "slide_type": ""
    },
    "tags": []
   },
   "outputs": [],
   "source": [
    "# Adding integers to a string (\"2+5 = \") naively\n"
   ]
  },
  {
   "cell_type": "code",
   "execution_count": null,
   "id": "10f6eedb-93d4-409a-9840-3c5d2b5ce301",
   "metadata": {
    "editable": true,
    "slideshow": {
     "slide_type": ""
    },
    "tags": []
   },
   "outputs": [],
   "source": [
    "# Option 1: call the result into a string\n"
   ]
  },
  {
   "cell_type": "code",
   "execution_count": null,
   "id": "c4c12df2-2e77-4efd-894d-f901ef2ac5db",
   "metadata": {
    "editable": true,
    "scrolled": true,
    "slideshow": {
     "slide_type": ""
    },
    "tags": []
   },
   "outputs": [],
   "source": [
    "# Option 2: Using multiple arguments in print\n"
   ]
  },
  {
   "cell_type": "markdown",
   "id": "f72bfc35-fac1-4f13-9b77-6bf8db349e68",
   "metadata": {
    "editable": true,
    "slideshow": {
     "slide_type": "slide"
    },
    "tags": []
   },
   "source": [
    "## Examples"
   ]
  },
  {
   "cell_type": "code",
   "execution_count": null,
   "id": "d6ea538b-9b0e-4080-a53d-daab595bad44",
   "metadata": {
    "editable": true,
    "slideshow": {
     "slide_type": ""
    },
    "tags": []
   },
   "outputs": [],
   "source": [
    "# boolean have to be capitalized\n"
   ]
  },
  {
   "cell_type": "code",
   "execution_count": null,
   "id": "6b017dfb-0b3f-4ec5-8912-777fa4433db7",
   "metadata": {
    "editable": true,
    "slideshow": {
     "slide_type": ""
    },
    "tags": []
   },
   "outputs": [],
   "source": [
    "# Checking the type of a boolean\n"
   ]
  },
  {
   "cell_type": "code",
   "execution_count": null,
   "id": "cb6c4d3d-73cc-4ee4-b619-b52f6dc15012",
   "metadata": {
    "editable": true,
    "slideshow": {
     "slide_type": ""
    },
    "tags": []
   },
   "outputs": [],
   "source": [
    "# Adding a boolean to an integer\n"
   ]
  },
  {
   "cell_type": "code",
   "execution_count": null,
   "id": "f3d04d7e-43aa-4c52-b3b5-81ba50cb1ebc",
   "metadata": {
    "editable": true,
    "scrolled": true,
    "slideshow": {
     "slide_type": ""
    },
    "tags": []
   },
   "outputs": [],
   "source": [
    "# Checking the type of the result\n"
   ]
  },
  {
   "cell_type": "markdown",
   "id": "e395c450-4d1d-4d8b-a737-4e743e9842bb",
   "metadata": {
    "editable": true,
    "slideshow": {
     "slide_type": "slide"
    },
    "tags": []
   },
   "source": [
    "## Examples"
   ]
  },
  {
   "cell_type": "code",
   "execution_count": null,
   "id": "8b4fafe9-c0af-4cb9-b00d-6651c07aac0a",
   "metadata": {
    "editable": true,
    "scrolled": true,
    "slideshow": {
     "slide_type": ""
    },
    "tags": []
   },
   "outputs": [],
   "source": [
    "# Adding two booleans\n"
   ]
  },
  {
   "cell_type": "code",
   "execution_count": null,
   "id": "350a7371-a31c-4d89-af31-208a09f32e42",
   "metadata": {
    "editable": true,
    "slideshow": {
     "slide_type": ""
    },
    "tags": []
   },
   "outputs": [],
   "source": [
    "# Logical AND\n"
   ]
  },
  {
   "cell_type": "code",
   "execution_count": null,
   "id": "78f03073-e1e6-4099-ba4b-71da552a7ce9",
   "metadata": {
    "editable": true,
    "slideshow": {
     "slide_type": ""
    },
    "tags": []
   },
   "outputs": [],
   "source": [
    "# Logical OR\n"
   ]
  },
  {
   "cell_type": "code",
   "execution_count": null,
   "id": "5489948e-d28b-4c8b-a100-b21c8fec83c1",
   "metadata": {
    "editable": true,
    "slideshow": {
     "slide_type": ""
    },
    "tags": []
   },
   "outputs": [],
   "source": [
    "# Negating boolean\n"
   ]
  },
  {
   "cell_type": "markdown",
   "id": "b8e27f8f-5a41-405e-85e7-0647be3c9c76",
   "metadata": {
    "editable": true,
    "slideshow": {
     "slide_type": "slide"
    },
    "tags": []
   },
   "source": [
    "#### Basic Operations"
   ]
  },
  {
   "cell_type": "markdown",
   "id": "3c5c1499-0a0f-466d-893a-3acff868ed61",
   "metadata": {
    "editable": true,
    "slideshow": {
     "slide_type": ""
    },
    "tags": []
   },
   "source": [
    "- String: concatenation with +\n",
    "- Bool: and, or, not\n",
    "- Numerical data: +, -, *, /, \\%, **, abs, ...\n",
    "- Order of execution:\n",
    "    1. ()\n",
    "    2. **\n",
    "    3. *,/\n",
    "    4. +, -\n",
    "    5. Left-to-right (except exponentiation!)\n",
    "\n",
    "So, use parenthesis to make sure!\n"
   ]
  },
  {
   "cell_type": "markdown",
   "id": "e47a92b4-b791-4a1e-a81f-b73e97eb19ef",
   "metadata": {
    "editable": true,
    "slideshow": {
     "slide_type": "slide"
    },
    "tags": []
   },
   "source": [
    "## Basics: Comments (and Documentation)"
   ]
  },
  {
   "cell_type": "code",
   "execution_count": null,
   "id": "f9b4a639-5dd5-4ee5-a20c-b95bd0e62bed",
   "metadata": {
    "editable": true,
    "slideshow": {
     "slide_type": ""
    },
    "tags": []
   },
   "outputs": [],
   "source": [
    "# This is my programme to demonstrate how to\n",
    "# do simple calculations in Python.\n",
    "\n",
    "my_number = 2\n",
    "\n",
    "my_other_number = my_number + 5\n",
    "\n",
    "my_number = my_other_number / 2 # I have to divide\n",
    "                                # by 2 here, as the\n",
    "                                # results are\n",
    "                                # otherwise rubbish\n",
    "\n",
    "print(my_number)"
   ]
  },
  {
   "cell_type": "markdown",
   "id": "b653ac34-54c7-4033-998b-ad4ac40d355a",
   "metadata": {
    "@deathbeds/jupyterlab-fonts": {
     "styles": {
      "": {
       "body[data-jp-deck-mode='presenting'] &": {
        "zoom": null
       }
      }
     }
    },
    "editable": true,
    "slideshow": {
     "slide_type": "slide"
    },
    "tags": []
   },
   "source": [
    "## Debugging and Types of Errors\n",
    "\n",
    "- Errors in computer programs are called ``bugs'' for historic reasons.\n",
    "- For complex projects, you will usually spend more time testing and debugging than writing code.\n",
    "- Three types of errors:\n",
    "    - Syntax errors - written the code wrongly\n",
    "    - Semantic errors - written the wrong code\n",
    "    - Runtime errors - something's wrong with the code (during execution)\n"
   ]
  },
  {
   "cell_type": "markdown",
   "id": "0acb73f6-fbfa-430d-bb59-9d6fa460e814",
   "metadata": {
    "editable": true,
    "slideshow": {
     "slide_type": "slide"
    },
    "tags": []
   },
   "source": [
    "# Have a play!"
   ]
  },
  {
   "cell_type": "markdown",
   "id": "7776d84b-d435-43c0-a42b-65ac111b8c51",
   "metadata": {
    "editable": true,
    "slideshow": {
     "slide_type": ""
    },
    "tags": []
   },
   "source": [
    "You could try\n",
    " - what happens if you add a float and an integer,\n",
    " - what happens if you mix numbers and bools in arithmetic expressions,\n",
    " - how setting parenthesis changes the result of a large arithmetic expression,\n",
    " - to print statements that include variables of different data types,\n",
    " - try to reproduce each of the error types,\n",
    " - ..."
   ]
  },
  {
   "cell_type": "markdown",
   "id": "38b4e2ff-f14c-4395-8c0e-31760e966e3f",
   "metadata": {
    "editable": true,
    "slideshow": {
     "slide_type": "slide"
    },
    "tags": []
   },
   "source": [
    "### Example solution\n",
    "What happens if you add a float and an integer"
   ]
  },
  {
   "cell_type": "code",
   "execution_count": null,
   "id": "ef76a990-2d52-4c6b-b78b-b9eea0d333bd",
   "metadata": {
    "editable": true,
    "slideshow": {
     "slide_type": ""
    },
    "tags": []
   },
   "outputs": [],
   "source": []
  },
  {
   "cell_type": "markdown",
   "id": "2d2f1b27-4165-473d-9c23-c2dee1ad5e21",
   "metadata": {
    "editable": true,
    "raw_mimetype": "",
    "slideshow": {
     "slide_type": "slide"
    },
    "tags": []
   },
   "source": [
    "### Example solution\n",
    "What happens if you mix numbers and bools in arithmetic expressions"
   ]
  },
  {
   "cell_type": "code",
   "execution_count": null,
   "id": "c8a2d063-e886-44fb-b252-3c6a9669218f",
   "metadata": {
    "editable": true,
    "slideshow": {
     "slide_type": ""
    },
    "tags": []
   },
   "outputs": [],
   "source": []
  },
  {
   "cell_type": "markdown",
   "id": "3fb73d7e-60d6-4396-8faf-274355afc206",
   "metadata": {
    "editable": true,
    "slideshow": {
     "slide_type": "fragment"
    },
    "tags": []
   },
   "source": [
    "True is converted to one and False is converted to zero"
   ]
  },
  {
   "cell_type": "markdown",
   "id": "f0ddd221-6e34-4e21-8de8-ff6b8b640c8c",
   "metadata": {
    "editable": true,
    "slideshow": {
     "slide_type": "slide"
    },
    "tags": []
   },
   "source": [
    "### Example solution\n",
    "How setting parenthesis changes the result of a large arithmetic expression.\n"
   ]
  },
  {
   "cell_type": "code",
   "execution_count": null,
   "id": "dfc0cad7-65e0-447d-a8d0-7736d1e8ab05",
   "metadata": {
    "editable": true,
    "slideshow": {
     "slide_type": ""
    },
    "tags": []
   },
   "outputs": [],
   "source": []
  },
  {
   "cell_type": "markdown",
   "id": "a679797c-d1d8-4435-bdab-0eab6fb14224",
   "metadata": {
    "editable": true,
    "slideshow": {
     "slide_type": "slide"
    },
    "tags": []
   },
   "source": [
    "### Example solution\n",
    "Print statements that include variables of different data types."
   ]
  },
  {
   "cell_type": "code",
   "execution_count": null,
   "id": "a5606737-142f-4f73-a8fc-5add98689926",
   "metadata": {
    "editable": true,
    "slideshow": {
     "slide_type": ""
    },
    "tags": []
   },
   "outputs": [],
   "source": []
  },
  {
   "cell_type": "markdown",
   "id": "3d6aa469-1847-4eb7-9125-cbef8a9dff69",
   "metadata": {
    "editable": true,
    "slideshow": {
     "slide_type": "slide"
    },
    "tags": []
   },
   "source": [
    "### Example solution\n",
    "Try to reproduce each of the error types\n",
    "#### 1. Syntax Error"
   ]
  },
  {
   "cell_type": "code",
   "execution_count": null,
   "id": "c71f14c6-50bd-42f5-9fef-59c1dd3c8f50",
   "metadata": {
    "editable": true,
    "slideshow": {
     "slide_type": ""
    },
    "tags": []
   },
   "outputs": [],
   "source": []
  },
  {
   "cell_type": "markdown",
   "id": "086e0aa2-f175-4a3d-816a-f0aa079e8576",
   "metadata": {
    "editable": true,
    "slideshow": {
     "slide_type": "slide"
    },
    "tags": []
   },
   "source": [
    "### Example solution\n",
    "Try to reproduce each of the error types\n",
    "#### 2. Semantic Error"
   ]
  },
  {
   "cell_type": "code",
   "execution_count": null,
   "id": "2ea2c2ca-ac75-48df-8264-2e5d5e066db9",
   "metadata": {
    "editable": true,
    "slideshow": {
     "slide_type": ""
    },
    "tags": []
   },
   "outputs": [],
   "source": []
  },
  {
   "cell_type": "markdown",
   "id": "ff357b54-bcf8-4d4c-bea2-bf6c71ea6ac7",
   "metadata": {
    "editable": true,
    "slideshow": {
     "slide_type": "slide"
    },
    "tags": []
   },
   "source": [
    "### Example solution\n",
    "Try to reproduce each of the error types\n",
    "#### 3. Runtime Error"
   ]
  },
  {
   "cell_type": "code",
   "execution_count": null,
   "id": "f4c4dfce-cfe0-48c5-9594-165915232c90",
   "metadata": {
    "editable": true,
    "slideshow": {
     "slide_type": ""
    },
    "tags": []
   },
   "outputs": [],
   "source": []
  },
  {
   "cell_type": "markdown",
   "id": "b36e0957-233a-4cc7-877c-521a9738ab14",
   "metadata": {
    "editable": true,
    "slideshow": {
     "slide_type": "slide"
    },
    "tags": []
   },
   "source": [
    "# Getting Data in and out"
   ]
  },
  {
   "cell_type": "markdown",
   "id": "e68f4e7d-eed9-4ed6-8165-e3c0d685cf17",
   "metadata": {
    "editable": true,
    "slideshow": {
     "slide_type": "slide"
    },
    "tags": []
   },
   "source": [
    "## User Input"
   ]
  },
  {
   "cell_type": "code",
   "execution_count": null,
   "id": "1de7bf5e-94d3-446f-b594-0f8f9c51049c",
   "metadata": {
    "editable": true,
    "slideshow": {
     "slide_type": ""
    },
    "tags": []
   },
   "outputs": [],
   "source": [
    "# Get some user input\n",
    "\n",
    "# print it\n",
    "\n",
    "# check the type of the input"
   ]
  },
  {
   "cell_type": "code",
   "execution_count": null,
   "id": "b64d8946-089d-415f-b800-b6584c02f4fb",
   "metadata": {
    "editable": true,
    "slideshow": {
     "slide_type": ""
    },
    "tags": []
   },
   "outputs": [],
   "source": [
    "# Implement a greeting function with user input\n"
   ]
  },
  {
   "cell_type": "markdown",
   "id": "fc8763fe-118d-4198-91b2-51bfc73ea862",
   "metadata": {
    "editable": true,
    "slideshow": {
     "slide_type": "slide"
    },
    "tags": []
   },
   "source": [
    "## Reading and writing files"
   ]
  },
  {
   "cell_type": "code",
   "execution_count": null,
   "id": "e9c99af2",
   "metadata": {},
   "outputs": [],
   "source": [
    "# Create a file object\n",
    "with open(\"testfile.txt\", \"w\") as my_file:\n",
    "    ..."
   ]
  },
  {
   "cell_type": "markdown",
   "id": "783809ff-f4d6-4271-9cd4-253454b091a4",
   "metadata": {
    "editable": true,
    "slideshow": {
     "slide_type": "fragment"
    },
    "tags": []
   },
   "source": [
    "Two things to note here:\n",
    "\n",
    " - My object ``my_file`` is different from my file ``testfile``!\n",
    " - There are different modes:\n",
    "     - read: r\n",
    "     - (over-)write: w\n",
    "     - append: a\n",
    "     - read+write: w+ or r+\n",
    "\n"
   ]
  },
  {
   "cell_type": "markdown",
   "id": "dbc5a0c2-e0e1-4f7e-b5f3-678f137c33d8",
   "metadata": {
    "editable": true,
    "slideshow": {
     "slide_type": "slide"
    },
    "tags": []
   },
   "source": [
    "## Writing files and formatting strings (C-style)"
   ]
  },
  {
   "cell_type": "code",
   "execution_count": null,
   "id": "9efd84bc-1c19-4593-ba98-d3d16d9fa8d0",
   "metadata": {
    "editable": true,
    "slideshow": {
     "slide_type": ""
    },
    "tags": []
   },
   "outputs": [],
   "source": [
    "with open(\"testfile.txt\", \"w\") as my_file:\n",
    "    # Write - note special characters!\n",
    "    my_file.write(\"This is some text. \\n And some more.\")\n",
    "    my_file.write(\"\\n\\nI can also add numbers like this: %d %d \\n\" %(22, 333))\n",
    "\n",
    "    my_file.write(str(222))"
   ]
  },
  {
   "cell_type": "markdown",
   "id": "c8261770-70c9-43f2-8b0e-3a0ef6d70554",
   "metadata": {
    "editable": true,
    "slideshow": {
     "slide_type": ""
    },
    "tags": []
   },
   "source": [
    "see also [https://www.learnpython.org/en/String\\_Formatting](https://www.learnpython.org/en/String_Formatting)"
   ]
  },
  {
   "cell_type": "markdown",
   "id": "a37e8bed-eb3d-4277-bda8-de3f042e3f04",
   "metadata": {
    "editable": true,
    "slideshow": {
     "slide_type": "slide"
    },
    "tags": []
   },
   "source": [
    "## Writing files (f-strings)"
   ]
  },
  {
   "cell_type": "code",
   "execution_count": null,
   "id": "97f98699-4066-4187-8abc-fea39997f64c",
   "metadata": {
    "editable": true,
    "slideshow": {
     "slide_type": ""
    },
    "tags": []
   },
   "outputs": [],
   "source": [
    "number1 = 44\n",
    "number2 = 111\n",
    "\n",
    "with open(\"testfile.txt\", \"a\") as my_file:\n",
    "    # Append to the opened file\n",
    "    my_file.write(f\"\\n I have opened the same file again.\\n More numbers: {number1} {number2}.\")"
   ]
  },
  {
   "cell_type": "markdown",
   "id": "9a5a0165-3517-4cc3-b78f-c8a922aa41ca",
   "metadata": {
    "editable": true,
    "slideshow": {
     "slide_type": ""
    },
    "tags": []
   },
   "source": [
    "see also [f-strings](https://realpython.com/python-f-strings/)"
   ]
  },
  {
   "cell_type": "markdown",
   "id": "75a8bbb2-bd8b-4078-9291-8d04e176980f",
   "metadata": {
    "editable": true,
    "slideshow": {
     "slide_type": "slide"
    },
    "tags": []
   },
   "source": [
    "## Reading files"
   ]
  },
  {
   "cell_type": "code",
   "execution_count": null,
   "id": "2f0b4c54-dcd1-4067-b142-ec046a61ac84",
   "metadata": {
    "editable": true,
    "slideshow": {
     "slide_type": ""
    },
    "tags": []
   },
   "outputs": [],
   "source": [
    "with open(\"testfile.txt\", \"r\") as my_file:\n",
    "    # Read it and print it to screen\n",
    "    print(my_file.read())\n",
    "\n",
    "    # Try this:\n",
    "    #print(my_file.read(7))\n",
    "    #print(my_file.readline())\n",
    "    #print(my_file.readlines())\n"
   ]
  },
  {
   "cell_type": "markdown",
   "id": "3b0706ae-20e0-4134-8f8c-84836be57c3f",
   "metadata": {
    "editable": true,
    "slideshow": {
     "slide_type": "slide"
    },
    "tags": []
   },
   "source": [
    "## What do we have here?"
   ]
  },
  {
   "cell_type": "code",
   "execution_count": null,
   "id": "e405910a-20cf-4abe-8518-53f678df6237",
   "metadata": {
    "editable": true,
    "slideshow": {
     "slide_type": ""
    },
    "tags": []
   },
   "outputs": [],
   "source": [
    "my_list = [1, 2, 3, 4, 5] # A list!\n",
    "print(my_list)"
   ]
  },
  {
   "cell_type": "code",
   "execution_count": null,
   "id": "8a9428f2-ef3e-4341-8edc-41c5375a3530",
   "metadata": {
    "editable": true,
    "slideshow": {
     "slide_type": ""
    },
    "tags": []
   },
   "outputs": [],
   "source": [
    "print(my_list[3])   # Note: [] not ()"
   ]
  },
  {
   "cell_type": "code",
   "execution_count": null,
   "id": "303f03e3-058c-4526-b61e-f18fedf3fbd9",
   "metadata": {
    "editable": true,
    "slideshow": {
     "slide_type": ""
    },
    "tags": []
   },
   "outputs": [],
   "source": [
    "print(my_list[0])   # Start with 0!"
   ]
  },
  {
   "cell_type": "code",
   "execution_count": null,
   "id": "452ea0d9-68c9-4dae-9642-23e8970e1c1a",
   "metadata": {
    "editable": true,
    "slideshow": {
     "slide_type": ""
    },
    "tags": []
   },
   "outputs": [],
   "source": [
    "print(my_list[-1])  # Go backwards"
   ]
  },
  {
   "cell_type": "code",
   "execution_count": null,
   "id": "087b87a8-5fc7-4d48-9a8b-0a29e9acab5f",
   "metadata": {
    "editable": true,
    "slideshow": {
     "slide_type": ""
    },
    "tags": []
   },
   "outputs": [],
   "source": [
    "print(my_list[1:4]) # Include first, exclude last"
   ]
  },
  {
   "cell_type": "code",
   "execution_count": null,
   "id": "1dc90bad-f3bf-4721-915a-cabf76a41eab",
   "metadata": {
    "editable": true,
    "slideshow": {
     "slide_type": ""
    },
    "tags": []
   },
   "outputs": [],
   "source": [
    "print(my_list[:2])  # More slicing"
   ]
  },
  {
   "cell_type": "markdown",
   "id": "afb12c48-3102-498d-9b97-7dd9ff5f4da0",
   "metadata": {
    "editable": true,
    "slideshow": {
     "slide_type": "slide"
    },
    "tags": []
   },
   "source": [
    "# Have a Play!"
   ]
  },
  {
   "cell_type": "markdown",
   "id": "fe8686a2-0dd6-479c-8c13-089e07c3302a",
   "metadata": {
    "editable": true,
    "slideshow": {
     "slide_type": ""
    },
    "tags": []
   },
   "source": [
    "[https://www.w3schools.com/python/python_lists.asp](https://www.w3schools.com/python/python_lists.asp)"
   ]
  },
  {
   "cell_type": "markdown",
   "id": "fc5d7015-751a-4666-abc7-35f27e474e63",
   "metadata": {
    "editable": true,
    "slideshow": {
     "slide_type": "slide"
    },
    "tags": []
   },
   "source": [
    "## Key value pairs are encoded in dictionaries"
   ]
  },
  {
   "cell_type": "markdown",
   "id": "1a997409-e9a0-43bb-b79b-e2e58ad03f41",
   "metadata": {
    "slideshow": {
     "slide_type": null
    }
   },
   "source": [
    " - dicts are like labelled drawers\n",
    "    - the label of the drawer is called a key.\n",
    "    - however dictionaries are \"kind of\" unordered.\n",
    "    - the content of that drawer is called the value.\n",
    "The syntax is ``{key: value}``.\n"
   ]
  },
  {
   "cell_type": "code",
   "execution_count": null,
   "id": "93e31811-cae8-4f4e-9acb-fa705fe0eb2b",
   "metadata": {},
   "outputs": [],
   "source": [
    "my_dict = {'temperature_k': 298.5, 'pressure': 1.015}\n",
    "my_dict"
   ]
  },
  {
   "cell_type": "code",
   "execution_count": null,
   "id": "8bb50959-a404-4c60-8e69-f060d8d2cbb0",
   "metadata": {},
   "outputs": [],
   "source": [
    "my_dict['volume'] = 100.0"
   ]
  },
  {
   "cell_type": "code",
   "execution_count": null,
   "id": "dc514c9e-fe92-4617-97bb-18d214028801",
   "metadata": {},
   "outputs": [],
   "source": [
    "my_dict"
   ]
  },
  {
   "cell_type": "markdown",
   "id": "f4c69291-187d-4867-8cf5-f403f1a42fcf",
   "metadata": {
    "slideshow": {
     "slide_type": "slide"
    }
   },
   "source": [
    "# Exercise:\n",
    "Create a dictionary describing a person and increase age and height from the starting values"
   ]
  },
  {
   "cell_type": "code",
   "execution_count": null,
   "id": "b2e29532",
   "metadata": {},
   "outputs": [],
   "source": []
  },
  {
   "cell_type": "markdown",
   "id": "8665e44b",
   "metadata": {},
   "source": []
  }
 ],
 "metadata": {
  "@deathbeds/jupyterlab-fonts": {
   "fontLicenses": {},
   "fonts": {},
   "styles": {
    ":root": {}
   }
  },
  "kernelspec": {
   "display_name": "Python 3 (ipykernel)",
   "language": "python",
   "name": "python3"
  },
  "language_info": {
   "codemirror_mode": {
    "name": "ipython",
    "version": 3
   },
   "file_extension": ".py",
   "mimetype": "text/x-python",
   "name": "python",
   "nbconvert_exporter": "python",
   "pygments_lexer": "ipython3",
   "version": "3.12.3"
  }
 },
 "nbformat": 4,
 "nbformat_minor": 5
}
