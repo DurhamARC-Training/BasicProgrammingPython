{
 "cells": [
  {
   "cell_type": "markdown",
   "id": "afeabf95",
   "metadata": {
    "editable": true,
    "slideshow": {
     "slide_type": "slide"
    },
    "tags": []
   },
   "source": [
    "# Set up your Python environment\n",
    "Option 1: Jupyter Notebook server set up by Daniel Maitre from the Physics department \n",
    " - log in with you CIS account; loading process can take some time:\n",
    " - https://notebooks.dmaitre.phyip3.dur.ac.uk/arc\n",
    "\n",
    "Option 2: Local python environment\n",
    "\n",
    "Option 3: Google Colab (https://colab.research.google.com).\n",
    "\n",
    "For the first part download:\n",
    "[https://github.com/DurhamARC/BasicProgrammingPython/blob/June2024/Part_1/Basics.ipynb](https://github.com/DurhamARC/BasicProgrammingPython/blob/June2024/Part_1/Basics.ipynb)"
   ]
  },
  {
   "cell_type": "markdown",
   "id": "fc3cfa7c",
   "metadata": {
    "editable": true,
    "slideshow": {
     "slide_type": "slide"
    },
    "tags": []
   },
   "source": [
    "# Introduction"
   ]
  },
  {
   "cell_type": "markdown",
   "id": "b2f405e3",
   "metadata": {
    "editable": true,
    "slideshow": {
     "slide_type": "slide"
    },
    "tags": []
   },
   "source": [
    "## Materials used and recommended\n",
    "\n",
    " - [Python Wiki - Python for Non-Programmers](https://wiki.python.org/moin/BeginnersGuide/NonProgrammers)\n",
    " - [How to think like a Computer Scientist](http://openbookproject.net/thinkcs/python/english3e/index.html)\n",
    " - [A Whirlwind Tour of Python](https://jakevdp.github.io/WhirlwindTourOfPython)\n",
    " - [Software Carpentry - Programming with Python](https://swcarpentry.github.io/python-novice-inflammation/index.html)\n"
   ]
  },
  {
   "cell_type": "markdown",
   "id": "01960524",
   "metadata": {
    "editable": true,
    "slideshow": {
     "slide_type": "notes"
    },
    "tags": []
   },
   "source": [
    "**Notes**: Here is a list of sources that were used when this course was prepared. It is great for self-study, and you can use it after this course to continue on your own.\n",
    "\n",
    " - *Python Wiki*, as a website, is a good resource of Python knowledge. The link I give you here is to the site \"Python for Non-Programmers\", that has an extensive list of materials to learn Python if you have not programmed in any language before.\n",
    " - *How to think like a Computer Scientist*. Some of the structure and ideas of the first few chapters have been used for this course.\n",
    " - *A Whirlwind Tour of Python* has a faster pace, and seems to be targeted at a more technically-minded audience.\n",
    " - *Software Carpentry* is an organisation aimed at providing basic software training for everyone. They have a \"<ins>train the trainers</ins>\" approach, which means that they provide material and training courses for software carpentry trainers. Thankfully, you are also allowed to access and use their material for free. This training course here gives a Python introduction at hands of a practical data processing task.\n"
   ]
  },
  {
   "cell_type": "markdown",
   "id": "d433fc69",
   "metadata": {},
   "source": [
    "## The problem with googling python answers\n",
    " - The top results are often filled with SEO sites\n",
    " - The aim is not to provide a concise explanation, but to show you as many ads as possible\n",
    " - Very verbose, lots of unneccesary alternatives.\n",
    "\n",
    " Example: \"python how do I invert a list\"\n",
    "\n",
    " Recommend: w3schools, python.org (which is often more technical)\n"
   ]
  },
  {
   "cell_type": "markdown",
   "id": "cc65ebcd",
   "metadata": {
    "slideshow": {
     "slide_type": "notes"
    }
   },
   "source": [
    "**Notes**: Show the search results in the example. The verbose explanations make it seem unnecessary complicated. While they are usually technically correct, they can also be slow."
   ]
  },
  {
   "cell_type": "markdown",
   "id": "4962dd85",
   "metadata": {
    "editable": true,
    "slideshow": {
     "slide_type": "slide"
    },
    "tags": []
   },
   "source": [
    "## By the end of this course you should know\n",
    "\n",
    " - how a basic computer program is written and executed,\n",
    " - what basic data types and control statements are,\n",
    " - how to get and process user input and data,\n",
    " - how to structure your code using functions,\n",
    " - what can lead to your program not working, and what to do about it,\n",
    " - where to find further resources to practice your Python programming."
   ]
  },
  {
   "cell_type": "markdown",
   "id": "76086fdf",
   "metadata": {
    "editable": true,
    "slideshow": {
     "slide_type": "notes"
    },
    "tags": []
   },
   "source": [
    "**Notes**: \n",
    " - We'll talk about how to get a simple computer program running, the basics in terms of *data types*, *variables*, *if-statements* and *loops*, getting data in and out of the program, *functions* and *variable scope*, and a bit about *comments*, *error types* and their *handling*.\n",
    " - I hope that this course will give you a good foundation to continue your Python learning further. Programming is a lot about learning by doing. There are tons of online (and offline) resources as well as forums (online and offline) where you can ask for help.\n"
   ]
  },
  {
   "cell_type": "markdown",
   "id": "e980db31",
   "metadata": {
    "editable": true,
    "slideshow": {
     "slide_type": "slide"
    },
    "tags": []
   },
   "source": [
    "## Programming means: make the computer do the work for you!\n",
    "\n",
    " - Do the maths\n",
    " - Boring repetitions\n",
    " - Too complicated/extensive tasks\n",
    " - Big data sets \n",
    " - Make your analysis reproducible\n",
    " -  ... "
   ]
  },
  {
   "cell_type": "markdown",
   "id": "b4b24475",
   "metadata": {
    "editable": true,
    "slideshow": {
     "slide_type": "slide"
    },
    "tags": []
   },
   "source": [
    "## Running code in a compiled language (such as C)\n",
    "\n",
    " 1. Write your code in a high-level programming language.\n",
    " 2. Translate into low-level (machine/assembly) language.\n",
    " 3. Execute the program. \n"
   ]
  },
  {
   "cell_type": "markdown",
   "id": "3b51ece4",
   "metadata": {
    "editable": true,
    "slideshow": {
     "slide_type": "notes"
    },
    "tags": []
   },
   "source": [
    "**Notes**: Now, how do we get the computer to do these things for us? This is what we are doing: We write the program in a language that we as human beings (with some training) can understand. As the computer won't be able to understand the code that way, we then compile it, which means that we translate it into computer language. Then we execute the program and, given we have made no mistake, the computer will get working for us.  \n"
   ]
  },
  {
   "cell_type": "markdown",
   "id": "273385e2",
   "metadata": {
    "editable": true,
    "slideshow": {
     "slide_type": "slide"
    },
    "tags": []
   },
   "source": [
    "## Running code in an interpreted language (such as Python)\n",
    "\n",
    " 1. Write your code in high-level programming language.\n",
    " 2. Interpret code and execute directly"
   ]
  },
  {
   "cell_type": "markdown",
   "id": "cfa09716",
   "metadata": {
    "editable": true,
    "slideshow": {
     "slide_type": "notes"
    },
    "tags": []
   },
   "source": [
    "**Notes**: Things can be made a little bit easier by using an interpreted scripting language instead of a compiled programming language.\n"
   ]
  },
  {
   "cell_type": "markdown",
   "id": "f1abdc3f",
   "metadata": {
    "editable": true,
    "slideshow": {
     "slide_type": "fragment"
    },
    "tags": []
   },
   "source": [
    " - *Beware!*: Oversimplification"
   ]
  },
  {
   "cell_type": "markdown",
   "id": "62a375dc",
   "metadata": {
    "editable": true,
    "slideshow": {
     "slide_type": "notes"
    },
    "tags": []
   },
   "source": [
    "**Notes**:  Please note that I am oversimplifying here a bit with regards to the terminology. The point I want to make is that there are languages, such as Python, which we will be using in this course, that translate and execute the code directly, without us having to do a separate compilation step."
   ]
  },
  {
   "cell_type": "markdown",
   "id": "edcd2f0d",
   "metadata": {},
   "source": [
    "## Demonstration of running python scripts\n",
    "\n",
    " 1. Create a `myname.py` file\n",
    " 2. run python `myname.py`"
   ]
  },
  {
   "cell_type": "markdown",
   "id": "500702de",
   "metadata": {
    "editable": true,
    "slideshow": {
     "slide_type": "slide"
    },
    "tags": []
   },
   "source": [
    "## Demonstration of using an interactive or ipython session"
   ]
  },
  {
   "cell_type": "markdown",
   "id": "4e89edf7",
   "metadata": {
    "editable": true,
    "slideshow": {
     "slide_type": "slide"
    },
    "tags": []
   },
   "source": [
    "## A quick introduction into jupyter\n",
    "Jupyter works with cells such as these, which you execute with the play button or `Shift/Strg + Enter`:"
   ]
  },
  {
   "cell_type": "code",
   "execution_count": 7,
   "id": "f7d16903-c06b-4be3-a934-62d267b4eae1",
   "metadata": {
    "editable": true,
    "slideshow": {
     "slide_type": ""
    },
    "tags": []
   },
   "outputs": [
    {
     "data": {
      "text/plain": [
       "1"
      ]
     },
     "execution_count": 7,
     "metadata": {},
     "output_type": "execute_result"
    }
   ],
   "source": [
    "# Add just a one to the cell and execute\n",
    "1"
   ]
  },
  {
   "cell_type": "markdown",
   "id": "94908b56-7e4f-4076-9f6b-0f0c082e2928",
   "metadata": {},
   "source": [
    "If the box on the left is empty, you have not executed it. Otherwise a number indicates in which order the execution took place.\n",
    "\n",
    "You can add cells with the plus. You can also change the type"
   ]
  },
  {
   "cell_type": "markdown",
   "id": "fed56a30-b548-4df2-9977-cf47da6da743",
   "metadata": {
    "editable": true,
    "slideshow": {
     "slide_type": ""
    },
    "tags": []
   },
   "source": [
    "# Now it is markdown and the `#` indicates a header"
   ]
  },
  {
   "cell_type": "markdown",
   "id": "635cd5f3",
   "metadata": {
    "editable": true,
    "slideshow": {
     "slide_type": "notes"
    },
    "tags": []
   },
   "source": [
    "**Notes:**\n",
    " - We have individual cells to run. To do so press the run button or `Shift + Enter`\n",
    " - The small number in the box in front indicates a cell has been run."
   ]
  },
  {
   "cell_type": "markdown",
   "id": "5f00bd67-609f-4760-b726-a22ac601dbe5",
   "metadata": {
    "editable": true,
    "slideshow": {
     "slide_type": "slide"
    },
    "tags": []
   },
   "source": [
    "# Basics"
   ]
  },
  {
   "cell_type": "markdown",
   "id": "4ce028a2-6a62-44e1-a500-7e773bb727ce",
   "metadata": {
    "editable": true,
    "slideshow": {
     "slide_type": "notes"
    },
    "tags": []
   },
   "source": [
    "In this section we will look into the very basics of programming, to give you the foundations\n",
    "to start from. A lot of it will be transferrable to other programming languages,\n",
    "even if the exact syntax, the way how you write things down, changes."
   ]
  },
  {
   "cell_type": "markdown",
   "id": "61a069f5-5057-4418-b429-57e7cf878113",
   "metadata": {
    "editable": true,
    "slideshow": {
     "slide_type": "slide"
    },
    "tags": []
   },
   "source": [
    "## Basic Data Types\n",
    "\n",
    "- Strings: \"Heinz\", 'Banana', 'He said \"Hello\"'\n",
    "- Integers: 1, 2, 3, 22222222, -777\n",
    "- Floats: -1.2, 0.0, 2.7182\n",
    "- Booleans: True, False"
   ]
  },
  {
   "cell_type": "markdown",
   "id": "62b023f8-fd00-4c83-a253-d6f7b14ad536",
   "metadata": {
    "editable": true,
    "slideshow": {
     "slide_type": "notes"
    },
    "tags": []
   },
   "source": [
    "**Notes**:\n",
    "When you are programming, you have to be clear about what type each item you are handling has. Each data type has different rules. In the most basic version, Python has the following data types:\n",
    "- Strings, which are bits of text, noted by single or double quotation marks, which can be nested.\n",
    "- Integers, which are whole numbers, positive or negative.\n",
    "- Floats, or floating points numbers, which allow for a fractional part.\n",
    "- Booleans, or bools, which are truth values, and can be either true or false."
   ]
  },
  {
   "cell_type": "markdown",
   "id": "c3494c49-aba5-4237-937a-c83f452b949d",
   "metadata": {
    "editable": true,
    "slideshow": {
     "slide_type": "slide"
    },
    "tags": []
   },
   "source": [
    "## Basics: Variables\n",
    "\n",
    "- “I reserve a space in memory for my data bit, and I call it \n",
    "by the name x\n",
    "- Syntax: name = value”"
   ]
  },
  {
   "cell_type": "markdown",
   "id": "124a1cac-644b-4f1b-b466-8b61324ee4b8",
   "metadata": {
    "editable": true,
    "slideshow": {
     "slide_type": "notes"
    },
    "tags": []
   },
   "source": [
    "**Notes**: The next essential concept you need to know for programming in Python are variables.\n",
    "\n",
    "By writing ``name = value'', you are basically saying \"I reserve a space in memory for my data bit, which is value, and I call it name\". Then you can use the name to further process your data bit, as we have seen in the example with the print statement."
   ]
  },
  {
   "cell_type": "markdown",
   "id": "fa02f78d-213c-42e2-b856-04da0d7221a3",
   "metadata": {
    "editable": true,
    "slideshow": {
     "slide_type": "slide"
    },
    "tags": []
   },
   "source": [
    "## Examples\n"
   ]
  },
  {
   "cell_type": "code",
   "execution_count": 9,
   "id": "14f8d1c7-e7ad-4c8e-a102-49eda7d54576",
   "metadata": {
    "editable": true,
    "slideshow": {
     "slide_type": ""
    },
    "tags": []
   },
   "outputs": [
    {
     "name": "stdout",
     "output_type": "stream",
     "text": [
      "He said \"Hello\"\n"
     ]
    }
   ],
   "source": [
    "# print statement 'He said \"Hello\"'\n",
    "print('He said \"Hello\"')"
   ]
  },
  {
   "cell_type": "code",
   "execution_count": 10,
   "id": "45605286-5da6-4d9d-83c2-66b89f97d3d9",
   "metadata": {
    "editable": true,
    "slideshow": {
     "slide_type": ""
    },
    "tags": []
   },
   "outputs": [
    {
     "name": "stdout",
     "output_type": "stream",
     "text": [
      "He said \"Hello\"\n"
     ]
    }
   ],
   "source": [
    "# put the content of the print statement in a variable\n",
    "my_string = 'He said \"Hello\"'\n",
    "print(my_string)"
   ]
  },
  {
   "cell_type": "code",
   "execution_count": 11,
   "id": "56b4cee3-6f98-42bd-9264-982974d75162",
   "metadata": {
    "editable": true,
    "slideshow": {
     "slide_type": ""
    },
    "tags": []
   },
   "outputs": [
    {
     "data": {
      "text/plain": [
       "str"
      ]
     },
     "execution_count": 11,
     "metadata": {},
     "output_type": "execute_result"
    }
   ],
   "source": [
    "# check the type of that variable\n",
    "type(my_string)"
   ]
  },
  {
   "cell_type": "markdown",
   "id": "4f524efd-a1b6-460f-9307-2e3b48912f9f",
   "metadata": {
    "editable": true,
    "slideshow": {
     "slide_type": "notes"
    },
    "tags": []
   },
   "source": [
    "**Notes**: In this example we see the print statement again. It will usually expect a string, or something that can be converted to a string.\n",
    "\n",
    "Here we are saying that the variable \"myString2 should have the string value 'He said \"Hello\"', and then put the print statement separately. The \"type\" command is able to tell us, what type the variable ``myString'' has. [demonstrate]\n",
    "\n",
    "As a side note, many programming languages, in particular compiled programming languages, require you to explicitly state the data type of your variable when you create it. We do not need to do that here."
   ]
  },
  {
   "cell_type": "markdown",
   "id": "66c1eed8-4072-4b59-a9d1-fbc39c149232",
   "metadata": {
    "@deathbeds/jupyterlab-fonts": {
     "styles": {
      "": {
       "body[data-jp-deck-mode='presenting'] &": {
        "zoom": "79%"
       }
      }
     }
    },
    "editable": true,
    "slideshow": {
     "slide_type": "slide"
    },
    "tags": []
   },
   "source": [
    "## Try to assign the data types at the following qr code\n",
    "\n",
    "Try not to overthink. If something is ambiguous pick what fits best\n",
    "\n",
    "![QRCode](qr_question1.png)"
   ]
  },
  {
   "cell_type": "markdown",
   "id": "f1375c58-0e68-48a0-9585-64947364060a",
   "metadata": {
    "editable": true,
    "slideshow": {
     "slide_type": "notes"
    },
    "tags": []
   },
   "source": [
    "**Notes**: Questions behind QR Code\n",
    "Assign a type to the variable names\n",
    "1. name\n",
    "   - str obviously\n",
    "3. items_in_stock\n",
    "   - usually means a number -> int\n",
    "4. pressure_bar\n",
    "   - if you have different physical units for a size put the unit into the name. Say you also have pressure_torr\n",
    "5. is_student\n",
    "   - bool\n",
    "7. participants\n",
    "   - is an ambiguous name (names, number, there are some) if this can happen, name the variable differently."
   ]
  },
  {
   "cell_type": "markdown",
   "id": "f4ce8703-5465-4230-9e24-65881932ba8c",
   "metadata": {
    "editable": true,
    "slideshow": {
     "slide_type": "slide"
    },
    "tags": []
   },
   "source": [
    "## Examples\n",
    "try it out yourself"
   ]
  },
  {
   "cell_type": "code",
   "execution_count": 13,
   "id": "8d8ec979-18c9-4172-aee0-da0dd4d7093d",
   "metadata": {
    "editable": true,
    "slideshow": {
     "slide_type": ""
    },
    "tags": []
   },
   "outputs": [
    {
     "name": "stdout",
     "output_type": "stream",
     "text": [
      "7\n"
     ]
    }
   ],
   "source": [
    "# Adding two integers (2 and 5)\n",
    "print(2+5)"
   ]
  },
  {
   "cell_type": "code",
   "execution_count": 14,
   "id": "4b09cd7f-3379-4ca3-9b2a-4f8a673e65e5",
   "metadata": {
    "editable": true,
    "slideshow": {
     "slide_type": ""
    },
    "tags": []
   },
   "outputs": [
    {
     "ename": "TypeError",
     "evalue": "can only concatenate str (not \"int\") to str",
     "output_type": "error",
     "traceback": [
      "\u001b[1;31m---------------------------------------------------------------------------\u001b[0m",
      "\u001b[1;31mTypeError\u001b[0m                                 Traceback (most recent call last)",
      "Cell \u001b[1;32mIn[14], line 2\u001b[0m\n\u001b[0;32m      1\u001b[0m \u001b[38;5;66;03m# Adding integers to a string (\"2+5 = \") naively\u001b[39;00m\n\u001b[1;32m----> 2\u001b[0m \u001b[38;5;28mprint\u001b[39m(\u001b[38;5;124;43m\"\u001b[39;49m\u001b[38;5;124;43m2+5 = \u001b[39;49m\u001b[38;5;124;43m\"\u001b[39;49m\u001b[43m \u001b[49m\u001b[38;5;241;43m+\u001b[39;49m\u001b[43m \u001b[49m\u001b[38;5;241;43m2\u001b[39;49m \u001b[38;5;241m+\u001b[39m \u001b[38;5;241m5\u001b[39m)\n",
      "\u001b[1;31mTypeError\u001b[0m: can only concatenate str (not \"int\") to str"
     ]
    }
   ],
   "source": [
    "# Adding integers to a string (\"2+5 = \") naively\n",
    "print(\"2+5 = \" + 2 + 5)"
   ]
  },
  {
   "cell_type": "code",
   "execution_count": 15,
   "id": "10f6eedb-93d4-409a-9840-3c5d2b5ce301",
   "metadata": {
    "editable": true,
    "slideshow": {
     "slide_type": ""
    },
    "tags": []
   },
   "outputs": [
    {
     "name": "stdout",
     "output_type": "stream",
     "text": [
      "2+5 = 7\n"
     ]
    }
   ],
   "source": [
    "# Option 1: call the result into a string\n",
    "print(\"2+5 = \" + str(2 + 5))"
   ]
  },
  {
   "cell_type": "code",
   "execution_count": 16,
   "id": "c4c12df2-2e77-4efd-894d-f901ef2ac5db",
   "metadata": {
    "editable": true,
    "scrolled": true,
    "slideshow": {
     "slide_type": ""
    },
    "tags": []
   },
   "outputs": [
    {
     "name": "stdout",
     "output_type": "stream",
     "text": [
      "2+5 =  7\n"
     ]
    }
   ],
   "source": [
    "# Option 2: Using multiple arguments in print\n",
    "print(\"2+5 = \", 2 + 5)"
   ]
  },
  {
   "cell_type": "markdown",
   "id": "fccd9964-6af2-4a31-a244-1dbe7a1ab098",
   "metadata": {
    "editable": true,
    "slideshow": {
     "slide_type": "notes"
    },
    "tags": []
   },
   "source": [
    "**Notes**:\n",
    " - As I said before, ``print`` expects a string or something that can be converted to a string. Here are some examples of what happens if I am dealing with integers. Please try each of these examples for yourself, and see what the output is. One will give you an error. In the 1st case, the interpreter recognises that I have two integers that want to be added together, and gives me the answer. The 2nd case produces an error and says ``TypeError: can only concatenate str (not \"int\") to str``. The plus sign actually means two different things for numbers and for strings! You can *glue* two strings together using the plus sign, and you can add two numbers together, as we would expect. The 3rd case shows how to explicitly cast a number to a string. We tell it ``add 2 and 5 together, make it a string, and concatenate it to the other string''.\n",
    " - To make things a bit more complicated (or easier, depending on your point of view), you can do the same things by simply putting a comma instead of the plus in the print statement. Ask me about the meaning behind that at the end, when we have talked about functions!"
   ]
  },
  {
   "cell_type": "markdown",
   "id": "f72bfc35-fac1-4f13-9b77-6bf8db349e68",
   "metadata": {
    "editable": true,
    "slideshow": {
     "slide_type": "slide"
    },
    "tags": []
   },
   "source": [
    "## Examples"
   ]
  },
  {
   "cell_type": "code",
   "execution_count": 9,
   "id": "d6ea538b-9b0e-4080-a53d-daab595bad44",
   "metadata": {
    "editable": true,
    "slideshow": {
     "slide_type": ""
    },
    "tags": []
   },
   "outputs": [
    {
     "ename": "NameError",
     "evalue": "name 'true' is not defined",
     "output_type": "error",
     "traceback": [
      "\u001b[1;31m---------------------------------------------------------------------------\u001b[0m",
      "\u001b[1;31mNameError\u001b[0m                                 Traceback (most recent call last)",
      "Cell \u001b[1;32mIn[9], line 1\u001b[0m\n\u001b[1;32m----> 1\u001b[0m \u001b[38;5;28mtype\u001b[39m(\u001b[43mtrue\u001b[49m)\n",
      "\u001b[1;31mNameError\u001b[0m: name 'true' is not defined"
     ]
    }
   ],
   "source": [
    "# boolean have to be capitalized\n",
    "type(true)"
   ]
  },
  {
   "cell_type": "code",
   "execution_count": 10,
   "id": "6b017dfb-0b3f-4ec5-8912-777fa4433db7",
   "metadata": {
    "editable": true,
    "slideshow": {
     "slide_type": ""
    },
    "tags": []
   },
   "outputs": [
    {
     "data": {
      "text/plain": [
       "bool"
      ]
     },
     "execution_count": 10,
     "metadata": {},
     "output_type": "execute_result"
    }
   ],
   "source": [
    "# Checking the type of a boolean\n",
    "type(True)"
   ]
  },
  {
   "cell_type": "code",
   "execution_count": 11,
   "id": "cb6c4d3d-73cc-4ee4-b619-b52f6dc15012",
   "metadata": {
    "editable": true,
    "slideshow": {
     "slide_type": ""
    },
    "tags": []
   },
   "outputs": [
    {
     "data": {
      "text/plain": [
       "2"
      ]
     },
     "execution_count": 11,
     "metadata": {},
     "output_type": "execute_result"
    }
   ],
   "source": [
    "# Adding a boolean to an integer\n",
    "1+True"
   ]
  },
  {
   "cell_type": "code",
   "execution_count": 12,
   "id": "f3d04d7e-43aa-4c52-b3b5-81ba50cb1ebc",
   "metadata": {
    "editable": true,
    "scrolled": true,
    "slideshow": {
     "slide_type": ""
    },
    "tags": []
   },
   "outputs": [
    {
     "data": {
      "text/plain": [
       "int"
      ]
     },
     "execution_count": 12,
     "metadata": {},
     "output_type": "execute_result"
    }
   ],
   "source": [
    "# Checking the type of the result\n",
    "type(1+True)"
   ]
  },
  {
   "cell_type": "markdown",
   "id": "d81ac945-1696-4d9b-a38b-88bf2990961a",
   "metadata": {
    "editable": true,
    "slideshow": {
     "slide_type": "notes"
    },
    "tags": []
   },
   "source": [
    "**Notes**: Let's take a closer look at booleans. They seem a bit boring, but we will see later that they are really essential for programming. Try these commands in your interpreter. You will, again, get an error in one case. [let them try]\n",
    "You will have seen that the values are case sensitive, so you have to make sure to write``True`` and ``False`` with capital letters. You will also have noticed that ``True`` has the numerical value one, and ``False`` is zero. You can invert the value with ``not``, and combine two values logically with ``and`` and ``or``."
   ]
  },
  {
   "cell_type": "markdown",
   "id": "e395c450-4d1d-4d8b-a737-4e743e9842bb",
   "metadata": {
    "editable": true,
    "slideshow": {
     "slide_type": "slide"
    },
    "tags": []
   },
   "source": [
    "## Examples"
   ]
  },
  {
   "cell_type": "code",
   "execution_count": 16,
   "id": "8b4fafe9-c0af-4cb9-b00d-6651c07aac0a",
   "metadata": {
    "editable": true,
    "scrolled": true,
    "slideshow": {
     "slide_type": ""
    },
    "tags": []
   },
   "outputs": [
    {
     "data": {
      "text/plain": [
       "1"
      ]
     },
     "execution_count": 16,
     "metadata": {},
     "output_type": "execute_result"
    }
   ],
   "source": [
    "# Adding booleans\n",
    "True+False"
   ]
  },
  {
   "cell_type": "code",
   "execution_count": 17,
   "id": "350a7371-a31c-4d89-af31-208a09f32e42",
   "metadata": {
    "editable": true,
    "slideshow": {
     "slide_type": ""
    },
    "tags": []
   },
   "outputs": [
    {
     "data": {
      "text/plain": [
       "False"
      ]
     },
     "execution_count": 17,
     "metadata": {},
     "output_type": "execute_result"
    }
   ],
   "source": [
    "# Logical AND\n",
    "True and False"
   ]
  },
  {
   "cell_type": "code",
   "execution_count": 15,
   "id": "78f03073-e1e6-4099-ba4b-71da552a7ce9",
   "metadata": {
    "editable": true,
    "slideshow": {
     "slide_type": ""
    },
    "tags": []
   },
   "outputs": [
    {
     "data": {
      "text/plain": [
       "True"
      ]
     },
     "execution_count": 15,
     "metadata": {},
     "output_type": "execute_result"
    }
   ],
   "source": [
    "# Logical OR\n",
    "True or False"
   ]
  },
  {
   "cell_type": "code",
   "execution_count": 17,
   "id": "5489948e-d28b-4c8b-a100-b21c8fec83c1",
   "metadata": {
    "editable": true,
    "slideshow": {
     "slide_type": ""
    },
    "tags": []
   },
   "outputs": [
    {
     "data": {
      "text/plain": [
       "False"
      ]
     },
     "execution_count": 17,
     "metadata": {},
     "output_type": "execute_result"
    }
   ],
   "source": [
    "# Negating boolean\n",
    "not True"
   ]
  },
  {
   "cell_type": "markdown",
   "id": "2a35a09b-be57-4450-9184-6a85ace899db",
   "metadata": {
    "editable": true,
    "slideshow": {
     "slide_type": "notes"
    },
    "tags": []
   },
   "source": [
    "Let's take a closer look at booleans. They seem a bit boring, but we will see later that they are really essential for programming. Try these commands in your interpreter. You will, again, get an error in one case. [let them try]\n",
    "You will have seen that the values are case sensitive, so you have to make sure to write``True`` and ``False`` with capital letters. You will also have noticed that ``True`` has the numerical value one, and ``False`` is zero. You can invert the value with ``not``, and combine two values logically with ``and`` and ``or``."
   ]
  },
  {
   "cell_type": "markdown",
   "id": "b8e27f8f-5a41-405e-85e7-0647be3c9c76",
   "metadata": {
    "editable": true,
    "slideshow": {
     "slide_type": "slide"
    },
    "tags": []
   },
   "source": [
    "#### Basic Operations"
   ]
  },
  {
   "cell_type": "markdown",
   "id": "3c5c1499-0a0f-466d-893a-3acff868ed61",
   "metadata": {
    "editable": true,
    "slideshow": {
     "slide_type": ""
    },
    "tags": []
   },
   "source": [
    "- String: concatenation with +\n",
    "- Bool: and, or, not\n",
    "- Numerical data: +, -, *, /, \\%, **, abs, ...\n",
    "- Order of execution:\n",
    "    1. ()\n",
    "    2. **\n",
    "    3. *,/\n",
    "    4. +, -\n",
    "    5. Left-to-right (except exponentiation!)\n",
    "\n",
    "So, use parenthesis to make sure!\n"
   ]
  },
  {
   "cell_type": "markdown",
   "id": "043a2902-a39e-4f7a-bb26-1ca23826e861",
   "metadata": {
    "editable": true,
    "slideshow": {
     "slide_type": "notes"
    },
    "tags": []
   },
   "source": [
    "- These are the basic operations we have for our data types: String concatenation with the plus sign, logical operations on booleans with and, or, and not, and for floats and integers we have addition, subtraction, multiplication, division, modulo (i.e., the remainder of a division), exponentiation, absolute value, and so on.\n",
    " - It is very important to be aware how these operations are executed in long arithmetic expressions. Generally, if you have something like a plus b plus c, it happens from left to right: First a plus b, and then plus c. However, if you have exponents, like a to the power of b to the power of c, the right-most operations happens first: b to the power of c, and then a to the power of the result. Exponents bind stronger than times and division, i.e. exponents are computed first, and times and division is stronger than plus and minus. If in doubt, just use parenthesis.\n",
    " - You will have the chance to play around with this in a moment, and find out for yourselves how it works."
   ]
  },
  {
   "cell_type": "markdown",
   "id": "e47a92b4-b791-4a1e-a81f-b73e97eb19ef",
   "metadata": {
    "editable": true,
    "slideshow": {
     "slide_type": "slide"
    },
    "tags": []
   },
   "source": [
    "## Basics: Comments (and Documentation)"
   ]
  },
  {
   "cell_type": "code",
   "execution_count": null,
   "id": "f9b4a639-5dd5-4ee5-a20c-b95bd0e62bed",
   "metadata": {
    "editable": true,
    "slideshow": {
     "slide_type": ""
    },
    "tags": []
   },
   "outputs": [],
   "source": [
    "# This is my programme to demonstrate how to\n",
    "# do simple calculations in Python.\n",
    "\n",
    "my_number = 2\n",
    "\n",
    "my_other_number = my_number + 5\n",
    "\n",
    "my_number = my_other_number / 2 # I have to divide\n",
    "                                # by 2 here, as the\n",
    "                                # results are\n",
    "                                # otherwise rubbish\n",
    "\n",
    "print(my_number)"
   ]
  },
  {
   "cell_type": "markdown",
   "id": "b10a619b-e078-4261-b8d8-3021e85581b6",
   "metadata": {
    "editable": true,
    "slideshow": {
     "slide_type": "notes"
    },
    "tags": []
   },
   "source": [
    "But first, I want to show you two more things.\n",
    "\n",
    " - One is comments. When you are writing your code, your intentions and your thinking might seem obvious, and you just want to get it running. However, believe me: If someone else is looking at your code at some point, and this someone else might be you in two weeks time, things are very probably not that obvious anymore. I found myself puzzling over my own code and why on earth I have done things like that quite often. In order to put a comment in your code you have to tell the interpreter that this bit is just for the humans reading the code, not interesting for the computer. In Python this is done by putting a hash symbol in front of the comment. This can be either at the beginning or in the middle of a line.\n"
   ]
  },
  {
   "cell_type": "markdown",
   "id": "b653ac34-54c7-4033-998b-ad4ac40d355a",
   "metadata": {
    "@deathbeds/jupyterlab-fonts": {
     "styles": {
      "": {
       "body[data-jp-deck-mode='presenting'] &": {
        "zoom": null
       }
      }
     }
    },
    "editable": true,
    "slideshow": {
     "slide_type": "slide"
    },
    "tags": []
   },
   "source": [
    "## Debugging and Types of Errors\n",
    "\n",
    "- Errors in computer programs are called ``bugs'' for historic reasons.\n",
    "- For complex projects, you will usually spend more time testing and debugging than writing code.\n",
    "- Three types of errors:\n",
    "    - Syntax errors - written the code wrongly\n",
    "    - Semantic errors - written the wrong code\n",
    "    - Runtime errors - something's wrong with the code (during execution)\n"
   ]
  },
  {
   "cell_type": "markdown",
   "id": "d06eb5da-4aa2-4458-b84d-c9d5e7d731ab",
   "metadata": {
    "editable": true,
    "slideshow": {
     "slide_type": "notes"
    },
    "tags": []
   },
   "source": [
    "- The other thing I want to mention at this points are errors. As soon as you start programming you will make mistakes. Everyone does that, even the most experienced programmers spend a lot of time hunting for bugs in their code. \"Bugs\" is a common term for errors in computer programs. It is said that this term originates from a time when actual insects in the hardware of a computer or another machine were the cause for malfunctions. There is a number of different opinions on when the term was first used, but I won't go into that here. Looking for and removing these errors is also called \"debugging\"."
   ]
  },
  {
   "cell_type": "markdown",
   "id": "fd1a0a5c-4960-4f70-b2ad-dcdd017f3b2f",
   "metadata": {
    "editable": true,
    "slideshow": {
     "slide_type": "notes"
    },
    "tags": []
   },
   "source": [
    " - Syntax errors are usually the easiest to spot. We have seen them before, when we wrote some code that was not valid, made a typo or so. Your interpreter or compiler will tell you straight away that something is wrong.\n",
    " - Semantic errors are much harder to find. It means that the code that you have written does not do what you intended it to do. Because you have written it, you will probably have assumed that it does the right thing, so you have to question your thinking. Often it helps to explain your code to someone else, so that either they or yourself might spot the mistake.\n",
    " - The third type is runtime errors. These will just appear during execution, for example because your code cannot cope with a certain type of input. An example would be a code that divides a number by another number given by user input, which errors if the user input is zero or a string."
   ]
  },
  {
   "cell_type": "markdown",
   "id": "0acb73f6-fbfa-430d-bb59-9d6fa460e814",
   "metadata": {
    "editable": true,
    "slideshow": {
     "slide_type": "slide"
    },
    "tags": []
   },
   "source": [
    "# Have a play!"
   ]
  },
  {
   "cell_type": "markdown",
   "id": "7776d84b-d435-43c0-a42b-65ac111b8c51",
   "metadata": {
    "editable": true,
    "slideshow": {
     "slide_type": ""
    },
    "tags": []
   },
   "source": [
    "You could try\n",
    " - what happens if you add a float and an integer,\n",
    " - what happens if you mix numbers and bools in arithmetic expressions,\n",
    " - how setting parenthesis changes the result of a large arithmetic expression,\n",
    " - to print statements that include variables of different data types,\n",
    " - try to reproduce each of the error types,\n",
    " - ..."
   ]
  },
  {
   "cell_type": "markdown",
   "id": "b938326c-b6d0-423a-80a4-54af39ef11d3",
   "metadata": {
    "editable": true,
    "raw_mimetype": "",
    "slideshow": {
     "slide_type": "notes"
    },
    "tags": []
   },
   "source": [
    "Now it's time for you to try the things that we have learned about yourselves. I want you to think about data types, variables, the different operations, comments and errors, and find out more about how they work by experimenting. Write little bits of code and see what works, what doesn't, and how the output changes.\n",
    "\n",
    "I wrote down some examples here, in case you are unsure what to do, but you can do something different.\n",
    "\n",
    "Again, if you have any question or need help, we are here to help.\n",
    "\n",
    "I'll give you about 10 minutes, then I'll go with you over possible solutions for my examples above."
   ]
  },
  {
   "cell_type": "markdown",
   "id": "38b4e2ff-f14c-4395-8c0e-31760e966e3f",
   "metadata": {
    "editable": true,
    "slideshow": {
     "slide_type": "slide"
    },
    "tags": []
   },
   "source": [
    "### Example solution\n",
    "What happens if you add a float and an integer"
   ]
  },
  {
   "cell_type": "code",
   "execution_count": null,
   "id": "ef76a990-2d52-4c6b-b78b-b9eea0d333bd",
   "metadata": {
    "editable": true,
    "slideshow": {
     "slide_type": ""
    },
    "tags": []
   },
   "outputs": [],
   "source": []
  },
  {
   "cell_type": "code",
   "execution_count": null,
   "id": "3d3dd2b8-51c6-42fc-a801-57531deef90a",
   "metadata": {
    "editable": true,
    "slideshow": {
     "slide_type": "notes"
    },
    "tags": []
   },
   "outputs": [],
   "source": [
    "1+3.0"
   ]
  },
  {
   "cell_type": "markdown",
   "id": "2d2f1b27-4165-473d-9c23-c2dee1ad5e21",
   "metadata": {
    "editable": true,
    "raw_mimetype": "",
    "slideshow": {
     "slide_type": "slide"
    },
    "tags": []
   },
   "source": [
    "### Example solution\n",
    "What happens if you mix numbers and bools in arithmetic expressions"
   ]
  },
  {
   "cell_type": "code",
   "execution_count": null,
   "id": "c8a2d063-e886-44fb-b252-3c6a9669218f",
   "metadata": {
    "editable": true,
    "slideshow": {
     "slide_type": ""
    },
    "tags": []
   },
   "outputs": [],
   "source": []
  },
  {
   "cell_type": "code",
   "execution_count": null,
   "id": "1eeaabd0-64b3-4359-ad8e-a54e7ca9f981",
   "metadata": {
    "editable": true,
    "slideshow": {
     "slide_type": "notes"
    },
    "tags": []
   },
   "outputs": [],
   "source": [
    "print(1+True)\n",
    "\n",
    "print(6-False)"
   ]
  },
  {
   "cell_type": "markdown",
   "id": "3fb73d7e-60d6-4396-8faf-274355afc206",
   "metadata": {
    "editable": true,
    "slideshow": {
     "slide_type": "fragment"
    },
    "tags": []
   },
   "source": [
    "True is converted to one and False is converted to zero"
   ]
  },
  {
   "cell_type": "markdown",
   "id": "f0ddd221-6e34-4e21-8de8-ff6b8b640c8c",
   "metadata": {
    "editable": true,
    "slideshow": {
     "slide_type": "slide"
    },
    "tags": []
   },
   "source": [
    "### Example solution\n",
    "How setting parenthesis changes the result of a large arithmetic expression.\n"
   ]
  },
  {
   "cell_type": "code",
   "execution_count": null,
   "id": "dfc0cad7-65e0-447d-a8d0-7736d1e8ab05",
   "metadata": {
    "editable": true,
    "slideshow": {
     "slide_type": ""
    },
    "tags": []
   },
   "outputs": [],
   "source": []
  },
  {
   "cell_type": "code",
   "execution_count": null,
   "id": "1b168cbd-c93d-4312-8599-87291c60b289",
   "metadata": {
    "editable": true,
    "slideshow": {
     "slide_type": "notes"
    },
    "tags": []
   },
   "outputs": [],
   "source": [
    "print(1+2/3-4*5**6+7)\n",
    "print(((1+2)/(3-4))*(5**6)+7)\n",
    "print(((1+2)/(3-4))*5**(6+7))\n",
    "print((1+2)/((3-4)*5**6+7))"
   ]
  },
  {
   "cell_type": "markdown",
   "id": "a679797c-d1d8-4435-bdab-0eab6fb14224",
   "metadata": {
    "editable": true,
    "slideshow": {
     "slide_type": "slide"
    },
    "tags": []
   },
   "source": [
    "### Example solution\n",
    "Print statements that include variables of different data types."
   ]
  },
  {
   "cell_type": "code",
   "execution_count": null,
   "id": "a5606737-142f-4f73-a8fc-5add98689926",
   "metadata": {
    "editable": true,
    "slideshow": {
     "slide_type": ""
    },
    "tags": []
   },
   "outputs": [],
   "source": []
  },
  {
   "cell_type": "code",
   "execution_count": null,
   "id": "581a30a4-74c9-473c-8c78-288002242017",
   "metadata": {
    "editable": true,
    "slideshow": {
     "slide_type": "notes"
    },
    "tags": []
   },
   "outputs": [],
   "source": [
    "my_int = 1\n",
    "my_float = 3.4\n",
    "my_string = \"Flower\"\n",
    "my_bool = True\n",
    "print(\"Add:\", my_int + my_float)\n",
    "print(\"Hello \" + my_string)\n",
    "print(my_string + \" this: \", my_bool - my_float, \" and that: \", my_bool)"
   ]
  },
  {
   "cell_type": "markdown",
   "id": "3d6aa469-1847-4eb7-9125-cbef8a9dff69",
   "metadata": {
    "editable": true,
    "slideshow": {
     "slide_type": "slide"
    },
    "tags": []
   },
   "source": [
    "### Example solution\n",
    "Try to reproduce each of the error types\n",
    "#### 1. Syntax Error"
   ]
  },
  {
   "cell_type": "code",
   "execution_count": null,
   "id": "c71f14c6-50bd-42f5-9fef-59c1dd3c8f50",
   "metadata": {
    "editable": true,
    "slideshow": {
     "slide_type": ""
    },
    "tags": []
   },
   "outputs": [],
   "source": []
  },
  {
   "cell_type": "code",
   "execution_count": null,
   "id": "6fc1b4fa-dcda-492e-a259-218dd30ce783",
   "metadata": {
    "editable": true,
    "slideshow": {
     "slide_type": "notes"
    },
    "tags": []
   },
   "outputs": [],
   "source": [
    "print(\"Hello\" 5)"
   ]
  },
  {
   "cell_type": "markdown",
   "id": "086e0aa2-f175-4a3d-816a-f0aa079e8576",
   "metadata": {
    "editable": true,
    "slideshow": {
     "slide_type": "slide"
    },
    "tags": []
   },
   "source": [
    "### Example solution\n",
    "Try to reproduce each of the error types\n",
    "#### 2. Semantic Error"
   ]
  },
  {
   "cell_type": "code",
   "execution_count": null,
   "id": "2ea2c2ca-ac75-48df-8264-2e5d5e066db9",
   "metadata": {
    "editable": true,
    "slideshow": {
     "slide_type": ""
    },
    "tags": []
   },
   "outputs": [],
   "source": []
  },
  {
   "cell_type": "code",
   "execution_count": null,
   "id": "c320b045-31ce-416e-b167-a23ac39b625d",
   "metadata": {
    "editable": true,
    "slideshow": {
     "slide_type": "notes"
    },
    "tags": []
   },
   "outputs": [],
   "source": [
    "print(\"7+5 = \", 1+1)"
   ]
  },
  {
   "cell_type": "markdown",
   "id": "ff357b54-bcf8-4d4c-bea2-bf6c71ea6ac7",
   "metadata": {
    "editable": true,
    "slideshow": {
     "slide_type": "slide"
    },
    "tags": []
   },
   "source": [
    "### Example solution\n",
    "Try to reproduce each of the error types\n",
    "#### 3. Runtime Error"
   ]
  },
  {
   "cell_type": "code",
   "execution_count": null,
   "id": "f4c4dfce-cfe0-48c5-9594-165915232c90",
   "metadata": {
    "editable": true,
    "slideshow": {
     "slide_type": ""
    },
    "tags": []
   },
   "outputs": [],
   "source": []
  },
  {
   "cell_type": "code",
   "execution_count": null,
   "id": "bc63370b-5746-461c-b37d-a7b7930f0d89",
   "metadata": {
    "editable": true,
    "slideshow": {
     "slide_type": "notes"
    },
    "tags": []
   },
   "outputs": [],
   "source": [
    "x = \"thisisastring\" #Make this an input during runtime, see next section.\n",
    "print(\"5/x=\", 5/x)"
   ]
  },
  {
   "cell_type": "markdown",
   "id": "b36e0957-233a-4cc7-877c-521a9738ab14",
   "metadata": {
    "editable": true,
    "slideshow": {
     "slide_type": "slide"
    },
    "tags": []
   },
   "source": [
    "# Getting Data in and out"
   ]
  },
  {
   "cell_type": "markdown",
   "id": "d8cba751-27c5-488b-a709-020ef1d02154",
   "metadata": {
    "editable": true,
    "slideshow": {
     "slide_type": "notes"
    },
    "tags": []
   },
   "source": [
    "Now that we have covered the basics, let's move on to the next level. I expect that most of you are interested in processing data in one way or the other. Most times, we do not want to explicitly write our data into our code, which is also called \"hardcoding\", and has a bad reputation.\n",
    "\n",
    "Instead, we want to be able to provide data during runtime, and have a general program that is able to process the data.\n",
    "\n",
    "How then do we get the data in and out of our program?"
   ]
  },
  {
   "cell_type": "markdown",
   "id": "e68f4e7d-eed9-4ed6-8165-e3c0d685cf17",
   "metadata": {
    "editable": true,
    "slideshow": {
     "slide_type": "slide"
    },
    "tags": []
   },
   "source": [
    "## User Input"
   ]
  },
  {
   "cell_type": "code",
   "execution_count": 18,
   "id": "1de7bf5e-94d3-446f-b594-0f8f9c51049c",
   "metadata": {
    "editable": true,
    "slideshow": {
     "slide_type": ""
    },
    "tags": []
   },
   "outputs": [
    {
     "name": "stdout",
     "output_type": "stream",
     "text": [
      " Niklas\n"
     ]
    },
    {
     "name": "stdout",
     "output_type": "stream",
     "text": [
      "Niklas\n"
     ]
    },
    {
     "data": {
      "text/plain": [
       "str"
      ]
     },
     "execution_count": 18,
     "metadata": {},
     "output_type": "execute_result"
    }
   ],
   "source": [
    "# Get some user input\n",
    "x = input()\n",
    "# print it\n",
    "print(x)\n",
    "# check the type of the input\n",
    "type(x)   # This will be a string if you don't convert it"
   ]
  },
  {
   "cell_type": "code",
   "execution_count": null,
   "id": "b64d8946-089d-415f-b800-b6584c02f4fb",
   "metadata": {
    "editable": true,
    "slideshow": {
     "slide_type": ""
    },
    "tags": []
   },
   "outputs": [],
   "source": [
    "# Implement a greeting function with user input\n",
    "name = input(\"What's you name?\")\n",
    "print(\"Hello \" + name)"
   ]
  },
  {
   "cell_type": "markdown",
   "id": "195df933-1342-4ef2-af62-84fa98f83861",
   "metadata": {
    "editable": true,
    "slideshow": {
     "slide_type": "notes"
    },
    "tags": []
   },
   "source": [
    "As an equivalent to the print statement, there is the input statement. It just takes the input from the command line or terminal, and you can do with it whatever you like. For example, here I am putting it into a variable x, and then output it. You can also add a prompting message to the user to tell them what kind of input you expect. Note that, just as print outputs a string, any user input will be interpreted as of type string, regardless of whether it is made out of letters, numbers, or symbols. So you might need to convert it to whatever data type you need it to be.\n",
    "\n",
    "This kind of user input is, of course, not suited for inputting large data sets. It is rather for getting in, for example, parameters, the path to the data set, or other settings or instructions to the program."
   ]
  },
  {
   "cell_type": "markdown",
   "id": "fc8763fe-118d-4198-91b2-51bfc73ea862",
   "metadata": {
    "editable": true,
    "slideshow": {
     "slide_type": "slide"
    },
    "tags": []
   },
   "source": [
    "## Reading and writing files"
   ]
  },
  {
   "cell_type": "markdown",
   "id": "783809ff-f4d6-4271-9cd4-253454b091a4",
   "metadata": {
    "editable": true,
    "slideshow": {
     "slide_type": ""
    },
    "tags": []
   },
   "source": [
    "```python\n",
    "# Create a file object\n",
    "with open(\"testfile.txt\", \"w\") as my_file:\n",
    "    ...\n",
    "```\n",
    "\n",
    "Two things to note here:\n",
    "\n",
    " - My object ``my_file`` is different from my file ``testfile``!\n",
    " - There are different modes:\n",
    "     - read: r\n",
    "     - (over-)write: w\n",
    "     - append: a\n",
    "     - read+write: w+ or r+\n"
   ]
  },
  {
   "cell_type": "markdown",
   "id": "fa301dfe-f94c-4f22-ac93-1e7457c9b25d",
   "metadata": {
    "editable": true,
    "slideshow": {
     "slide_type": "notes"
    },
    "tags": []
   },
   "source": [
    "The actual data input will usually happen over a file. Follow me in creating a new file. [demonstrate]\n",
    "As you will see, there is now a new file called \"testfile.txt\" in your working directory. [show] But that is not the only thing that happened. At the same time, a file object called ``myFile'' was created in your program. These are two different things. For example, if I rename or delete the file object, my file in the file system won't change. This might sound trivial, but I thought I mention it, as it could lead to confusion.\n",
    "\n",
    "The w here stands for \"write\". If there is already a file with this name, we will now overwrite its contents. If we instead open the file with \"a \" for \"append\", we start writing after the existing content. We can also open the file in read-only mode, or in read-and-write mode."
   ]
  },
  {
   "cell_type": "markdown",
   "id": "dbc5a0c2-e0e1-4f7e-b5f3-678f137c33d8",
   "metadata": {
    "editable": true,
    "slideshow": {
     "slide_type": "slide"
    },
    "tags": []
   },
   "source": [
    "## Writing files and formatting strings (C-style)"
   ]
  },
  {
   "cell_type": "code",
   "execution_count": null,
   "id": "9efd84bc-1c19-4593-ba98-d3d16d9fa8d0",
   "metadata": {
    "editable": true,
    "slideshow": {
     "slide_type": ""
    },
    "tags": []
   },
   "outputs": [],
   "source": [
    "with open(\"testfile.txt\", \"w\") as my_file:\n",
    "    # Write - note special characters!\n",
    "    my_file.write(\"This is some text. \\n And some more.\")\n",
    "    my_file.write(\"\\n\\nI can also add numbers like this: %d %d \\n\" %(22, 333))\n",
    "\n",
    "    my_file.write(str(222))"
   ]
  },
  {
   "cell_type": "markdown",
   "id": "c8261770-70c9-43f2-8b0e-3a0ef6d70554",
   "metadata": {
    "editable": true,
    "slideshow": {
     "slide_type": ""
    },
    "tags": []
   },
   "source": [
    "see also [https://www.learnpython.org/en/String\\_Formatting](https://www.learnpython.org/en/String_Formatting)"
   ]
  },
  {
   "cell_type": "markdown",
   "id": "f8fc4333-be7b-4947-ba7f-6691e222079a",
   "metadata": {
    "editable": true,
    "raw_mimetype": "",
    "slideshow": {
     "slide_type": "notes"
    },
    "tags": []
   },
   "source": [
    "Now we are writing some text and numbers into our file. Note that, again, everything needs to be a string. We can put in numbers either by converting them directly to a string, or by putting in a place holder, like this \"percent d\", for numerical or decimal values, and then putting in the number after the string. The \"backslash n\" symbol stands for a line break.\n",
    "\n",
    "The single backslash is a line continuation character and tells the interpreter that we are not done yet with that command, but that it continues in the next line."
   ]
  },
  {
   "cell_type": "markdown",
   "id": "a37e8bed-eb3d-4277-bda8-de3f042e3f04",
   "metadata": {
    "editable": true,
    "slideshow": {
     "slide_type": "slide"
    },
    "tags": []
   },
   "source": [
    "## Writing files (f-strings)"
   ]
  },
  {
   "cell_type": "code",
   "execution_count": 19,
   "id": "97f98699-4066-4187-8abc-fea39997f64c",
   "metadata": {
    "editable": true,
    "slideshow": {
     "slide_type": ""
    },
    "tags": []
   },
   "outputs": [],
   "source": [
    "number1 = 44\n",
    "number2 = 111\n",
    "\n",
    "with open(\"testfile.txt\", \"a\") as my_file:\n",
    "    # Append to the opened file\n",
    "    my_file.write(f\"\\n I have opened the same file again.\\n More numbers: {number1} {number2}.\")"
   ]
  },
  {
   "cell_type": "markdown",
   "id": "9a5a0165-3517-4cc3-b78f-c8a922aa41ca",
   "metadata": {
    "editable": true,
    "slideshow": {
     "slide_type": ""
    },
    "tags": []
   },
   "source": [
    "see also [f-strings](https://realpython.com/python-f-strings/)"
   ]
  },
  {
   "cell_type": "markdown",
   "id": "6406707e-bbc9-44f3-b652-de0f318a6848",
   "metadata": {
    "editable": true,
    "slideshow": {
     "slide_type": "notes"
    },
    "tags": []
   },
   "source": [
    "This similar as on the previous slide. We open the same file in append-mode and add some more lines, using f-strings instead of C-style string formatting for including numbers.\n",
    "\n",
    "F-strings are faster.\n",
    "\n",
    "Try for yourself to write something into the file using either or both styles, and then check the content of your file! We will use this file in a moment to read the content back into a Python program.\n",
    "\n",
    "[give them some minutes to do that]"
   ]
  },
  {
   "cell_type": "markdown",
   "id": "75a8bbb2-bd8b-4078-9291-8d04e176980f",
   "metadata": {
    "editable": true,
    "slideshow": {
     "slide_type": "slide"
    },
    "tags": []
   },
   "source": [
    "## Reading files"
   ]
  },
  {
   "cell_type": "code",
   "execution_count": 20,
   "id": "2f0b4c54-dcd1-4067-b142-ec046a61ac84",
   "metadata": {
    "editable": true,
    "slideshow": {
     "slide_type": ""
    },
    "tags": []
   },
   "outputs": [
    {
     "name": "stdout",
     "output_type": "stream",
     "text": [
      "\n",
      " I have opened the same file again.\n",
      " More numbers: 44 111.\n"
     ]
    }
   ],
   "source": [
    "with open(\"testfile.txt\", \"r\") as my_file:\n",
    "    # Read it and print it to screen\n",
    "    print(my_file.read())\n",
    "\n",
    "    # Try this:\n",
    "    #print(my_file.read(7))\n",
    "    #print(my_file.readline())\n",
    "    #print(my_file.readlines())\n"
   ]
  },
  {
   "cell_type": "markdown",
   "id": "e5d3f60c-227e-4275-aa68-74c58a71e70c",
   "metadata": {
    "editable": true,
    "slideshow": {
     "slide_type": "notes"
    },
    "tags": []
   },
   "source": [
    "In the next step, we will read out data from the file that we have just created. There are different ways of doing this. In this example, I combine the reading directly with a print statement, so that I see the result. Usually you would probably put the output of the reading operation into a variable, and continue to process it.\n",
    "\n",
    "Have a go with these four different version of file reading. [give them some minutes]\n",
    "\n",
    "You have seen that you can read the whole file in one go, read single characters from the file, or a whole line. If you apply the ``readline'' command repeatedly, it will go on to the next line of your file.\n",
    "\n",
    "Interesting is the output of the ``readlines`` command. It gives you a structure that has all the lines of the file in it, as separate strings, divided by commas."
   ]
  },
  {
   "cell_type": "markdown",
   "id": "3b0706ae-20e0-4134-8f8c-84836be57c3f",
   "metadata": {
    "editable": true,
    "slideshow": {
     "slide_type": "slide"
    },
    "tags": []
   },
   "source": [
    "## What do we have here?"
   ]
  },
  {
   "cell_type": "code",
   "execution_count": 55,
   "id": "e405910a-20cf-4abe-8518-53f678df6237",
   "metadata": {
    "editable": true,
    "slideshow": {
     "slide_type": ""
    },
    "tags": []
   },
   "outputs": [
    {
     "name": "stdout",
     "output_type": "stream",
     "text": [
      "[1, 2, 3, 4, 5]\n"
     ]
    }
   ],
   "source": [
    "my_list = [1, 2, 3, 4, 5] # A list!\n",
    "print(my_list)"
   ]
  },
  {
   "cell_type": "code",
   "execution_count": null,
   "id": "8a9428f2-ef3e-4341-8edc-41c5375a3530",
   "metadata": {
    "editable": true,
    "slideshow": {
     "slide_type": ""
    },
    "tags": []
   },
   "outputs": [],
   "source": [
    "print(my_list[3])   # Note: [] not ()"
   ]
  },
  {
   "cell_type": "code",
   "execution_count": null,
   "id": "303f03e3-058c-4526-b61e-f18fedf3fbd9",
   "metadata": {
    "editable": true,
    "slideshow": {
     "slide_type": ""
    },
    "tags": []
   },
   "outputs": [],
   "source": [
    "print(my_list[0])   # Start with 0!"
   ]
  },
  {
   "cell_type": "code",
   "execution_count": null,
   "id": "452ea0d9-68c9-4dae-9642-23e8970e1c1a",
   "metadata": {
    "editable": true,
    "slideshow": {
     "slide_type": ""
    },
    "tags": []
   },
   "outputs": [],
   "source": [
    "print(my_list[-1])  # Go backwards"
   ]
  },
  {
   "cell_type": "code",
   "execution_count": 58,
   "id": "087b87a8-5fc7-4d48-9a8b-0a29e9acab5f",
   "metadata": {
    "editable": true,
    "slideshow": {
     "slide_type": ""
    },
    "tags": []
   },
   "outputs": [
    {
     "name": "stdout",
     "output_type": "stream",
     "text": [
      "[2, 3, 4]\n"
     ]
    }
   ],
   "source": [
    "print(my_list[1:4]) # Include first, exclude last"
   ]
  },
  {
   "cell_type": "code",
   "execution_count": null,
   "id": "1dc90bad-f3bf-4721-915a-cabf76a41eab",
   "metadata": {
    "editable": true,
    "slideshow": {
     "slide_type": ""
    },
    "tags": []
   },
   "outputs": [],
   "source": [
    "print(my_list[:2])  # More slicing"
   ]
  },
  {
   "cell_type": "markdown",
   "id": "d05cac5b-f2d6-4793-91ba-89be875b5a13",
   "metadata": {
    "editable": true,
    "slideshow": {
     "slide_type": "notes"
    },
    "tags": []
   },
   "source": [
    "This kind of structure is called a list, and it is an essential data structure in Python programming.\n",
    "\n",
    "We can access the entries using square brackets. The first entry in the list is entry number zero, because we are programmers now, and programmers and computer scientists like to start counting from zero. We can even go backwards, in a periodic sense, and land at the last entry of the list at -1, the second-last at -2, and so on. We can take a slice of the list, for example the entries one to three -- note that, in this notation, the first entry given is included and the last excluded.\n",
    "If we just put a colon, we mean that we go all the way to that side, so here we go from the beginning of the list, which is entry zero, to entry 1. You can just put a colon to indicate you mean the whole list."
   ]
  },
  {
   "cell_type": "markdown",
   "id": "afb12c48-3102-498d-9b97-7dd9ff5f4da0",
   "metadata": {
    "editable": true,
    "slideshow": {
     "slide_type": "slide"
    },
    "tags": []
   },
   "source": [
    "# Have a Play!"
   ]
  },
  {
   "cell_type": "markdown",
   "id": "fe8686a2-0dd6-479c-8c13-089e07c3302a",
   "metadata": {
    "editable": true,
    "slideshow": {
     "slide_type": ""
    },
    "tags": []
   },
   "source": [
    "[https://www.w3schools.com/python/python_lists.asp](https://www.w3schools.com/python/python_lists.asp)"
   ]
  },
  {
   "cell_type": "markdown",
   "id": "47f8658f-b175-4ddd-8220-cc9ee957be1d",
   "metadata": {
    "editable": true,
    "slideshow": {
     "slide_type": "notes"
    },
    "tags": []
   },
   "source": [
    "This is something that is worth getting your head around. Please go to the website given here, read through it and try their examples. At the end, you will find a list of methods on lists, with links to further information. Even though the website uses all toy examples, these are really useful tools in data processing. Try to think how you would use these methods on your actual research data.\n",
    "\n",
    "I'll give you 10 minutes, then we'll continue."
   ]
  },
  {
   "cell_type": "markdown",
   "id": "fc5d7015-751a-4666-abc7-35f27e474e63",
   "metadata": {
    "editable": true,
    "slideshow": {
     "slide_type": "slide"
    },
    "tags": []
   },
   "source": [
    "## Key value pairs are encoded in dictionaries"
   ]
  },
  {
   "cell_type": "markdown",
   "id": "1a997409-e9a0-43bb-b79b-e2e58ad03f41",
   "metadata": {
    "slideshow": {
     "slide_type": null
    }
   },
   "source": [
    " - dicts are like labelled drawers\n",
    "    - the label of the drawer is called a key.\n",
    "    - however dictionaries are \"kind of\" unordered.\n",
    "    - the content of that drawer is called the value.\n",
    "    - Like lists the types of keys and values do not have to match\n",
    "    - keys need to be \"hashable\". Usually basic data types\n",
    "\n",
    "The syntax is ``{key: value}``.\n"
   ]
  },
  {
   "cell_type": "code",
   "execution_count": 22,
   "id": "93e31811-cae8-4f4e-9acb-fa705fe0eb2b",
   "metadata": {},
   "outputs": [
    {
     "data": {
      "text/plain": [
       "{'temperature_k': 298.5, 'pressure': 1.015}"
      ]
     },
     "execution_count": 22,
     "metadata": {},
     "output_type": "execute_result"
    }
   ],
   "source": [
    "my_dict = {'temperature_k': 298.5, 'pressure': 1.015}\n",
    "my_dict"
   ]
  },
  {
   "cell_type": "code",
   "execution_count": 23,
   "id": "8bb50959-a404-4c60-8e69-f060d8d2cbb0",
   "metadata": {},
   "outputs": [],
   "source": [
    "my_dict['volume'] = 100.0"
   ]
  },
  {
   "cell_type": "code",
   "execution_count": 24,
   "id": "dc514c9e-fe92-4617-97bb-18d214028801",
   "metadata": {},
   "outputs": [
    {
     "data": {
      "text/plain": [
       "{'temperature_k': 298.5, 'pressure': 1.015, 'volume': 100.0}"
      ]
     },
     "execution_count": 24,
     "metadata": {},
     "output_type": "execute_result"
    }
   ],
   "source": [
    "my_dict"
   ]
  },
  {
   "cell_type": "code",
   "execution_count": null,
   "id": "f4c69291-187d-4867-8cf5-f403f1a42fcf",
   "metadata": {},
   "outputs": [],
   "source": []
  },
  {
   "cell_type": "markdown",
   "id": "fb65f770",
   "metadata": {},
   "source": [
    "# Exercise:\n",
    "Create a dictionary describing a person and increase age and height from the starting values"
   ]
  },
  {
   "cell_type": "code",
   "execution_count": null,
   "id": "fc4c0886",
   "metadata": {},
   "outputs": [],
   "source": [
    "person = {'name': 'Susan', 'age': 8, 'height': 1.2}\n",
    "print(person)\n",
    "\n",
    "person['age'] += 1\n",
    "person['height'] += 0.1"
   ]
  }
 ],
 "metadata": {
  "@deathbeds/jupyterlab-fonts": {
   "fontLicenses": {},
   "fonts": {},
   "styles": {
    ":root": {}
   }
  },
  "kernelspec": {
   "display_name": "Python 3 (ipykernel)",
   "language": "python",
   "name": "python3"
  },
  "language_info": {
   "codemirror_mode": {
    "name": "ipython",
    "version": 3
   },
   "file_extension": ".py",
   "mimetype": "text/x-python",
   "name": "python",
   "nbconvert_exporter": "python",
   "pygments_lexer": "ipython3",
   "version": "3.12.3"
  }
 },
 "nbformat": 4,
 "nbformat_minor": 5
}
