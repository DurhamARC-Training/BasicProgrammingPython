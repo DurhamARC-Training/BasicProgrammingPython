{
  "nbformat": 4,
  "nbformat_minor": 0,
  "metadata": {
    "kernelspec": {
      "display_name": "Python 3",
      "language": "python",
      "name": "python3"
    },
    "language_info": {
      "codemirror_mode": {
        "name": "ipython",
        "version": 3
      },
      "file_extension": ".py",
      "mimetype": "text/x-python",
      "name": "python",
      "nbconvert_exporter": "python",
      "pygments_lexer": "ipython3",
      "version": "3.6.3"
    },
    "colab": {
      "name": "Exercises.ipynb",
      "provenance": [],
      "collapsed_sections": [
        "67-SIujlq2kA",
        "pt3OEQKIq2kQ",
        "2uFjK40Aq2kZ",
        "HgUiGt9lq2ki",
        "Ny-RcvK6q2ks",
        "pWb8QNjpq2kx",
        "QTZsrf2nq2k3",
        "0J-MfuJDq2k-",
        "MQNwzxU2q2lA",
        "K21O535lq2lM",
        "e50sCm5qq2lc",
        "NqF82Bxqq2ll",
        "Df8rzAnLq2ln",
        "5wZGv5LIq2lt"
      ]
    }
  },
  "cells": [
    {
      "cell_type": "markdown",
      "metadata": {
        "id": "EbB6XAA2q2j7",
        "colab_type": "text"
      },
      "source": [
        "# Exercises"
      ]
    },
    {
      "cell_type": "markdown",
      "metadata": {
        "id": "ykxFwcwOq2j-",
        "colab_type": "text"
      },
      "source": [
        "## Basics"
      ]
    },
    {
      "cell_type": "markdown",
      "metadata": {
        "id": "67-SIujlq2kA",
        "colab_type": "text"
      },
      "source": [
        "### What happens if you add a float and an integer?"
      ]
    },
    {
      "cell_type": "code",
      "metadata": {
        "id": "5iaGFowHq2kC",
        "colab_type": "code",
        "colab": {}
      },
      "source": [
        "1+3.0"
      ],
      "execution_count": null,
      "outputs": []
    },
    {
      "cell_type": "markdown",
      "metadata": {
        "id": "wUkV2Jz6q2kP",
        "colab_type": "text"
      },
      "source": [
        "The output will be a float."
      ]
    },
    {
      "cell_type": "markdown",
      "metadata": {
        "id": "pt3OEQKIq2kQ",
        "colab_type": "text"
      },
      "source": [
        "### What happens if you mix numbers and bools in arithmetic expressions?"
      ]
    },
    {
      "cell_type": "code",
      "metadata": {
        "id": "uGctycGZq2kR",
        "colab_type": "code",
        "colab": {}
      },
      "source": [
        "print(1+True)\n",
        "\n",
        "print(6-False)"
      ],
      "execution_count": null,
      "outputs": []
    },
    {
      "cell_type": "markdown",
      "metadata": {
        "id": "AwUf09Ipq2kY",
        "colab_type": "text"
      },
      "source": [
        "True is converted to 1, and False is converted to 0."
      ]
    },
    {
      "cell_type": "markdown",
      "metadata": {
        "id": "2uFjK40Aq2kZ",
        "colab_type": "text"
      },
      "source": [
        "### How does setting parenthesis change the result of a large arithmetic expression?"
      ]
    },
    {
      "cell_type": "code",
      "metadata": {
        "id": "g3RSG7Atq2kb",
        "colab_type": "code",
        "colab": {}
      },
      "source": [
        "print(1+2/3-4*5**6+7)\n",
        "print(((1+2)/(3-4))*(5**6)+7)\n",
        "print(((1+2)/(3-4))*5**(6+7))\n",
        "print((1+2)/((3-4)*5**6+7))"
      ],
      "execution_count": null,
      "outputs": []
    },
    {
      "cell_type": "markdown",
      "metadata": {
        "id": "92heewv7q2kg",
        "colab_type": "text"
      },
      "source": [
        "Binding order is: parenthesis, exponentiation, multiplication and division, addition and subtraction, and then left-to-right (except for exponentiation, where it is right-to-left). "
      ]
    },
    {
      "cell_type": "markdown",
      "metadata": {
        "id": "HgUiGt9lq2ki",
        "colab_type": "text"
      },
      "source": [
        "### Try print statements that include variables of different data types."
      ]
    },
    {
      "cell_type": "code",
      "metadata": {
        "id": "_8Gcr-Rlq2kj",
        "colab_type": "code",
        "colab": {}
      },
      "source": [
        "myInt = 1\n",
        "myFloat = 3.4\n",
        "myString = \"Flower\"\n",
        "myBool = True\n",
        "print(\"Add:\", myInt + myFloat)\n",
        "print(\"Hello \" + myString)\n",
        "print(myString + \" this: \", myBool-myFloat, \" and that: \", myBool)"
      ],
      "execution_count": null,
      "outputs": []
    },
    {
      "cell_type": "markdown",
      "metadata": {
        "id": "c8af09Qeq2kp",
        "colab_type": "text"
      },
      "source": [
        "Remember: '+' for String concatenation, ',' for other types (which is actually another function call with more parameters, see section about functions)."
      ]
    },
    {
      "cell_type": "markdown",
      "metadata": {
        "id": "dC8uDuZKq2kq",
        "colab_type": "text"
      },
      "source": [
        "### Reproduce each of the three error types."
      ]
    },
    {
      "cell_type": "markdown",
      "metadata": {
        "id": "Ny-RcvK6q2ks",
        "colab_type": "text"
      },
      "source": [
        "#### Syntax error"
      ]
    },
    {
      "cell_type": "code",
      "metadata": {
        "id": "U66NBq9Nq2ks",
        "colab_type": "code",
        "colab": {}
      },
      "source": [
        "print(\"Hello\" 5)"
      ],
      "execution_count": null,
      "outputs": []
    },
    {
      "cell_type": "markdown",
      "metadata": {
        "id": "pWb8QNjpq2kx",
        "colab_type": "text"
      },
      "source": [
        "#### Semantic error"
      ]
    },
    {
      "cell_type": "code",
      "metadata": {
        "id": "pslj1U9sq2ky",
        "colab_type": "code",
        "colab": {}
      },
      "source": [
        "print(\"7+5 = \", 1+1)"
      ],
      "execution_count": null,
      "outputs": []
    },
    {
      "cell_type": "markdown",
      "metadata": {
        "id": "bWqlknvrq2k2",
        "colab_type": "text"
      },
      "source": [
        "We don't compute the right thing. In reality, this kind of error might be really hard to find, as you might be caught in a mistake in your understanding of the problem or its solution."
      ]
    },
    {
      "cell_type": "markdown",
      "metadata": {
        "id": "QTZsrf2nq2k3",
        "colab_type": "text"
      },
      "source": [
        "#### Runtime error"
      ]
    },
    {
      "cell_type": "code",
      "metadata": {
        "id": "M3yB8cYLq2k5",
        "colab_type": "code",
        "colab": {}
      },
      "source": [
        "x = \"thisisastring\" #Make this an input during runtime, see next section. \n",
        "print(\"5/x=\", 5/x)"
      ],
      "execution_count": null,
      "outputs": []
    },
    {
      "cell_type": "markdown",
      "metadata": {
        "id": "EbOOmlAUq2k-",
        "colab_type": "text"
      },
      "source": [
        "If x is an input during runtime and can be anything (even non-numeric data type), the code will fail for some inputs but not for others."
      ]
    },
    {
      "cell_type": "markdown",
      "metadata": {
        "id": "0J-MfuJDq2k-",
        "colab_type": "text"
      },
      "source": [
        "## Lists"
      ]
    },
    {
      "cell_type": "markdown",
      "metadata": {
        "id": "3I8sKsrhq2lA",
        "colab_type": "text"
      },
      "source": [
        "https://www.w3schools.com/python/python_lists.asp"
      ]
    },
    {
      "cell_type": "markdown",
      "metadata": {
        "id": "nu5cntwgq2lA",
        "colab_type": "text"
      },
      "source": [
        "## Input, Output, Repetitions and Conditions"
      ]
    },
    {
      "cell_type": "markdown",
      "metadata": {
        "id": "MQNwzxU2q2lA",
        "colab_type": "text"
      },
      "source": [
        "### Write numeric data into a file using a loop, and read them into a list"
      ]
    },
    {
      "cell_type": "code",
      "metadata": {
        "id": "5bGmKwGdq2lC",
        "colab_type": "code",
        "colab": {}
      },
      "source": [
        "myFile = open(\"datafile.txt\", \"w\") # Create file object for writing\n",
        "for i in range(22):                # i goes from 0 to 21\n",
        "    myFile.write(str(i*i)+\"\\n\")    # write i squared into the file.\n",
        "    \n",
        "myFile.close()"
      ],
      "execution_count": null,
      "outputs": []
    },
    {
      "cell_type": "code",
      "metadata": {
        "id": "H3xditkMq2lG",
        "colab_type": "code",
        "colab": {}
      },
      "source": [
        "myFile = open(\"datafile.txt\", \"r\") # Create file object for reading\n",
        "data = myFile.readlines()          # Read file content into list\n",
        "for datum in data:                 # For every element in the list:\n",
        "    print(datum)                   # output the element"
      ],
      "execution_count": null,
      "outputs": []
    },
    {
      "cell_type": "markdown",
      "metadata": {
        "id": "K21O535lq2lM",
        "colab_type": "text"
      },
      "source": [
        "### Create a 2d list (\"lists in a list\") and access its elements"
      ]
    },
    {
      "cell_type": "code",
      "metadata": {
        "id": "FhW7JZnqq2lP",
        "colab_type": "code",
        "colab": {}
      },
      "source": [
        "myList = [[1, 2, 3], [4, 5], [6, 7, 8]]\n",
        "\n",
        "print(myList[2][1]) # access the second element in the third sub-list    "
      ],
      "execution_count": null,
      "outputs": []
    },
    {
      "cell_type": "code",
      "metadata": {
        "id": "_gBIq4Wmq2lT",
        "colab_type": "code",
        "colab": {}
      },
      "source": [
        "for l in myList:\n",
        "    print(l)"
      ],
      "execution_count": null,
      "outputs": []
    },
    {
      "cell_type": "code",
      "metadata": {
        "id": "g6lcvg7yq2lY",
        "colab_type": "code",
        "colab": {}
      },
      "source": [
        "for sublist in myList:\n",
        "    print(\"\\n\") # Line break\n",
        "    for element in sublist:\n",
        "        print(element)"
      ],
      "execution_count": null,
      "outputs": []
    },
    {
      "cell_type": "markdown",
      "metadata": {
        "id": "e50sCm5qq2lc",
        "colab_type": "text"
      },
      "source": [
        "### Do a nested loop."
      ]
    },
    {
      "cell_type": "code",
      "metadata": {
        "id": "d0ZpNjCyq2ld",
        "colab_type": "code",
        "colab": {}
      },
      "source": [
        "See example above. Another example:"
      ],
      "execution_count": null,
      "outputs": []
    },
    {
      "cell_type": "code",
      "metadata": {
        "id": "Mve4DQzDq2lh",
        "colab_type": "code",
        "colab": {}
      },
      "source": [
        "for x in [\"a\", \"b\", \"c\", \"d\"]:\n",
        "    for y in range(4):\n",
        "        print(x, y)"
      ],
      "execution_count": null,
      "outputs": []
    },
    {
      "cell_type": "markdown",
      "metadata": {
        "id": "NqF82Bxqq2ll",
        "colab_type": "text"
      },
      "source": [
        "### What type of errors can try-except catch?"
      ]
    },
    {
      "cell_type": "markdown",
      "metadata": {
        "id": "WnQvulF9q2lm",
        "colab_type": "text"
      },
      "source": [
        "It can catch syntax errors and runtime errors, but no semantic errors."
      ]
    },
    {
      "cell_type": "markdown",
      "metadata": {
        "id": "Xu0FxB60q2lm",
        "colab_type": "text"
      },
      "source": [
        "## Functions"
      ]
    },
    {
      "cell_type": "markdown",
      "metadata": {
        "id": "Df8rzAnLq2ln",
        "colab_type": "text"
      },
      "source": [
        "### Rewrite the function code example for this section with better function and variable names."
      ]
    },
    {
      "cell_type": "code",
      "metadata": {
        "id": "xvmin4Tmq2lo",
        "colab_type": "code",
        "colab": {}
      },
      "source": [
        "def add(number1, number2):\n",
        "\tmySum = number1 + number2\n",
        "\treturn mySum\n",
        "\n",
        "def output(parameter):\n",
        "\tprint(\"Here you go: \", parameter)\n",
        "\n",
        "mySum = add(22, 55)\n",
        "\n",
        "output(mySum)\t"
      ],
      "execution_count": null,
      "outputs": []
    },
    {
      "cell_type": "markdown",
      "metadata": {
        "id": "4xrQ3FG7q2lr",
        "colab_type": "text"
      },
      "source": [
        "It is good practise and makes reading code much easier to name functions and variables so that you immediately not what they do/are."
      ]
    },
    {
      "cell_type": "code",
      "metadata": {
        "id": "LY54ARv1Bcij",
        "colab_type": "code",
        "colab": {}
      },
      "source": [
        ""
      ],
      "execution_count": null,
      "outputs": []
    },
    {
      "cell_type": "markdown",
      "metadata": {
        "id": "5wZGv5LIq2lt",
        "colab_type": "text"
      },
      "source": [
        "### Write your own function and let one be called from within the other"
      ]
    },
    {
      "cell_type": "code",
      "metadata": {
        "id": "0-f7MCZYq2lu",
        "colab_type": "code",
        "colab": {}
      },
      "source": [
        "def output(parameter):\n",
        "\tprint(\"Here you go: \", parameter)\n",
        "\n",
        "def outputBackwards(myList):\n",
        "    for i in range(len(myList)):\n",
        "        output(myList[-1-i])\n",
        "        \n",
        "numberList = [1,2,3,4,5,6,7]\n",
        "outputBackwards(numberList)\n",
        "        "
      ],
      "execution_count": null,
      "outputs": []
    }
  ]
}
