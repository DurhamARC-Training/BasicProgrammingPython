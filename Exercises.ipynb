{
  "nbformat": 4,
  "nbformat_minor": 0,
  "metadata": {
    "kernelspec": {
      "display_name": "Python 3",
      "language": "python",
      "name": "python3"
    },
    "language_info": {
      "codemirror_mode": {
        "name": "ipython",
        "version": 3
      },
      "file_extension": ".py",
      "mimetype": "text/x-python",
      "name": "python",
      "nbconvert_exporter": "python",
      "pygments_lexer": "ipython3",
      "version": "3.6.3"
    },
    "colab": {
      "provenance": [],
      "collapsed_sections": [
        "67-SIujlq2kA",
        "pt3OEQKIq2kQ",
        "2uFjK40Aq2kZ",
        "HgUiGt9lq2ki",
        "Ny-RcvK6q2ks",
        "pWb8QNjpq2kx",
        "QTZsrf2nq2k3",
        "0J-MfuJDq2k-",
        "MQNwzxU2q2lA",
        "K21O535lq2lM",
        "e50sCm5qq2lc",
        "NqF82Bxqq2ll",
        "Df8rzAnLq2ln",
        "5wZGv5LIq2lt"
      ],
      "toc_visible": true
    }
  },
  "cells": [
    {
      "cell_type": "markdown",
      "metadata": {
        "id": "EbB6XAA2q2j7"
      },
      "source": [
        "# Exercises"
      ]
    },
    {
      "cell_type": "markdown",
      "metadata": {
        "id": "ykxFwcwOq2j-"
      },
      "source": [
        "## Basics"
      ]
    },
    {
      "cell_type": "markdown",
      "metadata": {
        "id": "67-SIujlq2kA"
      },
      "source": [
        "### What happens if you add a float and an integer?"
      ]
    },
    {
      "cell_type": "code",
      "metadata": {
        "id": "5iaGFowHq2kC",
        "colab": {
          "base_uri": "https://localhost:8080/"
        },
        "outputId": "bee0f141-0332-4865-a190-d9973da8b0c9"
      },
      "source": [
        "1+3.0"
      ],
      "execution_count": null,
      "outputs": [
        {
          "output_type": "execute_result",
          "data": {
            "text/plain": [
              "4.0"
            ]
          },
          "metadata": {
            "tags": []
          },
          "execution_count": 1
        }
      ]
    },
    {
      "cell_type": "markdown",
      "metadata": {
        "id": "wUkV2Jz6q2kP"
      },
      "source": [
        "The output will be a float."
      ]
    },
    {
      "cell_type": "markdown",
      "metadata": {
        "id": "pt3OEQKIq2kQ"
      },
      "source": [
        "### What happens if you mix numbers and bools in arithmetic expressions?"
      ]
    },
    {
      "cell_type": "code",
      "metadata": {
        "id": "uGctycGZq2kR",
        "colab": {
          "base_uri": "https://localhost:8080/"
        },
        "outputId": "a3ca2cc7-b4e2-484f-f362-29a1405b306a"
      },
      "source": [
        "print(1+True)\n",
        "\n",
        "print(6-False)"
      ],
      "execution_count": null,
      "outputs": [
        {
          "output_type": "stream",
          "text": [
            "2\n",
            "6\n"
          ],
          "name": "stdout"
        }
      ]
    },
    {
      "cell_type": "markdown",
      "metadata": {
        "id": "AwUf09Ipq2kY"
      },
      "source": [
        "True is converted to 1, and False is converted to 0."
      ]
    },
    {
      "cell_type": "markdown",
      "metadata": {
        "id": "2uFjK40Aq2kZ"
      },
      "source": [
        "### How does setting parenthesis change the result of a large arithmetic expression?"
      ]
    },
    {
      "cell_type": "code",
      "metadata": {
        "id": "g3RSG7Atq2kb",
        "colab": {
          "base_uri": "https://localhost:8080/",
          "height": 86
        },
        "outputId": "b4e6e8d5-12f2-42ec-b04b-095cf584f2fb"
      },
      "source": [
        "print(1+2/3-4*5**6+7)\n",
        "print(((1+2)/(3-4))*(5**6)+7)\n",
        "print(((1+2)/(3-4))*5**(6+7))\n",
        "print((1+2)/((3-4)*5**6+7))"
      ],
      "execution_count": null,
      "outputs": [
        {
          "output_type": "stream",
          "text": [
            "-62491.333333333336\n",
            "-46868.0\n",
            "-3662109375.0\n",
            "-0.0001920860545524395\n"
          ],
          "name": "stdout"
        }
      ]
    },
    {
      "cell_type": "markdown",
      "metadata": {
        "id": "92heewv7q2kg"
      },
      "source": [
        "Binding order is: parenthesis, exponentiation, multiplication and division, addition and subtraction, and then left-to-right (except for exponentiation, where it is right-to-left). "
      ]
    },
    {
      "cell_type": "markdown",
      "metadata": {
        "id": "HgUiGt9lq2ki"
      },
      "source": [
        "### Try print statements that include variables of different data types."
      ]
    },
    {
      "cell_type": "code",
      "metadata": {
        "id": "_8Gcr-Rlq2kj",
        "colab": {
          "base_uri": "https://localhost:8080/",
          "height": 69
        },
        "outputId": "c5d4777a-1f4d-429c-c16b-dccd6ae25748"
      },
      "source": [
        "myInt = 1\n",
        "myFloat = 3.4\n",
        "myString = \"Flower\"\n",
        "myBool = True\n",
        "print(\"Add:\", myInt + myFloat)\n",
        "print(\"Hello \" + myString)\n",
        "print(myString + \" this: \", myBool-myFloat, \" and that: \", myBool)"
      ],
      "execution_count": null,
      "outputs": [
        {
          "output_type": "stream",
          "text": [
            "Add: 4.4\n",
            "Hello Flower\n",
            "Flower this:  -2.4  and that:  True\n"
          ],
          "name": "stdout"
        }
      ]
    },
    {
      "cell_type": "markdown",
      "metadata": {
        "id": "c8af09Qeq2kp"
      },
      "source": [
        "Remember: '+' for String concatenation, ',' for other types (which is actually another function call with more parameters, see section about functions)."
      ]
    },
    {
      "cell_type": "markdown",
      "metadata": {
        "id": "dC8uDuZKq2kq"
      },
      "source": [
        "### Reproduce each of the three error types."
      ]
    },
    {
      "cell_type": "markdown",
      "metadata": {
        "id": "Ny-RcvK6q2ks"
      },
      "source": [
        "#### Syntax error"
      ]
    },
    {
      "cell_type": "code",
      "metadata": {
        "id": "U66NBq9Nq2ks",
        "colab": {
          "base_uri": "https://localhost:8080/",
          "height": 133
        },
        "outputId": "c91a93c1-a1ce-400e-f5df-34c0c1c5cc8f"
      },
      "source": [
        "print(\"Hello\" 5)"
      ],
      "execution_count": null,
      "outputs": [
        {
          "output_type": "error",
          "ename": "SyntaxError",
          "evalue": "ignored",
          "traceback": [
            "\u001b[0;36m  File \u001b[0;32m\"<ipython-input-5-65fc99cc86fa>\"\u001b[0;36m, line \u001b[0;32m1\u001b[0m\n\u001b[0;31m    print(\"Hello\" 5)\u001b[0m\n\u001b[0m                  ^\u001b[0m\n\u001b[0;31mSyntaxError\u001b[0m\u001b[0;31m:\u001b[0m invalid syntax\n"
          ]
        }
      ]
    },
    {
      "cell_type": "markdown",
      "metadata": {
        "id": "pWb8QNjpq2kx"
      },
      "source": [
        "#### Semantic error"
      ]
    },
    {
      "cell_type": "code",
      "metadata": {
        "id": "pslj1U9sq2ky",
        "colab": {
          "base_uri": "https://localhost:8080/",
          "height": 34
        },
        "outputId": "ec708ea1-075d-4220-aa2c-517487f9b64e"
      },
      "source": [
        "print(\"7+5 = \", 1+1)"
      ],
      "execution_count": null,
      "outputs": [
        {
          "output_type": "stream",
          "text": [
            "7+5 =  2\n"
          ],
          "name": "stdout"
        }
      ]
    },
    {
      "cell_type": "markdown",
      "metadata": {
        "id": "bWqlknvrq2k2"
      },
      "source": [
        "We don't compute the right thing. In reality, this kind of error might be really hard to find, as you might be caught in a mistake in your understanding of the problem or its solution."
      ]
    },
    {
      "cell_type": "markdown",
      "metadata": {
        "id": "QTZsrf2nq2k3"
      },
      "source": [
        "#### Runtime error"
      ]
    },
    {
      "cell_type": "code",
      "metadata": {
        "id": "M3yB8cYLq2k5",
        "colab": {
          "base_uri": "https://localhost:8080/",
          "height": 185
        },
        "outputId": "a7558005-7d79-4d55-f6a0-a6cf172f94bd"
      },
      "source": [
        "x = \"thisisastring\" #Make this an input during runtime, see next section. \n",
        "print(\"5/x=\", 5/x)"
      ],
      "execution_count": null,
      "outputs": [
        {
          "output_type": "error",
          "ename": "TypeError",
          "evalue": "ignored",
          "traceback": [
            "\u001b[0;31m---------------------------------------------------------------------------\u001b[0m",
            "\u001b[0;31mTypeError\u001b[0m                                 Traceback (most recent call last)",
            "\u001b[0;32m<ipython-input-7-925e699b09e2>\u001b[0m in \u001b[0;36m<module>\u001b[0;34m()\u001b[0m\n\u001b[1;32m      1\u001b[0m \u001b[0mx\u001b[0m \u001b[0;34m=\u001b[0m \u001b[0;34m\"thisisastring\"\u001b[0m \u001b[0;31m#Make this an input during runtime, see next section.\u001b[0m\u001b[0;34m\u001b[0m\u001b[0;34m\u001b[0m\u001b[0m\n\u001b[0;32m----> 2\u001b[0;31m \u001b[0mprint\u001b[0m\u001b[0;34m(\u001b[0m\u001b[0;34m\"5/x=\"\u001b[0m\u001b[0;34m,\u001b[0m \u001b[0;36m5\u001b[0m\u001b[0;34m/\u001b[0m\u001b[0mx\u001b[0m\u001b[0;34m)\u001b[0m\u001b[0;34m\u001b[0m\u001b[0;34m\u001b[0m\u001b[0m\n\u001b[0m",
            "\u001b[0;31mTypeError\u001b[0m: unsupported operand type(s) for /: 'int' and 'str'"
          ]
        }
      ]
    },
    {
      "cell_type": "markdown",
      "metadata": {
        "id": "EbOOmlAUq2k-"
      },
      "source": [
        "If x is an input during runtime and can be anything (even non-numeric data type), the code will fail for some inputs but not for others."
      ]
    },
    {
      "cell_type": "markdown",
      "metadata": {
        "id": "0J-MfuJDq2k-"
      },
      "source": [
        "## Lists"
      ]
    },
    {
      "cell_type": "markdown",
      "metadata": {
        "id": "3I8sKsrhq2lA"
      },
      "source": [
        "https://www.w3schools.com/python/python_lists.asp"
      ]
    },
    {
      "cell_type": "markdown",
      "metadata": {
        "id": "nu5cntwgq2lA"
      },
      "source": [
        "## Input, Output, Repetitions and Conditions"
      ]
    },
    {
      "cell_type": "markdown",
      "metadata": {
        "id": "MQNwzxU2q2lA"
      },
      "source": [
        "### Write numeric data into a file using a loop, and read them into a list"
      ]
    },
    {
      "cell_type": "code",
      "metadata": {
        "id": "5bGmKwGdq2lC"
      },
      "source": [
        "myFile = open(\"datafile.txt\", \"w\") # Create file object for writing\n",
        "for i in range(22):                # i goes from 0 to 21\n",
        "    myFile.write(str(i*i)+\"\\n\")    # write i squared into the file.\n",
        "    \n",
        "myFile.close()"
      ],
      "execution_count": null,
      "outputs": []
    },
    {
      "cell_type": "code",
      "metadata": {
        "id": "H3xditkMq2lG",
        "colab": {
          "base_uri": "https://localhost:8080/",
          "height": 781
        },
        "outputId": "d04c3e46-0232-44c2-f9a5-17121398cdec"
      },
      "source": [
        "myFile = open(\"datafile.txt\", \"r\") # Create file object for reading\n",
        "data = myFile.readlines()          # Read file content into list\n",
        "for datum in data:                 # For every element in the list:\n",
        "    print(datum)                   # output the element"
      ],
      "execution_count": null,
      "outputs": [
        {
          "output_type": "stream",
          "text": [
            "0\n",
            "\n",
            "1\n",
            "\n",
            "4\n",
            "\n",
            "9\n",
            "\n",
            "16\n",
            "\n",
            "25\n",
            "\n",
            "36\n",
            "\n",
            "49\n",
            "\n",
            "64\n",
            "\n",
            "81\n",
            "\n",
            "100\n",
            "\n",
            "121\n",
            "\n",
            "144\n",
            "\n",
            "169\n",
            "\n",
            "196\n",
            "\n",
            "225\n",
            "\n",
            "256\n",
            "\n",
            "289\n",
            "\n",
            "324\n",
            "\n",
            "361\n",
            "\n",
            "400\n",
            "\n",
            "441\n",
            "\n"
          ],
          "name": "stdout"
        }
      ]
    },
    {
      "cell_type": "markdown",
      "metadata": {
        "id": "K21O535lq2lM"
      },
      "source": [
        "### Create a 2d list (\"lists in a list\") and access its elements"
      ]
    },
    {
      "cell_type": "code",
      "metadata": {
        "id": "FhW7JZnqq2lP",
        "colab": {
          "base_uri": "https://localhost:8080/",
          "height": 34
        },
        "outputId": "ea075615-c624-49be-d9c0-9992c8992290"
      },
      "source": [
        "myList = [[1, 2, 3], [4, 5], [6, 7, 8]]\n",
        "\n",
        "print(myList[2][1]) # access the second element in the third sub-list    "
      ],
      "execution_count": null,
      "outputs": [
        {
          "output_type": "stream",
          "text": [
            "7\n"
          ],
          "name": "stdout"
        }
      ]
    },
    {
      "cell_type": "code",
      "metadata": {
        "id": "_gBIq4Wmq2lT",
        "colab": {
          "base_uri": "https://localhost:8080/",
          "height": 69
        },
        "outputId": "5a6c9a21-d446-4825-edef-f9bca7a5706b"
      },
      "source": [
        "for l in myList:\n",
        "    print(l)"
      ],
      "execution_count": null,
      "outputs": [
        {
          "output_type": "stream",
          "text": [
            "[1, 2, 3]\n",
            "[4, 5]\n",
            "[6, 7, 8]\n"
          ],
          "name": "stdout"
        }
      ]
    },
    {
      "cell_type": "code",
      "metadata": {
        "id": "g6lcvg7yq2lY",
        "colab": {
          "base_uri": "https://localhost:8080/",
          "height": 260
        },
        "outputId": "c58c0b4d-6d1e-4467-f1b8-a1ae581da55f"
      },
      "source": [
        "for sublist in myList:\n",
        "    print(\"\\n\") # Line break\n",
        "    for element in sublist:\n",
        "        print(element)"
      ],
      "execution_count": null,
      "outputs": [
        {
          "output_type": "stream",
          "text": [
            "\n",
            "\n",
            "1\n",
            "2\n",
            "3\n",
            "\n",
            "\n",
            "4\n",
            "5\n",
            "\n",
            "\n",
            "6\n",
            "7\n",
            "8\n"
          ],
          "name": "stdout"
        }
      ]
    },
    {
      "cell_type": "markdown",
      "metadata": {
        "id": "e50sCm5qq2lc"
      },
      "source": [
        "### Do a nested loop."
      ]
    },
    {
      "cell_type": "code",
      "metadata": {
        "id": "d0ZpNjCyq2ld"
      },
      "source": [
        "See example above. Another example:"
      ],
      "execution_count": null,
      "outputs": []
    },
    {
      "cell_type": "code",
      "metadata": {
        "id": "Mve4DQzDq2lh",
        "colab": {
          "base_uri": "https://localhost:8080/",
          "height": 295
        },
        "outputId": "4293e8ac-f834-4e98-802a-f38fc27a2781"
      },
      "source": [
        "for x in [\"a\", \"b\", \"c\", \"d\"]:\n",
        "    for y in range(4):\n",
        "        print(x, y)"
      ],
      "execution_count": null,
      "outputs": [
        {
          "output_type": "stream",
          "text": [
            "a 0\n",
            "a 1\n",
            "a 2\n",
            "a 3\n",
            "b 0\n",
            "b 1\n",
            "b 2\n",
            "b 3\n",
            "c 0\n",
            "c 1\n",
            "c 2\n",
            "c 3\n",
            "d 0\n",
            "d 1\n",
            "d 2\n",
            "d 3\n"
          ],
          "name": "stdout"
        }
      ]
    },
    {
      "cell_type": "markdown",
      "metadata": {
        "id": "NqF82Bxqq2ll"
      },
      "source": [
        "### What type of errors can try-except catch?"
      ]
    },
    {
      "cell_type": "markdown",
      "metadata": {
        "id": "WnQvulF9q2lm"
      },
      "source": [
        "It can catch syntax errors and runtime errors, but no semantic errors."
      ]
    },
    {
      "cell_type": "markdown",
      "metadata": {
        "id": "Xu0FxB60q2lm"
      },
      "source": [
        "## Functions"
      ]
    },
    {
      "cell_type": "markdown",
      "metadata": {
        "id": "Df8rzAnLq2ln"
      },
      "source": [
        "### Rewrite the function code example for this section with better function and variable names."
      ]
    },
    {
      "cell_type": "code",
      "metadata": {
        "id": "xvmin4Tmq2lo"
      },
      "source": [
        "def add(number1, number2):\n",
        "\tmySum = number1 + number2\n",
        "\treturn mySum\n",
        "\n",
        "def output(parameter):\n",
        "\tprint(\"Here you go: \", parameter)\n",
        "\n",
        "mySum = add(22, 55)\n",
        "\n",
        "output(mySum)\t"
      ],
      "execution_count": null,
      "outputs": []
    },
    {
      "cell_type": "markdown",
      "metadata": {
        "id": "4xrQ3FG7q2lr"
      },
      "source": [
        "It is good practise and makes reading code much easier to name functions and variables so that you immediately not what they do/are."
      ]
    },
    {
      "cell_type": "code",
      "metadata": {
        "id": "LY54ARv1Bcij"
      },
      "source": [],
      "execution_count": null,
      "outputs": []
    },
    {
      "cell_type": "markdown",
      "metadata": {
        "id": "5wZGv5LIq2lt"
      },
      "source": [
        "### Write your own function and let one be called from within the other"
      ]
    },
    {
      "cell_type": "code",
      "metadata": {
        "id": "0-f7MCZYq2lu",
        "colab": {
          "base_uri": "https://localhost:8080/",
          "height": 139
        },
        "outputId": "e5760996-bf4c-454c-b380-324405f97f5c"
      },
      "source": [
        "def output(parameter):\n",
        "\tprint(\"Here you go: \", parameter)\n",
        "\n",
        "def outputBackwards(myList):\n",
        "    for i in range(len(myList)):\n",
        "        output(myList[-1-i])\n",
        "        \n",
        "numberList = [1,2,3,4,5,6,7]\n",
        "outputBackwards(numberList)\n",
        "        "
      ],
      "execution_count": null,
      "outputs": [
        {
          "output_type": "stream",
          "text": [
            "Here you go:  7\n",
            "Here you go:  6\n",
            "Here you go:  5\n",
            "Here you go:  4\n",
            "Here you go:  3\n",
            "Here you go:  2\n",
            "Here you go:  1\n"
          ],
          "name": "stdout"
        }
      ]
    }
  ]
}
